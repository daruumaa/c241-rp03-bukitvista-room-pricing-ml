{
  "nbformat": 4,
  "nbformat_minor": 0,
  "metadata": {
    "colab": {
      "provenance": []
    },
    "kernelspec": {
      "name": "python3",
      "display_name": "Python 3"
    },
    "language_info": {
      "name": "python"
    }
  },
  "cells": [
    {
      "cell_type": "code",
      "execution_count": 23,
      "metadata": {
        "id": "qjmfM8iz-sTk"
      },
      "outputs": [],
      "source": [
        "import pandas as pd\n",
        "import numpy as np\n",
        "from sklearn.model_selection import train_test_split, GridSearchCV\n",
        "from sklearn.metrics import mean_absolute_error\n",
        "from sklearn.linear_model import LinearRegression\n",
        "from sklearn.tree import DecisionTreeRegressor\n",
        "from sklearn.ensemble import RandomForestRegressor, GradientBoostingRegressor\n",
        "from sklearn.svm import SVR\n",
        "from sklearn.preprocessing import StandardScaler, MinMaxScaler\n",
        "from xgboost import XGBRegressor\n",
        "from scipy import stats\n",
        "import matplotlib.pyplot as plt\n",
        "import seaborn as sns\n",
        "from sklearn.preprocessing import OneHotEncoder"
      ]
    },
    {
      "cell_type": "markdown",
      "source": [
        "Datasets required to run this script:\n",
        "- Feature engineered base price data\n"
      ],
      "metadata": {
        "id": "EiW_xbwiAanA"
      }
    },
    {
      "cell_type": "markdown",
      "source": [
        "## Utility Functions"
      ],
      "metadata": {
        "id": "pIYJs4Yt-7L-"
      }
    },
    {
      "cell_type": "markdown",
      "source": [
        "### Data preprocessing utilities"
      ],
      "metadata": {
        "id": "jIFJNTR_ABVH"
      }
    },
    {
      "cell_type": "code",
      "source": [
        "# Onehot encode values with auxillary document\n",
        "def custom_one_hot_encode(df, all_categories, column_name):\n",
        "    \"\"\"\n",
        "    One-hot encode a specific column in a DataFrame, including all possible categories.\n",
        "\n",
        "    Parameters:\n",
        "    df (pd.DataFrame): The DataFrame to be one-hot encoded.\n",
        "    all_categories (pd.Series): A Series containing all possible categorical values.\n",
        "    column_name (str): The name of the column to be one-hot encoded.\n",
        "\n",
        "    Returns:\n",
        "    pd.DataFrame: The DataFrame with one-hot encoded columns.\n",
        "    \"\"\"\n",
        "    all_categories = all_categories.unique()\n",
        "\n",
        "    # One-hot encode the column with all possible categories\n",
        "    one_hot_df = pd.get_dummies(df[column_name], prefix=column_name)\n",
        "\n",
        "    # Create a DataFrame with all possible categories set to 0\n",
        "    all_categories_df = pd.DataFrame(columns=[f\"{column_name}_{category}\" for category in all_categories])\n",
        "    all_categories_df = all_categories_df.reindex(columns=all_categories_df.columns, fill_value=0)\n",
        "\n",
        "    # Concatenate the one-hot encoded df with the all_categories_df\n",
        "    final_df = pd.concat([one_hot_df, all_categories_df], axis=1)\n",
        "\n",
        "    # Ensure the final DataFrame has all columns from all_categories_df\n",
        "    final_df = final_df.reindex(columns=all_categories_df.columns, fill_value=0)\n",
        "\n",
        "    # Drop the original categorical column from the original DataFrame and concatenate with the final one-hot encoded DataFrame\n",
        "    df = df.drop(columns=[column_name])\n",
        "    df = pd.concat([df, final_df], axis=1)\n",
        "\n",
        "    return df"
      ],
      "metadata": {
        "id": "lSL7mkvE-8gw"
      },
      "execution_count": 12,
      "outputs": []
    },
    {
      "cell_type": "code",
      "source": [
        "def drop_columns(df, columns_to_drop):\n",
        "    \"\"\"\n",
        "    Drop specified columns from a DataFrame.\n",
        "\n",
        "    Parameters:\n",
        "    df (pd.DataFrame): The DataFrame from which columns should be dropped.\n",
        "    columns_to_drop (list): A list of column names to be dropped.\n",
        "\n",
        "    Returns:\n",
        "    pd.DataFrame: The DataFrame with specified columns dropped.\n",
        "    \"\"\"\n",
        "    # Drop the specified columns\n",
        "    df_dropped = df.drop(columns=columns_to_drop)\n",
        "    return df_dropped"
      ],
      "metadata": {
        "id": "x9jNmA7r_x5B"
      },
      "execution_count": 13,
      "outputs": []
    },
    {
      "cell_type": "code",
      "source": [],
      "metadata": {
        "id": "rYg0AoahEN9A"
      },
      "execution_count": null,
      "outputs": []
    },
    {
      "cell_type": "markdown",
      "source": [
        "### Training Utilities"
      ],
      "metadata": {
        "id": "EbARqPamAEV4"
      }
    },
    {
      "cell_type": "code",
      "source": [
        "def TrainFitPredict(model,iterations,X, y,X_test ,y_test): #Takes in split dataset, returns test scores, train history, and the model itself.\n",
        "  model.fit(X,y)\n",
        "  test_score = np.zeros((iterations,), dtype=np.float64)\n",
        "  for i, y_pred in enumerate(model.staged_predict(X_test)):\n",
        "    test_score[i] = mean_absolute_error(y_test, y_pred)\n",
        "  return test_score, model.train_score_, model"
      ],
      "metadata": {
        "id": "282zW9LVAF4P"
      },
      "execution_count": 14,
      "outputs": []
    },
    {
      "cell_type": "code",
      "source": [
        "def GetModelMAE(trained_model, X_test, y_test):\n",
        "  mae = mean_absolute_error(y_test, trained_model.predict(X_test))\n",
        "  return mae"
      ],
      "metadata": {
        "id": "0k4hMZunAW6g"
      },
      "execution_count": 15,
      "outputs": []
    },
    {
      "cell_type": "code",
      "source": [
        "def PlotPerformance(test_scores, train_scores): #plots training + test by receiving test and training scores provided by TrainFitPredict\n",
        "  fig = plt.figure(figsize=(6, 6))\n",
        "  plt.subplot(1, 1, 1)\n",
        "  plt.title(\"MSE\")\n",
        "  plt.plot(\n",
        "      np.arange(len(train_scores)) + 1,\n",
        "      train_scores,\n",
        "      \"b-\",\n",
        "      label=\"Training Set Deviance\",\n",
        "  )\n",
        "  plt.plot(\n",
        "      np.arange(len(test_scores)) + 1, test_scores, \"r-\", label=\"Test Set Deviance\"\n",
        "  )\n",
        "  plt.legend(loc=\"upper right\")\n",
        "  plt.xlabel(\"Boosting Iterations\")\n",
        "  plt.ylabel(\"Deviance\")\n",
        "  fig.tight_layout()\n",
        "  plt.show()"
      ],
      "metadata": {
        "id": "HYyHbMyuARuG"
      },
      "execution_count": 16,
      "outputs": []
    },
    {
      "cell_type": "markdown",
      "source": [
        "Import Data"
      ],
      "metadata": {
        "id": "KRtDptdW-4bH"
      }
    },
    {
      "cell_type": "code",
      "source": [
        "data = pd.read_csv('/content/FE_RoomBasePrice.csv')"
      ],
      "metadata": {
        "id": "qMT_7K7y-5T3"
      },
      "execution_count": 17,
      "outputs": []
    },
    {
      "cell_type": "code",
      "source": [
        "columnsToDropBeforeTraining = ['Unnamed: 0.1','Unnamed: 0', 'room_id']"
      ],
      "metadata": {
        "id": "xiUN_qyjA5R3"
      },
      "execution_count": 19,
      "outputs": []
    },
    {
      "cell_type": "markdown",
      "source": [
        "## Obtain target label"
      ],
      "metadata": {
        "id": "mmLyPmZudK6M"
      }
    },
    {
      "cell_type": "code",
      "source": [
        "average_baseline_price = data['average_baseline_price']"
      ],
      "metadata": {
        "id": "fO15mYUVdIYs"
      },
      "execution_count": 20,
      "outputs": []
    },
    {
      "cell_type": "markdown",
      "source": [
        "## Labels ready for training"
      ],
      "metadata": {
        "id": "f9XwxCh4erCm"
      }
    },
    {
      "cell_type": "code",
      "source": [
        "ready_cols = ['ac', 'balcony', 'beachfront', 'breakfast', 'building_staff',\n",
        "                             'cable_tv', 'essentials', 'garden', 'gym', 'hair_dryer',\n",
        "                             'hanger', 'heating', 'hot_water', 'kitchen', 'linens',\n",
        "                             'lock', 'luggage_drop_off', 'parking', 'pool',\n",
        "                             'private_entrance', 'shampoo', 'tv', 'washer', 'wifi',\n",
        "                             'workspace']\n",
        "ready_cols_df = pd.DataFrame(data, columns=ready_cols)"
      ],
      "metadata": {
        "id": "WLf60EkWeuf7"
      },
      "execution_count": 25,
      "outputs": []
    },
    {
      "cell_type": "markdown",
      "source": [
        "## Preprocess Categoricals\n",
        "One hot encode all categoricals"
      ],
      "metadata": {
        "id": "q0hpIQpZKi4_"
      }
    },
    {
      "cell_type": "code",
      "source": [
        "categorical_cols = ['unit_type_name', 'property_design', 'property_type','area_name']\n",
        "onehot_encoder = OneHotEncoder(sparse_output=False, drop='first')\n",
        "categorical_encoded = onehot_encoder.fit_transform(data[categorical_cols])\n",
        "\n",
        "categorical_encoded_df = pd.DataFrame(categorical_encoded, columns=onehot_encoder.get_feature_names_out(categorical_cols))"
      ],
      "metadata": {
        "id": "_W5JX7eKKvm_"
      },
      "execution_count": 26,
      "outputs": []
    },
    {
      "cell_type": "markdown",
      "source": [
        "## Preprocess numericals\n",
        "Either normalize them, or not do anything at all."
      ],
      "metadata": {
        "id": "ILx0GyhJKl6A"
      }
    },
    {
      "cell_type": "code",
      "source": [
        "numerical_cols = ['bedroom','bathroom','beds','capacity','lat','lng','distance_to_coastline','area_distance_to_airport','average_baseline_price', 'total_fas','ratio_bedroom_bathroom','ratio_bedroom_cap',\n",
        "                  'avg_price_distance_to_coast', 'avg_price_distance_to_airport', 'avg_price_bedroom','avg_price_beds','avg_price_bathroom','avg_price_total_fas']\n",
        "scaler = StandardScaler()\n",
        "numerical_scaled = scaler.fit_transform(data[numerical_cols])\n",
        "\n",
        "numerical_scaled_df = pd.DataFrame(numerical_scaled, columns=numerical_cols)\n"
      ],
      "metadata": {
        "id": "-OkMFl4bKvYI"
      },
      "execution_count": 28,
      "outputs": []
    },
    {
      "cell_type": "markdown",
      "source": [
        "## Compiling Preprocessed Data"
      ],
      "metadata": {
        "id": "dUjlzaxzfzY6"
      }
    },
    {
      "cell_type": "code",
      "source": [
        "df_final = pd.concat([numerical_scaled_df, categorical_encoded_df,ready_cols_df, average_baseline_price.reset_index(drop=True)], axis=1)"
      ],
      "metadata": {
        "id": "uzuqAvGQf1WL"
      },
      "execution_count": 29,
      "outputs": []
    },
    {
      "cell_type": "markdown",
      "source": [
        "##Training"
      ],
      "metadata": {
        "id": "ZVW2jWglKuaO"
      }
    },
    {
      "cell_type": "code",
      "source": [
        "X = df_final.drop(columns=['average_baseline_price'])\n",
        "y = df_final['average_baseline_price']"
      ],
      "metadata": {
        "id": "CBCKhIQdKneY"
      },
      "execution_count": 32,
      "outputs": []
    },
    {
      "cell_type": "markdown",
      "source": [
        "### Hyperparameters"
      ],
      "metadata": {
        "id": "iasxjCcuKzGw"
      }
    },
    {
      "cell_type": "code",
      "source": [
        "TEST_RATIO = 0.3\n",
        "RANDOM_STATE = 123\n",
        "params = {\n",
        "    \"n_estimators\": 1000,\n",
        "    \"max_depth\": 64,\n",
        "    \"min_samples_split\": 5,\n",
        "    \"learning_rate\": 0.01,\n",
        "    \"loss\": \"absolute_error\",\n",
        "}"
      ],
      "metadata": {
        "id": "h_LPxndyK0Sw"
      },
      "execution_count": 64,
      "outputs": []
    },
    {
      "cell_type": "code",
      "source": [
        "X_train, X_test, y_train, y_test = train_test_split(X, y, test_size=TEST_RATIO, random_state=42)"
      ],
      "metadata": {
        "id": "QPNJRpWfKyCP"
      },
      "execution_count": 65,
      "outputs": []
    },
    {
      "cell_type": "code",
      "source": [
        "LR = LinearRegression()\n",
        "DTR = DecisionTreeRegressor(random_state=RANDOM_STATE)\n",
        "RFR = RandomForestRegressor(n_estimators=params['n_estimators'],max_depth=params[\"max_depth\"],random_state=RANDOM_STATE)\n",
        "XGB = XGBRegressor(n_estimators=params['n_estimators'], max_depth=params[\"max_depth\"], learning_rate=params['learning_rate'])\n",
        "ModelsList = [\n",
        "              XGB,\n",
        "              RFR,\n",
        "              DTR,\n",
        "              LR,]\n",
        "modelMAEs = []\n",
        "for model in ModelsList:\n",
        "  model.fit(X_train,y_train)\n",
        "  modelMAEs.append((model.__class__.__name__, GetModelMAE(model, X_test, y_test)))\n",
        "print(modelMAEs)"
      ],
      "metadata": {
        "id": "DL4-tLplK3an",
        "colab": {
          "base_uri": "https://localhost:8080/"
        },
        "outputId": "d1a0ad2d-54e5-444a-d9e1-344a87bc6718"
      },
      "execution_count": 43,
      "outputs": [
        {
          "output_type": "stream",
          "name": "stdout",
          "text": [
            "[('XGBRegressor', 110273.54280896107), ('RandomForestRegressor', 106512.54040518399), ('DecisionTreeRegressor', 105637.92082925077), ('LinearRegression', 3.757578594329328e+17)]\n"
          ]
        }
      ]
    },
    {
      "cell_type": "markdown",
      "source": [
        "## Custom Training loop with RFR"
      ],
      "metadata": {
        "id": "_zQ_bJZ2iqvd"
      }
    },
    {
      "cell_type": "code",
      "source": [
        "model = RandomForestRegressor(n_estimators=1,max_depth=params[\"max_depth\"],random_state=RANDOM_STATE)\n",
        "mae_threshold = 77000\n",
        "max_estimators = params['n_estimators']\n",
        "# Custom training loop with early stopping\n",
        "for i in range(1, params['n_estimators'] + 1):\n",
        "    model.n_estimators = i\n",
        "    model.fit(X_train, y_train)\n",
        "\n",
        "    # Predict on validation set\n",
        "    y_pred = model.predict(X_test)\n",
        "\n",
        "    # Calculate validation MAE\n",
        "    val_mae = mean_absolute_error(y_test, y_pred)\n",
        "    print(f\"Iteration {i}, Validation MAE: {val_mae:.4f}\")\n",
        "\n",
        "    # Check if validation MAE is below the threshold\n",
        "    if val_mae < mae_threshold:\n",
        "        print(f\"Early stopping at iteration {i} with Validation MAE: {val_mae:.4f}\")\n",
        "        break\n"
      ],
      "metadata": {
        "colab": {
          "base_uri": "https://localhost:8080/"
        },
        "id": "XHJJALD4itnj",
        "outputId": "d4e3b2a0-aaef-48dd-b36a-3d50e3db6b51"
      },
      "execution_count": 70,
      "outputs": [
        {
          "output_type": "stream",
          "name": "stdout",
          "text": [
            "Iteration 1, Validation MAE: 107153.4905\n",
            "Iteration 2, Validation MAE: 103800.7361\n",
            "Iteration 3, Validation MAE: 110707.8833\n",
            "Iteration 4, Validation MAE: 111933.1760\n",
            "Iteration 5, Validation MAE: 92496.4421\n",
            "Iteration 6, Validation MAE: 98227.1856\n",
            "Iteration 7, Validation MAE: 93302.6182\n",
            "Iteration 8, Validation MAE: 91887.1323\n",
            "Iteration 9, Validation MAE: 94925.1095\n",
            "Iteration 10, Validation MAE: 92439.0756\n",
            "Iteration 11, Validation MAE: 85843.2345\n",
            "Iteration 12, Validation MAE: 85491.5715\n",
            "Iteration 13, Validation MAE: 84299.7381\n",
            "Iteration 14, Validation MAE: 82782.6879\n",
            "Iteration 15, Validation MAE: 84344.2154\n",
            "Iteration 16, Validation MAE: 86618.6409\n",
            "Iteration 17, Validation MAE: 82698.8524\n",
            "Iteration 18, Validation MAE: 85355.9756\n",
            "Iteration 19, Validation MAE: 84160.3118\n",
            "Iteration 20, Validation MAE: 84095.8120\n",
            "Iteration 21, Validation MAE: 82783.0421\n",
            "Iteration 22, Validation MAE: 81289.5039\n",
            "Iteration 23, Validation MAE: 81662.0750\n",
            "Iteration 24, Validation MAE: 81480.1839\n",
            "Iteration 25, Validation MAE: 81803.7080\n",
            "Iteration 26, Validation MAE: 82647.7045\n",
            "Iteration 27, Validation MAE: 82452.5212\n",
            "Iteration 28, Validation MAE: 82981.8104\n",
            "Iteration 29, Validation MAE: 81686.0378\n",
            "Iteration 30, Validation MAE: 82434.0844\n",
            "Iteration 31, Validation MAE: 82848.9620\n",
            "Iteration 32, Validation MAE: 79895.9199\n",
            "Iteration 33, Validation MAE: 83536.7121\n",
            "Iteration 34, Validation MAE: 81556.5716\n",
            "Iteration 35, Validation MAE: 82428.0320\n",
            "Iteration 36, Validation MAE: 83490.6026\n",
            "Iteration 37, Validation MAE: 83158.1744\n",
            "Iteration 38, Validation MAE: 83822.0614\n",
            "Iteration 39, Validation MAE: 84186.6362\n",
            "Iteration 40, Validation MAE: 82883.7050\n",
            "Iteration 41, Validation MAE: 85814.5788\n",
            "Iteration 42, Validation MAE: 84811.1291\n",
            "Iteration 43, Validation MAE: 85117.3653\n",
            "Iteration 44, Validation MAE: 83655.9905\n",
            "Iteration 45, Validation MAE: 82185.1123\n",
            "Iteration 46, Validation MAE: 82496.5428\n",
            "Iteration 47, Validation MAE: 81978.2468\n",
            "Iteration 48, Validation MAE: 81891.7666\n",
            "Iteration 49, Validation MAE: 82789.5451\n",
            "Iteration 50, Validation MAE: 81710.8817\n",
            "Iteration 51, Validation MAE: 82039.4177\n",
            "Iteration 52, Validation MAE: 81210.2769\n",
            "Iteration 53, Validation MAE: 81168.2507\n",
            "Iteration 54, Validation MAE: 81224.9020\n",
            "Iteration 55, Validation MAE: 79692.5889\n",
            "Iteration 56, Validation MAE: 80527.3434\n",
            "Iteration 57, Validation MAE: 78958.1997\n",
            "Iteration 58, Validation MAE: 78921.0448\n",
            "Iteration 59, Validation MAE: 78036.1768\n",
            "Iteration 60, Validation MAE: 78141.8922\n",
            "Iteration 61, Validation MAE: 78022.5201\n",
            "Iteration 62, Validation MAE: 78333.5015\n",
            "Iteration 63, Validation MAE: 78157.4647\n",
            "Iteration 64, Validation MAE: 78494.3759\n",
            "Iteration 65, Validation MAE: 78148.2373\n",
            "Iteration 66, Validation MAE: 78841.7411\n",
            "Iteration 67, Validation MAE: 79592.6970\n",
            "Iteration 68, Validation MAE: 78443.0027\n",
            "Iteration 69, Validation MAE: 77924.2852\n",
            "Iteration 70, Validation MAE: 77710.9172\n",
            "Iteration 71, Validation MAE: 78473.4819\n",
            "Iteration 72, Validation MAE: 77558.2562\n",
            "Iteration 73, Validation MAE: 79031.5357\n",
            "Iteration 74, Validation MAE: 79565.9745\n",
            "Iteration 75, Validation MAE: 78616.9683\n",
            "Iteration 76, Validation MAE: 78442.6706\n",
            "Iteration 77, Validation MAE: 78236.4988\n",
            "Iteration 78, Validation MAE: 78261.6335\n",
            "Iteration 79, Validation MAE: 77462.0367\n",
            "Iteration 80, Validation MAE: 77812.7930\n",
            "Iteration 81, Validation MAE: 78508.2829\n",
            "Iteration 82, Validation MAE: 78057.3840\n",
            "Iteration 83, Validation MAE: 78191.7499\n",
            "Iteration 84, Validation MAE: 78355.9568\n",
            "Iteration 85, Validation MAE: 78568.1533\n",
            "Iteration 86, Validation MAE: 78285.3673\n",
            "Iteration 87, Validation MAE: 77384.9794\n",
            "Iteration 88, Validation MAE: 77526.9689\n",
            "Iteration 89, Validation MAE: 77684.1463\n",
            "Iteration 90, Validation MAE: 77187.8100\n",
            "Iteration 91, Validation MAE: 77163.1373\n",
            "Iteration 92, Validation MAE: 77152.4211\n",
            "Iteration 93, Validation MAE: 77298.8392\n",
            "Iteration 94, Validation MAE: 77541.3080\n",
            "Iteration 95, Validation MAE: 77018.8540\n",
            "Iteration 96, Validation MAE: 76322.8740\n",
            "Early stopping at iteration 96 with Validation MAE: 76322.8740\n"
          ]
        }
      ]
    }
  ]
}