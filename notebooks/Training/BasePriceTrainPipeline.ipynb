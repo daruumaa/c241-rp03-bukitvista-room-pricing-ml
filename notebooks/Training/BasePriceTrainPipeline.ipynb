{
  "nbformat": 4,
  "nbformat_minor": 0,
  "metadata": {
    "colab": {
      "provenance": []
    },
    "kernelspec": {
      "name": "python3",
      "display_name": "Python 3"
    },
    "language_info": {
      "name": "python"
    }
  },
  "cells": [
    {
      "cell_type": "code",
      "source": [
        "!python --version"
      ],
      "metadata": {
        "colab": {
          "base_uri": "https://localhost:8080/"
        },
        "id": "nMGc4MBHsDx2",
        "outputId": "656a9c54-0332-4bdd-9f06-ed71a4d89c05"
      },
      "execution_count": 6,
      "outputs": [
        {
          "output_type": "stream",
          "name": "stdout",
          "text": [
            "Python 3.10.12\n"
          ]
        }
      ]
    },
    {
      "cell_type": "code",
      "execution_count": 2,
      "metadata": {
        "id": "A7FsY_BzDJaI"
      },
      "outputs": [],
      "source": [
        "import pandas as pd\n",
        "import numpy as np\n",
        "import sklearn\n",
        "from sklearn.model_selection import train_test_split, GridSearchCV\n",
        "from sklearn.metrics import mean_absolute_error\n",
        "from sklearn.linear_model import LinearRegression\n",
        "from sklearn.tree import DecisionTreeRegressor\n",
        "from sklearn.ensemble import RandomForestRegressor, GradientBoostingRegressor\n",
        "from sklearn.svm import SVR\n",
        "from sklearn.preprocessing import StandardScaler, MinMaxScaler\n",
        "from xgboost import XGBRegressor\n",
        "from scipy import stats\n",
        "import matplotlib.pyplot as plt\n",
        "import seaborn as sns\n",
        "from sklearn.preprocessing import OneHotEncoder\n",
        "from sklearn.pipeline import Pipeline\n",
        "from sklearn.compose import ColumnTransformer\n",
        "import joblib"
      ]
    },
    {
      "cell_type": "code",
      "source": [
        "sklearn.__version__"
      ],
      "metadata": {
        "colab": {
          "base_uri": "https://localhost:8080/",
          "height": 35
        },
        "id": "h_287pPJpo_v",
        "outputId": "41d1c0a5-ad0f-4003-b6d2-378516afc139"
      },
      "execution_count": 5,
      "outputs": [
        {
          "output_type": "execute_result",
          "data": {
            "text/plain": [
              "'1.2.2'"
            ],
            "application/vnd.google.colaboratory.intrinsic+json": {
              "type": "string"
            }
          },
          "metadata": {},
          "execution_count": 5
        }
      ]
    },
    {
      "cell_type": "code",
      "source": [
        "joblib.__version__"
      ],
      "metadata": {
        "colab": {
          "base_uri": "https://localhost:8080/",
          "height": 35
        },
        "id": "2RTd4RTzpq_c",
        "outputId": "06b77f54-f71b-4133-87c0-d82f0bd33302"
      },
      "execution_count": 3,
      "outputs": [
        {
          "output_type": "execute_result",
          "data": {
            "text/plain": [
              "'1.4.2'"
            ],
            "application/vnd.google.colaboratory.intrinsic+json": {
              "type": "string"
            }
          },
          "metadata": {},
          "execution_count": 3
        }
      ]
    },
    {
      "cell_type": "code",
      "source": [
        "def drop_columns(df, columns_to_drop):\n",
        "    \"\"\"\n",
        "    Drop specified columns from a DataFrame.\n",
        "\n",
        "    Parameters:\n",
        "    df (pd.DataFrame): The DataFrame from which columns should be dropped.\n",
        "    columns_to_drop (list): A list of column names to be dropped.\n",
        "\n",
        "    Returns:\n",
        "    pd.DataFrame: The DataFrame with specified columns dropped.\n",
        "    \"\"\"\n",
        "    # Drop the specified columns\n",
        "    df_dropped = df.drop(columns=columns_to_drop)\n",
        "    return df_dropped"
      ],
      "metadata": {
        "id": "EymskYMjDfC-"
      },
      "execution_count": 5,
      "outputs": []
    },
    {
      "cell_type": "markdown",
      "source": [
        "## Prep for pileine"
      ],
      "metadata": {
        "id": "jpUZec5LDOJm"
      }
    },
    {
      "cell_type": "code",
      "source": [
        "data = pd.read_csv('/content/FE_RoomBasePrice.csv')"
      ],
      "metadata": {
        "id": "cYUim1ZiDPwY"
      },
      "execution_count": 6,
      "outputs": []
    },
    {
      "cell_type": "code",
      "source": [
        "data.info()"
      ],
      "metadata": {
        "colab": {
          "base_uri": "https://localhost:8080/"
        },
        "id": "ghO4DZnQD_Q6",
        "outputId": "3491d0e2-c57d-479a-8d8c-817d615d3298"
      },
      "execution_count": null,
      "outputs": [
        {
          "output_type": "stream",
          "name": "stdout",
          "text": [
            "<class 'pandas.core.frame.DataFrame'>\n",
            "RangeIndex: 142 entries, 0 to 141\n",
            "Data columns (total 49 columns):\n",
            " #   Column                         Non-Null Count  Dtype  \n",
            "---  ------                         --------------  -----  \n",
            " 0   unit_type_name                 142 non-null    object \n",
            " 1   property_design                142 non-null    float64\n",
            " 2   property_type                  142 non-null    float64\n",
            " 3   number_of_bookings             142 non-null    int64  \n",
            " 4   bedroom                        142 non-null    float64\n",
            " 5   bathroom                       142 non-null    float64\n",
            " 6   beds                           142 non-null    float64\n",
            " 7   capacity                       142 non-null    float64\n",
            " 8   ac                             142 non-null    float64\n",
            " 9   balcony                        142 non-null    float64\n",
            " 10  beachfront                     142 non-null    float64\n",
            " 11  breakfast                      142 non-null    float64\n",
            " 12  building_staff                 142 non-null    float64\n",
            " 13  cable_tv                       142 non-null    float64\n",
            " 14  essentials                     142 non-null    float64\n",
            " 15  garden                         142 non-null    float64\n",
            " 16  gym                            142 non-null    float64\n",
            " 17  hair_dryer                     142 non-null    float64\n",
            " 18  hanger                         142 non-null    float64\n",
            " 19  heating                        142 non-null    float64\n",
            " 20  hot_water                      142 non-null    float64\n",
            " 21  kitchen                        142 non-null    float64\n",
            " 22  linens                         142 non-null    float64\n",
            " 23  lock                           142 non-null    float64\n",
            " 24  luggage_drop_off               142 non-null    float64\n",
            " 25  parking                        142 non-null    float64\n",
            " 26  pool                           142 non-null    float64\n",
            " 27  private_entrance               142 non-null    float64\n",
            " 28  shampoo                        142 non-null    float64\n",
            " 29  tv                             142 non-null    float64\n",
            " 30  washer                         142 non-null    float64\n",
            " 31  wifi                           142 non-null    float64\n",
            " 32  workspace                      142 non-null    float64\n",
            " 33  lat                            142 non-null    float64\n",
            " 34  lng                            142 non-null    float64\n",
            " 35  distance_to_coastline          142 non-null    float64\n",
            " 36  area_distance_to_airport       142 non-null    float64\n",
            " 37  property_bedrooms              142 non-null    float64\n",
            " 38  average_baseline_price         142 non-null    float64\n",
            " 39  area_name                      142 non-null    object \n",
            " 40  total_fas                      142 non-null    float64\n",
            " 41  ratio_bedroom_bathroom         142 non-null    float64\n",
            " 42  ratio_bedroom_cap              142 non-null    float64\n",
            " 43  avg_price_distance_to_coast    142 non-null    float64\n",
            " 44  avg_price_distance_to_airport  142 non-null    float64\n",
            " 45  avg_price_bedroom              142 non-null    float64\n",
            " 46  avg_price_beds                 142 non-null    float64\n",
            " 47  avg_price_bathroom             142 non-null    float64\n",
            " 48  avg_price_total_fas            142 non-null    float64\n",
            "dtypes: float64(46), int64(1), object(2)\n",
            "memory usage: 54.5+ KB\n"
          ]
        }
      ]
    },
    {
      "cell_type": "code",
      "source": [
        "columnsToDropBeforeTraining = ['Unnamed: 0.1','Unnamed: 0', 'room_id']\n",
        "data = drop_columns(data, columnsToDropBeforeTraining)"
      ],
      "metadata": {
        "id": "3gehoa4NDUGm"
      },
      "execution_count": 7,
      "outputs": []
    },
    {
      "cell_type": "code",
      "source": [
        "average_baseline_price = data['average_baseline_price']\n",
        "data = data.drop(columns='average_baseline_price')"
      ],
      "metadata": {
        "id": "wDbfpxpIENFt"
      },
      "execution_count": 8,
      "outputs": []
    },
    {
      "cell_type": "code",
      "source": [
        "X = data\n",
        "y = average_baseline_price"
      ],
      "metadata": {
        "id": "jyvZP-QfD7P9"
      },
      "execution_count": 9,
      "outputs": []
    },
    {
      "cell_type": "code",
      "source": [
        "# Example column names\n",
        "numerical_features = ['bedroom','bathroom','beds','capacity','lat','lng','distance_to_coastline','area_distance_to_airport','total_fas','ratio_bedroom_bathroom','ratio_bedroom_cap',\n",
        "                  'avg_price_distance_to_coast', 'avg_price_distance_to_airport', 'avg_price_bedroom','avg_price_beds','avg_price_bathroom','avg_price_total_fas']\n",
        "categorical_features = ['unit_type_name', 'property_design', 'property_type','area_name']\n",
        "unprocessed_features = ['ac', 'balcony', 'beachfront', 'breakfast', 'building_staff',\n",
        "                             'cable_tv', 'essentials', 'garden', 'gym', 'hair_dryer',\n",
        "                             'hanger', 'heating', 'hot_water', 'kitchen', 'linens',\n",
        "                             'lock', 'luggage_drop_off', 'parking', 'pool',\n",
        "                             'private_entrance', 'shampoo', 'tv', 'washer', 'wifi',\n",
        "                             'workspace']\n",
        "\n",
        "# Get indices of these columns\n",
        "numerical_indices = [data.columns.get_loc(col) for col in numerical_features]\n",
        "categorical_indices = [data.columns.get_loc(col) for col in categorical_features]\n",
        "unprocessed_indices = [data.columns.get_loc(col) for col in unprocessed_features]"
      ],
      "metadata": {
        "id": "bDR-lQjYEXOx"
      },
      "execution_count": 25,
      "outputs": []
    },
    {
      "cell_type": "code",
      "source": [
        "preprocessor = ColumnTransformer(\n",
        "    transformers=[\n",
        "        ('num', StandardScaler(), numerical_indices),\n",
        "        ('cat', OneHotEncoder(), categorical_indices),\n",
        "        ('passthrough', 'passthrough', unprocessed_indices)\n",
        "    ]\n",
        ")"
      ],
      "metadata": {
        "id": "mATsGWtUEfTm"
      },
      "execution_count": 32,
      "outputs": []
    },
    {
      "cell_type": "code",
      "source": [
        "TEST_RATIO = 0.3\n",
        "RANDOM_STATE = 123\n",
        "params = {\n",
        "    \"n_estimators\": 1000,\n",
        "    \"max_depth\": 64,\n",
        "    \"min_samples_split\": 5,\n",
        "    \"learning_rate\": 0.01,\n",
        "    \"loss\": \"absolute_error\",\n",
        "}"
      ],
      "metadata": {
        "id": "1kMRsb-hE1OW"
      },
      "execution_count": 27,
      "outputs": []
    },
    {
      "cell_type": "code",
      "source": [
        "model = RandomForestRegressor(n_estimators=58,max_depth=params[\"max_depth\"],random_state=RANDOM_STATE)"
      ],
      "metadata": {
        "id": "dRseY9gGEy2V"
      },
      "execution_count": 28,
      "outputs": []
    },
    {
      "cell_type": "code",
      "source": [
        "X.info()"
      ],
      "metadata": {
        "id": "KckN5M1TF99m",
        "outputId": "dfbd69dd-9c68-4f6c-d7d1-e965d9168947",
        "colab": {
          "base_uri": "https://localhost:8080/"
        }
      },
      "execution_count": null,
      "outputs": [
        {
          "output_type": "stream",
          "name": "stdout",
          "text": [
            "<class 'pandas.core.frame.DataFrame'>\n",
            "RangeIndex: 142 entries, 0 to 141\n",
            "Data columns (total 48 columns):\n",
            " #   Column                         Non-Null Count  Dtype  \n",
            "---  ------                         --------------  -----  \n",
            " 0   unit_type_name                 142 non-null    object \n",
            " 1   property_design                142 non-null    float64\n",
            " 2   property_type                  142 non-null    float64\n",
            " 3   number_of_bookings             142 non-null    int64  \n",
            " 4   bedroom                        142 non-null    float64\n",
            " 5   bathroom                       142 non-null    float64\n",
            " 6   beds                           142 non-null    float64\n",
            " 7   capacity                       142 non-null    float64\n",
            " 8   ac                             142 non-null    float64\n",
            " 9   balcony                        142 non-null    float64\n",
            " 10  beachfront                     142 non-null    float64\n",
            " 11  breakfast                      142 non-null    float64\n",
            " 12  building_staff                 142 non-null    float64\n",
            " 13  cable_tv                       142 non-null    float64\n",
            " 14  essentials                     142 non-null    float64\n",
            " 15  garden                         142 non-null    float64\n",
            " 16  gym                            142 non-null    float64\n",
            " 17  hair_dryer                     142 non-null    float64\n",
            " 18  hanger                         142 non-null    float64\n",
            " 19  heating                        142 non-null    float64\n",
            " 20  hot_water                      142 non-null    float64\n",
            " 21  kitchen                        142 non-null    float64\n",
            " 22  linens                         142 non-null    float64\n",
            " 23  lock                           142 non-null    float64\n",
            " 24  luggage_drop_off               142 non-null    float64\n",
            " 25  parking                        142 non-null    float64\n",
            " 26  pool                           142 non-null    float64\n",
            " 27  private_entrance               142 non-null    float64\n",
            " 28  shampoo                        142 non-null    float64\n",
            " 29  tv                             142 non-null    float64\n",
            " 30  washer                         142 non-null    float64\n",
            " 31  wifi                           142 non-null    float64\n",
            " 32  workspace                      142 non-null    float64\n",
            " 33  lat                            142 non-null    float64\n",
            " 34  lng                            142 non-null    float64\n",
            " 35  distance_to_coastline          142 non-null    float64\n",
            " 36  area_distance_to_airport       142 non-null    float64\n",
            " 37  property_bedrooms              142 non-null    float64\n",
            " 38  area_name                      142 non-null    object \n",
            " 39  total_fas                      142 non-null    float64\n",
            " 40  ratio_bedroom_bathroom         142 non-null    float64\n",
            " 41  ratio_bedroom_cap              142 non-null    float64\n",
            " 42  avg_price_distance_to_coast    142 non-null    float64\n",
            " 43  avg_price_distance_to_airport  142 non-null    float64\n",
            " 44  avg_price_bedroom              142 non-null    float64\n",
            " 45  avg_price_beds                 142 non-null    float64\n",
            " 46  avg_price_bathroom             142 non-null    float64\n",
            " 47  avg_price_total_fas            142 non-null    float64\n",
            "dtypes: float64(45), int64(1), object(2)\n",
            "memory usage: 53.4+ KB\n"
          ]
        }
      ]
    },
    {
      "cell_type": "code",
      "source": [
        "X_train, X_test, y_train, y_test = train_test_split(X, y, test_size=TEST_RATIO, random_state=42)"
      ],
      "metadata": {
        "id": "CqnN0JnAE3yd"
      },
      "execution_count": 29,
      "outputs": []
    },
    {
      "cell_type": "code",
      "source": [
        "pipeline = Pipeline([\n",
        "    ('preprocessor', preprocessor),\n",
        "    ('model', model)  # Replace with your model\n",
        "])\n",
        "pipeline.fit(, y)"
      ],
      "metadata": {
        "colab": {
          "base_uri": "https://localhost:8080/",
          "height": 192
        },
        "id": "cy2VO0MxE9U3",
        "outputId": "f4d79729-e4d3-4413-e22f-9de84c304fba"
      },
      "execution_count": 33,
      "outputs": [
        {
          "output_type": "execute_result",
          "data": {
            "text/plain": [
              "Pipeline(steps=[('preprocessor',\n",
              "                 ColumnTransformer(transformers=[('num', StandardScaler(),\n",
              "                                                  [4, 5, 6, 7, 33, 34, 35, 36,\n",
              "                                                   39, 40, 41, 42, 43, 44, 45,\n",
              "                                                   46, 47]),\n",
              "                                                 ('cat', OneHotEncoder(),\n",
              "                                                  [0, 1, 2, 38]),\n",
              "                                                 ('passthrough', 'passthrough',\n",
              "                                                  [8, 9, 10, 11, 12, 13, 14, 15,\n",
              "                                                   16, 17, 18, 19, 20, 21, 22,\n",
              "                                                   23, 24, 25, 26, 27, 28, 29,\n",
              "                                                   30, 31, 32])])),\n",
              "                ('model',\n",
              "                 RandomForestRegressor(max_depth=64, n_estimators=58,\n",
              "                                       random_state=123))])"
            ],
            "text/html": [
              "<style>#sk-container-id-2 {color: black;background-color: white;}#sk-container-id-2 pre{padding: 0;}#sk-container-id-2 div.sk-toggleable {background-color: white;}#sk-container-id-2 label.sk-toggleable__label {cursor: pointer;display: block;width: 100%;margin-bottom: 0;padding: 0.3em;box-sizing: border-box;text-align: center;}#sk-container-id-2 label.sk-toggleable__label-arrow:before {content: \"▸\";float: left;margin-right: 0.25em;color: #696969;}#sk-container-id-2 label.sk-toggleable__label-arrow:hover:before {color: black;}#sk-container-id-2 div.sk-estimator:hover label.sk-toggleable__label-arrow:before {color: black;}#sk-container-id-2 div.sk-toggleable__content {max-height: 0;max-width: 0;overflow: hidden;text-align: left;background-color: #f0f8ff;}#sk-container-id-2 div.sk-toggleable__content pre {margin: 0.2em;color: black;border-radius: 0.25em;background-color: #f0f8ff;}#sk-container-id-2 input.sk-toggleable__control:checked~div.sk-toggleable__content {max-height: 200px;max-width: 100%;overflow: auto;}#sk-container-id-2 input.sk-toggleable__control:checked~label.sk-toggleable__label-arrow:before {content: \"▾\";}#sk-container-id-2 div.sk-estimator input.sk-toggleable__control:checked~label.sk-toggleable__label {background-color: #d4ebff;}#sk-container-id-2 div.sk-label input.sk-toggleable__control:checked~label.sk-toggleable__label {background-color: #d4ebff;}#sk-container-id-2 input.sk-hidden--visually {border: 0;clip: rect(1px 1px 1px 1px);clip: rect(1px, 1px, 1px, 1px);height: 1px;margin: -1px;overflow: hidden;padding: 0;position: absolute;width: 1px;}#sk-container-id-2 div.sk-estimator {font-family: monospace;background-color: #f0f8ff;border: 1px dotted black;border-radius: 0.25em;box-sizing: border-box;margin-bottom: 0.5em;}#sk-container-id-2 div.sk-estimator:hover {background-color: #d4ebff;}#sk-container-id-2 div.sk-parallel-item::after {content: \"\";width: 100%;border-bottom: 1px solid gray;flex-grow: 1;}#sk-container-id-2 div.sk-label:hover label.sk-toggleable__label {background-color: #d4ebff;}#sk-container-id-2 div.sk-serial::before {content: \"\";position: absolute;border-left: 1px solid gray;box-sizing: border-box;top: 0;bottom: 0;left: 50%;z-index: 0;}#sk-container-id-2 div.sk-serial {display: flex;flex-direction: column;align-items: center;background-color: white;padding-right: 0.2em;padding-left: 0.2em;position: relative;}#sk-container-id-2 div.sk-item {position: relative;z-index: 1;}#sk-container-id-2 div.sk-parallel {display: flex;align-items: stretch;justify-content: center;background-color: white;position: relative;}#sk-container-id-2 div.sk-item::before, #sk-container-id-2 div.sk-parallel-item::before {content: \"\";position: absolute;border-left: 1px solid gray;box-sizing: border-box;top: 0;bottom: 0;left: 50%;z-index: -1;}#sk-container-id-2 div.sk-parallel-item {display: flex;flex-direction: column;z-index: 1;position: relative;background-color: white;}#sk-container-id-2 div.sk-parallel-item:first-child::after {align-self: flex-end;width: 50%;}#sk-container-id-2 div.sk-parallel-item:last-child::after {align-self: flex-start;width: 50%;}#sk-container-id-2 div.sk-parallel-item:only-child::after {width: 0;}#sk-container-id-2 div.sk-dashed-wrapped {border: 1px dashed gray;margin: 0 0.4em 0.5em 0.4em;box-sizing: border-box;padding-bottom: 0.4em;background-color: white;}#sk-container-id-2 div.sk-label label {font-family: monospace;font-weight: bold;display: inline-block;line-height: 1.2em;}#sk-container-id-2 div.sk-label-container {text-align: center;}#sk-container-id-2 div.sk-container {/* jupyter's `normalize.less` sets `[hidden] { display: none; }` but bootstrap.min.css set `[hidden] { display: none !important; }` so we also need the `!important` here to be able to override the default hidden behavior on the sphinx rendered scikit-learn.org. See: https://github.com/scikit-learn/scikit-learn/issues/21755 */display: inline-block !important;position: relative;}#sk-container-id-2 div.sk-text-repr-fallback {display: none;}</style><div id=\"sk-container-id-2\" class=\"sk-top-container\"><div class=\"sk-text-repr-fallback\"><pre>Pipeline(steps=[(&#x27;preprocessor&#x27;,\n",
              "                 ColumnTransformer(transformers=[(&#x27;num&#x27;, StandardScaler(),\n",
              "                                                  [4, 5, 6, 7, 33, 34, 35, 36,\n",
              "                                                   39, 40, 41, 42, 43, 44, 45,\n",
              "                                                   46, 47]),\n",
              "                                                 (&#x27;cat&#x27;, OneHotEncoder(),\n",
              "                                                  [0, 1, 2, 38]),\n",
              "                                                 (&#x27;passthrough&#x27;, &#x27;passthrough&#x27;,\n",
              "                                                  [8, 9, 10, 11, 12, 13, 14, 15,\n",
              "                                                   16, 17, 18, 19, 20, 21, 22,\n",
              "                                                   23, 24, 25, 26, 27, 28, 29,\n",
              "                                                   30, 31, 32])])),\n",
              "                (&#x27;model&#x27;,\n",
              "                 RandomForestRegressor(max_depth=64, n_estimators=58,\n",
              "                                       random_state=123))])</pre><b>In a Jupyter environment, please rerun this cell to show the HTML representation or trust the notebook. <br />On GitHub, the HTML representation is unable to render, please try loading this page with nbviewer.org.</b></div><div class=\"sk-container\" hidden><div class=\"sk-item sk-dashed-wrapped\"><div class=\"sk-label-container\"><div class=\"sk-label sk-toggleable\"><input class=\"sk-toggleable__control sk-hidden--visually\" id=\"sk-estimator-id-10\" type=\"checkbox\" ><label for=\"sk-estimator-id-10\" class=\"sk-toggleable__label sk-toggleable__label-arrow\">Pipeline</label><div class=\"sk-toggleable__content\"><pre>Pipeline(steps=[(&#x27;preprocessor&#x27;,\n",
              "                 ColumnTransformer(transformers=[(&#x27;num&#x27;, StandardScaler(),\n",
              "                                                  [4, 5, 6, 7, 33, 34, 35, 36,\n",
              "                                                   39, 40, 41, 42, 43, 44, 45,\n",
              "                                                   46, 47]),\n",
              "                                                 (&#x27;cat&#x27;, OneHotEncoder(),\n",
              "                                                  [0, 1, 2, 38]),\n",
              "                                                 (&#x27;passthrough&#x27;, &#x27;passthrough&#x27;,\n",
              "                                                  [8, 9, 10, 11, 12, 13, 14, 15,\n",
              "                                                   16, 17, 18, 19, 20, 21, 22,\n",
              "                                                   23, 24, 25, 26, 27, 28, 29,\n",
              "                                                   30, 31, 32])])),\n",
              "                (&#x27;model&#x27;,\n",
              "                 RandomForestRegressor(max_depth=64, n_estimators=58,\n",
              "                                       random_state=123))])</pre></div></div></div><div class=\"sk-serial\"><div class=\"sk-item sk-dashed-wrapped\"><div class=\"sk-label-container\"><div class=\"sk-label sk-toggleable\"><input class=\"sk-toggleable__control sk-hidden--visually\" id=\"sk-estimator-id-11\" type=\"checkbox\" ><label for=\"sk-estimator-id-11\" class=\"sk-toggleable__label sk-toggleable__label-arrow\">preprocessor: ColumnTransformer</label><div class=\"sk-toggleable__content\"><pre>ColumnTransformer(transformers=[(&#x27;num&#x27;, StandardScaler(),\n",
              "                                 [4, 5, 6, 7, 33, 34, 35, 36, 39, 40, 41, 42,\n",
              "                                  43, 44, 45, 46, 47]),\n",
              "                                (&#x27;cat&#x27;, OneHotEncoder(), [0, 1, 2, 38]),\n",
              "                                (&#x27;passthrough&#x27;, &#x27;passthrough&#x27;,\n",
              "                                 [8, 9, 10, 11, 12, 13, 14, 15, 16, 17, 18, 19,\n",
              "                                  20, 21, 22, 23, 24, 25, 26, 27, 28, 29, 30,\n",
              "                                  31, 32])])</pre></div></div></div><div class=\"sk-parallel\"><div class=\"sk-parallel-item\"><div class=\"sk-item\"><div class=\"sk-label-container\"><div class=\"sk-label sk-toggleable\"><input class=\"sk-toggleable__control sk-hidden--visually\" id=\"sk-estimator-id-12\" type=\"checkbox\" ><label for=\"sk-estimator-id-12\" class=\"sk-toggleable__label sk-toggleable__label-arrow\">num</label><div class=\"sk-toggleable__content\"><pre>[4, 5, 6, 7, 33, 34, 35, 36, 39, 40, 41, 42, 43, 44, 45, 46, 47]</pre></div></div></div><div class=\"sk-serial\"><div class=\"sk-item\"><div class=\"sk-estimator sk-toggleable\"><input class=\"sk-toggleable__control sk-hidden--visually\" id=\"sk-estimator-id-13\" type=\"checkbox\" ><label for=\"sk-estimator-id-13\" class=\"sk-toggleable__label sk-toggleable__label-arrow\">StandardScaler</label><div class=\"sk-toggleable__content\"><pre>StandardScaler()</pre></div></div></div></div></div></div><div class=\"sk-parallel-item\"><div class=\"sk-item\"><div class=\"sk-label-container\"><div class=\"sk-label sk-toggleable\"><input class=\"sk-toggleable__control sk-hidden--visually\" id=\"sk-estimator-id-14\" type=\"checkbox\" ><label for=\"sk-estimator-id-14\" class=\"sk-toggleable__label sk-toggleable__label-arrow\">cat</label><div class=\"sk-toggleable__content\"><pre>[0, 1, 2, 38]</pre></div></div></div><div class=\"sk-serial\"><div class=\"sk-item\"><div class=\"sk-estimator sk-toggleable\"><input class=\"sk-toggleable__control sk-hidden--visually\" id=\"sk-estimator-id-15\" type=\"checkbox\" ><label for=\"sk-estimator-id-15\" class=\"sk-toggleable__label sk-toggleable__label-arrow\">OneHotEncoder</label><div class=\"sk-toggleable__content\"><pre>OneHotEncoder()</pre></div></div></div></div></div></div><div class=\"sk-parallel-item\"><div class=\"sk-item\"><div class=\"sk-label-container\"><div class=\"sk-label sk-toggleable\"><input class=\"sk-toggleable__control sk-hidden--visually\" id=\"sk-estimator-id-16\" type=\"checkbox\" ><label for=\"sk-estimator-id-16\" class=\"sk-toggleable__label sk-toggleable__label-arrow\">passthrough</label><div class=\"sk-toggleable__content\"><pre>[8, 9, 10, 11, 12, 13, 14, 15, 16, 17, 18, 19, 20, 21, 22, 23, 24, 25, 26, 27, 28, 29, 30, 31, 32]</pre></div></div></div><div class=\"sk-serial\"><div class=\"sk-item\"><div class=\"sk-estimator sk-toggleable\"><input class=\"sk-toggleable__control sk-hidden--visually\" id=\"sk-estimator-id-17\" type=\"checkbox\" ><label for=\"sk-estimator-id-17\" class=\"sk-toggleable__label sk-toggleable__label-arrow\">passthrough</label><div class=\"sk-toggleable__content\"><pre>passthrough</pre></div></div></div></div></div></div></div></div><div class=\"sk-item\"><div class=\"sk-estimator sk-toggleable\"><input class=\"sk-toggleable__control sk-hidden--visually\" id=\"sk-estimator-id-18\" type=\"checkbox\" ><label for=\"sk-estimator-id-18\" class=\"sk-toggleable__label sk-toggleable__label-arrow\">RandomForestRegressor</label><div class=\"sk-toggleable__content\"><pre>RandomForestRegressor(max_depth=64, n_estimators=58, random_state=123)</pre></div></div></div></div></div></div></div>"
            ]
          },
          "metadata": {},
          "execution_count": 33
        }
      ]
    },
    {
      "cell_type": "code",
      "source": [
        "y_pred = pipeline.predict(np.array(X))\n",
        "val_mae = mean_absolute_error(y, y_pred)"
      ],
      "metadata": {
        "id": "Dkz6LzByE_Bd"
      },
      "execution_count": 35,
      "outputs": []
    },
    {
      "cell_type": "code",
      "source": [
        "val_mae"
      ],
      "metadata": {
        "colab": {
          "base_uri": "https://localhost:8080/"
        },
        "id": "bNVvBcR1FeuN",
        "outputId": "6dc40d95-7257-4561-b2c7-4f1d5d5e1711"
      },
      "execution_count": 36,
      "outputs": [
        {
          "output_type": "execute_result",
          "data": {
            "text/plain": [
              "39643.474937153165"
            ]
          },
          "metadata": {},
          "execution_count": 36
        }
      ]
    },
    {
      "cell_type": "code",
      "source": [
        "joblib.dump(pipeline, 'BasePriceModel.pkl')"
      ],
      "metadata": {
        "colab": {
          "base_uri": "https://localhost:8080/"
        },
        "id": "91dKdZesFApM",
        "outputId": "fd4236f8-0295-4327-8964-3c1d1158b848"
      },
      "execution_count": 37,
      "outputs": [
        {
          "output_type": "execute_result",
          "data": {
            "text/plain": [
              "['BasePriceModel.pkl']"
            ]
          },
          "metadata": {},
          "execution_count": 37
        }
      ]
    },
    {
      "cell_type": "code",
      "source": [],
      "metadata": {
        "id": "w_tQRlBc-rbp"
      },
      "execution_count": 38,
      "outputs": []
    },
    {
      "cell_type": "code",
      "source": [
        "sampleX = X.iloc[0]"
      ],
      "metadata": {
        "id": "v-Mup3NWAgDU"
      },
      "execution_count": 39,
      "outputs": []
    },
    {
      "cell_type": "code",
      "source": [],
      "metadata": {
        "id": "GENui4S4Ajac"
      },
      "execution_count": 42,
      "outputs": []
    },
    {
      "cell_type": "code",
      "source": [],
      "metadata": {
        "id": "Jgjq8-d9Acl0"
      },
      "execution_count": 43,
      "outputs": []
    },
    {
      "cell_type": "code",
      "source": [],
      "metadata": {
        "colab": {
          "base_uri": "https://localhost:8080/"
        },
        "id": "EzYjIlsDAwXW",
        "outputId": "565f5eee-16d5-4f94-cac7-c816aff59b1f"
      },
      "execution_count": 44,
      "outputs": [
        {
          "output_type": "execute_result",
          "data": {
            "text/plain": [
              "array([377587.21588683])"
            ]
          },
          "metadata": {},
          "execution_count": 44
        }
      ]
    },
    {
      "cell_type": "code",
      "source": [
        "type(sampleX)"
      ],
      "metadata": {
        "colab": {
          "base_uri": "https://localhost:8080/"
        },
        "id": "MSLRxZmjCXQt",
        "outputId": "bc5ed3f7-af54-4adc-e371-4f94c7232108"
      },
      "execution_count": 46,
      "outputs": [
        {
          "output_type": "execute_result",
          "data": {
            "text/plain": [
              "numpy.ndarray"
            ]
          },
          "metadata": {},
          "execution_count": 46
        }
      ]
    },
    {
      "cell_type": "code",
      "source": [
        "pipeline = joblib.load('/content/BasePriceModel.pkl')\n",
        "sampleX = np.array(sampleX).reshape((1,48))\n",
        "y_pred = pipeline.predict(sampleX)\n",
        "print(y_pred)"
      ],
      "metadata": {
        "colab": {
          "base_uri": "https://localhost:8080/"
        },
        "id": "IPs4GzLiCQlu",
        "outputId": "8f6e89b3-7bcd-48ed-fcf0-81e741542616"
      },
      "execution_count": 45,
      "outputs": [
        {
          "output_type": "stream",
          "name": "stdout",
          "text": [
            "[377587.21588683]\n"
          ]
        }
      ]
    }
  ]
}