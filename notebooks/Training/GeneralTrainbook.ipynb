{
  "nbformat": 4,
  "nbformat_minor": 0,
  "metadata": {
    "colab": {
      "provenance": []
    },
    "kernelspec": {
      "name": "python3",
      "display_name": "Python 3"
    },
    "language_info": {
      "name": "python"
    }
  },
  "cells": [
    {
      "cell_type": "code",
      "source": [
        "import matplotlib.pyplot as plt\n",
        "import numpy as np\n",
        "\n",
        "from sklearn import datasets, ensemble\n",
        "from sklearn.inspection import permutation_importance\n",
        "from sklearn.metrics import mean_squared_error\n",
        "from sklearn.model_selection import train_test_split\n",
        "from sklearn.feature_selection import SequentialFeatureSelector,SelectFromModel\n",
        "from sklearn.linear_model import LinearRegression,Ridge,Lasso #Ridge: Regularisasi L2 (cegah satu fitur untuk punya efek dominan), Lasso: regularisasi L1, regularisasi biasa\n",
        "from sklearn.tree import DecisionTreeRegressor #Tree model untuk regresi\n",
        "from sklearn.ensemble import RandomForestRegressor #Random forest\n",
        "from sklearn.metrics import mean_squared_error,r2_score"
      ],
      "metadata": {
        "id": "jrS08eqK8qu2"
      },
      "execution_count": 2,
      "outputs": []
    },
    {
      "cell_type": "markdown",
      "source": [
        "# Main objectives\n",
        "\n",
        "\n",
        "\n",
        "*   Feature selection if enabled\n",
        "*   Quickly load data, train average price prediction them on few types of models.\n",
        "*   Plot performance\n",
        "\n"
      ],
      "metadata": {
        "id": "kXQw93bH8JtU"
      }
    },
    {
      "cell_type": "code",
      "source": [
        "#sequential feature selection, seleksi feature yang berguna buat suatu model.\n",
        "def sequential_feature_selection(model,X_train,Y_train,X_test):\n",
        "    sfs = SequentialFeatureSelector(model,  direction='backward', scoring='r2', cv=5)\n",
        "    sfs.fit(X_train, Y_train)\n",
        "    X_train_selected = sfs.transform(X_train)\n",
        "    X_test_selected = sfs.transform(X_test)\n",
        "    return X_train_selected, X_test_selected"
      ],
      "metadata": {
        "id": "8y1Ty8l-FkvR"
      },
      "execution_count": null,
      "outputs": []
    },
    {
      "cell_type": "code",
      "source": [
        "#Fungsi untuk membuat data parameter Gradient Boost Regressor\n",
        "def GBParamBuilder(n_estimator=500, max_depth=4, min_sample_split=5, lr=0.01, loss=\"squared_error\"):\n",
        "  return params = {\n",
        "    \"n_estimators\": n_estimator,\n",
        "    \"max_depth\": max_depth,\n",
        "    \"min_samples_split\": min_sample_split,\n",
        "    \"learning_rate\": lr,\n",
        "    \"loss\": loss,\n",
        "}"
      ],
      "metadata": {
        "id": "-HoX0cHr8qRc"
      },
      "execution_count": null,
      "outputs": []
    },
    {
      "cell_type": "code",
      "source": [],
      "metadata": {
        "id": "faAk74G6GKI8"
      },
      "execution_count": null,
      "outputs": []
    },
    {
      "cell_type": "markdown",
      "source": [
        "## Trees & Ensemble"
      ],
      "metadata": {
        "id": "1Pt2JYHXIjDW"
      }
    },
    {
      "cell_type": "code",
      "execution_count": null,
      "metadata": {
        "id": "W_q-wcSc8Igy"
      },
      "outputs": [],
      "source": [
        "def GBRTrain(X, y, params ): #Gradient Boost Regressor\n",
        "  model = ensemble.GradientBoostingRegressor(**params)\n",
        "  model.fit(X,y)\n",
        "  return model\n",
        "def RFRTrain(X, y, n_estimator, max_depth ): #Random Forest Regressor\n",
        "  model = RandomForestRegressor(n_estimators=n_estimator, max_depth=max_depth)\n",
        "  model.fit(X,y)\n",
        "  return model\n",
        "def DTRTrain(X, y): #Decision Tree Regressor\n",
        "  model = DecisionTreeRegressor()\n",
        "  model.fit(X,y)\n",
        "  return model"
      ]
    },
    {
      "cell_type": "markdown",
      "source": [
        "## Regression"
      ],
      "metadata": {
        "id": "mVEZsufJSPrc"
      }
    },
    {
      "cell_type": "code",
      "source": [
        "def LTrain(X,y): #Lasso Regression #might require sfs\n",
        "  model = Lasso()\n",
        "  model.fit(X,y)\n",
        "  return model\n",
        "def RTrain(X,y): #Ridge Regression #might require sfs\n",
        "  model = Ridge()\n",
        "  model.fit(X,y)\n",
        "  return model\n",
        "def LRTrain(X,y): #Linear Regression, #might require sfs\n",
        "  model = LinearRegression()\n",
        "  model.fit(X,y)\n",
        "  return model"
      ],
      "metadata": {
        "id": "E8gvu0hVSR9R"
      },
      "execution_count": null,
      "outputs": []
    },
    {
      "cell_type": "markdown",
      "source": [
        "# General Training"
      ],
      "metadata": {
        "id": "xzTP70GsSaYB"
      }
    },
    {
      "cell_type": "code",
      "source": [
        "def TrainFitPredict(model,iterations,X, y,X_test ,y_test): #Takes in split dataset, returns test scores and train history.\n",
        "  model.fit(X,y)\n",
        "  test_score = np.zeros((iterations,), dtype=np.float64)\n",
        "  for i, y_pred in enumerate(model.staged_predict(X_test)):\n",
        "    test_score[i] = mean_squared_error(y_test, y_pred)\n",
        "  return test_score, model.train_score_"
      ],
      "metadata": {
        "id": "SsmpQexLOJXk"
      },
      "execution_count": 5,
      "outputs": []
    },
    {
      "cell_type": "code",
      "source": [
        "def PlotPerformance(test_scores, train_scores): #plots training + test by receiving test and training scores provided by TrainFitPredict\n",
        "  fig = plt.figure(figsize=(6, 6))\n",
        "  plt.subplot(1, 1, 1)\n",
        "  plt.title(\"MSE\")\n",
        "  plt.plot(\n",
        "      np.arange(len(train_scores)) + 1,\n",
        "      train_scores,\n",
        "      \"b-\",\n",
        "      label=\"Training Set Deviance\",\n",
        "  )\n",
        "  plt.plot(\n",
        "      np.arange(len(test_scores)) + 1, test_scores, \"r-\", label=\"Test Set Deviance\"\n",
        "  )\n",
        "  plt.legend(loc=\"upper right\")\n",
        "  plt.xlabel(\"Boosting Iterations\")\n",
        "  plt.ylabel(\"Deviance\")\n",
        "  fig.tight_layout()\n",
        "  plt.show()"
      ],
      "metadata": {
        "id": "CaVNoQCvPnsM"
      },
      "execution_count": 6,
      "outputs": []
    },
    {
      "cell_type": "code",
      "source": [
        "#DATA PREP\n",
        "RANDOM_STATE = 13\n",
        "diabetes = datasets.load_diabetes()\n",
        "X, y = diabetes.data, diabetes.target\n",
        "X_train, X_test, y_train, y_test = train_test_split(X, y, test_size=0.1, random_state=RANDOM_STATE)"
      ],
      "metadata": {
        "id": "ZEBv1g-iTDy0"
      },
      "execution_count": null,
      "outputs": []
    },
    {
      "cell_type": "code",
      "source": [
        "\n",
        "params = {\n",
        "    \"n_estimators\": 500,\n",
        "    \"max_depth\": 4,\n",
        "    \"min_samples_split\": 5,\n",
        "    \"learning_rate\": 0.01,\n",
        "    \"loss\": \"squared_error\",\n",
        "}\n",
        "reg = ensemble.GradientBoostingRegressor(**params)\n",
        "test_scores, train_scores = TrainFitPredict(reg, params['n_estimators'], X_train, y_train, X_test, y_test) #All datas are in ndarrays.\n",
        "PlotPerformance(test_scores, train_scores)"
      ],
      "metadata": {
        "colab": {
          "base_uri": "https://localhost:8080/",
          "height": 607
        },
        "id": "FFmKcNx7RGMd",
        "outputId": "17785cf7-1e2c-4bbc-b85d-d598784b5f5c"
      },
      "execution_count": 8,
      "outputs": [
        {
          "output_type": "display_data",
          "data": {
            "text/plain": [
              "<Figure size 600x600 with 1 Axes>"
            ],
            "image/png": "[encoded data removed]"
          },
          "metadata": {}
        }
      ]
    }
  ]
}