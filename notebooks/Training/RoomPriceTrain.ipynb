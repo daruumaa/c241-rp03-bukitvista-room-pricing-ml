{
  "nbformat": 4,
  "nbformat_minor": 0,
  "metadata": {
    "colab": {
      "provenance": []
    },
    "kernelspec": {
      "name": "python3",
      "display_name": "Python 3"
    },
    "language_info": {
      "name": "python"
    }
  },
  "cells": [
    {
      "cell_type": "code",
      "execution_count": 1,
      "metadata": {
        "id": "lQ-8MuLCrCv6"
      },
      "outputs": [],
      "source": [
        "import pandas as pd\n",
        "import numpy as np\n",
        "from sklearn.model_selection import train_test_split, GridSearchCV\n",
        "from sklearn.metrics import mean_absolute_error\n",
        "from sklearn.linear_model import LinearRegression\n",
        "from sklearn.tree import DecisionTreeRegressor\n",
        "from sklearn.ensemble import RandomForestRegressor, GradientBoostingRegressor\n",
        "from sklearn.svm import SVR\n",
        "from sklearn.preprocessing import StandardScaler, MinMaxScaler\n",
        "from xgboost import XGBRegressor\n",
        "from scipy import stats\n",
        "import matplotlib.pyplot as plt\n",
        "import seaborn as sns\n",
        "from sklearn.preprocessing import OneHotEncoder"
      ]
    },
    {
      "cell_type": "code",
      "source": [
        "def GetModelMAE(trained_model, X_test, y_test):\n",
        "  mae = mean_absolute_error(y_test, trained_model.predict(X_test))\n",
        "  return mae"
      ],
      "metadata": {
        "id": "rkR9kWBwrFZO"
      },
      "execution_count": 2,
      "outputs": []
    },
    {
      "cell_type": "code",
      "source": [
        "def drop_columns(df, columns_to_drop):\n",
        "    \"\"\"\n",
        "    Drop specified columns from a DataFrame.\n",
        "\n",
        "    Parameters:\n",
        "    df (pd.DataFrame): The DataFrame from which columns should be dropped.\n",
        "    columns_to_drop (list): A list of column names to be dropped.\n",
        "\n",
        "    Returns:\n",
        "    pd.DataFrame: The DataFrame with specified columns dropped.\n",
        "    \"\"\"\n",
        "    # Drop the specified columns\n",
        "    df_dropped = df.drop(columns=columns_to_drop)\n",
        "    return df_dropped"
      ],
      "metadata": {
        "id": "K0f1gt14r9XO"
      },
      "execution_count": 3,
      "outputs": []
    },
    {
      "cell_type": "markdown",
      "source": [
        "## Grab Dataset"
      ],
      "metadata": {
        "id": "kscH6wjWrz2t"
      }
    },
    {
      "cell_type": "code",
      "source": [
        "data = pd.read_csv('/content/FE_RoomPrice.csv')"
      ],
      "metadata": {
        "id": "NmNM0U8Zr1U1"
      },
      "execution_count": 54,
      "outputs": []
    },
    {
      "cell_type": "markdown",
      "source": [
        "## Drop useless columns"
      ],
      "metadata": {
        "id": "PXsFnK5ar-D1"
      }
    },
    {
      "cell_type": "code",
      "source": [
        "columns_to_drop = ['Unnamed: 0.1','Unnamed: 0','room_id',\t'unit_id',\t'booking_id','booking_check_in', 'created_at','booking_check_out', 'earnings_in_idr', 'total_earnings']\n",
        "data = drop_columns(data, columns_to_drop)"
      ],
      "metadata": {
        "id": "JkvrC3dLsACG"
      },
      "execution_count": 55,
      "outputs": []
    },
    {
      "cell_type": "markdown",
      "source": [
        "Convert boolean to int"
      ],
      "metadata": {
        "id": "hKSHakeD36Vb"
      }
    },
    {
      "cell_type": "code",
      "source": [
        "data['contain_national_holiday'] = data['contain_national_holiday'].astype(float)"
      ],
      "metadata": {
        "id": "nx0puuTU3726"
      },
      "execution_count": 56,
      "outputs": []
    },
    {
      "cell_type": "markdown",
      "source": [
        "## Obtain Target Label"
      ],
      "metadata": {
        "id": "48ixb3CSrUzm"
      }
    },
    {
      "cell_type": "code",
      "source": [
        "earnings_per_day = data['earnings_per_day']"
      ],
      "metadata": {
        "id": "9fW87e1lrr99"
      },
      "execution_count": 57,
      "outputs": []
    },
    {
      "cell_type": "code",
      "source": [
        "data = data.drop(columns=['earnings_per_day'])"
      ],
      "metadata": {
        "id": "sjG2BhHJ4pzy"
      },
      "execution_count": 58,
      "outputs": []
    },
    {
      "cell_type": "markdown",
      "source": [
        "## Preprocessing : One hot encode and standard scaling"
      ],
      "metadata": {
        "id": "CfCkvKcorfRd"
      }
    },
    {
      "cell_type": "code",
      "source": [
        "categorical_cols = ['month']\n",
        "onehot_encoder = OneHotEncoder(sparse_output=False)\n",
        "categorical_encoded = onehot_encoder.fit_transform(data[categorical_cols])\n",
        "\n",
        "categorical_encoded_df = pd.DataFrame(categorical_encoded, columns=onehot_encoder.get_feature_names_out(categorical_cols))"
      ],
      "metadata": {
        "id": "XkvWHwWzvAqM"
      },
      "execution_count": 59,
      "outputs": []
    },
    {
      "cell_type": "code",
      "source": [
        "numerical_cols = [ 'rating', 'review_sentiment_score', 'communication', 'cleanliness', 'accuracy', 'stay_duration', 'booking_day_of_week', 'booking_lead_time', 'price_fluctuation', 'total_review_score']\n",
        "scaler = StandardScaler()\n",
        "numerical_scaled = scaler.fit_transform(data[numerical_cols])\n",
        "\n",
        "numerical_scaled_df = pd.DataFrame(numerical_scaled, columns=numerical_cols)"
      ],
      "metadata": {
        "id": "rtsLaFAmu1-N"
      },
      "execution_count": 60,
      "outputs": []
    },
    {
      "cell_type": "code",
      "source": [
        "df_final = pd.concat([numerical_scaled_df, categorical_encoded_df, data['contain_national_holiday'],data['average_baseline_price'], earnings_per_day.reset_index(drop=True)], axis=1)"
      ],
      "metadata": {
        "id": "qqabTQWLvAP1"
      },
      "execution_count": 69,
      "outputs": []
    },
    {
      "cell_type": "code",
      "source": [
        "df_final.info()"
      ],
      "metadata": {
        "colab": {
          "base_uri": "https://localhost:8080/"
        },
        "id": "CeQMqpkR7OHx",
        "outputId": "2fde8e32-4a55-472c-90e8-9c899061b412"
      },
      "execution_count": 70,
      "outputs": [
        {
          "output_type": "stream",
          "name": "stdout",
          "text": [
            "<class 'pandas.core.frame.DataFrame'>\n",
            "RangeIndex: 29766 entries, 0 to 29765\n",
            "Data columns (total 25 columns):\n",
            " #   Column                    Non-Null Count  Dtype  \n",
            "---  ------                    --------------  -----  \n",
            " 0   rating                    29766 non-null  float64\n",
            " 1   review_sentiment_score    29766 non-null  float64\n",
            " 2   communication             29766 non-null  float64\n",
            " 3   cleanliness               29766 non-null  float64\n",
            " 4   accuracy                  29766 non-null  float64\n",
            " 5   stay_duration             29766 non-null  float64\n",
            " 6   booking_day_of_week       29766 non-null  float64\n",
            " 7   booking_lead_time         29766 non-null  float64\n",
            " 8   price_fluctuation         29766 non-null  float64\n",
            " 9   total_review_score        29766 non-null  float64\n",
            " 10  month_april               29766 non-null  float64\n",
            " 11  month_august              29766 non-null  float64\n",
            " 12  month_december            29766 non-null  float64\n",
            " 13  month_february            29766 non-null  float64\n",
            " 14  month_january             29766 non-null  float64\n",
            " 15  month_july                29766 non-null  float64\n",
            " 16  month_june                29766 non-null  float64\n",
            " 17  month_march               29766 non-null  float64\n",
            " 18  month_may                 29766 non-null  float64\n",
            " 19  month_november            29766 non-null  float64\n",
            " 20  month_october             29766 non-null  float64\n",
            " 21  month_september           29766 non-null  float64\n",
            " 22  contain_national_holiday  29766 non-null  float64\n",
            " 23  average_baseline_price    29766 non-null  float64\n",
            " 24  earnings_per_day          29766 non-null  float64\n",
            "dtypes: float64(25)\n",
            "memory usage: 5.7 MB\n"
          ]
        }
      ]
    },
    {
      "cell_type": "markdown",
      "source": [
        "## Split Dataset"
      ],
      "metadata": {
        "id": "slx46CkyrjUV"
      }
    },
    {
      "cell_type": "code",
      "source": [
        "X = df_final.drop(columns=['earnings_per_day'])\n",
        "y = df_final['earnings_per_day']"
      ],
      "metadata": {
        "id": "dgsMEIxU43M5"
      },
      "execution_count": 71,
      "outputs": []
    },
    {
      "cell_type": "markdown",
      "source": [
        "## Training"
      ],
      "metadata": {
        "id": "g8faooUkrXem"
      }
    },
    {
      "cell_type": "markdown",
      "source": [
        "### Parameters"
      ],
      "metadata": {
        "id": "U9nKxVK4raPd"
      }
    },
    {
      "cell_type": "code",
      "source": [
        "TEST_RATIO = 0.1\n",
        "RANDOM_STATE = 1234\n",
        "params = {\n",
        "    \"n_estimators\": 1000,\n",
        "    \"max_depth\": 64,\n",
        "    \"min_samples_split\": 5,\n",
        "    \"learning_rate\": 0.01,\n",
        "    \"loss\": \"absolute_error\",\n",
        "}"
      ],
      "metadata": {
        "id": "spS1n6QX46mZ"
      },
      "execution_count": 72,
      "outputs": []
    },
    {
      "cell_type": "code",
      "source": [
        "X_train, X_test, y_train, y_test = train_test_split(X, y, test_size=TEST_RATIO, random_state=42)"
      ],
      "metadata": {
        "id": "Yooa3y6g495K"
      },
      "execution_count": 73,
      "outputs": []
    },
    {
      "cell_type": "markdown",
      "source": [
        "### Training script"
      ],
      "metadata": {
        "id": "YSpumPeUrcYk"
      }
    },
    {
      "cell_type": "code",
      "source": [
        "LR = LinearRegression()\n",
        "DTR = DecisionTreeRegressor(random_state=RANDOM_STATE)\n",
        "RFR = RandomForestRegressor(n_estimators=params['n_estimators'],max_depth=params[\"max_depth\"],random_state=RANDOM_STATE)\n",
        "XGB = XGBRegressor(n_estimators=params['n_estimators'], max_depth=params[\"max_depth\"], learning_rate=params['learning_rate'])\n",
        "ModelsList = [\n",
        "              XGB,\n",
        "              RFR,\n",
        "              DTR,\n",
        "              LR,]\n",
        "modelMAEs = []\n",
        "for model in ModelsList:\n",
        "  model.fit(X_train,y_train)\n",
        "  modelMAEs.append((model.__class__.__name__, GetModelMAE(model, X_test, y_test)))\n",
        "print(modelMAEs)"
      ],
      "metadata": {
        "colab": {
          "base_uri": "https://localhost:8080/"
        },
        "id": "NVmGbJKf5Bha",
        "outputId": "0e6b0b6c-0892-4b80-c06e-761f13ea0c02"
      },
      "execution_count": 75,
      "outputs": [
        {
          "output_type": "stream",
          "name": "stdout",
          "text": [
            "[('XGBRegressor', 10236.977416606775), ('RandomForestRegressor', 4499.649541772381), ('DecisionTreeRegressor', 7758.641172283309), ('LinearRegression', 1.2704052420055852e-06)]\n"
          ]
        }
      ]
    },
    {
      "cell_type": "code",
      "source": [
        "model = RandomForestRegressor(n_estimators=1,max_depth=params[\"max_depth\"],random_state=RANDOM_STATE)\n",
        "mae_threshold = 5000\n",
        "max_estimators = params['n_estimators']\n",
        "# Custom training loop with early stopping\n",
        "for i in range(1, params['n_estimators'] + 1):\n",
        "    model.n_estimators = i\n",
        "    model.fit(X_train, y_train)\n",
        "\n",
        "    # Predict on validation set\n",
        "    y_pred = model.predict(X_test)\n",
        "\n",
        "    # Calculate validation MAE\n",
        "    val_mae = mean_absolute_error(y_test, y_pred)\n",
        "    print(f\"Iteration {i}, Validation MAE: {val_mae:.4f}\")\n",
        "\n",
        "    # Check if validation MAE is below the threshold\n",
        "    if val_mae < mae_threshold:\n",
        "        print(f\"Early stopping at iteration {i} with Validation MAE: {val_mae:.4f}\")\n",
        "        break\n"
      ],
      "metadata": {
        "colab": {
          "base_uri": "https://localhost:8080/"
        },
        "id": "vhWKQiCI6ozp",
        "outputId": "084404cf-24c8-41fd-f002-eab9b0fcb460"
      },
      "execution_count": 76,
      "outputs": [
        {
          "output_type": "stream",
          "name": "stdout",
          "text": [
            "Iteration 1, Validation MAE: 11664.5013\n",
            "Iteration 2, Validation MAE: 8853.9852\n",
            "Iteration 3, Validation MAE: 8048.4459\n",
            "Iteration 4, Validation MAE: 7800.0353\n",
            "Iteration 5, Validation MAE: 7256.0694\n",
            "Iteration 6, Validation MAE: 6689.7764\n",
            "Iteration 7, Validation MAE: 6457.9043\n",
            "Iteration 8, Validation MAE: 6373.8430\n",
            "Iteration 9, Validation MAE: 6076.8090\n",
            "Iteration 10, Validation MAE: 5980.2931\n",
            "Iteration 11, Validation MAE: 5837.8432\n",
            "Iteration 12, Validation MAE: 5741.9000\n",
            "Iteration 13, Validation MAE: 5643.7416\n",
            "Iteration 14, Validation MAE: 5638.8780\n",
            "Iteration 15, Validation MAE: 5453.7303\n",
            "Iteration 16, Validation MAE: 5337.3444\n",
            "Iteration 17, Validation MAE: 5390.2860\n",
            "Iteration 18, Validation MAE: 5281.2587\n",
            "Iteration 19, Validation MAE: 5222.7343\n",
            "Iteration 20, Validation MAE: 5134.5171\n",
            "Iteration 21, Validation MAE: 5080.6279\n",
            "Iteration 22, Validation MAE: 5080.6138\n",
            "Iteration 23, Validation MAE: 5052.2900\n",
            "Iteration 24, Validation MAE: 5007.8254\n",
            "Iteration 25, Validation MAE: 4965.0268\n",
            "Early stopping at iteration 25 with Validation MAE: 4965.0268\n"
          ]
        }
      ]
    },
    {
      "cell_type": "markdown",
      "source": [
        "### Save Model"
      ],
      "metadata": {
        "id": "eVLFwe7treIM"
      }
    },
    {
      "cell_type": "code",
      "source": [
        "import joblib"
      ],
      "metadata": {
        "id": "VJYFWzprAEnx"
      },
      "execution_count": 77,
      "outputs": []
    },
    {
      "cell_type": "code",
      "source": [
        "joblib.dump(model, 'random_forest_model.pkl')"
      ],
      "metadata": {
        "colab": {
          "base_uri": "https://localhost:8080/"
        },
        "id": "93IuLPvK5HVp",
        "outputId": "20eb613a-e4dd-49ad-c64a-32ed70ce517d"
      },
      "execution_count": 78,
      "outputs": [
        {
          "output_type": "execute_result",
          "data": {
            "text/plain": [
              "['random_forest_model.pkl']"
            ]
          },
          "metadata": {},
          "execution_count": 78
        }
      ]
    }
  ]
}