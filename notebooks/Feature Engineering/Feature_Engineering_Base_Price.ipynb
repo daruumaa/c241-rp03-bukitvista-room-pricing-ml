{
  "nbformat": 4,
  "nbformat_minor": 0,
  "metadata": {
    "colab": {
      "provenance": []
    },
    "kernelspec": {
      "name": "python3",
      "display_name": "Python 3"
    },
    "language_info": {
      "name": "python"
    }
  },
  "cells": [
    {
      "cell_type": "code",
      "execution_count": 1,
      "metadata": {
        "id": "tb3aLurtyNvQ"
      },
      "outputs": [],
      "source": [
        "import numpy as np\n",
        "import pandas as pd"
      ]
    },
    {
      "cell_type": "markdown",
      "source": [
        "Data required to run this file:\n",
        "- Cleaned base price data\n",
        "- area_names.csv\n",
        "- property_desings.csv\n",
        "- property_types.csv"
      ],
      "metadata": {
        "id": "YMSE1DMMFeyQ"
      }
    },
    {
      "cell_type": "code",
      "source": [
        "data = pd.read_csv('/content/CLEAN_RoomBasePrice_11_06_2024.csv')"
      ],
      "metadata": {
        "id": "0GG7kx-zy-ap"
      },
      "execution_count": 41,
      "outputs": []
    },
    {
      "cell_type": "code",
      "source": [
        "def convert_column_with_reference(df, reference, source_column, source_reference, target_column):\n",
        "  conversion_dict = dict(zip(reference[source_reference], reference[target_column]))\n",
        "  if pd.api.types.is_float_dtype(df[source_column]):\n",
        "    df[source_column] = df[source_column].astype(int).astype(str)\n",
        "  df[target_column] = df[source_column].astype(str).apply(lambda x: conversion_dict.get(x))\n",
        "  df = df.drop(columns=[source_column])\n",
        "  return df"
      ],
      "metadata": {
        "id": "mAcWOscdHI6e"
      },
      "execution_count": 40,
      "outputs": []
    },
    {
      "cell_type": "markdown",
      "source": [
        "## Convert area_id into area_names"
      ],
      "metadata": {
        "id": "0JfJypoME-hW"
      }
    },
    {
      "cell_type": "code",
      "source": [
        "area_names = pd.read_csv('/content/area_names.csv')"
      ],
      "metadata": {
        "id": "gjUT6ny4FBTX"
      },
      "execution_count": 42,
      "outputs": []
    },
    {
      "cell_type": "code",
      "source": [
        "data = convert_column_with_reference(data, area_names, 'area_id','area_id', 'area_name')"
      ],
      "metadata": {
        "id": "XUZDb-ldHnXm"
      },
      "execution_count": 43,
      "outputs": []
    },
    {
      "cell_type": "markdown",
      "source": [
        "## Save dataset"
      ],
      "metadata": {
        "id": "Xtu0reUHJ7K_"
      }
    },
    {
      "cell_type": "code",
      "source": [
        "filepath=  'FE_RoomBasePrice.csv'\n",
        "data.to_csv(filepath)"
      ],
      "metadata": {
        "id": "_eWKSM8DJ9jw"
      },
      "execution_count": 49,
      "outputs": []
    }
  ]
}