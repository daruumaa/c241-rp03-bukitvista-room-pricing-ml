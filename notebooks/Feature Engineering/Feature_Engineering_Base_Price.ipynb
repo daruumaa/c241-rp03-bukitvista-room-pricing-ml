{
  "nbformat": 4,
  "nbformat_minor": 0,
  "metadata": {
    "colab": {
      "provenance": []
    },
    "kernelspec": {
      "name": "python3",
      "display_name": "Python 3"
    },
    "language_info": {
      "name": "python"
    }
  },
  "cells": [
    {
      "cell_type": "code",
      "execution_count": 10,
      "metadata": {
        "id": "tb3aLurtyNvQ"
      },
      "outputs": [],
      "source": [
        "import numpy as np\n",
        "import pandas as pd\n",
        "from sklearn.impute import KNNImputer\n",
        "from scipy import stats"
      ]
    },
    {
      "cell_type": "markdown",
      "source": [
        "Data required to run this file:\n",
        "- Cleaned base price data\n",
        "- area_names.csv\n",
        "- property_desings.csv\n",
        "- property_types.csv"
      ],
      "metadata": {
        "id": "YMSE1DMMFeyQ"
      }
    },
    {
      "cell_type": "code",
      "source": [
        "data = pd.read_csv('/content/CLEAN_RoomBasePrice_11_06_2024.csv')"
      ],
      "metadata": {
        "id": "0GG7kx-zy-ap"
      },
      "execution_count": 2,
      "outputs": []
    },
    {
      "cell_type": "code",
      "source": [
        "def convert_column_with_reference(df, reference, source_column, source_reference, target_column):\n",
        "  conversion_dict = dict(zip(reference[source_reference], reference[target_column]))\n",
        "  if pd.api.types.is_float_dtype(df[source_column]):\n",
        "    df[source_column] = df[source_column].astype(int).astype(str)\n",
        "  df[target_column] = df[source_column].astype(str).apply(lambda x: conversion_dict.get(x))\n",
        "  df = df.drop(columns=[source_column])\n",
        "  return df"
      ],
      "metadata": {
        "id": "mAcWOscdHI6e"
      },
      "execution_count": 4,
      "outputs": []
    },
    {
      "cell_type": "markdown",
      "source": [
        "## Convert area_id into area_names"
      ],
      "metadata": {
        "id": "0JfJypoME-hW"
      }
    },
    {
      "cell_type": "code",
      "source": [
        "area_names = pd.read_csv('/content/area_names.csv')"
      ],
      "metadata": {
        "id": "gjUT6ny4FBTX"
      },
      "execution_count": 6,
      "outputs": []
    },
    {
      "cell_type": "code",
      "source": [
        "data = convert_column_with_reference(data, area_names, 'area_id','area_id', 'area_name')"
      ],
      "metadata": {
        "id": "XUZDb-ldHnXm"
      },
      "execution_count": 7,
      "outputs": []
    },
    {
      "cell_type": "markdown",
      "source": [
        "## Series of Feature Engineering activities\n"
      ],
      "metadata": {
        "id": "heMd-kDtYneD"
      }
    },
    {
      "cell_type": "code",
      "source": [
        "data['total_fas'] = data[['ac', 'balcony', 'beachfront', 'breakfast', 'building_staff',\n",
        "                             'cable_tv', 'essentials', 'garden', 'gym', 'hair_dryer',\n",
        "                             'hanger', 'heating', 'hot_water', 'kitchen', 'linens',\n",
        "                             'lock', 'luggage_drop_off', 'parking', 'pool',\n",
        "                             'private_entrance', 'shampoo', 'tv', 'washer', 'wifi',\n",
        "                             'workspace']].sum(axis=1)\n",
        "data['ratio_bedroom_bathroom'] = data['bedroom'] / data['bathroom']\n",
        "data['ratio_bedroom_cap'] = data['capacity'] / data['bedroom']\n",
        "data['avg_price_distance_to_coast'] = data['average_baseline_price'] / data['distance_to_coastline']\n",
        "data['avg_price_distance_to_airport'] = data['average_baseline_price'] / data['area_distance_to_airport']\n",
        "data['avg_price_bedroom'] = data['average_baseline_price'] / data['bedroom']\n",
        "data['avg_price_beds'] = data['average_baseline_price'] / data['beds']\n",
        "data['avg_price_bathroom'] = data['average_baseline_price'] / data['bathroom']\n",
        "data['avg_price_total_fas'] = data['average_baseline_price'] / data['total_fas']"
      ],
      "metadata": {
        "id": "dGaZvcReYmQd"
      },
      "execution_count": null,
      "outputs": []
    },
    {
      "cell_type": "code",
      "source": [
        "data.info()"
      ],
      "metadata": {
        "colab": {
          "base_uri": "https://localhost:8080/"
        },
        "id": "2e4DSgUnaUFD",
        "outputId": "1b5ced92-db56-474f-fd09-393f4d14670a"
      },
      "execution_count": 8,
      "outputs": [
        {
          "output_type": "stream",
          "name": "stdout",
          "text": [
            "<class 'pandas.core.frame.DataFrame'>\n",
            "RangeIndex: 142 entries, 0 to 141\n",
            "Data columns (total 42 columns):\n",
            " #   Column                    Non-Null Count  Dtype  \n",
            "---  ------                    --------------  -----  \n",
            " 0   Unnamed: 0                142 non-null    int64  \n",
            " 1   room_id                   142 non-null    float64\n",
            " 2   unit_type_name            142 non-null    object \n",
            " 3   property_design           142 non-null    float64\n",
            " 4   property_type             142 non-null    float64\n",
            " 5   number_of_bookings        142 non-null    int64  \n",
            " 6   bedroom                   142 non-null    float64\n",
            " 7   bathroom                  142 non-null    float64\n",
            " 8   beds                      142 non-null    float64\n",
            " 9   capacity                  142 non-null    float64\n",
            " 10  ac                        142 non-null    float64\n",
            " 11  balcony                   142 non-null    float64\n",
            " 12  beachfront                142 non-null    float64\n",
            " 13  breakfast                 142 non-null    float64\n",
            " 14  building_staff            142 non-null    float64\n",
            " 15  cable_tv                  142 non-null    float64\n",
            " 16  essentials                142 non-null    float64\n",
            " 17  garden                    142 non-null    float64\n",
            " 18  gym                       142 non-null    float64\n",
            " 19  hair_dryer                142 non-null    float64\n",
            " 20  hanger                    142 non-null    float64\n",
            " 21  heating                   142 non-null    float64\n",
            " 22  hot_water                 142 non-null    float64\n",
            " 23  kitchen                   142 non-null    float64\n",
            " 24  linens                    142 non-null    float64\n",
            " 25  lock                      142 non-null    float64\n",
            " 26  luggage_drop_off          142 non-null    float64\n",
            " 27  parking                   142 non-null    float64\n",
            " 28  pool                      142 non-null    float64\n",
            " 29  private_entrance          142 non-null    float64\n",
            " 30  shampoo                   142 non-null    float64\n",
            " 31  tv                        142 non-null    float64\n",
            " 32  washer                    142 non-null    float64\n",
            " 33  wifi                      142 non-null    float64\n",
            " 34  workspace                 142 non-null    float64\n",
            " 35  lat                       142 non-null    float64\n",
            " 36  lng                       142 non-null    float64\n",
            " 37  distance_to_coastline     142 non-null    float64\n",
            " 38  area_distance_to_airport  142 non-null    float64\n",
            " 39  property_bedrooms         142 non-null    float64\n",
            " 40  average_baseline_price    142 non-null    float64\n",
            " 41  area_name                 142 non-null    object \n",
            "dtypes: float64(38), int64(2), object(2)\n",
            "memory usage: 46.7+ KB\n"
          ]
        }
      ]
    },
    {
      "cell_type": "markdown",
      "source": [
        "## Remove Outliers"
      ],
      "metadata": {
        "id": "L3GIL4ZEaQ5b"
      }
    },
    {
      "cell_type": "code",
      "source": [
        "numerical_cols = ['bedroom','bathroom','beds','capacity','lat','lng','distance_to_coastline','area_distance_to_airport','average_baseline_price']\n",
        "z_scores = stats.zscore(data[numerical_cols])\n",
        "threshold = 5\n",
        "outlier_mask = (abs(z_scores) > threshold).any(axis=1)\n",
        "fe_data = data[~outlier_mask]"
      ],
      "metadata": {
        "id": "kpoPxbZHaSjW"
      },
      "execution_count": 11,
      "outputs": []
    },
    {
      "cell_type": "markdown",
      "source": [
        "## Save dataset"
      ],
      "metadata": {
        "id": "Xtu0reUHJ7K_"
      }
    },
    {
      "cell_type": "code",
      "source": [
        "filepath=  'FE_RoomBasePrice.csv'\n",
        "data.to_csv(filepath)"
      ],
      "metadata": {
        "id": "_eWKSM8DJ9jw"
      },
      "execution_count": 12,
      "outputs": []
    }
  ]
}