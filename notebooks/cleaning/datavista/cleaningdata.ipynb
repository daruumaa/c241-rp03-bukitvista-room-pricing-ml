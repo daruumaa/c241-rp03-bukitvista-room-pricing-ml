{
  "cells": [
    {
      "cell_type": "markdown",
      "metadata": {
        "id": "qUVRELTPPo69"
      },
      "source": [
        "# **Data Cleaning Main Datavista and Area Dataset**"
      ]
    },
    {
      "cell_type": "markdown",
      "metadata": {
        "id": "xPUL5ts2QKYy"
      },
      "source": [
        "This is the initial stage of developing a room pricing model, where data reading and cleaning will be carried out from the main datavista and also the area dataset. First we can import all used packages and libraries"
      ]
    },
    {
      "cell_type": "code",
      "execution_count": 118,
      "metadata": {
        "id": "3F_fLOsKQFnz"
      },
      "outputs": [],
      "source": [
        "import pandas as pd\n",
        "import numpy as np\n",
        "import matplotlib.pyplot as plt\n",
        "from tabulate import tabulate\n",
        "import seaborn as sns\n",
        "import warnings\n",
        "from sklearn.model_selection import train_test_split\n",
        "from sklearn.linear_model import LinearRegression\n",
        "from sklearn.impute import SimpleImputer\n",
        "from sklearn.model_selection import cross_val_score"
      ]
    },
    {
      "cell_type": "code",
      "execution_count": 119,
      "metadata": {
        "id": "Ji86C0zRRrS6"
      },
      "outputs": [],
      "source": [
        "warnings.filterwarnings(\"ignore\")\n",
        "warnings.filterwarnings(\"ignore\",category=FutureWarning)"
      ]
    },
    {
      "cell_type": "markdown",
      "metadata": {
        "id": "tA_HHb-0Urtv"
      },
      "source": [
        "### **Data Wrangling**"
      ]
    },
    {
      "cell_type": "markdown",
      "metadata": {
        "id": "aG7PEaH4U0J7"
      },
      "source": [
        "**Gathering Data**\n",
        "\n"
      ]
    },
    {
      "cell_type": "markdown",
      "metadata": {
        "id": "YRP_M6ouU9hQ"
      },
      "source": [
        "In this stage, the datasets, namely datavista and area are collected and then we will read the datasets using pandas library."
      ]
    },
    {
      "cell_type": "code",
      "execution_count": 120,
      "metadata": {
        "colab": {
          "base_uri": "https://localhost:8080/",
          "height": 394
        },
        "id": "AXdnhH2jU6jM",
        "outputId": "3480ed4d-7ba9-46d7-837d-e1ff7d066d13"
      },
      "outputs": [
        {
          "output_type": "execute_result",
          "data": {
            "text/plain": [
              "  property_id unit_id  average_baseline_price  bedroom  bathroom  beds  \\\n",
              "0      PR0017  UN0026            3.825851e+05        1       1.0   1.0   \n",
              "1      PR0045  UN1518            4.847391e+05        1       1.0   1.0   \n",
              "2      PR0051  UN1471            7.079566e+05        3       2.0   3.0   \n",
              "3      PR0055  UN1417            7.403196e+05        3       2.0   3.0   \n",
              "4      PR0065  UN1392            2.154133e+06        8       8.0   8.0   \n",
              "\n",
              "   capacity   ac  balcony  beachfront  ...  wifi  workspace       lat  \\\n",
              "0       2.0  1.0      1.0         0.0  ...   1.0        1.0 -8.656211   \n",
              "1       2.0  1.0      0.0         0.0  ...   0.0        1.0 -8.698719   \n",
              "2       6.0  1.0      0.0         0.0  ...   1.0        1.0       NaN   \n",
              "3       7.0  1.0      1.0         0.0  ...   0.0        1.0 -7.831766   \n",
              "4       6.0  1.0      0.0         0.0  ...   1.0        1.0       NaN   \n",
              "\n",
              "          lng         property_name  \\\n",
              "0  115.132867  Double D Guest House   \n",
              "1  115.163846             Melin Inn   \n",
              "2         NaN           Omah JeTeHa   \n",
              "3  110.380636       Griya Wirosaban   \n",
              "4         NaN            Pendopo 26   \n",
              "\n",
              "                                  property_direction  property_type  \\\n",
              "0  Double''D Guest House, Jalan Nelayan, Canggu, ...            4.0   \n",
              "1          Melin Inn, Legian, Kabupaten Badung, Bali            3.0   \n",
              "2  Jl. Sorowajan Baru, perum Jogja Town House 3 n...            1.0   \n",
              "3  Jl. Ki Ageng Pemanahan, Kragilan, Tamanan, Kec...            1.0   \n",
              "4                                                NaN            2.0   \n",
              "\n",
              "   property_design  area_id  distance_to_coastline  \n",
              "0              0.0    A0003                    NaN  \n",
              "1              0.0    A0015                    NaN  \n",
              "2              0.0    A0044                    NaN  \n",
              "3              0.0    A0001                    NaN  \n",
              "4              0.0    A0001                    NaN  \n",
              "\n",
              "[5 rows x 40 columns]"
            ],
            "text/html": [
              "\n",
              "  <div id=\"df-d3a01af1-ac77-4026-8af3-4e9facfbbfff\" class=\"colab-df-container\">\n",
              "    <div>\n",
              "<style scoped>\n",
              "    .dataframe tbody tr th:only-of-type {\n",
              "        vertical-align: middle;\n",
              "    }\n",
              "\n",
              "    .dataframe tbody tr th {\n",
              "        vertical-align: top;\n",
              "    }\n",
              "\n",
              "    .dataframe thead th {\n",
              "        text-align: right;\n",
              "    }\n",
              "</style>\n",
              "<table border=\"1\" class=\"dataframe\">\n",
              "  <thead>\n",
              "    <tr style=\"text-align: right;\">\n",
              "      <th></th>\n",
              "      <th>property_id</th>\n",
              "      <th>unit_id</th>\n",
              "      <th>average_baseline_price</th>\n",
              "      <th>bedroom</th>\n",
              "      <th>bathroom</th>\n",
              "      <th>beds</th>\n",
              "      <th>capacity</th>\n",
              "      <th>ac</th>\n",
              "      <th>balcony</th>\n",
              "      <th>beachfront</th>\n",
              "      <th>...</th>\n",
              "      <th>wifi</th>\n",
              "      <th>workspace</th>\n",
              "      <th>lat</th>\n",
              "      <th>lng</th>\n",
              "      <th>property_name</th>\n",
              "      <th>property_direction</th>\n",
              "      <th>property_type</th>\n",
              "      <th>property_design</th>\n",
              "      <th>area_id</th>\n",
              "      <th>distance_to_coastline</th>\n",
              "    </tr>\n",
              "  </thead>\n",
              "  <tbody>\n",
              "    <tr>\n",
              "      <th>0</th>\n",
              "      <td>PR0017</td>\n",
              "      <td>UN0026</td>\n",
              "      <td>3.825851e+05</td>\n",
              "      <td>1</td>\n",
              "      <td>1.0</td>\n",
              "      <td>1.0</td>\n",
              "      <td>2.0</td>\n",
              "      <td>1.0</td>\n",
              "      <td>1.0</td>\n",
              "      <td>0.0</td>\n",
              "      <td>...</td>\n",
              "      <td>1.0</td>\n",
              "      <td>1.0</td>\n",
              "      <td>-8.656211</td>\n",
              "      <td>115.132867</td>\n",
              "      <td>Double D Guest House</td>\n",
              "      <td>Double''D Guest House, Jalan Nelayan, Canggu, ...</td>\n",
              "      <td>4.0</td>\n",
              "      <td>0.0</td>\n",
              "      <td>A0003</td>\n",
              "      <td>NaN</td>\n",
              "    </tr>\n",
              "    <tr>\n",
              "      <th>1</th>\n",
              "      <td>PR0045</td>\n",
              "      <td>UN1518</td>\n",
              "      <td>4.847391e+05</td>\n",
              "      <td>1</td>\n",
              "      <td>1.0</td>\n",
              "      <td>1.0</td>\n",
              "      <td>2.0</td>\n",
              "      <td>1.0</td>\n",
              "      <td>0.0</td>\n",
              "      <td>0.0</td>\n",
              "      <td>...</td>\n",
              "      <td>0.0</td>\n",
              "      <td>1.0</td>\n",
              "      <td>-8.698719</td>\n",
              "      <td>115.163846</td>\n",
              "      <td>Melin Inn</td>\n",
              "      <td>Melin Inn, Legian, Kabupaten Badung, Bali</td>\n",
              "      <td>3.0</td>\n",
              "      <td>0.0</td>\n",
              "      <td>A0015</td>\n",
              "      <td>NaN</td>\n",
              "    </tr>\n",
              "    <tr>\n",
              "      <th>2</th>\n",
              "      <td>PR0051</td>\n",
              "      <td>UN1471</td>\n",
              "      <td>7.079566e+05</td>\n",
              "      <td>3</td>\n",
              "      <td>2.0</td>\n",
              "      <td>3.0</td>\n",
              "      <td>6.0</td>\n",
              "      <td>1.0</td>\n",
              "      <td>0.0</td>\n",
              "      <td>0.0</td>\n",
              "      <td>...</td>\n",
              "      <td>1.0</td>\n",
              "      <td>1.0</td>\n",
              "      <td>NaN</td>\n",
              "      <td>NaN</td>\n",
              "      <td>Omah JeTeHa</td>\n",
              "      <td>Jl. Sorowajan Baru, perum Jogja Town House 3 n...</td>\n",
              "      <td>1.0</td>\n",
              "      <td>0.0</td>\n",
              "      <td>A0044</td>\n",
              "      <td>NaN</td>\n",
              "    </tr>\n",
              "    <tr>\n",
              "      <th>3</th>\n",
              "      <td>PR0055</td>\n",
              "      <td>UN1417</td>\n",
              "      <td>7.403196e+05</td>\n",
              "      <td>3</td>\n",
              "      <td>2.0</td>\n",
              "      <td>3.0</td>\n",
              "      <td>7.0</td>\n",
              "      <td>1.0</td>\n",
              "      <td>1.0</td>\n",
              "      <td>0.0</td>\n",
              "      <td>...</td>\n",
              "      <td>0.0</td>\n",
              "      <td>1.0</td>\n",
              "      <td>-7.831766</td>\n",
              "      <td>110.380636</td>\n",
              "      <td>Griya Wirosaban</td>\n",
              "      <td>Jl. Ki Ageng Pemanahan, Kragilan, Tamanan, Kec...</td>\n",
              "      <td>1.0</td>\n",
              "      <td>0.0</td>\n",
              "      <td>A0001</td>\n",
              "      <td>NaN</td>\n",
              "    </tr>\n",
              "    <tr>\n",
              "      <th>4</th>\n",
              "      <td>PR0065</td>\n",
              "      <td>UN1392</td>\n",
              "      <td>2.154133e+06</td>\n",
              "      <td>8</td>\n",
              "      <td>8.0</td>\n",
              "      <td>8.0</td>\n",
              "      <td>6.0</td>\n",
              "      <td>1.0</td>\n",
              "      <td>0.0</td>\n",
              "      <td>0.0</td>\n",
              "      <td>...</td>\n",
              "      <td>1.0</td>\n",
              "      <td>1.0</td>\n",
              "      <td>NaN</td>\n",
              "      <td>NaN</td>\n",
              "      <td>Pendopo 26</td>\n",
              "      <td>NaN</td>\n",
              "      <td>2.0</td>\n",
              "      <td>0.0</td>\n",
              "      <td>A0001</td>\n",
              "      <td>NaN</td>\n",
              "    </tr>\n",
              "  </tbody>\n",
              "</table>\n",
              "<p>5 rows × 40 columns</p>\n",
              "</div>\n",
              "    <div class=\"colab-df-buttons\">\n",
              "\n",
              "  <div class=\"colab-df-container\">\n",
              "    <button class=\"colab-df-convert\" onclick=\"convertToInteractive('df-d3a01af1-ac77-4026-8af3-4e9facfbbfff')\"\n",
              "            title=\"Convert this dataframe to an interactive table.\"\n",
              "            style=\"display:none;\">\n",
              "\n",
              "  <svg xmlns=\"http://www.w3.org/2000/svg\" height=\"24px\" viewBox=\"0 -960 960 960\">\n",
              "    <path d=\"M120-120v-720h720v720H120Zm60-500h600v-160H180v160Zm220 220h160v-160H400v160Zm0 220h160v-160H400v160ZM180-400h160v-160H180v160Zm440 0h160v-160H620v160ZM180-180h160v-160H180v160Zm440 0h160v-160H620v160Z\"/>\n",
              "  </svg>\n",
              "    </button>\n",
              "\n",
              "  <style>\n",
              "    .colab-df-container {\n",
              "      display:flex;\n",
              "      gap: 12px;\n",
              "    }\n",
              "\n",
              "    .colab-df-convert {\n",
              "      background-color: #E8F0FE;\n",
              "      border: none;\n",
              "      border-radius: 50%;\n",
              "      cursor: pointer;\n",
              "      display: none;\n",
              "      fill: #1967D2;\n",
              "      height: 32px;\n",
              "      padding: 0 0 0 0;\n",
              "      width: 32px;\n",
              "    }\n",
              "\n",
              "    .colab-df-convert:hover {\n",
              "      background-color: #E2EBFA;\n",
              "      box-shadow: 0px 1px 2px rgba(60, 64, 67, 0.3), 0px 1px 3px 1px rgba(60, 64, 67, 0.15);\n",
              "      fill: #174EA6;\n",
              "    }\n",
              "\n",
              "    .colab-df-buttons div {\n",
              "      margin-bottom: 4px;\n",
              "    }\n",
              "\n",
              "    [theme=dark] .colab-df-convert {\n",
              "      background-color: #3B4455;\n",
              "      fill: #D2E3FC;\n",
              "    }\n",
              "\n",
              "    [theme=dark] .colab-df-convert:hover {\n",
              "      background-color: #434B5C;\n",
              "      box-shadow: 0px 1px 3px 1px rgba(0, 0, 0, 0.15);\n",
              "      filter: drop-shadow(0px 1px 2px rgba(0, 0, 0, 0.3));\n",
              "      fill: #FFFFFF;\n",
              "    }\n",
              "  </style>\n",
              "\n",
              "    <script>\n",
              "      const buttonEl =\n",
              "        document.querySelector('#df-d3a01af1-ac77-4026-8af3-4e9facfbbfff button.colab-df-convert');\n",
              "      buttonEl.style.display =\n",
              "        google.colab.kernel.accessAllowed ? 'block' : 'none';\n",
              "\n",
              "      async function convertToInteractive(key) {\n",
              "        const element = document.querySelector('#df-d3a01af1-ac77-4026-8af3-4e9facfbbfff');\n",
              "        const dataTable =\n",
              "          await google.colab.kernel.invokeFunction('convertToInteractive',\n",
              "                                                    [key], {});\n",
              "        if (!dataTable) return;\n",
              "\n",
              "        const docLinkHtml = 'Like what you see? Visit the ' +\n",
              "          '<a target=\"_blank\" href=https://colab.research.google.com/notebooks/data_table.ipynb>data table notebook</a>'\n",
              "          + ' to learn more about interactive tables.';\n",
              "        element.innerHTML = '';\n",
              "        dataTable['output_type'] = 'display_data';\n",
              "        await google.colab.output.renderOutput(dataTable, element);\n",
              "        const docLink = document.createElement('div');\n",
              "        docLink.innerHTML = docLinkHtml;\n",
              "        element.appendChild(docLink);\n",
              "      }\n",
              "    </script>\n",
              "  </div>\n",
              "\n",
              "\n",
              "<div id=\"df-5f2474c3-4503-466b-9c12-7c61c8576a21\">\n",
              "  <button class=\"colab-df-quickchart\" onclick=\"quickchart('df-5f2474c3-4503-466b-9c12-7c61c8576a21')\"\n",
              "            title=\"Suggest charts\"\n",
              "            style=\"display:none;\">\n",
              "\n",
              "<svg xmlns=\"http://www.w3.org/2000/svg\" height=\"24px\"viewBox=\"0 0 24 24\"\n",
              "     width=\"24px\">\n",
              "    <g>\n",
              "        <path d=\"M19 3H5c-1.1 0-2 .9-2 2v14c0 1.1.9 2 2 2h14c1.1 0 2-.9 2-2V5c0-1.1-.9-2-2-2zM9 17H7v-7h2v7zm4 0h-2V7h2v10zm4 0h-2v-4h2v4z\"/>\n",
              "    </g>\n",
              "</svg>\n",
              "  </button>\n",
              "\n",
              "<style>\n",
              "  .colab-df-quickchart {\n",
              "      --bg-color: #E8F0FE;\n",
              "      --fill-color: #1967D2;\n",
              "      --hover-bg-color: #E2EBFA;\n",
              "      --hover-fill-color: #174EA6;\n",
              "      --disabled-fill-color: #AAA;\n",
              "      --disabled-bg-color: #DDD;\n",
              "  }\n",
              "\n",
              "  [theme=dark] .colab-df-quickchart {\n",
              "      --bg-color: #3B4455;\n",
              "      --fill-color: #D2E3FC;\n",
              "      --hover-bg-color: #434B5C;\n",
              "      --hover-fill-color: #FFFFFF;\n",
              "      --disabled-bg-color: #3B4455;\n",
              "      --disabled-fill-color: #666;\n",
              "  }\n",
              "\n",
              "  .colab-df-quickchart {\n",
              "    background-color: var(--bg-color);\n",
              "    border: none;\n",
              "    border-radius: 50%;\n",
              "    cursor: pointer;\n",
              "    display: none;\n",
              "    fill: var(--fill-color);\n",
              "    height: 32px;\n",
              "    padding: 0;\n",
              "    width: 32px;\n",
              "  }\n",
              "\n",
              "  .colab-df-quickchart:hover {\n",
              "    background-color: var(--hover-bg-color);\n",
              "    box-shadow: 0 1px 2px rgba(60, 64, 67, 0.3), 0 1px 3px 1px rgba(60, 64, 67, 0.15);\n",
              "    fill: var(--button-hover-fill-color);\n",
              "  }\n",
              "\n",
              "  .colab-df-quickchart-complete:disabled,\n",
              "  .colab-df-quickchart-complete:disabled:hover {\n",
              "    background-color: var(--disabled-bg-color);\n",
              "    fill: var(--disabled-fill-color);\n",
              "    box-shadow: none;\n",
              "  }\n",
              "\n",
              "  .colab-df-spinner {\n",
              "    border: 2px solid var(--fill-color);\n",
              "    border-color: transparent;\n",
              "    border-bottom-color: var(--fill-color);\n",
              "    animation:\n",
              "      spin 1s steps(1) infinite;\n",
              "  }\n",
              "\n",
              "  @keyframes spin {\n",
              "    0% {\n",
              "      border-color: transparent;\n",
              "      border-bottom-color: var(--fill-color);\n",
              "      border-left-color: var(--fill-color);\n",
              "    }\n",
              "    20% {\n",
              "      border-color: transparent;\n",
              "      border-left-color: var(--fill-color);\n",
              "      border-top-color: var(--fill-color);\n",
              "    }\n",
              "    30% {\n",
              "      border-color: transparent;\n",
              "      border-left-color: var(--fill-color);\n",
              "      border-top-color: var(--fill-color);\n",
              "      border-right-color: var(--fill-color);\n",
              "    }\n",
              "    40% {\n",
              "      border-color: transparent;\n",
              "      border-right-color: var(--fill-color);\n",
              "      border-top-color: var(--fill-color);\n",
              "    }\n",
              "    60% {\n",
              "      border-color: transparent;\n",
              "      border-right-color: var(--fill-color);\n",
              "    }\n",
              "    80% {\n",
              "      border-color: transparent;\n",
              "      border-right-color: var(--fill-color);\n",
              "      border-bottom-color: var(--fill-color);\n",
              "    }\n",
              "    90% {\n",
              "      border-color: transparent;\n",
              "      border-bottom-color: var(--fill-color);\n",
              "    }\n",
              "  }\n",
              "</style>\n",
              "\n",
              "  <script>\n",
              "    async function quickchart(key) {\n",
              "      const quickchartButtonEl =\n",
              "        document.querySelector('#' + key + ' button');\n",
              "      quickchartButtonEl.disabled = true;  // To prevent multiple clicks.\n",
              "      quickchartButtonEl.classList.add('colab-df-spinner');\n",
              "      try {\n",
              "        const charts = await google.colab.kernel.invokeFunction(\n",
              "            'suggestCharts', [key], {});\n",
              "      } catch (error) {\n",
              "        console.error('Error during call to suggestCharts:', error);\n",
              "      }\n",
              "      quickchartButtonEl.classList.remove('colab-df-spinner');\n",
              "      quickchartButtonEl.classList.add('colab-df-quickchart-complete');\n",
              "    }\n",
              "    (() => {\n",
              "      let quickchartButtonEl =\n",
              "        document.querySelector('#df-5f2474c3-4503-466b-9c12-7c61c8576a21 button');\n",
              "      quickchartButtonEl.style.display =\n",
              "        google.colab.kernel.accessAllowed ? 'block' : 'none';\n",
              "    })();\n",
              "  </script>\n",
              "</div>\n",
              "    </div>\n",
              "  </div>\n"
            ],
            "application/vnd.google.colaboratory.intrinsic+json": {
              "type": "dataframe",
              "variable_name": "main_df"
            }
          },
          "metadata": {},
          "execution_count": 120
        }
      ],
      "source": [
        "main_df = pd.read_csv(\"main.csv\", delimiter=\",\")\n",
        "main_df.head()"
      ]
    },
    {
      "cell_type": "code",
      "execution_count": 121,
      "metadata": {
        "colab": {
          "base_uri": "https://localhost:8080/"
        },
        "id": "NaFGAOypV-FE",
        "outputId": "6578e9f0-c3ad-4bdd-e2a9-458c4959a7ff"
      },
      "outputs": [
        {
          "output_type": "execute_result",
          "data": {
            "text/plain": [
              "(357, 40)"
            ]
          },
          "metadata": {},
          "execution_count": 121
        }
      ],
      "source": [
        "main_df.shape"
      ]
    },
    {
      "cell_type": "markdown",
      "metadata": {
        "id": "nfwhmSAVWCdR"
      },
      "source": [
        "After reading the dataset, it is found that this data has a total of 40 features and 357 rows. Then, in the same way, we will also apply this to the arecodes dataset."
      ]
    },
    {
      "cell_type": "code",
      "execution_count": 122,
      "metadata": {
        "colab": {
          "base_uri": "https://localhost:8080/",
          "height": 295
        },
        "id": "4uDOdbqOWjTB",
        "outputId": "82d45aba-94c3-4e7f-9ddb-3659eb31389a"
      },
      "outputs": [
        {
          "output_type": "execute_result",
          "data": {
            "text/plain": [
              "  area_id   area_name  area_squad employee_id created_at        updated_at  \\\n",
              "0   A0000   Undefined         NaN         NaN        NaN               NaN   \n",
              "1   A0001  Yogyakarta         3.0       E0028        NaN  2023-05-17 04:14   \n",
              "2   A0002     Uluwatu         2.0       E0015        NaN  2022-10-07 06:34   \n",
              "3   A0003      Canggu         2.0       E0014        NaN  2022-10-07 06:34   \n",
              "4   A0004        Ubud         2.0       E0042        NaN  2022-10-07 06:34   \n",
              "\n",
              "   deleted_at  temp_column area_distance_to_airport  airport_pickup_price_idr  \\\n",
              "0         NaN          NaN                      NaN                       NaN   \n",
              "1         NaN          NaN               30 minutes                       NaN   \n",
              "2         NaN          NaN                   1 hour                  325000.0   \n",
              "3         NaN          NaN                   1 hour                  325000.0   \n",
              "4         NaN          NaN                  2 hours                  585000.0   \n",
              "\n",
              "   area_airport_name  region_id  \n",
              "0                NaN        NaN  \n",
              "1  Adi Sucipto (JOG)        2.0  \n",
              "2   Ngurah Rai (DPS)        1.0  \n",
              "3   Ngurah Rai (DPS)        1.0  \n",
              "4   Ngurah Rai (DPS)        1.0  "
            ],
            "text/html": [
              "\n",
              "  <div id=\"df-8b3568f3-49b6-462f-b6ce-e36a2ad3dda0\" class=\"colab-df-container\">\n",
              "    <div>\n",
              "<style scoped>\n",
              "    .dataframe tbody tr th:only-of-type {\n",
              "        vertical-align: middle;\n",
              "    }\n",
              "\n",
              "    .dataframe tbody tr th {\n",
              "        vertical-align: top;\n",
              "    }\n",
              "\n",
              "    .dataframe thead th {\n",
              "        text-align: right;\n",
              "    }\n",
              "</style>\n",
              "<table border=\"1\" class=\"dataframe\">\n",
              "  <thead>\n",
              "    <tr style=\"text-align: right;\">\n",
              "      <th></th>\n",
              "      <th>area_id</th>\n",
              "      <th>area_name</th>\n",
              "      <th>area_squad</th>\n",
              "      <th>employee_id</th>\n",
              "      <th>created_at</th>\n",
              "      <th>updated_at</th>\n",
              "      <th>deleted_at</th>\n",
              "      <th>temp_column</th>\n",
              "      <th>area_distance_to_airport</th>\n",
              "      <th>airport_pickup_price_idr</th>\n",
              "      <th>area_airport_name</th>\n",
              "      <th>region_id</th>\n",
              "    </tr>\n",
              "  </thead>\n",
              "  <tbody>\n",
              "    <tr>\n",
              "      <th>0</th>\n",
              "      <td>A0000</td>\n",
              "      <td>Undefined</td>\n",
              "      <td>NaN</td>\n",
              "      <td>NaN</td>\n",
              "      <td>NaN</td>\n",
              "      <td>NaN</td>\n",
              "      <td>NaN</td>\n",
              "      <td>NaN</td>\n",
              "      <td>NaN</td>\n",
              "      <td>NaN</td>\n",
              "      <td>NaN</td>\n",
              "      <td>NaN</td>\n",
              "    </tr>\n",
              "    <tr>\n",
              "      <th>1</th>\n",
              "      <td>A0001</td>\n",
              "      <td>Yogyakarta</td>\n",
              "      <td>3.0</td>\n",
              "      <td>E0028</td>\n",
              "      <td>NaN</td>\n",
              "      <td>2023-05-17 04:14</td>\n",
              "      <td>NaN</td>\n",
              "      <td>NaN</td>\n",
              "      <td>30 minutes</td>\n",
              "      <td>NaN</td>\n",
              "      <td>Adi Sucipto (JOG)</td>\n",
              "      <td>2.0</td>\n",
              "    </tr>\n",
              "    <tr>\n",
              "      <th>2</th>\n",
              "      <td>A0002</td>\n",
              "      <td>Uluwatu</td>\n",
              "      <td>2.0</td>\n",
              "      <td>E0015</td>\n",
              "      <td>NaN</td>\n",
              "      <td>2022-10-07 06:34</td>\n",
              "      <td>NaN</td>\n",
              "      <td>NaN</td>\n",
              "      <td>1 hour</td>\n",
              "      <td>325000.0</td>\n",
              "      <td>Ngurah Rai (DPS)</td>\n",
              "      <td>1.0</td>\n",
              "    </tr>\n",
              "    <tr>\n",
              "      <th>3</th>\n",
              "      <td>A0003</td>\n",
              "      <td>Canggu</td>\n",
              "      <td>2.0</td>\n",
              "      <td>E0014</td>\n",
              "      <td>NaN</td>\n",
              "      <td>2022-10-07 06:34</td>\n",
              "      <td>NaN</td>\n",
              "      <td>NaN</td>\n",
              "      <td>1 hour</td>\n",
              "      <td>325000.0</td>\n",
              "      <td>Ngurah Rai (DPS)</td>\n",
              "      <td>1.0</td>\n",
              "    </tr>\n",
              "    <tr>\n",
              "      <th>4</th>\n",
              "      <td>A0004</td>\n",
              "      <td>Ubud</td>\n",
              "      <td>2.0</td>\n",
              "      <td>E0042</td>\n",
              "      <td>NaN</td>\n",
              "      <td>2022-10-07 06:34</td>\n",
              "      <td>NaN</td>\n",
              "      <td>NaN</td>\n",
              "      <td>2 hours</td>\n",
              "      <td>585000.0</td>\n",
              "      <td>Ngurah Rai (DPS)</td>\n",
              "      <td>1.0</td>\n",
              "    </tr>\n",
              "  </tbody>\n",
              "</table>\n",
              "</div>\n",
              "    <div class=\"colab-df-buttons\">\n",
              "\n",
              "  <div class=\"colab-df-container\">\n",
              "    <button class=\"colab-df-convert\" onclick=\"convertToInteractive('df-8b3568f3-49b6-462f-b6ce-e36a2ad3dda0')\"\n",
              "            title=\"Convert this dataframe to an interactive table.\"\n",
              "            style=\"display:none;\">\n",
              "\n",
              "  <svg xmlns=\"http://www.w3.org/2000/svg\" height=\"24px\" viewBox=\"0 -960 960 960\">\n",
              "    <path d=\"M120-120v-720h720v720H120Zm60-500h600v-160H180v160Zm220 220h160v-160H400v160Zm0 220h160v-160H400v160ZM180-400h160v-160H180v160Zm440 0h160v-160H620v160ZM180-180h160v-160H180v160Zm440 0h160v-160H620v160Z\"/>\n",
              "  </svg>\n",
              "    </button>\n",
              "\n",
              "  <style>\n",
              "    .colab-df-container {\n",
              "      display:flex;\n",
              "      gap: 12px;\n",
              "    }\n",
              "\n",
              "    .colab-df-convert {\n",
              "      background-color: #E8F0FE;\n",
              "      border: none;\n",
              "      border-radius: 50%;\n",
              "      cursor: pointer;\n",
              "      display: none;\n",
              "      fill: #1967D2;\n",
              "      height: 32px;\n",
              "      padding: 0 0 0 0;\n",
              "      width: 32px;\n",
              "    }\n",
              "\n",
              "    .colab-df-convert:hover {\n",
              "      background-color: #E2EBFA;\n",
              "      box-shadow: 0px 1px 2px rgba(60, 64, 67, 0.3), 0px 1px 3px 1px rgba(60, 64, 67, 0.15);\n",
              "      fill: #174EA6;\n",
              "    }\n",
              "\n",
              "    .colab-df-buttons div {\n",
              "      margin-bottom: 4px;\n",
              "    }\n",
              "\n",
              "    [theme=dark] .colab-df-convert {\n",
              "      background-color: #3B4455;\n",
              "      fill: #D2E3FC;\n",
              "    }\n",
              "\n",
              "    [theme=dark] .colab-df-convert:hover {\n",
              "      background-color: #434B5C;\n",
              "      box-shadow: 0px 1px 3px 1px rgba(0, 0, 0, 0.15);\n",
              "      filter: drop-shadow(0px 1px 2px rgba(0, 0, 0, 0.3));\n",
              "      fill: #FFFFFF;\n",
              "    }\n",
              "  </style>\n",
              "\n",
              "    <script>\n",
              "      const buttonEl =\n",
              "        document.querySelector('#df-8b3568f3-49b6-462f-b6ce-e36a2ad3dda0 button.colab-df-convert');\n",
              "      buttonEl.style.display =\n",
              "        google.colab.kernel.accessAllowed ? 'block' : 'none';\n",
              "\n",
              "      async function convertToInteractive(key) {\n",
              "        const element = document.querySelector('#df-8b3568f3-49b6-462f-b6ce-e36a2ad3dda0');\n",
              "        const dataTable =\n",
              "          await google.colab.kernel.invokeFunction('convertToInteractive',\n",
              "                                                    [key], {});\n",
              "        if (!dataTable) return;\n",
              "\n",
              "        const docLinkHtml = 'Like what you see? Visit the ' +\n",
              "          '<a target=\"_blank\" href=https://colab.research.google.com/notebooks/data_table.ipynb>data table notebook</a>'\n",
              "          + ' to learn more about interactive tables.';\n",
              "        element.innerHTML = '';\n",
              "        dataTable['output_type'] = 'display_data';\n",
              "        await google.colab.output.renderOutput(dataTable, element);\n",
              "        const docLink = document.createElement('div');\n",
              "        docLink.innerHTML = docLinkHtml;\n",
              "        element.appendChild(docLink);\n",
              "      }\n",
              "    </script>\n",
              "  </div>\n",
              "\n",
              "\n",
              "<div id=\"df-9304824d-a0bd-46c8-859a-09a1dbd33eca\">\n",
              "  <button class=\"colab-df-quickchart\" onclick=\"quickchart('df-9304824d-a0bd-46c8-859a-09a1dbd33eca')\"\n",
              "            title=\"Suggest charts\"\n",
              "            style=\"display:none;\">\n",
              "\n",
              "<svg xmlns=\"http://www.w3.org/2000/svg\" height=\"24px\"viewBox=\"0 0 24 24\"\n",
              "     width=\"24px\">\n",
              "    <g>\n",
              "        <path d=\"M19 3H5c-1.1 0-2 .9-2 2v14c0 1.1.9 2 2 2h14c1.1 0 2-.9 2-2V5c0-1.1-.9-2-2-2zM9 17H7v-7h2v7zm4 0h-2V7h2v10zm4 0h-2v-4h2v4z\"/>\n",
              "    </g>\n",
              "</svg>\n",
              "  </button>\n",
              "\n",
              "<style>\n",
              "  .colab-df-quickchart {\n",
              "      --bg-color: #E8F0FE;\n",
              "      --fill-color: #1967D2;\n",
              "      --hover-bg-color: #E2EBFA;\n",
              "      --hover-fill-color: #174EA6;\n",
              "      --disabled-fill-color: #AAA;\n",
              "      --disabled-bg-color: #DDD;\n",
              "  }\n",
              "\n",
              "  [theme=dark] .colab-df-quickchart {\n",
              "      --bg-color: #3B4455;\n",
              "      --fill-color: #D2E3FC;\n",
              "      --hover-bg-color: #434B5C;\n",
              "      --hover-fill-color: #FFFFFF;\n",
              "      --disabled-bg-color: #3B4455;\n",
              "      --disabled-fill-color: #666;\n",
              "  }\n",
              "\n",
              "  .colab-df-quickchart {\n",
              "    background-color: var(--bg-color);\n",
              "    border: none;\n",
              "    border-radius: 50%;\n",
              "    cursor: pointer;\n",
              "    display: none;\n",
              "    fill: var(--fill-color);\n",
              "    height: 32px;\n",
              "    padding: 0;\n",
              "    width: 32px;\n",
              "  }\n",
              "\n",
              "  .colab-df-quickchart:hover {\n",
              "    background-color: var(--hover-bg-color);\n",
              "    box-shadow: 0 1px 2px rgba(60, 64, 67, 0.3), 0 1px 3px 1px rgba(60, 64, 67, 0.15);\n",
              "    fill: var(--button-hover-fill-color);\n",
              "  }\n",
              "\n",
              "  .colab-df-quickchart-complete:disabled,\n",
              "  .colab-df-quickchart-complete:disabled:hover {\n",
              "    background-color: var(--disabled-bg-color);\n",
              "    fill: var(--disabled-fill-color);\n",
              "    box-shadow: none;\n",
              "  }\n",
              "\n",
              "  .colab-df-spinner {\n",
              "    border: 2px solid var(--fill-color);\n",
              "    border-color: transparent;\n",
              "    border-bottom-color: var(--fill-color);\n",
              "    animation:\n",
              "      spin 1s steps(1) infinite;\n",
              "  }\n",
              "\n",
              "  @keyframes spin {\n",
              "    0% {\n",
              "      border-color: transparent;\n",
              "      border-bottom-color: var(--fill-color);\n",
              "      border-left-color: var(--fill-color);\n",
              "    }\n",
              "    20% {\n",
              "      border-color: transparent;\n",
              "      border-left-color: var(--fill-color);\n",
              "      border-top-color: var(--fill-color);\n",
              "    }\n",
              "    30% {\n",
              "      border-color: transparent;\n",
              "      border-left-color: var(--fill-color);\n",
              "      border-top-color: var(--fill-color);\n",
              "      border-right-color: var(--fill-color);\n",
              "    }\n",
              "    40% {\n",
              "      border-color: transparent;\n",
              "      border-right-color: var(--fill-color);\n",
              "      border-top-color: var(--fill-color);\n",
              "    }\n",
              "    60% {\n",
              "      border-color: transparent;\n",
              "      border-right-color: var(--fill-color);\n",
              "    }\n",
              "    80% {\n",
              "      border-color: transparent;\n",
              "      border-right-color: var(--fill-color);\n",
              "      border-bottom-color: var(--fill-color);\n",
              "    }\n",
              "    90% {\n",
              "      border-color: transparent;\n",
              "      border-bottom-color: var(--fill-color);\n",
              "    }\n",
              "  }\n",
              "</style>\n",
              "\n",
              "  <script>\n",
              "    async function quickchart(key) {\n",
              "      const quickchartButtonEl =\n",
              "        document.querySelector('#' + key + ' button');\n",
              "      quickchartButtonEl.disabled = true;  // To prevent multiple clicks.\n",
              "      quickchartButtonEl.classList.add('colab-df-spinner');\n",
              "      try {\n",
              "        const charts = await google.colab.kernel.invokeFunction(\n",
              "            'suggestCharts', [key], {});\n",
              "      } catch (error) {\n",
              "        console.error('Error during call to suggestCharts:', error);\n",
              "      }\n",
              "      quickchartButtonEl.classList.remove('colab-df-spinner');\n",
              "      quickchartButtonEl.classList.add('colab-df-quickchart-complete');\n",
              "    }\n",
              "    (() => {\n",
              "      let quickchartButtonEl =\n",
              "        document.querySelector('#df-9304824d-a0bd-46c8-859a-09a1dbd33eca button');\n",
              "      quickchartButtonEl.style.display =\n",
              "        google.colab.kernel.accessAllowed ? 'block' : 'none';\n",
              "    })();\n",
              "  </script>\n",
              "</div>\n",
              "    </div>\n",
              "  </div>\n"
            ],
            "application/vnd.google.colaboratory.intrinsic+json": {
              "type": "dataframe",
              "variable_name": "areacodes_df",
              "summary": "{\n  \"name\": \"areacodes_df\",\n  \"rows\": 54,\n  \"fields\": [\n    {\n      \"column\": \"area_id\",\n      \"properties\": {\n        \"dtype\": \"string\",\n        \"num_unique_values\": 54,\n        \"samples\": [\n          \"A0019\",\n          \"A0050\",\n          \"A0049\"\n        ],\n        \"semantic_type\": \"\",\n        \"description\": \"\"\n      }\n    },\n    {\n      \"column\": \"area_name\",\n      \"properties\": {\n        \"dtype\": \"string\",\n        \"num_unique_values\": 54,\n        \"samples\": [\n          \"Penang\",\n          \"Caturtunggal\",\n          \"Sinduadi\"\n        ],\n        \"semantic_type\": \"\",\n        \"description\": \"\"\n      }\n    },\n    {\n      \"column\": \"area_squad\",\n      \"properties\": {\n        \"dtype\": \"number\",\n        \"std\": 1.2146302154286381,\n        \"min\": 0.0,\n        \"max\": 5.0,\n        \"num_unique_values\": 6,\n        \"samples\": [\n          3.0,\n          2.0,\n          5.0\n        ],\n        \"semantic_type\": \"\",\n        \"description\": \"\"\n      }\n    },\n    {\n      \"column\": \"employee_id\",\n      \"properties\": {\n        \"dtype\": \"category\",\n        \"num_unique_values\": 11,\n        \"samples\": [\n          \"E0036\",\n          \"E0028\",\n          \"E0017\"\n        ],\n        \"semantic_type\": \"\",\n        \"description\": \"\"\n      }\n    },\n    {\n      \"column\": \"created_at\",\n      \"properties\": {\n        \"dtype\": \"date\",\n        \"min\": \"2018-07-02 16:51:00\",\n        \"max\": \"2024-03-25 03:03:00\",\n        \"num_unique_values\": 19,\n        \"samples\": [\n          \"2018-07-02 16:51\",\n          \"2022-04-12 12:22\",\n          \"2023-04-27 06:11\"\n        ],\n        \"semantic_type\": \"\",\n        \"description\": \"\"\n      }\n    },\n    {\n      \"column\": \"updated_at\",\n      \"properties\": {\n        \"dtype\": \"date\",\n        \"min\": \"2021-06-15 07:11:00\",\n        \"max\": \"2024-02-05 06:51:00\",\n        \"num_unique_values\": 12,\n        \"samples\": [\n          \"2024-02-05 06:51\",\n          \"2023-04-13 05:37\",\n          \"2023-05-17 04:14\"\n        ],\n        \"semantic_type\": \"\",\n        \"description\": \"\"\n      }\n    },\n    {\n      \"column\": \"deleted_at\",\n      \"properties\": {\n        \"dtype\": \"number\",\n        \"std\": null,\n        \"min\": null,\n        \"max\": null,\n        \"num_unique_values\": 0,\n        \"samples\": [],\n        \"semantic_type\": \"\",\n        \"description\": \"\"\n      }\n    },\n    {\n      \"column\": \"temp_column\",\n      \"properties\": {\n        \"dtype\": \"number\",\n        \"std\": null,\n        \"min\": null,\n        \"max\": null,\n        \"num_unique_values\": 0,\n        \"samples\": [],\n        \"semantic_type\": \"\",\n        \"description\": \"\"\n      }\n    },\n    {\n      \"column\": \"area_distance_to_airport\",\n      \"properties\": {\n        \"dtype\": \"category\",\n        \"num_unique_values\": 7,\n        \"samples\": [],\n        \"semantic_type\": \"\",\n        \"description\": \"\"\n      }\n    },\n    {\n      \"column\": \"airport_pickup_price_idr\",\n      \"properties\": {\n        \"dtype\": \"number\",\n        \"std\": 164599.99360491132,\n        \"min\": 0.0,\n        \"max\": 700000.0,\n        \"num_unique_values\": 11,\n        \"samples\": [],\n        \"semantic_type\": \"\",\n        \"description\": \"\"\n      }\n    },\n    {\n      \"column\": \"area_airport_name\",\n      \"properties\": {\n        \"dtype\": \"category\",\n        \"num_unique_values\": 2,\n        \"samples\": [],\n        \"semantic_type\": \"\",\n        \"description\": \"\"\n      }\n    },\n    {\n      \"column\": \"region_id\",\n      \"properties\": {\n        \"dtype\": \"number\",\n        \"std\": 0.5328903502931349,\n        \"min\": 1.0,\n        \"max\": 3.0,\n        \"num_unique_values\": 3,\n        \"samples\": [],\n        \"semantic_type\": \"\",\n        \"description\": \"\"\n      }\n    }\n  ]\n}"
            }
          },
          "metadata": {},
          "execution_count": 122
        }
      ],
      "source": [
        "areacodes_df = pd.read_csv(\"areacodes.csv\", delimiter=\",\")\n",
        "areacodes_df.head()"
      ]
    },
    {
      "cell_type": "code",
      "execution_count": 123,
      "metadata": {
        "colab": {
          "base_uri": "https://localhost:8080/"
        },
        "id": "aIIpwU83WznK",
        "outputId": "87cbbddd-8ebd-4064-832f-32001bd4b578"
      },
      "outputs": [
        {
          "output_type": "execute_result",
          "data": {
            "text/plain": [
              "(54, 12)"
            ]
          },
          "metadata": {},
          "execution_count": 123
        }
      ],
      "source": [
        "areacodes_df.shape"
      ]
    },
    {
      "cell_type": "markdown",
      "metadata": {
        "id": "HtUL2hFGW4wm"
      },
      "source": [
        "It can be seen that the areacodes dataset has 54 area IDs and also has 12 features."
      ]
    },
    {
      "cell_type": "markdown",
      "metadata": {
        "id": "8Rdq7cq9XMrb"
      },
      "source": [
        "### **Assessing Data**"
      ]
    },
    {
      "cell_type": "markdown",
      "metadata": {
        "id": "KVGvPjyMXeGL"
      },
      "source": [
        "This is a process that aimed to identifying some issues related to data quality and we want to see the information of the data."
      ]
    },
    {
      "cell_type": "code",
      "execution_count": 124,
      "metadata": {
        "colab": {
          "base_uri": "https://localhost:8080/"
        },
        "id": "EvFbZxh5YAvJ",
        "outputId": "dc22f2e7-cb84-4267-a918-12bf6fc20417"
      },
      "outputs": [
        {
          "output_type": "stream",
          "name": "stdout",
          "text": [
            "<class 'pandas.core.frame.DataFrame'>\n",
            "RangeIndex: 357 entries, 0 to 356\n",
            "Data columns (total 40 columns):\n",
            " #   Column                  Non-Null Count  Dtype  \n",
            "---  ------                  --------------  -----  \n",
            " 0   property_id             357 non-null    object \n",
            " 1   unit_id                 357 non-null    object \n",
            " 2   average_baseline_price  357 non-null    float64\n",
            " 3   bedroom                 357 non-null    int64  \n",
            " 4   bathroom                124 non-null    float64\n",
            " 5   beds                    124 non-null    float64\n",
            " 6   capacity                117 non-null    float64\n",
            " 7   ac                      123 non-null    float64\n",
            " 8   balcony                 123 non-null    float64\n",
            " 9   beachfront              123 non-null    float64\n",
            " 10  breakfast               123 non-null    float64\n",
            " 11  building_staff          123 non-null    float64\n",
            " 12  cable_tv                123 non-null    float64\n",
            " 13  essentials              123 non-null    float64\n",
            " 14  garden                  123 non-null    float64\n",
            " 15  gym                     123 non-null    float64\n",
            " 16  hair_dryer              123 non-null    float64\n",
            " 17  hanger                  123 non-null    float64\n",
            " 18  heating                 123 non-null    float64\n",
            " 19  hot_water               123 non-null    float64\n",
            " 20  kitchen                 123 non-null    float64\n",
            " 21  linens                  123 non-null    float64\n",
            " 22  lock                    123 non-null    float64\n",
            " 23  luggage_drop_off        123 non-null    float64\n",
            " 24  parking                 123 non-null    float64\n",
            " 25  pool                    123 non-null    float64\n",
            " 26  private_entrance        123 non-null    float64\n",
            " 27  shampoo                 123 non-null    float64\n",
            " 28  tv                      123 non-null    float64\n",
            " 29  washer                  123 non-null    float64\n",
            " 30  wifi                    123 non-null    float64\n",
            " 31  workspace               123 non-null    float64\n",
            " 32  lat                     113 non-null    float64\n",
            " 33  lng                     113 non-null    float64\n",
            " 34  property_name           356 non-null    object \n",
            " 35  property_direction      139 non-null    object \n",
            " 36  property_type           356 non-null    float64\n",
            " 37  property_design         355 non-null    float64\n",
            " 38  area_id                 356 non-null    object \n",
            " 39  distance_to_coastline   33 non-null     float64\n",
            "dtypes: float64(34), int64(1), object(5)\n",
            "memory usage: 111.7+ KB\n"
          ]
        }
      ],
      "source": [
        "main_df.info()"
      ]
    },
    {
      "cell_type": "markdown",
      "metadata": {
        "id": "dnEAr6xOZiRY"
      },
      "source": [
        "We see that the data types from main dataset is correct, so we don't need to change the datatypes. Next, we will access info from areacodes dataset using info() function."
      ]
    },
    {
      "cell_type": "code",
      "execution_count": 125,
      "metadata": {
        "colab": {
          "base_uri": "https://localhost:8080/"
        },
        "id": "sKwxSCBuZaCB",
        "outputId": "d760a209-7ce1-4873-9222-3686adca256d"
      },
      "outputs": [
        {
          "output_type": "stream",
          "name": "stdout",
          "text": [
            "<class 'pandas.core.frame.DataFrame'>\n",
            "RangeIndex: 54 entries, 0 to 53\n",
            "Data columns (total 12 columns):\n",
            " #   Column                    Non-Null Count  Dtype  \n",
            "---  ------                    --------------  -----  \n",
            " 0   area_id                   54 non-null     object \n",
            " 1   area_name                 54 non-null     object \n",
            " 2   area_squad                53 non-null     float64\n",
            " 3   employee_id               22 non-null     object \n",
            " 4   created_at                33 non-null     object \n",
            " 5   updated_at                30 non-null     object \n",
            " 6   deleted_at                0 non-null      float64\n",
            " 7   temp_column               0 non-null      float64\n",
            " 8   area_distance_to_airport  18 non-null     object \n",
            " 9   airport_pickup_price_idr  20 non-null     float64\n",
            " 10  area_airport_name         20 non-null     object \n",
            " 11  region_id                 42 non-null     float64\n",
            "dtypes: float64(5), object(7)\n",
            "memory usage: 5.2+ KB\n"
          ]
        }
      ],
      "source": [
        "areacodes_df.info()"
      ]
    },
    {
      "cell_type": "markdown",
      "metadata": {
        "id": "9fJedtl9am70"
      },
      "source": [
        "From information above, we conclude that we will drop the features of created_at, updated_at,deleted_at and temp_column and also we want to convert the area_distance_to_airport datatype to float64.\n"
      ]
    },
    {
      "cell_type": "code",
      "execution_count": 126,
      "metadata": {
        "id": "G3kR22GtbE-9"
      },
      "outputs": [],
      "source": [
        "columns = [\"created_at\",\"updated_at\",\"deleted_at\",\"temp_column\"]\n",
        "areacodes_df = areacodes_df.drop(columns,axis=1)"
      ]
    },
    {
      "cell_type": "markdown",
      "metadata": {
        "id": "NzHkEPalbgkv"
      },
      "source": [
        "Next we will check it again using info() function"
      ]
    },
    {
      "cell_type": "code",
      "execution_count": 127,
      "metadata": {
        "colab": {
          "base_uri": "https://localhost:8080/"
        },
        "id": "iskamWl_e9dl",
        "outputId": "50af3123-2599-4538-94d8-a1a92bd0f509"
      },
      "outputs": [
        {
          "output_type": "stream",
          "name": "stdout",
          "text": [
            "<class 'pandas.core.frame.DataFrame'>\n",
            "RangeIndex: 54 entries, 0 to 53\n",
            "Data columns (total 8 columns):\n",
            " #   Column                    Non-Null Count  Dtype  \n",
            "---  ------                    --------------  -----  \n",
            " 0   area_id                   54 non-null     object \n",
            " 1   area_name                 54 non-null     object \n",
            " 2   area_squad                53 non-null     float64\n",
            " 3   employee_id               22 non-null     object \n",
            " 4   area_distance_to_airport  18 non-null     object \n",
            " 5   airport_pickup_price_idr  20 non-null     float64\n",
            " 6   area_airport_name         20 non-null     object \n",
            " 7   region_id                 42 non-null     float64\n",
            "dtypes: float64(3), object(5)\n",
            "memory usage: 3.5+ KB\n"
          ]
        }
      ],
      "source": [
        "areacodes_df.info()"
      ]
    },
    {
      "cell_type": "markdown",
      "metadata": {
        "id": "OulgXrWzfGBP"
      },
      "source": [
        "We have successfully deleted some columns from dataset and next we will change the datatype of area_distance_to_airport into float64 dtype and before convert dtype we can make function to change the data into minutes."
      ]
    },
    {
      "cell_type": "code",
      "execution_count": 128,
      "metadata": {
        "id": "o9tgJnsUfVsq"
      },
      "outputs": [],
      "source": [
        "def convert_time_to_minutes(time_str):\n",
        "    if isinstance(time_str, str):\n",
        "        if 'minute' in time_str:\n",
        "            return float(time_str.split()[0])\n",
        "        elif 'hour' in time_str:\n",
        "            return float(time_str.split()[0]) * 60\n",
        "        else:\n",
        "            raise ValueError(f\"Unknown time format: {time_str}\")\n",
        "    elif isinstance(time_str, float) and np.isnan(time_str):\n",
        "        return np.nan\n",
        "    else:\n",
        "        raise TypeError(f\"Expected string or NaN, got {type(time_str)}\")"
      ]
    },
    {
      "cell_type": "markdown",
      "metadata": {
        "id": "T7LYKU8tgjC6"
      },
      "source": [
        "Next we can implement that function."
      ]
    },
    {
      "cell_type": "code",
      "execution_count": 129,
      "metadata": {
        "id": "m8wsZzjPfUdK"
      },
      "outputs": [],
      "source": [
        "column = [\"area_distance_to_airport\"]\n",
        "\n",
        "for c in column:\n",
        "  areacodes_df[c] =  areacodes_df[c].apply(convert_time_to_minutes).astype('float64')"
      ]
    },
    {
      "cell_type": "markdown",
      "metadata": {
        "id": "mf4Poxb-lDTJ"
      },
      "source": [
        "Next we can check the data info and data conversion"
      ]
    },
    {
      "cell_type": "code",
      "execution_count": 130,
      "metadata": {
        "colab": {
          "base_uri": "https://localhost:8080/"
        },
        "id": "o1iyBFEKlCmM",
        "outputId": "26b52948-b60a-45e3-e401-a2496fea1710"
      },
      "outputs": [
        {
          "output_type": "stream",
          "name": "stdout",
          "text": [
            "<class 'pandas.core.frame.DataFrame'>\n",
            "RangeIndex: 54 entries, 0 to 53\n",
            "Data columns (total 8 columns):\n",
            " #   Column                    Non-Null Count  Dtype  \n",
            "---  ------                    --------------  -----  \n",
            " 0   area_id                   54 non-null     object \n",
            " 1   area_name                 54 non-null     object \n",
            " 2   area_squad                53 non-null     float64\n",
            " 3   employee_id               22 non-null     object \n",
            " 4   area_distance_to_airport  18 non-null     float64\n",
            " 5   airport_pickup_price_idr  20 non-null     float64\n",
            " 6   area_airport_name         20 non-null     object \n",
            " 7   region_id                 42 non-null     float64\n",
            "dtypes: float64(4), object(4)\n",
            "memory usage: 3.5+ KB\n"
          ]
        }
      ],
      "source": [
        "areacodes_df.info()"
      ]
    },
    {
      "cell_type": "code",
      "execution_count": 131,
      "metadata": {
        "colab": {
          "base_uri": "https://localhost:8080/",
          "height": 226
        },
        "id": "4UafoQeNleXR",
        "outputId": "31641366-d7f9-4a56-c89d-ed240e695ef1"
      },
      "outputs": [
        {
          "output_type": "execute_result",
          "data": {
            "text/plain": [
              "  area_id   area_name  area_squad employee_id  area_distance_to_airport  \\\n",
              "0   A0000   Undefined         NaN         NaN                       NaN   \n",
              "1   A0001  Yogyakarta         3.0       E0028                      30.0   \n",
              "2   A0002     Uluwatu         2.0       E0015                      60.0   \n",
              "3   A0003      Canggu         2.0       E0014                      60.0   \n",
              "4   A0004        Ubud         2.0       E0042                     120.0   \n",
              "\n",
              "   airport_pickup_price_idr  area_airport_name  region_id  \n",
              "0                       NaN                NaN        NaN  \n",
              "1                       NaN  Adi Sucipto (JOG)        2.0  \n",
              "2                  325000.0   Ngurah Rai (DPS)        1.0  \n",
              "3                  325000.0   Ngurah Rai (DPS)        1.0  \n",
              "4                  585000.0   Ngurah Rai (DPS)        1.0  "
            ],
            "text/html": [
              "\n",
              "  <div id=\"df-b4252316-353a-49ae-97ea-9b3b1d950a6a\" class=\"colab-df-container\">\n",
              "    <div>\n",
              "<style scoped>\n",
              "    .dataframe tbody tr th:only-of-type {\n",
              "        vertical-align: middle;\n",
              "    }\n",
              "\n",
              "    .dataframe tbody tr th {\n",
              "        vertical-align: top;\n",
              "    }\n",
              "\n",
              "    .dataframe thead th {\n",
              "        text-align: right;\n",
              "    }\n",
              "</style>\n",
              "<table border=\"1\" class=\"dataframe\">\n",
              "  <thead>\n",
              "    <tr style=\"text-align: right;\">\n",
              "      <th></th>\n",
              "      <th>area_id</th>\n",
              "      <th>area_name</th>\n",
              "      <th>area_squad</th>\n",
              "      <th>employee_id</th>\n",
              "      <th>area_distance_to_airport</th>\n",
              "      <th>airport_pickup_price_idr</th>\n",
              "      <th>area_airport_name</th>\n",
              "      <th>region_id</th>\n",
              "    </tr>\n",
              "  </thead>\n",
              "  <tbody>\n",
              "    <tr>\n",
              "      <th>0</th>\n",
              "      <td>A0000</td>\n",
              "      <td>Undefined</td>\n",
              "      <td>NaN</td>\n",
              "      <td>NaN</td>\n",
              "      <td>NaN</td>\n",
              "      <td>NaN</td>\n",
              "      <td>NaN</td>\n",
              "      <td>NaN</td>\n",
              "    </tr>\n",
              "    <tr>\n",
              "      <th>1</th>\n",
              "      <td>A0001</td>\n",
              "      <td>Yogyakarta</td>\n",
              "      <td>3.0</td>\n",
              "      <td>E0028</td>\n",
              "      <td>30.0</td>\n",
              "      <td>NaN</td>\n",
              "      <td>Adi Sucipto (JOG)</td>\n",
              "      <td>2.0</td>\n",
              "    </tr>\n",
              "    <tr>\n",
              "      <th>2</th>\n",
              "      <td>A0002</td>\n",
              "      <td>Uluwatu</td>\n",
              "      <td>2.0</td>\n",
              "      <td>E0015</td>\n",
              "      <td>60.0</td>\n",
              "      <td>325000.0</td>\n",
              "      <td>Ngurah Rai (DPS)</td>\n",
              "      <td>1.0</td>\n",
              "    </tr>\n",
              "    <tr>\n",
              "      <th>3</th>\n",
              "      <td>A0003</td>\n",
              "      <td>Canggu</td>\n",
              "      <td>2.0</td>\n",
              "      <td>E0014</td>\n",
              "      <td>60.0</td>\n",
              "      <td>325000.0</td>\n",
              "      <td>Ngurah Rai (DPS)</td>\n",
              "      <td>1.0</td>\n",
              "    </tr>\n",
              "    <tr>\n",
              "      <th>4</th>\n",
              "      <td>A0004</td>\n",
              "      <td>Ubud</td>\n",
              "      <td>2.0</td>\n",
              "      <td>E0042</td>\n",
              "      <td>120.0</td>\n",
              "      <td>585000.0</td>\n",
              "      <td>Ngurah Rai (DPS)</td>\n",
              "      <td>1.0</td>\n",
              "    </tr>\n",
              "  </tbody>\n",
              "</table>\n",
              "</div>\n",
              "    <div class=\"colab-df-buttons\">\n",
              "\n",
              "  <div class=\"colab-df-container\">\n",
              "    <button class=\"colab-df-convert\" onclick=\"convertToInteractive('df-b4252316-353a-49ae-97ea-9b3b1d950a6a')\"\n",
              "            title=\"Convert this dataframe to an interactive table.\"\n",
              "            style=\"display:none;\">\n",
              "\n",
              "  <svg xmlns=\"http://www.w3.org/2000/svg\" height=\"24px\" viewBox=\"0 -960 960 960\">\n",
              "    <path d=\"M120-120v-720h720v720H120Zm60-500h600v-160H180v160Zm220 220h160v-160H400v160Zm0 220h160v-160H400v160ZM180-400h160v-160H180v160Zm440 0h160v-160H620v160ZM180-180h160v-160H180v160Zm440 0h160v-160H620v160Z\"/>\n",
              "  </svg>\n",
              "    </button>\n",
              "\n",
              "  <style>\n",
              "    .colab-df-container {\n",
              "      display:flex;\n",
              "      gap: 12px;\n",
              "    }\n",
              "\n",
              "    .colab-df-convert {\n",
              "      background-color: #E8F0FE;\n",
              "      border: none;\n",
              "      border-radius: 50%;\n",
              "      cursor: pointer;\n",
              "      display: none;\n",
              "      fill: #1967D2;\n",
              "      height: 32px;\n",
              "      padding: 0 0 0 0;\n",
              "      width: 32px;\n",
              "    }\n",
              "\n",
              "    .colab-df-convert:hover {\n",
              "      background-color: #E2EBFA;\n",
              "      box-shadow: 0px 1px 2px rgba(60, 64, 67, 0.3), 0px 1px 3px 1px rgba(60, 64, 67, 0.15);\n",
              "      fill: #174EA6;\n",
              "    }\n",
              "\n",
              "    .colab-df-buttons div {\n",
              "      margin-bottom: 4px;\n",
              "    }\n",
              "\n",
              "    [theme=dark] .colab-df-convert {\n",
              "      background-color: #3B4455;\n",
              "      fill: #D2E3FC;\n",
              "    }\n",
              "\n",
              "    [theme=dark] .colab-df-convert:hover {\n",
              "      background-color: #434B5C;\n",
              "      box-shadow: 0px 1px 3px 1px rgba(0, 0, 0, 0.15);\n",
              "      filter: drop-shadow(0px 1px 2px rgba(0, 0, 0, 0.3));\n",
              "      fill: #FFFFFF;\n",
              "    }\n",
              "  </style>\n",
              "\n",
              "    <script>\n",
              "      const buttonEl =\n",
              "        document.querySelector('#df-b4252316-353a-49ae-97ea-9b3b1d950a6a button.colab-df-convert');\n",
              "      buttonEl.style.display =\n",
              "        google.colab.kernel.accessAllowed ? 'block' : 'none';\n",
              "\n",
              "      async function convertToInteractive(key) {\n",
              "        const element = document.querySelector('#df-b4252316-353a-49ae-97ea-9b3b1d950a6a');\n",
              "        const dataTable =\n",
              "          await google.colab.kernel.invokeFunction('convertToInteractive',\n",
              "                                                    [key], {});\n",
              "        if (!dataTable) return;\n",
              "\n",
              "        const docLinkHtml = 'Like what you see? Visit the ' +\n",
              "          '<a target=\"_blank\" href=https://colab.research.google.com/notebooks/data_table.ipynb>data table notebook</a>'\n",
              "          + ' to learn more about interactive tables.';\n",
              "        element.innerHTML = '';\n",
              "        dataTable['output_type'] = 'display_data';\n",
              "        await google.colab.output.renderOutput(dataTable, element);\n",
              "        const docLink = document.createElement('div');\n",
              "        docLink.innerHTML = docLinkHtml;\n",
              "        element.appendChild(docLink);\n",
              "      }\n",
              "    </script>\n",
              "  </div>\n",
              "\n",
              "\n",
              "<div id=\"df-d0f3438e-772a-4db1-aa81-cc3f5cedc9f9\">\n",
              "  <button class=\"colab-df-quickchart\" onclick=\"quickchart('df-d0f3438e-772a-4db1-aa81-cc3f5cedc9f9')\"\n",
              "            title=\"Suggest charts\"\n",
              "            style=\"display:none;\">\n",
              "\n",
              "<svg xmlns=\"http://www.w3.org/2000/svg\" height=\"24px\"viewBox=\"0 0 24 24\"\n",
              "     width=\"24px\">\n",
              "    <g>\n",
              "        <path d=\"M19 3H5c-1.1 0-2 .9-2 2v14c0 1.1.9 2 2 2h14c1.1 0 2-.9 2-2V5c0-1.1-.9-2-2-2zM9 17H7v-7h2v7zm4 0h-2V7h2v10zm4 0h-2v-4h2v4z\"/>\n",
              "    </g>\n",
              "</svg>\n",
              "  </button>\n",
              "\n",
              "<style>\n",
              "  .colab-df-quickchart {\n",
              "      --bg-color: #E8F0FE;\n",
              "      --fill-color: #1967D2;\n",
              "      --hover-bg-color: #E2EBFA;\n",
              "      --hover-fill-color: #174EA6;\n",
              "      --disabled-fill-color: #AAA;\n",
              "      --disabled-bg-color: #DDD;\n",
              "  }\n",
              "\n",
              "  [theme=dark] .colab-df-quickchart {\n",
              "      --bg-color: #3B4455;\n",
              "      --fill-color: #D2E3FC;\n",
              "      --hover-bg-color: #434B5C;\n",
              "      --hover-fill-color: #FFFFFF;\n",
              "      --disabled-bg-color: #3B4455;\n",
              "      --disabled-fill-color: #666;\n",
              "  }\n",
              "\n",
              "  .colab-df-quickchart {\n",
              "    background-color: var(--bg-color);\n",
              "    border: none;\n",
              "    border-radius: 50%;\n",
              "    cursor: pointer;\n",
              "    display: none;\n",
              "    fill: var(--fill-color);\n",
              "    height: 32px;\n",
              "    padding: 0;\n",
              "    width: 32px;\n",
              "  }\n",
              "\n",
              "  .colab-df-quickchart:hover {\n",
              "    background-color: var(--hover-bg-color);\n",
              "    box-shadow: 0 1px 2px rgba(60, 64, 67, 0.3), 0 1px 3px 1px rgba(60, 64, 67, 0.15);\n",
              "    fill: var(--button-hover-fill-color);\n",
              "  }\n",
              "\n",
              "  .colab-df-quickchart-complete:disabled,\n",
              "  .colab-df-quickchart-complete:disabled:hover {\n",
              "    background-color: var(--disabled-bg-color);\n",
              "    fill: var(--disabled-fill-color);\n",
              "    box-shadow: none;\n",
              "  }\n",
              "\n",
              "  .colab-df-spinner {\n",
              "    border: 2px solid var(--fill-color);\n",
              "    border-color: transparent;\n",
              "    border-bottom-color: var(--fill-color);\n",
              "    animation:\n",
              "      spin 1s steps(1) infinite;\n",
              "  }\n",
              "\n",
              "  @keyframes spin {\n",
              "    0% {\n",
              "      border-color: transparent;\n",
              "      border-bottom-color: var(--fill-color);\n",
              "      border-left-color: var(--fill-color);\n",
              "    }\n",
              "    20% {\n",
              "      border-color: transparent;\n",
              "      border-left-color: var(--fill-color);\n",
              "      border-top-color: var(--fill-color);\n",
              "    }\n",
              "    30% {\n",
              "      border-color: transparent;\n",
              "      border-left-color: var(--fill-color);\n",
              "      border-top-color: var(--fill-color);\n",
              "      border-right-color: var(--fill-color);\n",
              "    }\n",
              "    40% {\n",
              "      border-color: transparent;\n",
              "      border-right-color: var(--fill-color);\n",
              "      border-top-color: var(--fill-color);\n",
              "    }\n",
              "    60% {\n",
              "      border-color: transparent;\n",
              "      border-right-color: var(--fill-color);\n",
              "    }\n",
              "    80% {\n",
              "      border-color: transparent;\n",
              "      border-right-color: var(--fill-color);\n",
              "      border-bottom-color: var(--fill-color);\n",
              "    }\n",
              "    90% {\n",
              "      border-color: transparent;\n",
              "      border-bottom-color: var(--fill-color);\n",
              "    }\n",
              "  }\n",
              "</style>\n",
              "\n",
              "  <script>\n",
              "    async function quickchart(key) {\n",
              "      const quickchartButtonEl =\n",
              "        document.querySelector('#' + key + ' button');\n",
              "      quickchartButtonEl.disabled = true;  // To prevent multiple clicks.\n",
              "      quickchartButtonEl.classList.add('colab-df-spinner');\n",
              "      try {\n",
              "        const charts = await google.colab.kernel.invokeFunction(\n",
              "            'suggestCharts', [key], {});\n",
              "      } catch (error) {\n",
              "        console.error('Error during call to suggestCharts:', error);\n",
              "      }\n",
              "      quickchartButtonEl.classList.remove('colab-df-spinner');\n",
              "      quickchartButtonEl.classList.add('colab-df-quickchart-complete');\n",
              "    }\n",
              "    (() => {\n",
              "      let quickchartButtonEl =\n",
              "        document.querySelector('#df-d0f3438e-772a-4db1-aa81-cc3f5cedc9f9 button');\n",
              "      quickchartButtonEl.style.display =\n",
              "        google.colab.kernel.accessAllowed ? 'block' : 'none';\n",
              "    })();\n",
              "  </script>\n",
              "</div>\n",
              "    </div>\n",
              "  </div>\n"
            ],
            "application/vnd.google.colaboratory.intrinsic+json": {
              "type": "dataframe",
              "variable_name": "areacodes_df",
              "summary": "{\n  \"name\": \"areacodes_df\",\n  \"rows\": 54,\n  \"fields\": [\n    {\n      \"column\": \"area_id\",\n      \"properties\": {\n        \"dtype\": \"string\",\n        \"num_unique_values\": 54,\n        \"samples\": [\n          \"A0019\",\n          \"A0050\",\n          \"A0049\"\n        ],\n        \"semantic_type\": \"\",\n        \"description\": \"\"\n      }\n    },\n    {\n      \"column\": \"area_name\",\n      \"properties\": {\n        \"dtype\": \"string\",\n        \"num_unique_values\": 54,\n        \"samples\": [\n          \"Penang\",\n          \"Caturtunggal\",\n          \"Sinduadi\"\n        ],\n        \"semantic_type\": \"\",\n        \"description\": \"\"\n      }\n    },\n    {\n      \"column\": \"area_squad\",\n      \"properties\": {\n        \"dtype\": \"number\",\n        \"std\": 1.2146302154286381,\n        \"min\": 0.0,\n        \"max\": 5.0,\n        \"num_unique_values\": 6,\n        \"samples\": [\n          3.0,\n          2.0,\n          5.0\n        ],\n        \"semantic_type\": \"\",\n        \"description\": \"\"\n      }\n    },\n    {\n      \"column\": \"employee_id\",\n      \"properties\": {\n        \"dtype\": \"category\",\n        \"num_unique_values\": 11,\n        \"samples\": [\n          \"E0036\",\n          \"E0028\",\n          \"E0017\"\n        ],\n        \"semantic_type\": \"\",\n        \"description\": \"\"\n      }\n    },\n    {\n      \"column\": \"area_distance_to_airport\",\n      \"properties\": {\n        \"dtype\": \"number\",\n        \"std\": 36.47118120960068,\n        \"min\": 30.0,\n        \"max\": 180.0,\n        \"num_unique_values\": 6,\n        \"samples\": [\n          30.0,\n          60.0,\n          90.0\n        ],\n        \"semantic_type\": \"\",\n        \"description\": \"\"\n      }\n    },\n    {\n      \"column\": \"airport_pickup_price_idr\",\n      \"properties\": {\n        \"dtype\": \"number\",\n        \"std\": 164599.99360491132,\n        \"min\": 0.0,\n        \"max\": 700000.0,\n        \"num_unique_values\": 11,\n        \"samples\": [\n          250000.0,\n          325000.0,\n          350000.0\n        ],\n        \"semantic_type\": \"\",\n        \"description\": \"\"\n      }\n    },\n    {\n      \"column\": \"area_airport_name\",\n      \"properties\": {\n        \"dtype\": \"category\",\n        \"num_unique_values\": 2,\n        \"samples\": [\n          \"Ngurah Rai (DPS)\",\n          \"Adi Sucipto (JOG)\"\n        ],\n        \"semantic_type\": \"\",\n        \"description\": \"\"\n      }\n    },\n    {\n      \"column\": \"region_id\",\n      \"properties\": {\n        \"dtype\": \"number\",\n        \"std\": 0.5328903502931349,\n        \"min\": 1.0,\n        \"max\": 3.0,\n        \"num_unique_values\": 3,\n        \"samples\": [\n          2.0,\n          1.0\n        ],\n        \"semantic_type\": \"\",\n        \"description\": \"\"\n      }\n    }\n  ]\n}"
            }
          },
          "metadata": {},
          "execution_count": 131
        }
      ],
      "source": [
        "areacodes_df.head()"
      ]
    },
    {
      "cell_type": "markdown",
      "metadata": {
        "id": "lhwmi4mSlutF"
      },
      "source": [
        "Next we will check is there any duplicates in main and areacodes dataframe."
      ]
    },
    {
      "cell_type": "code",
      "execution_count": 132,
      "metadata": {
        "colab": {
          "base_uri": "https://localhost:8080/"
        },
        "id": "7DBIYqAUmNgD",
        "outputId": "a324fef4-56fd-4689-e01e-d5ffbe58de27"
      },
      "outputs": [
        {
          "output_type": "stream",
          "name": "stdout",
          "text": [
            "Main data duplicate count:  0\n",
            "Areacodes data duplicate count:  0\n"
          ]
        }
      ],
      "source": [
        "print(\"Main data duplicate count: \",main_df.duplicated().sum())\n",
        "print(\"Areacodes data duplicate count: \",areacodes_df.duplicated().sum())"
      ]
    },
    {
      "cell_type": "markdown",
      "metadata": {
        "id": "bmhp0yLummGO"
      },
      "source": [
        "After checking, it can be determined that both datasets do not have duplicates. Next we will check null values from both datasets."
      ]
    },
    {
      "cell_type": "code",
      "execution_count": 133,
      "metadata": {
        "colab": {
          "base_uri": "https://localhost:8080/"
        },
        "id": "vFUkAdg1m0L3",
        "outputId": "b6efae6a-c8e9-4c95-d31e-f5b063eb1b17"
      },
      "outputs": [
        {
          "output_type": "execute_result",
          "data": {
            "text/plain": [
              "property_id                 0\n",
              "unit_id                     0\n",
              "average_baseline_price      0\n",
              "bedroom                     0\n",
              "bathroom                  233\n",
              "beds                      233\n",
              "capacity                  240\n",
              "ac                        234\n",
              "balcony                   234\n",
              "beachfront                234\n",
              "breakfast                 234\n",
              "building_staff            234\n",
              "cable_tv                  234\n",
              "essentials                234\n",
              "garden                    234\n",
              "gym                       234\n",
              "hair_dryer                234\n",
              "hanger                    234\n",
              "heating                   234\n",
              "hot_water                 234\n",
              "kitchen                   234\n",
              "linens                    234\n",
              "lock                      234\n",
              "luggage_drop_off          234\n",
              "parking                   234\n",
              "pool                      234\n",
              "private_entrance          234\n",
              "shampoo                   234\n",
              "tv                        234\n",
              "washer                    234\n",
              "wifi                      234\n",
              "workspace                 234\n",
              "lat                       244\n",
              "lng                       244\n",
              "property_name               1\n",
              "property_direction        218\n",
              "property_type               1\n",
              "property_design             2\n",
              "area_id                     1\n",
              "distance_to_coastline     324\n",
              "dtype: int64"
            ]
          },
          "metadata": {},
          "execution_count": 133
        }
      ],
      "source": [
        "main_df.isna().sum()"
      ]
    },
    {
      "cell_type": "markdown",
      "metadata": {
        "id": "AOPPsCBdnds8"
      },
      "source": [
        "From the main dataset,we can see that many missing values are found."
      ]
    },
    {
      "cell_type": "code",
      "execution_count": 134,
      "metadata": {
        "colab": {
          "base_uri": "https://localhost:8080/"
        },
        "id": "hIEIa0fnnxOg",
        "outputId": "44bd40d7-d388-40b4-923b-623f0dc26b1f"
      },
      "outputs": [
        {
          "output_type": "execute_result",
          "data": {
            "text/plain": [
              "area_id                      0\n",
              "area_name                    0\n",
              "area_squad                   1\n",
              "employee_id                 32\n",
              "area_distance_to_airport    36\n",
              "airport_pickup_price_idr    34\n",
              "area_airport_name           34\n",
              "region_id                   12\n",
              "dtype: int64"
            ]
          },
          "metadata": {},
          "execution_count": 134
        }
      ],
      "source": [
        "areacodes_df.isna().sum()"
      ]
    },
    {
      "cell_type": "markdown",
      "metadata": {
        "id": "cUXcrBQen9Hm"
      },
      "source": [
        "From the areacodes dataset, it can be seen that the column with the most missing values is area_distance_to_airport, with a total of 36 missing values."
      ]
    },
    {
      "cell_type": "code",
      "execution_count": 135,
      "metadata": {
        "colab": {
          "base_uri": "https://localhost:8080/",
          "height": 349
        },
        "id": "fBEkI4eeoXWk",
        "outputId": "5fa8550f-f5c9-4ead-eae8-37682079c5db"
      },
      "outputs": [
        {
          "output_type": "execute_result",
          "data": {
            "text/plain": [
              "       average_baseline_price     bedroom   bathroom        beds    capacity  \\\n",
              "count            3.570000e+02  357.000000  124.00000  124.000000  117.000000   \n",
              "mean             1.083664e+06    2.291317    1.58871    1.612903    3.162393   \n",
              "std              1.064922e+06    1.217502    1.21650    1.194225    2.025515   \n",
              "min              1.218643e+05    1.000000    0.00000    0.000000    0.000000   \n",
              "25%              4.143750e+05    1.000000    1.00000    1.000000    2.000000   \n",
              "50%              7.123804e+05    2.000000    1.00000    1.000000    2.000000   \n",
              "75%              1.363969e+06    3.000000    2.00000    2.000000    4.000000   \n",
              "max              8.677478e+06    8.000000    8.00000    8.000000    9.000000   \n",
              "\n",
              "               ac     balcony  beachfront   breakfast  building_staff  ...  \\\n",
              "count  123.000000  123.000000  123.000000  123.000000      123.000000  ...   \n",
              "mean     0.983740    0.495935    0.113821    0.439024        0.211382  ...   \n",
              "std      0.126992    0.502028    0.318893    0.498298        0.409959  ...   \n",
              "min      0.000000    0.000000    0.000000    0.000000        0.000000  ...   \n",
              "25%      1.000000    0.000000    0.000000    0.000000        0.000000  ...   \n",
              "50%      1.000000    0.000000    0.000000    0.000000        0.000000  ...   \n",
              "75%      1.000000    1.000000    0.000000    1.000000        0.000000  ...   \n",
              "max      1.000000    1.000000    1.000000    1.000000        1.000000  ...   \n",
              "\n",
              "          shampoo          tv      washer        wifi   workspace         lat  \\\n",
              "count  123.000000  123.000000  123.000000  123.000000  123.000000  113.000000   \n",
              "mean     0.682927    0.666667    0.105691    0.975610    0.869919   -8.648274   \n",
              "std      0.467239    0.473333    0.308699    0.154888    0.337769    0.292948   \n",
              "min      0.000000    0.000000    0.000000    0.000000    0.000000   -8.837896   \n",
              "25%      0.000000    0.000000    0.000000    1.000000    1.000000   -8.809042   \n",
              "50%      1.000000    1.000000    0.000000    1.000000    1.000000   -8.784648   \n",
              "75%      1.000000    1.000000    0.000000    1.000000    1.000000   -8.653643   \n",
              "max      1.000000    1.000000    1.000000    1.000000    1.000000   -7.728722   \n",
              "\n",
              "              lng  property_type  property_design  distance_to_coastline  \n",
              "count  113.000000     356.000000       355.000000              33.000000  \n",
              "mean   114.412454       3.157303         0.960563            1732.067330  \n",
              "std      3.635156       1.195285         1.521455            3110.250551  \n",
              "min     79.230512       1.000000         0.000000              15.603500  \n",
              "25%    115.113573       2.000000         0.000000             121.038000  \n",
              "50%    115.131820       4.000000         0.000000             761.362000  \n",
              "75%    115.154710       4.000000         1.000000            2033.490000  \n",
              "max    115.586846       5.000000         5.000000           14402.100000  \n",
              "\n",
              "[8 rows x 35 columns]"
            ],
            "text/html": [
              "\n",
              "  <div id=\"df-7a0309c6-8ce5-4ac4-bbdc-59f17620c0e9\" class=\"colab-df-container\">\n",
              "    <div>\n",
              "<style scoped>\n",
              "    .dataframe tbody tr th:only-of-type {\n",
              "        vertical-align: middle;\n",
              "    }\n",
              "\n",
              "    .dataframe tbody tr th {\n",
              "        vertical-align: top;\n",
              "    }\n",
              "\n",
              "    .dataframe thead th {\n",
              "        text-align: right;\n",
              "    }\n",
              "</style>\n",
              "<table border=\"1\" class=\"dataframe\">\n",
              "  <thead>\n",
              "    <tr style=\"text-align: right;\">\n",
              "      <th></th>\n",
              "      <th>average_baseline_price</th>\n",
              "      <th>bedroom</th>\n",
              "      <th>bathroom</th>\n",
              "      <th>beds</th>\n",
              "      <th>capacity</th>\n",
              "      <th>ac</th>\n",
              "      <th>balcony</th>\n",
              "      <th>beachfront</th>\n",
              "      <th>breakfast</th>\n",
              "      <th>building_staff</th>\n",
              "      <th>...</th>\n",
              "      <th>shampoo</th>\n",
              "      <th>tv</th>\n",
              "      <th>washer</th>\n",
              "      <th>wifi</th>\n",
              "      <th>workspace</th>\n",
              "      <th>lat</th>\n",
              "      <th>lng</th>\n",
              "      <th>property_type</th>\n",
              "      <th>property_design</th>\n",
              "      <th>distance_to_coastline</th>\n",
              "    </tr>\n",
              "  </thead>\n",
              "  <tbody>\n",
              "    <tr>\n",
              "      <th>count</th>\n",
              "      <td>3.570000e+02</td>\n",
              "      <td>357.000000</td>\n",
              "      <td>124.00000</td>\n",
              "      <td>124.000000</td>\n",
              "      <td>117.000000</td>\n",
              "      <td>123.000000</td>\n",
              "      <td>123.000000</td>\n",
              "      <td>123.000000</td>\n",
              "      <td>123.000000</td>\n",
              "      <td>123.000000</td>\n",
              "      <td>...</td>\n",
              "      <td>123.000000</td>\n",
              "      <td>123.000000</td>\n",
              "      <td>123.000000</td>\n",
              "      <td>123.000000</td>\n",
              "      <td>123.000000</td>\n",
              "      <td>113.000000</td>\n",
              "      <td>113.000000</td>\n",
              "      <td>356.000000</td>\n",
              "      <td>355.000000</td>\n",
              "      <td>33.000000</td>\n",
              "    </tr>\n",
              "    <tr>\n",
              "      <th>mean</th>\n",
              "      <td>1.083664e+06</td>\n",
              "      <td>2.291317</td>\n",
              "      <td>1.58871</td>\n",
              "      <td>1.612903</td>\n",
              "      <td>3.162393</td>\n",
              "      <td>0.983740</td>\n",
              "      <td>0.495935</td>\n",
              "      <td>0.113821</td>\n",
              "      <td>0.439024</td>\n",
              "      <td>0.211382</td>\n",
              "      <td>...</td>\n",
              "      <td>0.682927</td>\n",
              "      <td>0.666667</td>\n",
              "      <td>0.105691</td>\n",
              "      <td>0.975610</td>\n",
              "      <td>0.869919</td>\n",
              "      <td>-8.648274</td>\n",
              "      <td>114.412454</td>\n",
              "      <td>3.157303</td>\n",
              "      <td>0.960563</td>\n",
              "      <td>1732.067330</td>\n",
              "    </tr>\n",
              "    <tr>\n",
              "      <th>std</th>\n",
              "      <td>1.064922e+06</td>\n",
              "      <td>1.217502</td>\n",
              "      <td>1.21650</td>\n",
              "      <td>1.194225</td>\n",
              "      <td>2.025515</td>\n",
              "      <td>0.126992</td>\n",
              "      <td>0.502028</td>\n",
              "      <td>0.318893</td>\n",
              "      <td>0.498298</td>\n",
              "      <td>0.409959</td>\n",
              "      <td>...</td>\n",
              "      <td>0.467239</td>\n",
              "      <td>0.473333</td>\n",
              "      <td>0.308699</td>\n",
              "      <td>0.154888</td>\n",
              "      <td>0.337769</td>\n",
              "      <td>0.292948</td>\n",
              "      <td>3.635156</td>\n",
              "      <td>1.195285</td>\n",
              "      <td>1.521455</td>\n",
              "      <td>3110.250551</td>\n",
              "    </tr>\n",
              "    <tr>\n",
              "      <th>min</th>\n",
              "      <td>1.218643e+05</td>\n",
              "      <td>1.000000</td>\n",
              "      <td>0.00000</td>\n",
              "      <td>0.000000</td>\n",
              "      <td>0.000000</td>\n",
              "      <td>0.000000</td>\n",
              "      <td>0.000000</td>\n",
              "      <td>0.000000</td>\n",
              "      <td>0.000000</td>\n",
              "      <td>0.000000</td>\n",
              "      <td>...</td>\n",
              "      <td>0.000000</td>\n",
              "      <td>0.000000</td>\n",
              "      <td>0.000000</td>\n",
              "      <td>0.000000</td>\n",
              "      <td>0.000000</td>\n",
              "      <td>-8.837896</td>\n",
              "      <td>79.230512</td>\n",
              "      <td>1.000000</td>\n",
              "      <td>0.000000</td>\n",
              "      <td>15.603500</td>\n",
              "    </tr>\n",
              "    <tr>\n",
              "      <th>25%</th>\n",
              "      <td>4.143750e+05</td>\n",
              "      <td>1.000000</td>\n",
              "      <td>1.00000</td>\n",
              "      <td>1.000000</td>\n",
              "      <td>2.000000</td>\n",
              "      <td>1.000000</td>\n",
              "      <td>0.000000</td>\n",
              "      <td>0.000000</td>\n",
              "      <td>0.000000</td>\n",
              "      <td>0.000000</td>\n",
              "      <td>...</td>\n",
              "      <td>0.000000</td>\n",
              "      <td>0.000000</td>\n",
              "      <td>0.000000</td>\n",
              "      <td>1.000000</td>\n",
              "      <td>1.000000</td>\n",
              "      <td>-8.809042</td>\n",
              "      <td>115.113573</td>\n",
              "      <td>2.000000</td>\n",
              "      <td>0.000000</td>\n",
              "      <td>121.038000</td>\n",
              "    </tr>\n",
              "    <tr>\n",
              "      <th>50%</th>\n",
              "      <td>7.123804e+05</td>\n",
              "      <td>2.000000</td>\n",
              "      <td>1.00000</td>\n",
              "      <td>1.000000</td>\n",
              "      <td>2.000000</td>\n",
              "      <td>1.000000</td>\n",
              "      <td>0.000000</td>\n",
              "      <td>0.000000</td>\n",
              "      <td>0.000000</td>\n",
              "      <td>0.000000</td>\n",
              "      <td>...</td>\n",
              "      <td>1.000000</td>\n",
              "      <td>1.000000</td>\n",
              "      <td>0.000000</td>\n",
              "      <td>1.000000</td>\n",
              "      <td>1.000000</td>\n",
              "      <td>-8.784648</td>\n",
              "      <td>115.131820</td>\n",
              "      <td>4.000000</td>\n",
              "      <td>0.000000</td>\n",
              "      <td>761.362000</td>\n",
              "    </tr>\n",
              "    <tr>\n",
              "      <th>75%</th>\n",
              "      <td>1.363969e+06</td>\n",
              "      <td>3.000000</td>\n",
              "      <td>2.00000</td>\n",
              "      <td>2.000000</td>\n",
              "      <td>4.000000</td>\n",
              "      <td>1.000000</td>\n",
              "      <td>1.000000</td>\n",
              "      <td>0.000000</td>\n",
              "      <td>1.000000</td>\n",
              "      <td>0.000000</td>\n",
              "      <td>...</td>\n",
              "      <td>1.000000</td>\n",
              "      <td>1.000000</td>\n",
              "      <td>0.000000</td>\n",
              "      <td>1.000000</td>\n",
              "      <td>1.000000</td>\n",
              "      <td>-8.653643</td>\n",
              "      <td>115.154710</td>\n",
              "      <td>4.000000</td>\n",
              "      <td>1.000000</td>\n",
              "      <td>2033.490000</td>\n",
              "    </tr>\n",
              "    <tr>\n",
              "      <th>max</th>\n",
              "      <td>8.677478e+06</td>\n",
              "      <td>8.000000</td>\n",
              "      <td>8.00000</td>\n",
              "      <td>8.000000</td>\n",
              "      <td>9.000000</td>\n",
              "      <td>1.000000</td>\n",
              "      <td>1.000000</td>\n",
              "      <td>1.000000</td>\n",
              "      <td>1.000000</td>\n",
              "      <td>1.000000</td>\n",
              "      <td>...</td>\n",
              "      <td>1.000000</td>\n",
              "      <td>1.000000</td>\n",
              "      <td>1.000000</td>\n",
              "      <td>1.000000</td>\n",
              "      <td>1.000000</td>\n",
              "      <td>-7.728722</td>\n",
              "      <td>115.586846</td>\n",
              "      <td>5.000000</td>\n",
              "      <td>5.000000</td>\n",
              "      <td>14402.100000</td>\n",
              "    </tr>\n",
              "  </tbody>\n",
              "</table>\n",
              "<p>8 rows × 35 columns</p>\n",
              "</div>\n",
              "    <div class=\"colab-df-buttons\">\n",
              "\n",
              "  <div class=\"colab-df-container\">\n",
              "    <button class=\"colab-df-convert\" onclick=\"convertToInteractive('df-7a0309c6-8ce5-4ac4-bbdc-59f17620c0e9')\"\n",
              "            title=\"Convert this dataframe to an interactive table.\"\n",
              "            style=\"display:none;\">\n",
              "\n",
              "  <svg xmlns=\"http://www.w3.org/2000/svg\" height=\"24px\" viewBox=\"0 -960 960 960\">\n",
              "    <path d=\"M120-120v-720h720v720H120Zm60-500h600v-160H180v160Zm220 220h160v-160H400v160Zm0 220h160v-160H400v160ZM180-400h160v-160H180v160Zm440 0h160v-160H620v160ZM180-180h160v-160H180v160Zm440 0h160v-160H620v160Z\"/>\n",
              "  </svg>\n",
              "    </button>\n",
              "\n",
              "  <style>\n",
              "    .colab-df-container {\n",
              "      display:flex;\n",
              "      gap: 12px;\n",
              "    }\n",
              "\n",
              "    .colab-df-convert {\n",
              "      background-color: #E8F0FE;\n",
              "      border: none;\n",
              "      border-radius: 50%;\n",
              "      cursor: pointer;\n",
              "      display: none;\n",
              "      fill: #1967D2;\n",
              "      height: 32px;\n",
              "      padding: 0 0 0 0;\n",
              "      width: 32px;\n",
              "    }\n",
              "\n",
              "    .colab-df-convert:hover {\n",
              "      background-color: #E2EBFA;\n",
              "      box-shadow: 0px 1px 2px rgba(60, 64, 67, 0.3), 0px 1px 3px 1px rgba(60, 64, 67, 0.15);\n",
              "      fill: #174EA6;\n",
              "    }\n",
              "\n",
              "    .colab-df-buttons div {\n",
              "      margin-bottom: 4px;\n",
              "    }\n",
              "\n",
              "    [theme=dark] .colab-df-convert {\n",
              "      background-color: #3B4455;\n",
              "      fill: #D2E3FC;\n",
              "    }\n",
              "\n",
              "    [theme=dark] .colab-df-convert:hover {\n",
              "      background-color: #434B5C;\n",
              "      box-shadow: 0px 1px 3px 1px rgba(0, 0, 0, 0.15);\n",
              "      filter: drop-shadow(0px 1px 2px rgba(0, 0, 0, 0.3));\n",
              "      fill: #FFFFFF;\n",
              "    }\n",
              "  </style>\n",
              "\n",
              "    <script>\n",
              "      const buttonEl =\n",
              "        document.querySelector('#df-7a0309c6-8ce5-4ac4-bbdc-59f17620c0e9 button.colab-df-convert');\n",
              "      buttonEl.style.display =\n",
              "        google.colab.kernel.accessAllowed ? 'block' : 'none';\n",
              "\n",
              "      async function convertToInteractive(key) {\n",
              "        const element = document.querySelector('#df-7a0309c6-8ce5-4ac4-bbdc-59f17620c0e9');\n",
              "        const dataTable =\n",
              "          await google.colab.kernel.invokeFunction('convertToInteractive',\n",
              "                                                    [key], {});\n",
              "        if (!dataTable) return;\n",
              "\n",
              "        const docLinkHtml = 'Like what you see? Visit the ' +\n",
              "          '<a target=\"_blank\" href=https://colab.research.google.com/notebooks/data_table.ipynb>data table notebook</a>'\n",
              "          + ' to learn more about interactive tables.';\n",
              "        element.innerHTML = '';\n",
              "        dataTable['output_type'] = 'display_data';\n",
              "        await google.colab.output.renderOutput(dataTable, element);\n",
              "        const docLink = document.createElement('div');\n",
              "        docLink.innerHTML = docLinkHtml;\n",
              "        element.appendChild(docLink);\n",
              "      }\n",
              "    </script>\n",
              "  </div>\n",
              "\n",
              "\n",
              "<div id=\"df-f5a3528f-1e51-4d7a-8a4e-e22e9610b3fb\">\n",
              "  <button class=\"colab-df-quickchart\" onclick=\"quickchart('df-f5a3528f-1e51-4d7a-8a4e-e22e9610b3fb')\"\n",
              "            title=\"Suggest charts\"\n",
              "            style=\"display:none;\">\n",
              "\n",
              "<svg xmlns=\"http://www.w3.org/2000/svg\" height=\"24px\"viewBox=\"0 0 24 24\"\n",
              "     width=\"24px\">\n",
              "    <g>\n",
              "        <path d=\"M19 3H5c-1.1 0-2 .9-2 2v14c0 1.1.9 2 2 2h14c1.1 0 2-.9 2-2V5c0-1.1-.9-2-2-2zM9 17H7v-7h2v7zm4 0h-2V7h2v10zm4 0h-2v-4h2v4z\"/>\n",
              "    </g>\n",
              "</svg>\n",
              "  </button>\n",
              "\n",
              "<style>\n",
              "  .colab-df-quickchart {\n",
              "      --bg-color: #E8F0FE;\n",
              "      --fill-color: #1967D2;\n",
              "      --hover-bg-color: #E2EBFA;\n",
              "      --hover-fill-color: #174EA6;\n",
              "      --disabled-fill-color: #AAA;\n",
              "      --disabled-bg-color: #DDD;\n",
              "  }\n",
              "\n",
              "  [theme=dark] .colab-df-quickchart {\n",
              "      --bg-color: #3B4455;\n",
              "      --fill-color: #D2E3FC;\n",
              "      --hover-bg-color: #434B5C;\n",
              "      --hover-fill-color: #FFFFFF;\n",
              "      --disabled-bg-color: #3B4455;\n",
              "      --disabled-fill-color: #666;\n",
              "  }\n",
              "\n",
              "  .colab-df-quickchart {\n",
              "    background-color: var(--bg-color);\n",
              "    border: none;\n",
              "    border-radius: 50%;\n",
              "    cursor: pointer;\n",
              "    display: none;\n",
              "    fill: var(--fill-color);\n",
              "    height: 32px;\n",
              "    padding: 0;\n",
              "    width: 32px;\n",
              "  }\n",
              "\n",
              "  .colab-df-quickchart:hover {\n",
              "    background-color: var(--hover-bg-color);\n",
              "    box-shadow: 0 1px 2px rgba(60, 64, 67, 0.3), 0 1px 3px 1px rgba(60, 64, 67, 0.15);\n",
              "    fill: var(--button-hover-fill-color);\n",
              "  }\n",
              "\n",
              "  .colab-df-quickchart-complete:disabled,\n",
              "  .colab-df-quickchart-complete:disabled:hover {\n",
              "    background-color: var(--disabled-bg-color);\n",
              "    fill: var(--disabled-fill-color);\n",
              "    box-shadow: none;\n",
              "  }\n",
              "\n",
              "  .colab-df-spinner {\n",
              "    border: 2px solid var(--fill-color);\n",
              "    border-color: transparent;\n",
              "    border-bottom-color: var(--fill-color);\n",
              "    animation:\n",
              "      spin 1s steps(1) infinite;\n",
              "  }\n",
              "\n",
              "  @keyframes spin {\n",
              "    0% {\n",
              "      border-color: transparent;\n",
              "      border-bottom-color: var(--fill-color);\n",
              "      border-left-color: var(--fill-color);\n",
              "    }\n",
              "    20% {\n",
              "      border-color: transparent;\n",
              "      border-left-color: var(--fill-color);\n",
              "      border-top-color: var(--fill-color);\n",
              "    }\n",
              "    30% {\n",
              "      border-color: transparent;\n",
              "      border-left-color: var(--fill-color);\n",
              "      border-top-color: var(--fill-color);\n",
              "      border-right-color: var(--fill-color);\n",
              "    }\n",
              "    40% {\n",
              "      border-color: transparent;\n",
              "      border-right-color: var(--fill-color);\n",
              "      border-top-color: var(--fill-color);\n",
              "    }\n",
              "    60% {\n",
              "      border-color: transparent;\n",
              "      border-right-color: var(--fill-color);\n",
              "    }\n",
              "    80% {\n",
              "      border-color: transparent;\n",
              "      border-right-color: var(--fill-color);\n",
              "      border-bottom-color: var(--fill-color);\n",
              "    }\n",
              "    90% {\n",
              "      border-color: transparent;\n",
              "      border-bottom-color: var(--fill-color);\n",
              "    }\n",
              "  }\n",
              "</style>\n",
              "\n",
              "  <script>\n",
              "    async function quickchart(key) {\n",
              "      const quickchartButtonEl =\n",
              "        document.querySelector('#' + key + ' button');\n",
              "      quickchartButtonEl.disabled = true;  // To prevent multiple clicks.\n",
              "      quickchartButtonEl.classList.add('colab-df-spinner');\n",
              "      try {\n",
              "        const charts = await google.colab.kernel.invokeFunction(\n",
              "            'suggestCharts', [key], {});\n",
              "      } catch (error) {\n",
              "        console.error('Error during call to suggestCharts:', error);\n",
              "      }\n",
              "      quickchartButtonEl.classList.remove('colab-df-spinner');\n",
              "      quickchartButtonEl.classList.add('colab-df-quickchart-complete');\n",
              "    }\n",
              "    (() => {\n",
              "      let quickchartButtonEl =\n",
              "        document.querySelector('#df-f5a3528f-1e51-4d7a-8a4e-e22e9610b3fb button');\n",
              "      quickchartButtonEl.style.display =\n",
              "        google.colab.kernel.accessAllowed ? 'block' : 'none';\n",
              "    })();\n",
              "  </script>\n",
              "</div>\n",
              "    </div>\n",
              "  </div>\n"
            ],
            "application/vnd.google.colaboratory.intrinsic+json": {
              "type": "dataframe"
            }
          },
          "metadata": {},
          "execution_count": 135
        }
      ],
      "source": [
        "main_df.describe()"
      ]
    },
    {
      "cell_type": "markdown",
      "metadata": {
        "id": "qHrqQ1Bt3mG7"
      },
      "source": [
        "After seeing the description of the main data, the next step is to handle missing values ​​by dropping data that has a property_design feature value of null."
      ]
    },
    {
      "cell_type": "code",
      "execution_count": 136,
      "metadata": {
        "id": "3MR6G0PI4SuL"
      },
      "outputs": [],
      "source": [
        "main_df = main_df.dropna(subset=['property_design'])"
      ]
    },
    {
      "cell_type": "markdown",
      "metadata": {
        "id": "iO0HzKo14yUM"
      },
      "source": [
        "Next we check again the null value every features"
      ]
    },
    {
      "cell_type": "code",
      "execution_count": 137,
      "metadata": {
        "colab": {
          "base_uri": "https://localhost:8080/"
        },
        "id": "XVfy7QaM444F",
        "outputId": "e633dd91-c94b-4ba0-b375-e95bae4d1f28"
      },
      "outputs": [
        {
          "output_type": "execute_result",
          "data": {
            "text/plain": [
              "property_id                 0\n",
              "unit_id                     0\n",
              "average_baseline_price      0\n",
              "bedroom                     0\n",
              "bathroom                  231\n",
              "beds                      231\n",
              "capacity                  238\n",
              "ac                        232\n",
              "balcony                   232\n",
              "beachfront                232\n",
              "breakfast                 232\n",
              "building_staff            232\n",
              "cable_tv                  232\n",
              "essentials                232\n",
              "garden                    232\n",
              "gym                       232\n",
              "hair_dryer                232\n",
              "hanger                    232\n",
              "heating                   232\n",
              "hot_water                 232\n",
              "kitchen                   232\n",
              "linens                    232\n",
              "lock                      232\n",
              "luggage_drop_off          232\n",
              "parking                   232\n",
              "pool                      232\n",
              "private_entrance          232\n",
              "shampoo                   232\n",
              "tv                        232\n",
              "washer                    232\n",
              "wifi                      232\n",
              "workspace                 232\n",
              "lat                       242\n",
              "lng                       242\n",
              "property_name               0\n",
              "property_direction        216\n",
              "property_type               0\n",
              "property_design             0\n",
              "area_id                     0\n",
              "distance_to_coastline     322\n",
              "dtype: int64"
            ]
          },
          "metadata": {},
          "execution_count": 137
        }
      ],
      "source": [
        "main_df.isna().sum()"
      ]
    },
    {
      "cell_type": "markdown",
      "metadata": {
        "id": "Kg8tVAOe8KT5"
      },
      "source": [
        "The next step is to drop the features that are not used in the main dataset because they are already present in another dataset. These features include unit_id, bedroom, bathroom, up to the lng feature."
      ]
    },
    {
      "cell_type": "code",
      "execution_count": 138,
      "metadata": {
        "id": "XyQFbv505ZAp"
      },
      "outputs": [],
      "source": [
        "features_to_drop = [\n",
        "    'unit_id', 'bedroom', 'bathroom', 'beds', 'capacity', 'ac', 'balcony',\n",
        "    'beachfront', 'breakfast', 'building_staff', 'cable_tv', 'essentials',\n",
        "    'garden', 'gym', 'hair_dryer', 'hanger', 'heating', 'hot_water', 'kitchen',\n",
        "    'linens', 'lock', 'luggage_drop_off', 'parking', 'pool', 'private_entrance',\n",
        "    'shampoo', 'tv', 'washer', 'wifi', 'workspace', 'lat', 'lng'\n",
        "]\n",
        "\n",
        "main_df = main_df.drop(columns=features_to_drop)\n"
      ]
    },
    {
      "cell_type": "markdown",
      "source": [
        "Next we can check data info again"
      ],
      "metadata": {
        "id": "NVM5EvSML1O-"
      }
    },
    {
      "cell_type": "code",
      "source": [
        "main_df.isna().sum()"
      ],
      "metadata": {
        "colab": {
          "base_uri": "https://localhost:8080/"
        },
        "id": "g32NmUduLzdr",
        "outputId": "3cabf6a8-65ea-49da-c263-ec149cfbea58"
      },
      "execution_count": 139,
      "outputs": [
        {
          "output_type": "execute_result",
          "data": {
            "text/plain": [
              "property_id                 0\n",
              "average_baseline_price      0\n",
              "property_name               0\n",
              "property_direction        216\n",
              "property_type               0\n",
              "property_design             0\n",
              "area_id                     0\n",
              "distance_to_coastline     322\n",
              "dtype: int64"
            ]
          },
          "metadata": {},
          "execution_count": 139
        }
      ]
    },
    {
      "cell_type": "markdown",
      "source": [
        "Next, we will handle the missing values in the property direction with the value \"undefined\"."
      ],
      "metadata": {
        "id": "1H_9bO5YqcSL"
      }
    },
    {
      "cell_type": "code",
      "source": [
        "main_df['property_direction'].fillna('undefined', inplace=True)"
      ],
      "metadata": {
        "id": "qI2D0yR5qGK-"
      },
      "execution_count": 140,
      "outputs": []
    },
    {
      "cell_type": "markdown",
      "source": [
        "Next we can check data info again."
      ],
      "metadata": {
        "id": "duhhKOcgLuby"
      }
    },
    {
      "cell_type": "code",
      "source": [
        "main_df.isna().sum()"
      ],
      "metadata": {
        "colab": {
          "base_uri": "https://localhost:8080/"
        },
        "id": "4oo5rg_Uq9Vb",
        "outputId": "74b2e09d-155b-468c-ad35-4f4d7e27ecc6"
      },
      "execution_count": 141,
      "outputs": [
        {
          "output_type": "execute_result",
          "data": {
            "text/plain": [
              "property_id                 0\n",
              "average_baseline_price      0\n",
              "property_name               0\n",
              "property_direction          0\n",
              "property_type               0\n",
              "property_design             0\n",
              "area_id                     0\n",
              "distance_to_coastline     322\n",
              "dtype: int64"
            ]
          },
          "metadata": {},
          "execution_count": 141
        }
      ]
    },
    {
      "cell_type": "markdown",
      "source": [
        "We use histogram to describe data that related to distance to coastline."
      ],
      "metadata": {
        "id": "Kf08PfXVtjoq"
      }
    },
    {
      "cell_type": "code",
      "source": [
        "main_df['distance_to_coastline'].plot(kind='hist', bins=30, edgecolor='black')\n",
        "plt.title('Histogram of Distance to Coastline')\n",
        "plt.xlabel('Distance to Coastline')\n",
        "plt.ylabel('Frequency')\n",
        "plt.show()"
      ],
      "metadata": {
        "colab": {
          "base_uri": "https://localhost:8080/",
          "height": 472
        },
        "id": "VrxJbtfkylnq",
        "outputId": "5d720de5-63c2-4a3d-c089-69618bcf337b"
      },
      "execution_count": 142,
      "outputs": [
        {
          "output_type": "display_data",
          "data": {
            "text/plain": [
              "<Figure size 640x480 with 1 Axes>"
            ],
            "image/png": "[encoded data removed]"
          },
          "metadata": {}
        }
      ]
    },
    {
      "cell_type": "markdown",
      "source": [
        "Next step we can check outliers of the data using z-score."
      ],
      "metadata": {
        "id": "say-2MQL8fFj"
      }
    },
    {
      "cell_type": "code",
      "source": [
        "mean = np.mean(main_df['distance_to_coastline'])\n",
        "std = np.std(main_df['distance_to_coastline'])\n",
        "\n",
        "main_df['z_score'] = (main_df['distance_to_coastline'] - mean) / std\n",
        "threshold = 3\n",
        "outliers_z = main_df[np.abs(main_df['z_score']) > threshold]\n",
        "\n",
        "print(\"Outliers based on Z-Score:\")\n",
        "outliers_z.head()"
      ],
      "metadata": {
        "colab": {
          "base_uri": "https://localhost:8080/",
          "height": 219
        },
        "id": "xbphnui78lVB",
        "outputId": "3af317ff-749d-424b-fd43-e9c1a3cfcbb7"
      },
      "execution_count": 143,
      "outputs": [
        {
          "output_type": "stream",
          "name": "stdout",
          "text": [
            "Outliers based on Z-Score:\n"
          ]
        },
        {
          "output_type": "execute_result",
          "data": {
            "text/plain": [
              "    property_id  average_baseline_price     property_name  \\\n",
              "29       PR0294           398073.171803    Omah Gerjen 29   \n",
              "350      PR0453           649478.260870  Pondok Nini Ubud   \n",
              "\n",
              "                                    property_direction  property_type  \\\n",
              "29   Jl. Nyai Ahmad Dahlan No.29, Ngupasan, Kec. Go...            4.0   \n",
              "350  Jalan gunung sari, banjar ambengan, desa pelia...            2.0   \n",
              "\n",
              "     property_design area_id  distance_to_coastline   z_score  \n",
              "29               0.0   A0043                14402.1  4.136798  \n",
              "350              3.0   A0004                11926.3  3.328443  "
            ],
            "text/html": [
              "\n",
              "  <div id=\"df-d749f0e1-4f45-4b18-891e-944dfacf9268\" class=\"colab-df-container\">\n",
              "    <div>\n",
              "<style scoped>\n",
              "    .dataframe tbody tr th:only-of-type {\n",
              "        vertical-align: middle;\n",
              "    }\n",
              "\n",
              "    .dataframe tbody tr th {\n",
              "        vertical-align: top;\n",
              "    }\n",
              "\n",
              "    .dataframe thead th {\n",
              "        text-align: right;\n",
              "    }\n",
              "</style>\n",
              "<table border=\"1\" class=\"dataframe\">\n",
              "  <thead>\n",
              "    <tr style=\"text-align: right;\">\n",
              "      <th></th>\n",
              "      <th>property_id</th>\n",
              "      <th>average_baseline_price</th>\n",
              "      <th>property_name</th>\n",
              "      <th>property_direction</th>\n",
              "      <th>property_type</th>\n",
              "      <th>property_design</th>\n",
              "      <th>area_id</th>\n",
              "      <th>distance_to_coastline</th>\n",
              "      <th>z_score</th>\n",
              "    </tr>\n",
              "  </thead>\n",
              "  <tbody>\n",
              "    <tr>\n",
              "      <th>29</th>\n",
              "      <td>PR0294</td>\n",
              "      <td>398073.171803</td>\n",
              "      <td>Omah Gerjen 29</td>\n",
              "      <td>Jl. Nyai Ahmad Dahlan No.29, Ngupasan, Kec. Go...</td>\n",
              "      <td>4.0</td>\n",
              "      <td>0.0</td>\n",
              "      <td>A0043</td>\n",
              "      <td>14402.1</td>\n",
              "      <td>4.136798</td>\n",
              "    </tr>\n",
              "    <tr>\n",
              "      <th>350</th>\n",
              "      <td>PR0453</td>\n",
              "      <td>649478.260870</td>\n",
              "      <td>Pondok Nini Ubud</td>\n",
              "      <td>Jalan gunung sari, banjar ambengan, desa pelia...</td>\n",
              "      <td>2.0</td>\n",
              "      <td>3.0</td>\n",
              "      <td>A0004</td>\n",
              "      <td>11926.3</td>\n",
              "      <td>3.328443</td>\n",
              "    </tr>\n",
              "  </tbody>\n",
              "</table>\n",
              "</div>\n",
              "    <div class=\"colab-df-buttons\">\n",
              "\n",
              "  <div class=\"colab-df-container\">\n",
              "    <button class=\"colab-df-convert\" onclick=\"convertToInteractive('df-d749f0e1-4f45-4b18-891e-944dfacf9268')\"\n",
              "            title=\"Convert this dataframe to an interactive table.\"\n",
              "            style=\"display:none;\">\n",
              "\n",
              "  <svg xmlns=\"http://www.w3.org/2000/svg\" height=\"24px\" viewBox=\"0 -960 960 960\">\n",
              "    <path d=\"M120-120v-720h720v720H120Zm60-500h600v-160H180v160Zm220 220h160v-160H400v160Zm0 220h160v-160H400v160ZM180-400h160v-160H180v160Zm440 0h160v-160H620v160ZM180-180h160v-160H180v160Zm440 0h160v-160H620v160Z\"/>\n",
              "  </svg>\n",
              "    </button>\n",
              "\n",
              "  <style>\n",
              "    .colab-df-container {\n",
              "      display:flex;\n",
              "      gap: 12px;\n",
              "    }\n",
              "\n",
              "    .colab-df-convert {\n",
              "      background-color: #E8F0FE;\n",
              "      border: none;\n",
              "      border-radius: 50%;\n",
              "      cursor: pointer;\n",
              "      display: none;\n",
              "      fill: #1967D2;\n",
              "      height: 32px;\n",
              "      padding: 0 0 0 0;\n",
              "      width: 32px;\n",
              "    }\n",
              "\n",
              "    .colab-df-convert:hover {\n",
              "      background-color: #E2EBFA;\n",
              "      box-shadow: 0px 1px 2px rgba(60, 64, 67, 0.3), 0px 1px 3px 1px rgba(60, 64, 67, 0.15);\n",
              "      fill: #174EA6;\n",
              "    }\n",
              "\n",
              "    .colab-df-buttons div {\n",
              "      margin-bottom: 4px;\n",
              "    }\n",
              "\n",
              "    [theme=dark] .colab-df-convert {\n",
              "      background-color: #3B4455;\n",
              "      fill: #D2E3FC;\n",
              "    }\n",
              "\n",
              "    [theme=dark] .colab-df-convert:hover {\n",
              "      background-color: #434B5C;\n",
              "      box-shadow: 0px 1px 3px 1px rgba(0, 0, 0, 0.15);\n",
              "      filter: drop-shadow(0px 1px 2px rgba(0, 0, 0, 0.3));\n",
              "      fill: #FFFFFF;\n",
              "    }\n",
              "  </style>\n",
              "\n",
              "    <script>\n",
              "      const buttonEl =\n",
              "        document.querySelector('#df-d749f0e1-4f45-4b18-891e-944dfacf9268 button.colab-df-convert');\n",
              "      buttonEl.style.display =\n",
              "        google.colab.kernel.accessAllowed ? 'block' : 'none';\n",
              "\n",
              "      async function convertToInteractive(key) {\n",
              "        const element = document.querySelector('#df-d749f0e1-4f45-4b18-891e-944dfacf9268');\n",
              "        const dataTable =\n",
              "          await google.colab.kernel.invokeFunction('convertToInteractive',\n",
              "                                                    [key], {});\n",
              "        if (!dataTable) return;\n",
              "\n",
              "        const docLinkHtml = 'Like what you see? Visit the ' +\n",
              "          '<a target=\"_blank\" href=https://colab.research.google.com/notebooks/data_table.ipynb>data table notebook</a>'\n",
              "          + ' to learn more about interactive tables.';\n",
              "        element.innerHTML = '';\n",
              "        dataTable['output_type'] = 'display_data';\n",
              "        await google.colab.output.renderOutput(dataTable, element);\n",
              "        const docLink = document.createElement('div');\n",
              "        docLink.innerHTML = docLinkHtml;\n",
              "        element.appendChild(docLink);\n",
              "      }\n",
              "    </script>\n",
              "  </div>\n",
              "\n",
              "\n",
              "<div id=\"df-9eb63b5c-e9c8-4bf1-afa3-5fa4d7b123ce\">\n",
              "  <button class=\"colab-df-quickchart\" onclick=\"quickchart('df-9eb63b5c-e9c8-4bf1-afa3-5fa4d7b123ce')\"\n",
              "            title=\"Suggest charts\"\n",
              "            style=\"display:none;\">\n",
              "\n",
              "<svg xmlns=\"http://www.w3.org/2000/svg\" height=\"24px\"viewBox=\"0 0 24 24\"\n",
              "     width=\"24px\">\n",
              "    <g>\n",
              "        <path d=\"M19 3H5c-1.1 0-2 .9-2 2v14c0 1.1.9 2 2 2h14c1.1 0 2-.9 2-2V5c0-1.1-.9-2-2-2zM9 17H7v-7h2v7zm4 0h-2V7h2v10zm4 0h-2v-4h2v4z\"/>\n",
              "    </g>\n",
              "</svg>\n",
              "  </button>\n",
              "\n",
              "<style>\n",
              "  .colab-df-quickchart {\n",
              "      --bg-color: #E8F0FE;\n",
              "      --fill-color: #1967D2;\n",
              "      --hover-bg-color: #E2EBFA;\n",
              "      --hover-fill-color: #174EA6;\n",
              "      --disabled-fill-color: #AAA;\n",
              "      --disabled-bg-color: #DDD;\n",
              "  }\n",
              "\n",
              "  [theme=dark] .colab-df-quickchart {\n",
              "      --bg-color: #3B4455;\n",
              "      --fill-color: #D2E3FC;\n",
              "      --hover-bg-color: #434B5C;\n",
              "      --hover-fill-color: #FFFFFF;\n",
              "      --disabled-bg-color: #3B4455;\n",
              "      --disabled-fill-color: #666;\n",
              "  }\n",
              "\n",
              "  .colab-df-quickchart {\n",
              "    background-color: var(--bg-color);\n",
              "    border: none;\n",
              "    border-radius: 50%;\n",
              "    cursor: pointer;\n",
              "    display: none;\n",
              "    fill: var(--fill-color);\n",
              "    height: 32px;\n",
              "    padding: 0;\n",
              "    width: 32px;\n",
              "  }\n",
              "\n",
              "  .colab-df-quickchart:hover {\n",
              "    background-color: var(--hover-bg-color);\n",
              "    box-shadow: 0 1px 2px rgba(60, 64, 67, 0.3), 0 1px 3px 1px rgba(60, 64, 67, 0.15);\n",
              "    fill: var(--button-hover-fill-color);\n",
              "  }\n",
              "\n",
              "  .colab-df-quickchart-complete:disabled,\n",
              "  .colab-df-quickchart-complete:disabled:hover {\n",
              "    background-color: var(--disabled-bg-color);\n",
              "    fill: var(--disabled-fill-color);\n",
              "    box-shadow: none;\n",
              "  }\n",
              "\n",
              "  .colab-df-spinner {\n",
              "    border: 2px solid var(--fill-color);\n",
              "    border-color: transparent;\n",
              "    border-bottom-color: var(--fill-color);\n",
              "    animation:\n",
              "      spin 1s steps(1) infinite;\n",
              "  }\n",
              "\n",
              "  @keyframes spin {\n",
              "    0% {\n",
              "      border-color: transparent;\n",
              "      border-bottom-color: var(--fill-color);\n",
              "      border-left-color: var(--fill-color);\n",
              "    }\n",
              "    20% {\n",
              "      border-color: transparent;\n",
              "      border-left-color: var(--fill-color);\n",
              "      border-top-color: var(--fill-color);\n",
              "    }\n",
              "    30% {\n",
              "      border-color: transparent;\n",
              "      border-left-color: var(--fill-color);\n",
              "      border-top-color: var(--fill-color);\n",
              "      border-right-color: var(--fill-color);\n",
              "    }\n",
              "    40% {\n",
              "      border-color: transparent;\n",
              "      border-right-color: var(--fill-color);\n",
              "      border-top-color: var(--fill-color);\n",
              "    }\n",
              "    60% {\n",
              "      border-color: transparent;\n",
              "      border-right-color: var(--fill-color);\n",
              "    }\n",
              "    80% {\n",
              "      border-color: transparent;\n",
              "      border-right-color: var(--fill-color);\n",
              "      border-bottom-color: var(--fill-color);\n",
              "    }\n",
              "    90% {\n",
              "      border-color: transparent;\n",
              "      border-bottom-color: var(--fill-color);\n",
              "    }\n",
              "  }\n",
              "</style>\n",
              "\n",
              "  <script>\n",
              "    async function quickchart(key) {\n",
              "      const quickchartButtonEl =\n",
              "        document.querySelector('#' + key + ' button');\n",
              "      quickchartButtonEl.disabled = true;  // To prevent multiple clicks.\n",
              "      quickchartButtonEl.classList.add('colab-df-spinner');\n",
              "      try {\n",
              "        const charts = await google.colab.kernel.invokeFunction(\n",
              "            'suggestCharts', [key], {});\n",
              "      } catch (error) {\n",
              "        console.error('Error during call to suggestCharts:', error);\n",
              "      }\n",
              "      quickchartButtonEl.classList.remove('colab-df-spinner');\n",
              "      quickchartButtonEl.classList.add('colab-df-quickchart-complete');\n",
              "    }\n",
              "    (() => {\n",
              "      let quickchartButtonEl =\n",
              "        document.querySelector('#df-9eb63b5c-e9c8-4bf1-afa3-5fa4d7b123ce button');\n",
              "      quickchartButtonEl.style.display =\n",
              "        google.colab.kernel.accessAllowed ? 'block' : 'none';\n",
              "    })();\n",
              "  </script>\n",
              "</div>\n",
              "    </div>\n",
              "  </div>\n"
            ],
            "application/vnd.google.colaboratory.intrinsic+json": {
              "type": "dataframe",
              "variable_name": "outliers_z",
              "summary": "{\n  \"name\": \"outliers_z\",\n  \"rows\": 2,\n  \"fields\": [\n    {\n      \"column\": \"property_id\",\n      \"properties\": {\n        \"dtype\": \"string\",\n        \"num_unique_values\": 2,\n        \"samples\": [\n          \"PR0453\",\n          \"PR0294\"\n        ],\n        \"semantic_type\": \"\",\n        \"description\": \"\"\n      }\n    },\n    {\n      \"column\": \"average_baseline_price\",\n      \"properties\": {\n        \"dtype\": \"number\",\n        \"std\": 177770.24330382314,\n        \"min\": 398073.1718029336,\n        \"max\": 649478.2608695652,\n        \"num_unique_values\": 2,\n        \"samples\": [\n          649478.2608695652,\n          398073.1718029336\n        ],\n        \"semantic_type\": \"\",\n        \"description\": \"\"\n      }\n    },\n    {\n      \"column\": \"property_name\",\n      \"properties\": {\n        \"dtype\": \"string\",\n        \"num_unique_values\": 2,\n        \"samples\": [\n          \"Pondok Nini Ubud\",\n          \"Omah Gerjen 29\"\n        ],\n        \"semantic_type\": \"\",\n        \"description\": \"\"\n      }\n    },\n    {\n      \"column\": \"property_direction\",\n      \"properties\": {\n        \"dtype\": \"string\",\n        \"num_unique_values\": 2,\n        \"samples\": [\n          \"Jalan gunung sari, banjar ambengan, desa peliatan, ubud\",\n          \"Jl. Nyai Ahmad Dahlan No.29, Ngupasan, Kec. Gondomanan, Kota Yogyakarta, Daerah Istimewa Yogyakarta 55122\"\n        ],\n        \"semantic_type\": \"\",\n        \"description\": \"\"\n      }\n    },\n    {\n      \"column\": \"property_type\",\n      \"properties\": {\n        \"dtype\": \"number\",\n        \"std\": 1.4142135623730951,\n        \"min\": 2.0,\n        \"max\": 4.0,\n        \"num_unique_values\": 2,\n        \"samples\": [\n          2.0,\n          4.0\n        ],\n        \"semantic_type\": \"\",\n        \"description\": \"\"\n      }\n    },\n    {\n      \"column\": \"property_design\",\n      \"properties\": {\n        \"dtype\": \"number\",\n        \"std\": 2.1213203435596424,\n        \"min\": 0.0,\n        \"max\": 3.0,\n        \"num_unique_values\": 2,\n        \"samples\": [\n          3.0,\n          0.0\n        ],\n        \"semantic_type\": \"\",\n        \"description\": \"\"\n      }\n    },\n    {\n      \"column\": \"area_id\",\n      \"properties\": {\n        \"dtype\": \"string\",\n        \"num_unique_values\": 2,\n        \"samples\": [\n          \"A0004\",\n          \"A0043\"\n        ],\n        \"semantic_type\": \"\",\n        \"description\": \"\"\n      }\n    },\n    {\n      \"column\": \"distance_to_coastline\",\n      \"properties\": {\n        \"dtype\": \"number\",\n        \"std\": 1750.654968861655,\n        \"min\": 11926.3,\n        \"max\": 14402.1,\n        \"num_unique_values\": 2,\n        \"samples\": [\n          11926.3,\n          14402.1\n        ],\n        \"semantic_type\": \"\",\n        \"description\": \"\"\n      }\n    },\n    {\n      \"column\": \"z_score\",\n      \"properties\": {\n        \"dtype\": \"number\",\n        \"std\": 0.5715933477749545,\n        \"min\": 3.3284431731615385,\n        \"max\": 4.13679823774712,\n        \"num_unique_values\": 2,\n        \"samples\": [\n          3.3284431731615385,\n          4.13679823774712\n        ],\n        \"semantic_type\": \"\",\n        \"description\": \"\"\n      }\n    }\n  ]\n}"
            }
          },
          "metadata": {},
          "execution_count": 143
        }
      ]
    },
    {
      "cell_type": "code",
      "source": [
        "main_df = main_df.drop(columns=['z_score'])"
      ],
      "metadata": {
        "id": "8KZbdbr7BFN1"
      },
      "execution_count": 144,
      "outputs": []
    },
    {
      "cell_type": "markdown",
      "source": [
        "We see that we have two outliers on data so we will drop the data from main_df."
      ],
      "metadata": {
        "id": "9nGaGYH19hBI"
      }
    },
    {
      "cell_type": "code",
      "source": [
        "main_df = main_df[~main_df['property_id'].isin(['PR0294', 'PR0453'])]\n"
      ],
      "metadata": {
        "id": "YkKS8SMq92Pq"
      },
      "execution_count": 145,
      "outputs": []
    },
    {
      "cell_type": "code",
      "source": [
        "main_df['distance_to_coastline'].plot(kind='hist', bins=30, edgecolor='black')\n",
        "plt.title('Histogram of Distance to Coastline')\n",
        "plt.xlabel('Distance to Coastline')\n",
        "plt.ylabel('Frequency')\n",
        "plt.show()"
      ],
      "metadata": {
        "colab": {
          "base_uri": "https://localhost:8080/",
          "height": 472
        },
        "id": "cPFstU2s-rBA",
        "outputId": "04552a32-545b-4299-e1aa-071b17086efe"
      },
      "execution_count": 146,
      "outputs": [
        {
          "output_type": "display_data",
          "data": {
            "text/plain": [
              "<Figure size 640x480 with 1 Axes>"
            ],
            "image/png": "[encoded data removed]"
          },
          "metadata": {}
        }
      ]
    },
    {
      "cell_type": "markdown",
      "source": [
        "Based on the histogram, the data is not normally distributed, so the method we will use next to fill in the missing values is the median."
      ],
      "metadata": {
        "id": "Wgem_N3H-zWv"
      }
    },
    {
      "cell_type": "code",
      "source": [
        "median = main_df['distance_to_coastline'].median()\n",
        "main_df['distance_to_coastline'].fillna(median,inplace=True)"
      ],
      "metadata": {
        "id": "eW9ZgeufAUPR"
      },
      "execution_count": 147,
      "outputs": []
    },
    {
      "cell_type": "markdown",
      "source": [
        "Next we can check is there any missing values in main dataset."
      ],
      "metadata": {
        "id": "In-xhSeTAt_i"
      }
    },
    {
      "cell_type": "code",
      "source": [
        "main_df.isna().sum()"
      ],
      "metadata": {
        "colab": {
          "base_uri": "https://localhost:8080/"
        },
        "id": "ApkMk6w1A06l",
        "outputId": "7fd4fa8f-3141-4252-ce79-9a275ab07c63"
      },
      "execution_count": 148,
      "outputs": [
        {
          "output_type": "execute_result",
          "data": {
            "text/plain": [
              "property_id               0\n",
              "average_baseline_price    0\n",
              "property_name             0\n",
              "property_direction        0\n",
              "property_type             0\n",
              "property_design           0\n",
              "area_id                   0\n",
              "distance_to_coastline     0\n",
              "dtype: int64"
            ]
          },
          "metadata": {},
          "execution_count": 148
        }
      ]
    },
    {
      "cell_type": "markdown",
      "source": [
        "Next we will check missing values from areacodes dataset."
      ],
      "metadata": {
        "id": "8DGz7SV6BaaY"
      }
    },
    {
      "cell_type": "code",
      "source": [
        "areacodes_df.isna().sum()"
      ],
      "metadata": {
        "colab": {
          "base_uri": "https://localhost:8080/"
        },
        "id": "91At7qOpsgWz",
        "outputId": "52cc1f11-382c-4e59-e924-87238257464d"
      },
      "execution_count": 149,
      "outputs": [
        {
          "output_type": "execute_result",
          "data": {
            "text/plain": [
              "area_id                      0\n",
              "area_name                    0\n",
              "area_squad                   1\n",
              "employee_id                 32\n",
              "area_distance_to_airport    36\n",
              "airport_pickup_price_idr    34\n",
              "area_airport_name           34\n",
              "region_id                   12\n",
              "dtype: int64"
            ]
          },
          "metadata": {},
          "execution_count": 149
        }
      ]
    },
    {
      "cell_type": "markdown",
      "source": [
        "First, we will drop the data that has missing values in the `area_squad` column."
      ],
      "metadata": {
        "id": "dsJZLmfREhNC"
      }
    },
    {
      "cell_type": "code",
      "source": [
        "areacodes_df = areacodes_df.dropna(subset=['area_squad'])"
      ],
      "metadata": {
        "id": "mpn_IgTnrV9M"
      },
      "execution_count": 150,
      "outputs": []
    },
    {
      "cell_type": "markdown",
      "source": [
        "Next, we will fill the missing values in employee_id, region_id, and area_airport_name with \"undefined\"."
      ],
      "metadata": {
        "id": "YlzbvjhkE_p3"
      }
    },
    {
      "cell_type": "code",
      "source": [
        "areacodes_df['employee_id'].fillna('undefined', inplace=True)\n",
        "areacodes_df['region_id'].fillna('undefined', inplace=True)\n",
        "areacodes_df['area_airport_name'].fillna('undefined', inplace=True)"
      ],
      "metadata": {
        "id": "tnUGHDheFMwf"
      },
      "execution_count": 151,
      "outputs": []
    },
    {
      "cell_type": "code",
      "source": [
        "areacodes_df.isna().sum()"
      ],
      "metadata": {
        "colab": {
          "base_uri": "https://localhost:8080/"
        },
        "id": "NUH8czQHMapw",
        "outputId": "e7931c55-4adc-4ef8-cb8b-966b3e14031a"
      },
      "execution_count": 157,
      "outputs": [
        {
          "output_type": "execute_result",
          "data": {
            "text/plain": [
              "area_id                      0\n",
              "area_name                    0\n",
              "area_squad                   0\n",
              "employee_id                  0\n",
              "area_distance_to_airport    35\n",
              "airport_pickup_price_idr    33\n",
              "area_airport_name            0\n",
              "region_id                    0\n",
              "dtype: int64"
            ]
          },
          "metadata": {},
          "execution_count": 157
        }
      ]
    },
    {
      "cell_type": "code",
      "source": [
        "import scipy.stats as stats\n",
        "sns.histplot(areacodes_df['area_distance_to_airport'], kde=True)\n",
        "plt.title('Histogram of area_distance_to_airport')\n",
        "plt.show()"
      ],
      "metadata": {
        "colab": {
          "base_uri": "https://localhost:8080/",
          "height": 472
        },
        "id": "SQpQmF76Md2k",
        "outputId": "c47749a3-54c7-4073-99ba-3f6cfabf49f9"
      },
      "execution_count": 166,
      "outputs": [
        {
          "output_type": "display_data",
          "data": {
            "text/plain": [
              "<Figure size 640x480 with 1 Axes>"
            ],
            "image/png": "[encoded data removed]"
          },
          "metadata": {}
        }
      ]
    },
    {
      "cell_type": "code",
      "source": [
        "numeric_df = areacodes_df.select_dtypes(include=['float64', 'int64'])\n",
        "correlation_matrix = numeric_df.corr()\n",
        "plt.figure(figsize=(16, 12))\n",
        "heatmap = sns.heatmap(\n",
        "    correlation_matrix,\n",
        "    annot=True,\n",
        "    cmap='coolwarm',\n",
        "    vmin=-1,\n",
        "    vmax=1,\n",
        "    linewidths=0.5,\n",
        "    fmt=\".2f\",\n",
        "    annot_kws={\"size\": 10}\n",
        ")\n",
        "heatmap.set_xticklabels(heatmap.get_xticklabels(), rotation=45, horizontalalignment='right', fontsize=10)\n",
        "heatmap.set_yticklabels(heatmap.get_yticklabels(), rotation=0, fontsize=10)\n",
        "plt.title('Correlation Matrix', fontsize=15)\n",
        "plt.show()"
      ],
      "metadata": {
        "colab": {
          "base_uri": "https://localhost:8080/",
          "height": 718
        },
        "id": "-njgX9QPPiBE",
        "outputId": "3d5f9a6c-d1a0-49fa-8622-fea08cab614a"
      },
      "execution_count": 169,
      "outputs": [
        {
          "output_type": "display_data",
          "data": {
            "text/plain": [
              "<Figure size 1600x1200 with 2 Axes>"
            ],
            "image/png": "[encoded data removed]"
          },
          "metadata": {}
        }
      ]
    },
    {
      "cell_type": "markdown",
      "source": [
        "It is evident that the feature `area_distance_to_airport` is not normally distributed, and we will attempt to fill the missing values with the median. The heatmap shows that area_distance_to_airport has strong correlation with airport_pickup_price_idr."
      ],
      "metadata": {
        "id": "d1cxpxH9LSSS"
      }
    },
    {
      "cell_type": "code",
      "source": [
        "median = areacodes_df['area_distance_to_airport'].median()\n",
        "areacodes_df['area_distance_to_airport'].fillna(median,inplace=True)"
      ],
      "metadata": {
        "id": "ZIxkx27cPhFx"
      },
      "execution_count": 170,
      "outputs": []
    },
    {
      "cell_type": "code",
      "source": [
        "def impute_missing(df, target_col, feature_cols):\n",
        "        \"\"\"\n",
        "        Impute missing values in target_col using feature_cols with Linear Regression.\n",
        "        \"\"\"\n",
        "\n",
        "        train_data = df[df[target_col].notnull()]\n",
        "        X_train = train_data[feature_cols]\n",
        "        y_train = train_data[target_col]\n",
        "\n",
        "        predict_data = df[df[target_col].isnull()]\n",
        "        X_predict = predict_data[feature_cols]\n",
        "\n",
        "        model = LinearRegression()\n",
        "        model.fit(X_train, y_train)\n",
        "\n",
        "        df.loc[df[target_col].isnull(), target_col] = np.round(model.predict(X_predict))\n",
        "\n",
        "        return df"
      ],
      "metadata": {
        "id": "Klz6_yBbQxLe"
      },
      "execution_count": 172,
      "outputs": []
    },
    {
      "cell_type": "code",
      "source": [
        "if areacodes_df['airport_pickup_price_idr'].isnull().any():\n",
        "      impute_missing(areacodes_df, 'airport_pickup_price_idr', ['area_distance_to_airport'])"
      ],
      "metadata": {
        "id": "dgSQKXncQI6H"
      },
      "execution_count": 173,
      "outputs": []
    },
    {
      "cell_type": "code",
      "source": [
        "areacodes_df.isna().sum()"
      ],
      "metadata": {
        "colab": {
          "base_uri": "https://localhost:8080/"
        },
        "id": "wGrvG5qPROzT",
        "outputId": "9af21d0b-4539-4d76-b855-d2d9a5736a59"
      },
      "execution_count": 174,
      "outputs": [
        {
          "output_type": "execute_result",
          "data": {
            "text/plain": [
              "area_id                     0\n",
              "area_name                   0\n",
              "area_squad                  0\n",
              "employee_id                 0\n",
              "area_distance_to_airport    0\n",
              "airport_pickup_price_idr    0\n",
              "area_airport_name           0\n",
              "region_id                   0\n",
              "dtype: int64"
            ]
          },
          "metadata": {},
          "execution_count": 174
        }
      ]
    },
    {
      "cell_type": "markdown",
      "source": [
        "After we handle all the missing values, the next step is we will combine main and areacodes dataset."
      ],
      "metadata": {
        "id": "5I93aAY3RXHf"
      }
    },
    {
      "cell_type": "code",
      "source": [
        "merged_dataset = pd.merge(main_df, areacodes_df, on='area_id')\n",
        "merged_dataset.to_csv('areadataset.csv', index=False)"
      ],
      "metadata": {
        "id": "MYmco2LsRV35"
      },
      "execution_count": 176,
      "outputs": []
    },
    {
      "cell_type": "code",
      "source": [
        "merged_dataset.head()"
      ],
      "metadata": {
        "colab": {
          "base_uri": "https://localhost:8080/",
          "height": 399
        },
        "id": "ytkAMI_PSVWv",
        "outputId": "c9bcb135-7e90-4f02-93c7-7953f4acafd7"
      },
      "execution_count": 179,
      "outputs": [
        {
          "output_type": "execute_result",
          "data": {
            "text/plain": [
              "  property_id  average_baseline_price         property_name  \\\n",
              "0      PR0017           382585.100452  Double D Guest House   \n",
              "1      PR0070           356952.564907   Kubu Pande Homestay   \n",
              "2      PR0126           374917.039298   Comeback Guesthouse   \n",
              "3      PR0140           510878.458330      Lebak Guesthouse   \n",
              "4      PR0160           584718.019729      Kakol Guesthouse   \n",
              "\n",
              "                                  property_direction  property_type  \\\n",
              "0  Double''D Guest House, Jalan Nelayan, Canggu, ...            4.0   \n",
              "1  Jl. Nelayan No.16, Canggu, Kec. Kuta Utara, Ka...            4.0   \n",
              "2  Come back guest house by Bali Sunny Cabin, Jal...            4.0   \n",
              "3  Jl. Nelayan No.22D, Canggu, Kec. Kuta Utara, K...            4.0   \n",
              "4  Kakol Homestay by Bukit Vista, Jalan Pantai Ba...            4.0   \n",
              "\n",
              "   property_design area_id  distance_to_coastline area_name  area_squad  \\\n",
              "0              0.0   A0003                616.825    Canggu         2.0   \n",
              "1              2.0   A0003                616.825    Canggu         2.0   \n",
              "2              0.0   A0003                616.825    Canggu         2.0   \n",
              "3              0.0   A0003                616.825    Canggu         2.0   \n",
              "4              0.0   A0003                616.825    Canggu         2.0   \n",
              "\n",
              "  employee_id  area_distance_to_airport  airport_pickup_price_idr  \\\n",
              "0       E0014                      60.0                  325000.0   \n",
              "1       E0014                      60.0                  325000.0   \n",
              "2       E0014                      60.0                  325000.0   \n",
              "3       E0014                      60.0                  325000.0   \n",
              "4       E0014                      60.0                  325000.0   \n",
              "\n",
              "  area_airport_name region_id  \n",
              "0  Ngurah Rai (DPS)       1.0  \n",
              "1  Ngurah Rai (DPS)       1.0  \n",
              "2  Ngurah Rai (DPS)       1.0  \n",
              "3  Ngurah Rai (DPS)       1.0  \n",
              "4  Ngurah Rai (DPS)       1.0  "
            ],
            "text/html": [
              "\n",
              "  <div id=\"df-bbad30c2-49c7-4e91-93e7-77d953fa5717\" class=\"colab-df-container\">\n",
              "    <div>\n",
              "<style scoped>\n",
              "    .dataframe tbody tr th:only-of-type {\n",
              "        vertical-align: middle;\n",
              "    }\n",
              "\n",
              "    .dataframe tbody tr th {\n",
              "        vertical-align: top;\n",
              "    }\n",
              "\n",
              "    .dataframe thead th {\n",
              "        text-align: right;\n",
              "    }\n",
              "</style>\n",
              "<table border=\"1\" class=\"dataframe\">\n",
              "  <thead>\n",
              "    <tr style=\"text-align: right;\">\n",
              "      <th></th>\n",
              "      <th>property_id</th>\n",
              "      <th>average_baseline_price</th>\n",
              "      <th>property_name</th>\n",
              "      <th>property_direction</th>\n",
              "      <th>property_type</th>\n",
              "      <th>property_design</th>\n",
              "      <th>area_id</th>\n",
              "      <th>distance_to_coastline</th>\n",
              "      <th>area_name</th>\n",
              "      <th>area_squad</th>\n",
              "      <th>employee_id</th>\n",
              "      <th>area_distance_to_airport</th>\n",
              "      <th>airport_pickup_price_idr</th>\n",
              "      <th>area_airport_name</th>\n",
              "      <th>region_id</th>\n",
              "    </tr>\n",
              "  </thead>\n",
              "  <tbody>\n",
              "    <tr>\n",
              "      <th>0</th>\n",
              "      <td>PR0017</td>\n",
              "      <td>382585.100452</td>\n",
              "      <td>Double D Guest House</td>\n",
              "      <td>Double''D Guest House, Jalan Nelayan, Canggu, ...</td>\n",
              "      <td>4.0</td>\n",
              "      <td>0.0</td>\n",
              "      <td>A0003</td>\n",
              "      <td>616.825</td>\n",
              "      <td>Canggu</td>\n",
              "      <td>2.0</td>\n",
              "      <td>E0014</td>\n",
              "      <td>60.0</td>\n",
              "      <td>325000.0</td>\n",
              "      <td>Ngurah Rai (DPS)</td>\n",
              "      <td>1.0</td>\n",
              "    </tr>\n",
              "    <tr>\n",
              "      <th>1</th>\n",
              "      <td>PR0070</td>\n",
              "      <td>356952.564907</td>\n",
              "      <td>Kubu Pande Homestay</td>\n",
              "      <td>Jl. Nelayan No.16, Canggu, Kec. Kuta Utara, Ka...</td>\n",
              "      <td>4.0</td>\n",
              "      <td>2.0</td>\n",
              "      <td>A0003</td>\n",
              "      <td>616.825</td>\n",
              "      <td>Canggu</td>\n",
              "      <td>2.0</td>\n",
              "      <td>E0014</td>\n",
              "      <td>60.0</td>\n",
              "      <td>325000.0</td>\n",
              "      <td>Ngurah Rai (DPS)</td>\n",
              "      <td>1.0</td>\n",
              "    </tr>\n",
              "    <tr>\n",
              "      <th>2</th>\n",
              "      <td>PR0126</td>\n",
              "      <td>374917.039298</td>\n",
              "      <td>Comeback Guesthouse</td>\n",
              "      <td>Come back guest house by Bali Sunny Cabin, Jal...</td>\n",
              "      <td>4.0</td>\n",
              "      <td>0.0</td>\n",
              "      <td>A0003</td>\n",
              "      <td>616.825</td>\n",
              "      <td>Canggu</td>\n",
              "      <td>2.0</td>\n",
              "      <td>E0014</td>\n",
              "      <td>60.0</td>\n",
              "      <td>325000.0</td>\n",
              "      <td>Ngurah Rai (DPS)</td>\n",
              "      <td>1.0</td>\n",
              "    </tr>\n",
              "    <tr>\n",
              "      <th>3</th>\n",
              "      <td>PR0140</td>\n",
              "      <td>510878.458330</td>\n",
              "      <td>Lebak Guesthouse</td>\n",
              "      <td>Jl. Nelayan No.22D, Canggu, Kec. Kuta Utara, K...</td>\n",
              "      <td>4.0</td>\n",
              "      <td>0.0</td>\n",
              "      <td>A0003</td>\n",
              "      <td>616.825</td>\n",
              "      <td>Canggu</td>\n",
              "      <td>2.0</td>\n",
              "      <td>E0014</td>\n",
              "      <td>60.0</td>\n",
              "      <td>325000.0</td>\n",
              "      <td>Ngurah Rai (DPS)</td>\n",
              "      <td>1.0</td>\n",
              "    </tr>\n",
              "    <tr>\n",
              "      <th>4</th>\n",
              "      <td>PR0160</td>\n",
              "      <td>584718.019729</td>\n",
              "      <td>Kakol Guesthouse</td>\n",
              "      <td>Kakol Homestay by Bukit Vista, Jalan Pantai Ba...</td>\n",
              "      <td>4.0</td>\n",
              "      <td>0.0</td>\n",
              "      <td>A0003</td>\n",
              "      <td>616.825</td>\n",
              "      <td>Canggu</td>\n",
              "      <td>2.0</td>\n",
              "      <td>E0014</td>\n",
              "      <td>60.0</td>\n",
              "      <td>325000.0</td>\n",
              "      <td>Ngurah Rai (DPS)</td>\n",
              "      <td>1.0</td>\n",
              "    </tr>\n",
              "  </tbody>\n",
              "</table>\n",
              "</div>\n",
              "    <div class=\"colab-df-buttons\">\n",
              "\n",
              "  <div class=\"colab-df-container\">\n",
              "    <button class=\"colab-df-convert\" onclick=\"convertToInteractive('df-bbad30c2-49c7-4e91-93e7-77d953fa5717')\"\n",
              "            title=\"Convert this dataframe to an interactive table.\"\n",
              "            style=\"display:none;\">\n",
              "\n",
              "  <svg xmlns=\"http://www.w3.org/2000/svg\" height=\"24px\" viewBox=\"0 -960 960 960\">\n",
              "    <path d=\"M120-120v-720h720v720H120Zm60-500h600v-160H180v160Zm220 220h160v-160H400v160Zm0 220h160v-160H400v160ZM180-400h160v-160H180v160Zm440 0h160v-160H620v160ZM180-180h160v-160H180v160Zm440 0h160v-160H620v160Z\"/>\n",
              "  </svg>\n",
              "    </button>\n",
              "\n",
              "  <style>\n",
              "    .colab-df-container {\n",
              "      display:flex;\n",
              "      gap: 12px;\n",
              "    }\n",
              "\n",
              "    .colab-df-convert {\n",
              "      background-color: #E8F0FE;\n",
              "      border: none;\n",
              "      border-radius: 50%;\n",
              "      cursor: pointer;\n",
              "      display: none;\n",
              "      fill: #1967D2;\n",
              "      height: 32px;\n",
              "      padding: 0 0 0 0;\n",
              "      width: 32px;\n",
              "    }\n",
              "\n",
              "    .colab-df-convert:hover {\n",
              "      background-color: #E2EBFA;\n",
              "      box-shadow: 0px 1px 2px rgba(60, 64, 67, 0.3), 0px 1px 3px 1px rgba(60, 64, 67, 0.15);\n",
              "      fill: #174EA6;\n",
              "    }\n",
              "\n",
              "    .colab-df-buttons div {\n",
              "      margin-bottom: 4px;\n",
              "    }\n",
              "\n",
              "    [theme=dark] .colab-df-convert {\n",
              "      background-color: #3B4455;\n",
              "      fill: #D2E3FC;\n",
              "    }\n",
              "\n",
              "    [theme=dark] .colab-df-convert:hover {\n",
              "      background-color: #434B5C;\n",
              "      box-shadow: 0px 1px 3px 1px rgba(0, 0, 0, 0.15);\n",
              "      filter: drop-shadow(0px 1px 2px rgba(0, 0, 0, 0.3));\n",
              "      fill: #FFFFFF;\n",
              "    }\n",
              "  </style>\n",
              "\n",
              "    <script>\n",
              "      const buttonEl =\n",
              "        document.querySelector('#df-bbad30c2-49c7-4e91-93e7-77d953fa5717 button.colab-df-convert');\n",
              "      buttonEl.style.display =\n",
              "        google.colab.kernel.accessAllowed ? 'block' : 'none';\n",
              "\n",
              "      async function convertToInteractive(key) {\n",
              "        const element = document.querySelector('#df-bbad30c2-49c7-4e91-93e7-77d953fa5717');\n",
              "        const dataTable =\n",
              "          await google.colab.kernel.invokeFunction('convertToInteractive',\n",
              "                                                    [key], {});\n",
              "        if (!dataTable) return;\n",
              "\n",
              "        const docLinkHtml = 'Like what you see? Visit the ' +\n",
              "          '<a target=\"_blank\" href=https://colab.research.google.com/notebooks/data_table.ipynb>data table notebook</a>'\n",
              "          + ' to learn more about interactive tables.';\n",
              "        element.innerHTML = '';\n",
              "        dataTable['output_type'] = 'display_data';\n",
              "        await google.colab.output.renderOutput(dataTable, element);\n",
              "        const docLink = document.createElement('div');\n",
              "        docLink.innerHTML = docLinkHtml;\n",
              "        element.appendChild(docLink);\n",
              "      }\n",
              "    </script>\n",
              "  </div>\n",
              "\n",
              "\n",
              "<div id=\"df-f3daf3ae-875f-4a2b-88d4-80a4c804e550\">\n",
              "  <button class=\"colab-df-quickchart\" onclick=\"quickchart('df-f3daf3ae-875f-4a2b-88d4-80a4c804e550')\"\n",
              "            title=\"Suggest charts\"\n",
              "            style=\"display:none;\">\n",
              "\n",
              "<svg xmlns=\"http://www.w3.org/2000/svg\" height=\"24px\"viewBox=\"0 0 24 24\"\n",
              "     width=\"24px\">\n",
              "    <g>\n",
              "        <path d=\"M19 3H5c-1.1 0-2 .9-2 2v14c0 1.1.9 2 2 2h14c1.1 0 2-.9 2-2V5c0-1.1-.9-2-2-2zM9 17H7v-7h2v7zm4 0h-2V7h2v10zm4 0h-2v-4h2v4z\"/>\n",
              "    </g>\n",
              "</svg>\n",
              "  </button>\n",
              "\n",
              "<style>\n",
              "  .colab-df-quickchart {\n",
              "      --bg-color: #E8F0FE;\n",
              "      --fill-color: #1967D2;\n",
              "      --hover-bg-color: #E2EBFA;\n",
              "      --hover-fill-color: #174EA6;\n",
              "      --disabled-fill-color: #AAA;\n",
              "      --disabled-bg-color: #DDD;\n",
              "  }\n",
              "\n",
              "  [theme=dark] .colab-df-quickchart {\n",
              "      --bg-color: #3B4455;\n",
              "      --fill-color: #D2E3FC;\n",
              "      --hover-bg-color: #434B5C;\n",
              "      --hover-fill-color: #FFFFFF;\n",
              "      --disabled-bg-color: #3B4455;\n",
              "      --disabled-fill-color: #666;\n",
              "  }\n",
              "\n",
              "  .colab-df-quickchart {\n",
              "    background-color: var(--bg-color);\n",
              "    border: none;\n",
              "    border-radius: 50%;\n",
              "    cursor: pointer;\n",
              "    display: none;\n",
              "    fill: var(--fill-color);\n",
              "    height: 32px;\n",
              "    padding: 0;\n",
              "    width: 32px;\n",
              "  }\n",
              "\n",
              "  .colab-df-quickchart:hover {\n",
              "    background-color: var(--hover-bg-color);\n",
              "    box-shadow: 0 1px 2px rgba(60, 64, 67, 0.3), 0 1px 3px 1px rgba(60, 64, 67, 0.15);\n",
              "    fill: var(--button-hover-fill-color);\n",
              "  }\n",
              "\n",
              "  .colab-df-quickchart-complete:disabled,\n",
              "  .colab-df-quickchart-complete:disabled:hover {\n",
              "    background-color: var(--disabled-bg-color);\n",
              "    fill: var(--disabled-fill-color);\n",
              "    box-shadow: none;\n",
              "  }\n",
              "\n",
              "  .colab-df-spinner {\n",
              "    border: 2px solid var(--fill-color);\n",
              "    border-color: transparent;\n",
              "    border-bottom-color: var(--fill-color);\n",
              "    animation:\n",
              "      spin 1s steps(1) infinite;\n",
              "  }\n",
              "\n",
              "  @keyframes spin {\n",
              "    0% {\n",
              "      border-color: transparent;\n",
              "      border-bottom-color: var(--fill-color);\n",
              "      border-left-color: var(--fill-color);\n",
              "    }\n",
              "    20% {\n",
              "      border-color: transparent;\n",
              "      border-left-color: var(--fill-color);\n",
              "      border-top-color: var(--fill-color);\n",
              "    }\n",
              "    30% {\n",
              "      border-color: transparent;\n",
              "      border-left-color: var(--fill-color);\n",
              "      border-top-color: var(--fill-color);\n",
              "      border-right-color: var(--fill-color);\n",
              "    }\n",
              "    40% {\n",
              "      border-color: transparent;\n",
              "      border-right-color: var(--fill-color);\n",
              "      border-top-color: var(--fill-color);\n",
              "    }\n",
              "    60% {\n",
              "      border-color: transparent;\n",
              "      border-right-color: var(--fill-color);\n",
              "    }\n",
              "    80% {\n",
              "      border-color: transparent;\n",
              "      border-right-color: var(--fill-color);\n",
              "      border-bottom-color: var(--fill-color);\n",
              "    }\n",
              "    90% {\n",
              "      border-color: transparent;\n",
              "      border-bottom-color: var(--fill-color);\n",
              "    }\n",
              "  }\n",
              "</style>\n",
              "\n",
              "  <script>\n",
              "    async function quickchart(key) {\n",
              "      const quickchartButtonEl =\n",
              "        document.querySelector('#' + key + ' button');\n",
              "      quickchartButtonEl.disabled = true;  // To prevent multiple clicks.\n",
              "      quickchartButtonEl.classList.add('colab-df-spinner');\n",
              "      try {\n",
              "        const charts = await google.colab.kernel.invokeFunction(\n",
              "            'suggestCharts', [key], {});\n",
              "      } catch (error) {\n",
              "        console.error('Error during call to suggestCharts:', error);\n",
              "      }\n",
              "      quickchartButtonEl.classList.remove('colab-df-spinner');\n",
              "      quickchartButtonEl.classList.add('colab-df-quickchart-complete');\n",
              "    }\n",
              "    (() => {\n",
              "      let quickchartButtonEl =\n",
              "        document.querySelector('#df-f3daf3ae-875f-4a2b-88d4-80a4c804e550 button');\n",
              "      quickchartButtonEl.style.display =\n",
              "        google.colab.kernel.accessAllowed ? 'block' : 'none';\n",
              "    })();\n",
              "  </script>\n",
              "</div>\n",
              "    </div>\n",
              "  </div>\n"
            ],
            "application/vnd.google.colaboratory.intrinsic+json": {
              "type": "dataframe",
              "variable_name": "merged_dataset",
              "summary": "{\n  \"name\": \"merged_dataset\",\n  \"rows\": 352,\n  \"fields\": [\n    {\n      \"column\": \"property_id\",\n      \"properties\": {\n        \"dtype\": \"string\",\n        \"num_unique_values\": 351,\n        \"samples\": [\n          \"PR0024\",\n          \"PR0043\",\n          \"PR0072\"\n        ],\n        \"semantic_type\": \"\",\n        \"description\": \"\"\n      }\n    },\n    {\n      \"column\": \"average_baseline_price\",\n      \"properties\": {\n        \"dtype\": \"number\",\n        \"std\": 1071016.0973627605,\n        \"min\": 121864.32,\n        \"max\": 8677478.233215308,\n        \"num_unique_values\": 344,\n        \"samples\": [\n          2026816.358239313,\n          547132.8534276218,\n          1281337.68697479\n        ],\n        \"semantic_type\": \"\",\n        \"description\": \"\"\n      }\n    },\n    {\n      \"column\": \"property_name\",\n      \"properties\": {\n        \"dtype\": \"string\",\n        \"num_unique_values\": 351,\n        \"samples\": [\n          \"Villa Shiva\",\n          \"Little Cabin - The Landmark\",\n          \"Villa Rama\"\n        ],\n        \"semantic_type\": \"\",\n        \"description\": \"\"\n      }\n    },\n    {\n      \"column\": \"property_direction\",\n      \"properties\": {\n        \"dtype\": \"category\",\n        \"num_unique_values\": 123,\n        \"samples\": [\n          \"Villa Loluan by BukitVista, Jalan Nelayan, Canggu, Kabupaten Badung, Bali\",\n          \"Jl. Kaliurang No.72 Km.5, Manggung, Caturtunggal, Kec. Depok, Kabupaten Sleman, Daerah Istimewa Yogyakarta 55281\",\n          \" Gg. Kantil, Mantrijeron, Kec. Mantrijeron, Kota Yogyakarta, Daerah Istimewa Yogyakarta 55143\"\n        ],\n        \"semantic_type\": \"\",\n        \"description\": \"\"\n      }\n    },\n    {\n      \"column\": \"property_type\",\n      \"properties\": {\n        \"dtype\": \"number\",\n        \"std\": 1.1900476529170654,\n        \"min\": 1.0,\n        \"max\": 5.0,\n        \"num_unique_values\": 5,\n        \"samples\": [\n          2.0,\n          3.0,\n          1.0\n        ],\n        \"semantic_type\": \"\",\n        \"description\": \"\"\n      }\n    },\n    {\n      \"column\": \"property_design\",\n      \"properties\": {\n        \"dtype\": \"number\",\n        \"std\": 1.5223343727650451,\n        \"min\": 0.0,\n        \"max\": 5.0,\n        \"num_unique_values\": 6,\n        \"samples\": [\n          0.0,\n          2.0,\n          5.0\n        ],\n        \"semantic_type\": \"\",\n        \"description\": \"\"\n      }\n    },\n    {\n      \"column\": \"area_id\",\n      \"properties\": {\n        \"dtype\": \"category\",\n        \"num_unique_values\": 23,\n        \"samples\": [\n          \"A0014\",\n          \"A0009\",\n          \"A0003\"\n        ],\n        \"semantic_type\": \"\",\n        \"description\": \"\"\n      }\n    },\n    {\n      \"column\": \"distance_to_coastline\",\n      \"properties\": {\n        \"dtype\": \"number\",\n        \"std\": 303.2298108942201,\n        \"min\": 15.6035,\n        \"max\": 3125.52,\n        \"num_unique_values\": 31,\n        \"samples\": [\n          596.384,\n          402.195,\n          121.038\n        ],\n        \"semantic_type\": \"\",\n        \"description\": \"\"\n      }\n    },\n    {\n      \"column\": \"area_name\",\n      \"properties\": {\n        \"dtype\": \"category\",\n        \"num_unique_values\": 23,\n        \"samples\": [\n          \"Gili Trawangan\",\n          \"Balangan\",\n          \"Canggu\"\n        ],\n        \"semantic_type\": \"\",\n        \"description\": \"\"\n      }\n    },\n    {\n      \"column\": \"area_squad\",\n      \"properties\": {\n        \"dtype\": \"number\",\n        \"std\": 0.9642670427899782,\n        \"min\": 0.0,\n        \"max\": 4.0,\n        \"num_unique_values\": 5,\n        \"samples\": [\n          0.0,\n          4.0,\n          3.0\n        ],\n        \"semantic_type\": \"\",\n        \"description\": \"\"\n      }\n    },\n    {\n      \"column\": \"employee_id\",\n      \"properties\": {\n        \"dtype\": \"category\",\n        \"num_unique_values\": 11,\n        \"samples\": [\n          \"E0015\",\n          \"E0014\",\n          \"E0017\"\n        ],\n        \"semantic_type\": \"\",\n        \"description\": \"\"\n      }\n    },\n    {\n      \"column\": \"area_distance_to_airport\",\n      \"properties\": {\n        \"dtype\": \"number\",\n        \"std\": 22.32873173900079,\n        \"min\": 30.0,\n        \"max\": 120.0,\n        \"num_unique_values\": 4,\n        \"samples\": [\n          45.0,\n          120.0,\n          60.0\n        ],\n        \"semantic_type\": \"\",\n        \"description\": \"\"\n      }\n    },\n    {\n      \"column\": \"airport_pickup_price_idr\",\n      \"properties\": {\n        \"dtype\": \"number\",\n        \"std\": 82131.34510549187,\n        \"min\": 195000.0,\n        \"max\": 585000.0,\n        \"num_unique_values\": 8,\n        \"samples\": [\n          195000.0,\n          260000.0,\n          325000.0\n        ],\n        \"semantic_type\": \"\",\n        \"description\": \"\"\n      }\n    },\n    {\n      \"column\": \"area_airport_name\",\n      \"properties\": {\n        \"dtype\": \"category\",\n        \"num_unique_values\": 3,\n        \"samples\": [\n          \"Ngurah Rai (DPS)\",\n          \"undefined\",\n          \"Adi Sucipto (JOG)\"\n        ],\n        \"semantic_type\": \"\",\n        \"description\": \"\"\n      }\n    },\n    {\n      \"column\": \"region_id\",\n      \"properties\": {\n        \"dtype\": \"category\",\n        \"num_unique_values\": 4,\n        \"samples\": [\n          2.0,\n          \"undefined\",\n          1.0\n        ],\n        \"semantic_type\": \"\",\n        \"description\": \"\"\n      }\n    }\n  ]\n}"
            }
          },
          "metadata": {},
          "execution_count": 179
        }
      ]
    }
  ],
  "metadata": {
    "colab": {
      "provenance": []
    },
    "kernelspec": {
      "display_name": "Python 3",
      "name": "python3"
    },
    "language_info": {
      "name": "python"
    }
  },
  "nbformat": 4,
  "nbformat_minor": 0
}