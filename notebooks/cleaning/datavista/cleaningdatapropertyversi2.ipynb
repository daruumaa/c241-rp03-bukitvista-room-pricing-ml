{
  "cells": [
    {
      "cell_type": "markdown",
      "metadata": {
        "id": "qUVRELTPPo69"
      },
      "source": [
        "# **Data Cleaning Main Datavista and Area Dataset**"
      ]
    },
    {
      "cell_type": "markdown",
      "metadata": {
        "id": "xPUL5ts2QKYy"
      },
      "source": [
        "This is the initial stage of developing a room pricing model, where data reading and cleaning will be carried out from the main datavista and also the area dataset. First we can import all used packages and libraries"
      ]
    },
    {
      "cell_type": "code",
      "execution_count": 235,
      "metadata": {
        "id": "3F_fLOsKQFnz"
      },
      "outputs": [],
      "source": [
        "import pandas as pd\n",
        "import numpy as np\n",
        "import matplotlib.pyplot as plt\n",
        "from tabulate import tabulate\n",
        "import seaborn as sns\n",
        "import warnings\n",
        "from sklearn.model_selection import train_test_split\n",
        "from sklearn.linear_model import LinearRegression\n",
        "from sklearn.impute import SimpleImputer\n",
        "from sklearn.model_selection import cross_val_score"
      ]
    },
    {
      "cell_type": "code",
      "execution_count": 236,
      "metadata": {
        "id": "Ji86C0zRRrS6"
      },
      "outputs": [],
      "source": [
        "warnings.filterwarnings(\"ignore\")\n",
        "warnings.filterwarnings(\"ignore\",category=FutureWarning)"
      ]
    },
    {
      "cell_type": "markdown",
      "metadata": {
        "id": "tA_HHb-0Urtv"
      },
      "source": [
        "### **Data Wrangling**"
      ]
    },
    {
      "cell_type": "markdown",
      "metadata": {
        "id": "aG7PEaH4U0J7"
      },
      "source": [
        "**Gathering Data**\n",
        "\n"
      ]
    },
    {
      "cell_type": "markdown",
      "metadata": {
        "id": "YRP_M6ouU9hQ"
      },
      "source": [
        "In this stage, the datasets, namely datavista and area are collected and then we will read the datasets using pandas library."
      ]
    },
    {
      "cell_type": "code",
      "execution_count": 237,
      "metadata": {
        "colab": {
          "base_uri": "https://localhost:8080/",
          "height": 394
        },
        "id": "AXdnhH2jU6jM",
        "outputId": "92ed7b21-721c-4539-8e53-e52b45374ee6"
      },
      "outputs": [
        {
          "output_type": "execute_result",
          "data": {
            "text/plain": [
              "  property_id unit_id  average_baseline_price  bedroom  bathroom  beds  \\\n",
              "0      PR0017  UN0026            3.825851e+05        1       1.0   1.0   \n",
              "1      PR0045  UN1518            4.847391e+05        1       1.0   1.0   \n",
              "2      PR0051  UN1471            7.079566e+05        3       2.0   3.0   \n",
              "3      PR0055  UN1417            7.403196e+05        3       2.0   3.0   \n",
              "4      PR0065  UN1392            2.154133e+06        8       8.0   8.0   \n",
              "\n",
              "   capacity   ac  balcony  beachfront  ...  wifi  workspace       lat  \\\n",
              "0       2.0  1.0      1.0         0.0  ...   1.0        1.0 -8.656211   \n",
              "1       2.0  1.0      0.0         0.0  ...   0.0        1.0 -8.698719   \n",
              "2       6.0  1.0      0.0         0.0  ...   1.0        1.0       NaN   \n",
              "3       7.0  1.0      1.0         0.0  ...   0.0        1.0 -7.831766   \n",
              "4       6.0  1.0      0.0         0.0  ...   1.0        1.0       NaN   \n",
              "\n",
              "          lng         property_name  \\\n",
              "0  115.132867  Double D Guest House   \n",
              "1  115.163846             Melin Inn   \n",
              "2         NaN           Omah JeTeHa   \n",
              "3  110.380636       Griya Wirosaban   \n",
              "4         NaN            Pendopo 26   \n",
              "\n",
              "                                  property_direction  property_type  \\\n",
              "0  Double''D Guest House, Jalan Nelayan, Canggu, ...            4.0   \n",
              "1          Melin Inn, Legian, Kabupaten Badung, Bali            3.0   \n",
              "2  Jl. Sorowajan Baru, perum Jogja Town House 3 n...            1.0   \n",
              "3  Jl. Ki Ageng Pemanahan, Kragilan, Tamanan, Kec...            1.0   \n",
              "4                                                NaN            2.0   \n",
              "\n",
              "   property_design  area_id  distance_to_coastline  \n",
              "0              0.0    A0003                    NaN  \n",
              "1              0.0    A0015                    NaN  \n",
              "2              0.0    A0044                    NaN  \n",
              "3              0.0    A0001                    NaN  \n",
              "4              0.0    A0001                    NaN  \n",
              "\n",
              "[5 rows x 40 columns]"
            ],
            "text/html": [
              "\n",
              "  <div id=\"df-a4573bf6-a0c8-491c-a9f0-84f1e587b88c\" class=\"colab-df-container\">\n",
              "    <div>\n",
              "<style scoped>\n",
              "    .dataframe tbody tr th:only-of-type {\n",
              "        vertical-align: middle;\n",
              "    }\n",
              "\n",
              "    .dataframe tbody tr th {\n",
              "        vertical-align: top;\n",
              "    }\n",
              "\n",
              "    .dataframe thead th {\n",
              "        text-align: right;\n",
              "    }\n",
              "</style>\n",
              "<table border=\"1\" class=\"dataframe\">\n",
              "  <thead>\n",
              "    <tr style=\"text-align: right;\">\n",
              "      <th></th>\n",
              "      <th>property_id</th>\n",
              "      <th>unit_id</th>\n",
              "      <th>average_baseline_price</th>\n",
              "      <th>bedroom</th>\n",
              "      <th>bathroom</th>\n",
              "      <th>beds</th>\n",
              "      <th>capacity</th>\n",
              "      <th>ac</th>\n",
              "      <th>balcony</th>\n",
              "      <th>beachfront</th>\n",
              "      <th>...</th>\n",
              "      <th>wifi</th>\n",
              "      <th>workspace</th>\n",
              "      <th>lat</th>\n",
              "      <th>lng</th>\n",
              "      <th>property_name</th>\n",
              "      <th>property_direction</th>\n",
              "      <th>property_type</th>\n",
              "      <th>property_design</th>\n",
              "      <th>area_id</th>\n",
              "      <th>distance_to_coastline</th>\n",
              "    </tr>\n",
              "  </thead>\n",
              "  <tbody>\n",
              "    <tr>\n",
              "      <th>0</th>\n",
              "      <td>PR0017</td>\n",
              "      <td>UN0026</td>\n",
              "      <td>3.825851e+05</td>\n",
              "      <td>1</td>\n",
              "      <td>1.0</td>\n",
              "      <td>1.0</td>\n",
              "      <td>2.0</td>\n",
              "      <td>1.0</td>\n",
              "      <td>1.0</td>\n",
              "      <td>0.0</td>\n",
              "      <td>...</td>\n",
              "      <td>1.0</td>\n",
              "      <td>1.0</td>\n",
              "      <td>-8.656211</td>\n",
              "      <td>115.132867</td>\n",
              "      <td>Double D Guest House</td>\n",
              "      <td>Double''D Guest House, Jalan Nelayan, Canggu, ...</td>\n",
              "      <td>4.0</td>\n",
              "      <td>0.0</td>\n",
              "      <td>A0003</td>\n",
              "      <td>NaN</td>\n",
              "    </tr>\n",
              "    <tr>\n",
              "      <th>1</th>\n",
              "      <td>PR0045</td>\n",
              "      <td>UN1518</td>\n",
              "      <td>4.847391e+05</td>\n",
              "      <td>1</td>\n",
              "      <td>1.0</td>\n",
              "      <td>1.0</td>\n",
              "      <td>2.0</td>\n",
              "      <td>1.0</td>\n",
              "      <td>0.0</td>\n",
              "      <td>0.0</td>\n",
              "      <td>...</td>\n",
              "      <td>0.0</td>\n",
              "      <td>1.0</td>\n",
              "      <td>-8.698719</td>\n",
              "      <td>115.163846</td>\n",
              "      <td>Melin Inn</td>\n",
              "      <td>Melin Inn, Legian, Kabupaten Badung, Bali</td>\n",
              "      <td>3.0</td>\n",
              "      <td>0.0</td>\n",
              "      <td>A0015</td>\n",
              "      <td>NaN</td>\n",
              "    </tr>\n",
              "    <tr>\n",
              "      <th>2</th>\n",
              "      <td>PR0051</td>\n",
              "      <td>UN1471</td>\n",
              "      <td>7.079566e+05</td>\n",
              "      <td>3</td>\n",
              "      <td>2.0</td>\n",
              "      <td>3.0</td>\n",
              "      <td>6.0</td>\n",
              "      <td>1.0</td>\n",
              "      <td>0.0</td>\n",
              "      <td>0.0</td>\n",
              "      <td>...</td>\n",
              "      <td>1.0</td>\n",
              "      <td>1.0</td>\n",
              "      <td>NaN</td>\n",
              "      <td>NaN</td>\n",
              "      <td>Omah JeTeHa</td>\n",
              "      <td>Jl. Sorowajan Baru, perum Jogja Town House 3 n...</td>\n",
              "      <td>1.0</td>\n",
              "      <td>0.0</td>\n",
              "      <td>A0044</td>\n",
              "      <td>NaN</td>\n",
              "    </tr>\n",
              "    <tr>\n",
              "      <th>3</th>\n",
              "      <td>PR0055</td>\n",
              "      <td>UN1417</td>\n",
              "      <td>7.403196e+05</td>\n",
              "      <td>3</td>\n",
              "      <td>2.0</td>\n",
              "      <td>3.0</td>\n",
              "      <td>7.0</td>\n",
              "      <td>1.0</td>\n",
              "      <td>1.0</td>\n",
              "      <td>0.0</td>\n",
              "      <td>...</td>\n",
              "      <td>0.0</td>\n",
              "      <td>1.0</td>\n",
              "      <td>-7.831766</td>\n",
              "      <td>110.380636</td>\n",
              "      <td>Griya Wirosaban</td>\n",
              "      <td>Jl. Ki Ageng Pemanahan, Kragilan, Tamanan, Kec...</td>\n",
              "      <td>1.0</td>\n",
              "      <td>0.0</td>\n",
              "      <td>A0001</td>\n",
              "      <td>NaN</td>\n",
              "    </tr>\n",
              "    <tr>\n",
              "      <th>4</th>\n",
              "      <td>PR0065</td>\n",
              "      <td>UN1392</td>\n",
              "      <td>2.154133e+06</td>\n",
              "      <td>8</td>\n",
              "      <td>8.0</td>\n",
              "      <td>8.0</td>\n",
              "      <td>6.0</td>\n",
              "      <td>1.0</td>\n",
              "      <td>0.0</td>\n",
              "      <td>0.0</td>\n",
              "      <td>...</td>\n",
              "      <td>1.0</td>\n",
              "      <td>1.0</td>\n",
              "      <td>NaN</td>\n",
              "      <td>NaN</td>\n",
              "      <td>Pendopo 26</td>\n",
              "      <td>NaN</td>\n",
              "      <td>2.0</td>\n",
              "      <td>0.0</td>\n",
              "      <td>A0001</td>\n",
              "      <td>NaN</td>\n",
              "    </tr>\n",
              "  </tbody>\n",
              "</table>\n",
              "<p>5 rows × 40 columns</p>\n",
              "</div>\n",
              "    <div class=\"colab-df-buttons\">\n",
              "\n",
              "  <div class=\"colab-df-container\">\n",
              "    <button class=\"colab-df-convert\" onclick=\"convertToInteractive('df-a4573bf6-a0c8-491c-a9f0-84f1e587b88c')\"\n",
              "            title=\"Convert this dataframe to an interactive table.\"\n",
              "            style=\"display:none;\">\n",
              "\n",
              "  <svg xmlns=\"http://www.w3.org/2000/svg\" height=\"24px\" viewBox=\"0 -960 960 960\">\n",
              "    <path d=\"M120-120v-720h720v720H120Zm60-500h600v-160H180v160Zm220 220h160v-160H400v160Zm0 220h160v-160H400v160ZM180-400h160v-160H180v160Zm440 0h160v-160H620v160ZM180-180h160v-160H180v160Zm440 0h160v-160H620v160Z\"/>\n",
              "  </svg>\n",
              "    </button>\n",
              "\n",
              "  <style>\n",
              "    .colab-df-container {\n",
              "      display:flex;\n",
              "      gap: 12px;\n",
              "    }\n",
              "\n",
              "    .colab-df-convert {\n",
              "      background-color: #E8F0FE;\n",
              "      border: none;\n",
              "      border-radius: 50%;\n",
              "      cursor: pointer;\n",
              "      display: none;\n",
              "      fill: #1967D2;\n",
              "      height: 32px;\n",
              "      padding: 0 0 0 0;\n",
              "      width: 32px;\n",
              "    }\n",
              "\n",
              "    .colab-df-convert:hover {\n",
              "      background-color: #E2EBFA;\n",
              "      box-shadow: 0px 1px 2px rgba(60, 64, 67, 0.3), 0px 1px 3px 1px rgba(60, 64, 67, 0.15);\n",
              "      fill: #174EA6;\n",
              "    }\n",
              "\n",
              "    .colab-df-buttons div {\n",
              "      margin-bottom: 4px;\n",
              "    }\n",
              "\n",
              "    [theme=dark] .colab-df-convert {\n",
              "      background-color: #3B4455;\n",
              "      fill: #D2E3FC;\n",
              "    }\n",
              "\n",
              "    [theme=dark] .colab-df-convert:hover {\n",
              "      background-color: #434B5C;\n",
              "      box-shadow: 0px 1px 3px 1px rgba(0, 0, 0, 0.15);\n",
              "      filter: drop-shadow(0px 1px 2px rgba(0, 0, 0, 0.3));\n",
              "      fill: #FFFFFF;\n",
              "    }\n",
              "  </style>\n",
              "\n",
              "    <script>\n",
              "      const buttonEl =\n",
              "        document.querySelector('#df-a4573bf6-a0c8-491c-a9f0-84f1e587b88c button.colab-df-convert');\n",
              "      buttonEl.style.display =\n",
              "        google.colab.kernel.accessAllowed ? 'block' : 'none';\n",
              "\n",
              "      async function convertToInteractive(key) {\n",
              "        const element = document.querySelector('#df-a4573bf6-a0c8-491c-a9f0-84f1e587b88c');\n",
              "        const dataTable =\n",
              "          await google.colab.kernel.invokeFunction('convertToInteractive',\n",
              "                                                    [key], {});\n",
              "        if (!dataTable) return;\n",
              "\n",
              "        const docLinkHtml = 'Like what you see? Visit the ' +\n",
              "          '<a target=\"_blank\" href=https://colab.research.google.com/notebooks/data_table.ipynb>data table notebook</a>'\n",
              "          + ' to learn more about interactive tables.';\n",
              "        element.innerHTML = '';\n",
              "        dataTable['output_type'] = 'display_data';\n",
              "        await google.colab.output.renderOutput(dataTable, element);\n",
              "        const docLink = document.createElement('div');\n",
              "        docLink.innerHTML = docLinkHtml;\n",
              "        element.appendChild(docLink);\n",
              "      }\n",
              "    </script>\n",
              "  </div>\n",
              "\n",
              "\n",
              "<div id=\"df-bb19bd9d-e379-49d7-92da-0b24f3685d93\">\n",
              "  <button class=\"colab-df-quickchart\" onclick=\"quickchart('df-bb19bd9d-e379-49d7-92da-0b24f3685d93')\"\n",
              "            title=\"Suggest charts\"\n",
              "            style=\"display:none;\">\n",
              "\n",
              "<svg xmlns=\"http://www.w3.org/2000/svg\" height=\"24px\"viewBox=\"0 0 24 24\"\n",
              "     width=\"24px\">\n",
              "    <g>\n",
              "        <path d=\"M19 3H5c-1.1 0-2 .9-2 2v14c0 1.1.9 2 2 2h14c1.1 0 2-.9 2-2V5c0-1.1-.9-2-2-2zM9 17H7v-7h2v7zm4 0h-2V7h2v10zm4 0h-2v-4h2v4z\"/>\n",
              "    </g>\n",
              "</svg>\n",
              "  </button>\n",
              "\n",
              "<style>\n",
              "  .colab-df-quickchart {\n",
              "      --bg-color: #E8F0FE;\n",
              "      --fill-color: #1967D2;\n",
              "      --hover-bg-color: #E2EBFA;\n",
              "      --hover-fill-color: #174EA6;\n",
              "      --disabled-fill-color: #AAA;\n",
              "      --disabled-bg-color: #DDD;\n",
              "  }\n",
              "\n",
              "  [theme=dark] .colab-df-quickchart {\n",
              "      --bg-color: #3B4455;\n",
              "      --fill-color: #D2E3FC;\n",
              "      --hover-bg-color: #434B5C;\n",
              "      --hover-fill-color: #FFFFFF;\n",
              "      --disabled-bg-color: #3B4455;\n",
              "      --disabled-fill-color: #666;\n",
              "  }\n",
              "\n",
              "  .colab-df-quickchart {\n",
              "    background-color: var(--bg-color);\n",
              "    border: none;\n",
              "    border-radius: 50%;\n",
              "    cursor: pointer;\n",
              "    display: none;\n",
              "    fill: var(--fill-color);\n",
              "    height: 32px;\n",
              "    padding: 0;\n",
              "    width: 32px;\n",
              "  }\n",
              "\n",
              "  .colab-df-quickchart:hover {\n",
              "    background-color: var(--hover-bg-color);\n",
              "    box-shadow: 0 1px 2px rgba(60, 64, 67, 0.3), 0 1px 3px 1px rgba(60, 64, 67, 0.15);\n",
              "    fill: var(--button-hover-fill-color);\n",
              "  }\n",
              "\n",
              "  .colab-df-quickchart-complete:disabled,\n",
              "  .colab-df-quickchart-complete:disabled:hover {\n",
              "    background-color: var(--disabled-bg-color);\n",
              "    fill: var(--disabled-fill-color);\n",
              "    box-shadow: none;\n",
              "  }\n",
              "\n",
              "  .colab-df-spinner {\n",
              "    border: 2px solid var(--fill-color);\n",
              "    border-color: transparent;\n",
              "    border-bottom-color: var(--fill-color);\n",
              "    animation:\n",
              "      spin 1s steps(1) infinite;\n",
              "  }\n",
              "\n",
              "  @keyframes spin {\n",
              "    0% {\n",
              "      border-color: transparent;\n",
              "      border-bottom-color: var(--fill-color);\n",
              "      border-left-color: var(--fill-color);\n",
              "    }\n",
              "    20% {\n",
              "      border-color: transparent;\n",
              "      border-left-color: var(--fill-color);\n",
              "      border-top-color: var(--fill-color);\n",
              "    }\n",
              "    30% {\n",
              "      border-color: transparent;\n",
              "      border-left-color: var(--fill-color);\n",
              "      border-top-color: var(--fill-color);\n",
              "      border-right-color: var(--fill-color);\n",
              "    }\n",
              "    40% {\n",
              "      border-color: transparent;\n",
              "      border-right-color: var(--fill-color);\n",
              "      border-top-color: var(--fill-color);\n",
              "    }\n",
              "    60% {\n",
              "      border-color: transparent;\n",
              "      border-right-color: var(--fill-color);\n",
              "    }\n",
              "    80% {\n",
              "      border-color: transparent;\n",
              "      border-right-color: var(--fill-color);\n",
              "      border-bottom-color: var(--fill-color);\n",
              "    }\n",
              "    90% {\n",
              "      border-color: transparent;\n",
              "      border-bottom-color: var(--fill-color);\n",
              "    }\n",
              "  }\n",
              "</style>\n",
              "\n",
              "  <script>\n",
              "    async function quickchart(key) {\n",
              "      const quickchartButtonEl =\n",
              "        document.querySelector('#' + key + ' button');\n",
              "      quickchartButtonEl.disabled = true;  // To prevent multiple clicks.\n",
              "      quickchartButtonEl.classList.add('colab-df-spinner');\n",
              "      try {\n",
              "        const charts = await google.colab.kernel.invokeFunction(\n",
              "            'suggestCharts', [key], {});\n",
              "      } catch (error) {\n",
              "        console.error('Error during call to suggestCharts:', error);\n",
              "      }\n",
              "      quickchartButtonEl.classList.remove('colab-df-spinner');\n",
              "      quickchartButtonEl.classList.add('colab-df-quickchart-complete');\n",
              "    }\n",
              "    (() => {\n",
              "      let quickchartButtonEl =\n",
              "        document.querySelector('#df-bb19bd9d-e379-49d7-92da-0b24f3685d93 button');\n",
              "      quickchartButtonEl.style.display =\n",
              "        google.colab.kernel.accessAllowed ? 'block' : 'none';\n",
              "    })();\n",
              "  </script>\n",
              "</div>\n",
              "    </div>\n",
              "  </div>\n"
            ],
            "application/vnd.google.colaboratory.intrinsic+json": {
              "type": "dataframe",
              "variable_name": "main_df"
            }
          },
          "metadata": {},
          "execution_count": 237
        }
      ],
      "source": [
        "main_df = pd.read_csv(\"main.csv\", delimiter=\",\")\n",
        "main_df.head()"
      ]
    },
    {
      "cell_type": "code",
      "execution_count": 238,
      "metadata": {
        "colab": {
          "base_uri": "https://localhost:8080/"
        },
        "id": "NaFGAOypV-FE",
        "outputId": "67b8647c-ae94-4b95-dace-dce6109fa9e6"
      },
      "outputs": [
        {
          "output_type": "execute_result",
          "data": {
            "text/plain": [
              "(357, 40)"
            ]
          },
          "metadata": {},
          "execution_count": 238
        }
      ],
      "source": [
        "main_df.shape"
      ]
    },
    {
      "cell_type": "markdown",
      "metadata": {
        "id": "nfwhmSAVWCdR"
      },
      "source": [
        "After reading the dataset, it is found that this data has a total of 40 features and 357 rows. Then, in the same way, we will also apply this to the arecodes dataset."
      ]
    },
    {
      "cell_type": "code",
      "execution_count": 239,
      "metadata": {
        "colab": {
          "base_uri": "https://localhost:8080/",
          "height": 295
        },
        "id": "4uDOdbqOWjTB",
        "outputId": "83bd45c3-d052-4b1c-ae1f-8cea31809c14"
      },
      "outputs": [
        {
          "output_type": "execute_result",
          "data": {
            "text/plain": [
              "  area_id   area_name  area_squad employee_id created_at        updated_at  \\\n",
              "0   A0000   Undefined         NaN         NaN        NaN               NaN   \n",
              "1   A0001  Yogyakarta         3.0       E0028        NaN  2023-05-17 04:14   \n",
              "2   A0002     Uluwatu         2.0       E0015        NaN  2022-10-07 06:34   \n",
              "3   A0003      Canggu         2.0       E0014        NaN  2022-10-07 06:34   \n",
              "4   A0004        Ubud         2.0       E0042        NaN  2022-10-07 06:34   \n",
              "\n",
              "   deleted_at  temp_column area_distance_to_airport  airport_pickup_price_idr  \\\n",
              "0         NaN          NaN                      NaN                       NaN   \n",
              "1         NaN          NaN               30 minutes                       NaN   \n",
              "2         NaN          NaN                   1 hour                  325000.0   \n",
              "3         NaN          NaN                   1 hour                  325000.0   \n",
              "4         NaN          NaN                  2 hours                  585000.0   \n",
              "\n",
              "   area_airport_name  region_id  \n",
              "0                NaN        NaN  \n",
              "1  Adi Sucipto (JOG)        2.0  \n",
              "2   Ngurah Rai (DPS)        1.0  \n",
              "3   Ngurah Rai (DPS)        1.0  \n",
              "4   Ngurah Rai (DPS)        1.0  "
            ],
            "text/html": [
              "\n",
              "  <div id=\"df-a12c3e09-dd00-46c5-89d1-edfa8b9ea416\" class=\"colab-df-container\">\n",
              "    <div>\n",
              "<style scoped>\n",
              "    .dataframe tbody tr th:only-of-type {\n",
              "        vertical-align: middle;\n",
              "    }\n",
              "\n",
              "    .dataframe tbody tr th {\n",
              "        vertical-align: top;\n",
              "    }\n",
              "\n",
              "    .dataframe thead th {\n",
              "        text-align: right;\n",
              "    }\n",
              "</style>\n",
              "<table border=\"1\" class=\"dataframe\">\n",
              "  <thead>\n",
              "    <tr style=\"text-align: right;\">\n",
              "      <th></th>\n",
              "      <th>area_id</th>\n",
              "      <th>area_name</th>\n",
              "      <th>area_squad</th>\n",
              "      <th>employee_id</th>\n",
              "      <th>created_at</th>\n",
              "      <th>updated_at</th>\n",
              "      <th>deleted_at</th>\n",
              "      <th>temp_column</th>\n",
              "      <th>area_distance_to_airport</th>\n",
              "      <th>airport_pickup_price_idr</th>\n",
              "      <th>area_airport_name</th>\n",
              "      <th>region_id</th>\n",
              "    </tr>\n",
              "  </thead>\n",
              "  <tbody>\n",
              "    <tr>\n",
              "      <th>0</th>\n",
              "      <td>A0000</td>\n",
              "      <td>Undefined</td>\n",
              "      <td>NaN</td>\n",
              "      <td>NaN</td>\n",
              "      <td>NaN</td>\n",
              "      <td>NaN</td>\n",
              "      <td>NaN</td>\n",
              "      <td>NaN</td>\n",
              "      <td>NaN</td>\n",
              "      <td>NaN</td>\n",
              "      <td>NaN</td>\n",
              "      <td>NaN</td>\n",
              "    </tr>\n",
              "    <tr>\n",
              "      <th>1</th>\n",
              "      <td>A0001</td>\n",
              "      <td>Yogyakarta</td>\n",
              "      <td>3.0</td>\n",
              "      <td>E0028</td>\n",
              "      <td>NaN</td>\n",
              "      <td>2023-05-17 04:14</td>\n",
              "      <td>NaN</td>\n",
              "      <td>NaN</td>\n",
              "      <td>30 minutes</td>\n",
              "      <td>NaN</td>\n",
              "      <td>Adi Sucipto (JOG)</td>\n",
              "      <td>2.0</td>\n",
              "    </tr>\n",
              "    <tr>\n",
              "      <th>2</th>\n",
              "      <td>A0002</td>\n",
              "      <td>Uluwatu</td>\n",
              "      <td>2.0</td>\n",
              "      <td>E0015</td>\n",
              "      <td>NaN</td>\n",
              "      <td>2022-10-07 06:34</td>\n",
              "      <td>NaN</td>\n",
              "      <td>NaN</td>\n",
              "      <td>1 hour</td>\n",
              "      <td>325000.0</td>\n",
              "      <td>Ngurah Rai (DPS)</td>\n",
              "      <td>1.0</td>\n",
              "    </tr>\n",
              "    <tr>\n",
              "      <th>3</th>\n",
              "      <td>A0003</td>\n",
              "      <td>Canggu</td>\n",
              "      <td>2.0</td>\n",
              "      <td>E0014</td>\n",
              "      <td>NaN</td>\n",
              "      <td>2022-10-07 06:34</td>\n",
              "      <td>NaN</td>\n",
              "      <td>NaN</td>\n",
              "      <td>1 hour</td>\n",
              "      <td>325000.0</td>\n",
              "      <td>Ngurah Rai (DPS)</td>\n",
              "      <td>1.0</td>\n",
              "    </tr>\n",
              "    <tr>\n",
              "      <th>4</th>\n",
              "      <td>A0004</td>\n",
              "      <td>Ubud</td>\n",
              "      <td>2.0</td>\n",
              "      <td>E0042</td>\n",
              "      <td>NaN</td>\n",
              "      <td>2022-10-07 06:34</td>\n",
              "      <td>NaN</td>\n",
              "      <td>NaN</td>\n",
              "      <td>2 hours</td>\n",
              "      <td>585000.0</td>\n",
              "      <td>Ngurah Rai (DPS)</td>\n",
              "      <td>1.0</td>\n",
              "    </tr>\n",
              "  </tbody>\n",
              "</table>\n",
              "</div>\n",
              "    <div class=\"colab-df-buttons\">\n",
              "\n",
              "  <div class=\"colab-df-container\">\n",
              "    <button class=\"colab-df-convert\" onclick=\"convertToInteractive('df-a12c3e09-dd00-46c5-89d1-edfa8b9ea416')\"\n",
              "            title=\"Convert this dataframe to an interactive table.\"\n",
              "            style=\"display:none;\">\n",
              "\n",
              "  <svg xmlns=\"http://www.w3.org/2000/svg\" height=\"24px\" viewBox=\"0 -960 960 960\">\n",
              "    <path d=\"M120-120v-720h720v720H120Zm60-500h600v-160H180v160Zm220 220h160v-160H400v160Zm0 220h160v-160H400v160ZM180-400h160v-160H180v160Zm440 0h160v-160H620v160ZM180-180h160v-160H180v160Zm440 0h160v-160H620v160Z\"/>\n",
              "  </svg>\n",
              "    </button>\n",
              "\n",
              "  <style>\n",
              "    .colab-df-container {\n",
              "      display:flex;\n",
              "      gap: 12px;\n",
              "    }\n",
              "\n",
              "    .colab-df-convert {\n",
              "      background-color: #E8F0FE;\n",
              "      border: none;\n",
              "      border-radius: 50%;\n",
              "      cursor: pointer;\n",
              "      display: none;\n",
              "      fill: #1967D2;\n",
              "      height: 32px;\n",
              "      padding: 0 0 0 0;\n",
              "      width: 32px;\n",
              "    }\n",
              "\n",
              "    .colab-df-convert:hover {\n",
              "      background-color: #E2EBFA;\n",
              "      box-shadow: 0px 1px 2px rgba(60, 64, 67, 0.3), 0px 1px 3px 1px rgba(60, 64, 67, 0.15);\n",
              "      fill: #174EA6;\n",
              "    }\n",
              "\n",
              "    .colab-df-buttons div {\n",
              "      margin-bottom: 4px;\n",
              "    }\n",
              "\n",
              "    [theme=dark] .colab-df-convert {\n",
              "      background-color: #3B4455;\n",
              "      fill: #D2E3FC;\n",
              "    }\n",
              "\n",
              "    [theme=dark] .colab-df-convert:hover {\n",
              "      background-color: #434B5C;\n",
              "      box-shadow: 0px 1px 3px 1px rgba(0, 0, 0, 0.15);\n",
              "      filter: drop-shadow(0px 1px 2px rgba(0, 0, 0, 0.3));\n",
              "      fill: #FFFFFF;\n",
              "    }\n",
              "  </style>\n",
              "\n",
              "    <script>\n",
              "      const buttonEl =\n",
              "        document.querySelector('#df-a12c3e09-dd00-46c5-89d1-edfa8b9ea416 button.colab-df-convert');\n",
              "      buttonEl.style.display =\n",
              "        google.colab.kernel.accessAllowed ? 'block' : 'none';\n",
              "\n",
              "      async function convertToInteractive(key) {\n",
              "        const element = document.querySelector('#df-a12c3e09-dd00-46c5-89d1-edfa8b9ea416');\n",
              "        const dataTable =\n",
              "          await google.colab.kernel.invokeFunction('convertToInteractive',\n",
              "                                                    [key], {});\n",
              "        if (!dataTable) return;\n",
              "\n",
              "        const docLinkHtml = 'Like what you see? Visit the ' +\n",
              "          '<a target=\"_blank\" href=https://colab.research.google.com/notebooks/data_table.ipynb>data table notebook</a>'\n",
              "          + ' to learn more about interactive tables.';\n",
              "        element.innerHTML = '';\n",
              "        dataTable['output_type'] = 'display_data';\n",
              "        await google.colab.output.renderOutput(dataTable, element);\n",
              "        const docLink = document.createElement('div');\n",
              "        docLink.innerHTML = docLinkHtml;\n",
              "        element.appendChild(docLink);\n",
              "      }\n",
              "    </script>\n",
              "  </div>\n",
              "\n",
              "\n",
              "<div id=\"df-3e1c1adf-f9b2-4194-b814-b39382e64357\">\n",
              "  <button class=\"colab-df-quickchart\" onclick=\"quickchart('df-3e1c1adf-f9b2-4194-b814-b39382e64357')\"\n",
              "            title=\"Suggest charts\"\n",
              "            style=\"display:none;\">\n",
              "\n",
              "<svg xmlns=\"http://www.w3.org/2000/svg\" height=\"24px\"viewBox=\"0 0 24 24\"\n",
              "     width=\"24px\">\n",
              "    <g>\n",
              "        <path d=\"M19 3H5c-1.1 0-2 .9-2 2v14c0 1.1.9 2 2 2h14c1.1 0 2-.9 2-2V5c0-1.1-.9-2-2-2zM9 17H7v-7h2v7zm4 0h-2V7h2v10zm4 0h-2v-4h2v4z\"/>\n",
              "    </g>\n",
              "</svg>\n",
              "  </button>\n",
              "\n",
              "<style>\n",
              "  .colab-df-quickchart {\n",
              "      --bg-color: #E8F0FE;\n",
              "      --fill-color: #1967D2;\n",
              "      --hover-bg-color: #E2EBFA;\n",
              "      --hover-fill-color: #174EA6;\n",
              "      --disabled-fill-color: #AAA;\n",
              "      --disabled-bg-color: #DDD;\n",
              "  }\n",
              "\n",
              "  [theme=dark] .colab-df-quickchart {\n",
              "      --bg-color: #3B4455;\n",
              "      --fill-color: #D2E3FC;\n",
              "      --hover-bg-color: #434B5C;\n",
              "      --hover-fill-color: #FFFFFF;\n",
              "      --disabled-bg-color: #3B4455;\n",
              "      --disabled-fill-color: #666;\n",
              "  }\n",
              "\n",
              "  .colab-df-quickchart {\n",
              "    background-color: var(--bg-color);\n",
              "    border: none;\n",
              "    border-radius: 50%;\n",
              "    cursor: pointer;\n",
              "    display: none;\n",
              "    fill: var(--fill-color);\n",
              "    height: 32px;\n",
              "    padding: 0;\n",
              "    width: 32px;\n",
              "  }\n",
              "\n",
              "  .colab-df-quickchart:hover {\n",
              "    background-color: var(--hover-bg-color);\n",
              "    box-shadow: 0 1px 2px rgba(60, 64, 67, 0.3), 0 1px 3px 1px rgba(60, 64, 67, 0.15);\n",
              "    fill: var(--button-hover-fill-color);\n",
              "  }\n",
              "\n",
              "  .colab-df-quickchart-complete:disabled,\n",
              "  .colab-df-quickchart-complete:disabled:hover {\n",
              "    background-color: var(--disabled-bg-color);\n",
              "    fill: var(--disabled-fill-color);\n",
              "    box-shadow: none;\n",
              "  }\n",
              "\n",
              "  .colab-df-spinner {\n",
              "    border: 2px solid var(--fill-color);\n",
              "    border-color: transparent;\n",
              "    border-bottom-color: var(--fill-color);\n",
              "    animation:\n",
              "      spin 1s steps(1) infinite;\n",
              "  }\n",
              "\n",
              "  @keyframes spin {\n",
              "    0% {\n",
              "      border-color: transparent;\n",
              "      border-bottom-color: var(--fill-color);\n",
              "      border-left-color: var(--fill-color);\n",
              "    }\n",
              "    20% {\n",
              "      border-color: transparent;\n",
              "      border-left-color: var(--fill-color);\n",
              "      border-top-color: var(--fill-color);\n",
              "    }\n",
              "    30% {\n",
              "      border-color: transparent;\n",
              "      border-left-color: var(--fill-color);\n",
              "      border-top-color: var(--fill-color);\n",
              "      border-right-color: var(--fill-color);\n",
              "    }\n",
              "    40% {\n",
              "      border-color: transparent;\n",
              "      border-right-color: var(--fill-color);\n",
              "      border-top-color: var(--fill-color);\n",
              "    }\n",
              "    60% {\n",
              "      border-color: transparent;\n",
              "      border-right-color: var(--fill-color);\n",
              "    }\n",
              "    80% {\n",
              "      border-color: transparent;\n",
              "      border-right-color: var(--fill-color);\n",
              "      border-bottom-color: var(--fill-color);\n",
              "    }\n",
              "    90% {\n",
              "      border-color: transparent;\n",
              "      border-bottom-color: var(--fill-color);\n",
              "    }\n",
              "  }\n",
              "</style>\n",
              "\n",
              "  <script>\n",
              "    async function quickchart(key) {\n",
              "      const quickchartButtonEl =\n",
              "        document.querySelector('#' + key + ' button');\n",
              "      quickchartButtonEl.disabled = true;  // To prevent multiple clicks.\n",
              "      quickchartButtonEl.classList.add('colab-df-spinner');\n",
              "      try {\n",
              "        const charts = await google.colab.kernel.invokeFunction(\n",
              "            'suggestCharts', [key], {});\n",
              "      } catch (error) {\n",
              "        console.error('Error during call to suggestCharts:', error);\n",
              "      }\n",
              "      quickchartButtonEl.classList.remove('colab-df-spinner');\n",
              "      quickchartButtonEl.classList.add('colab-df-quickchart-complete');\n",
              "    }\n",
              "    (() => {\n",
              "      let quickchartButtonEl =\n",
              "        document.querySelector('#df-3e1c1adf-f9b2-4194-b814-b39382e64357 button');\n",
              "      quickchartButtonEl.style.display =\n",
              "        google.colab.kernel.accessAllowed ? 'block' : 'none';\n",
              "    })();\n",
              "  </script>\n",
              "</div>\n",
              "    </div>\n",
              "  </div>\n"
            ],
            "application/vnd.google.colaboratory.intrinsic+json": {
              "type": "dataframe",
              "variable_name": "areacodes_df",
              "summary": "{\n  \"name\": \"areacodes_df\",\n  \"rows\": 54,\n  \"fields\": [\n    {\n      \"column\": \"area_id\",\n      \"properties\": {\n        \"dtype\": \"string\",\n        \"num_unique_values\": 54,\n        \"samples\": [\n          \"A0019\",\n          \"A0050\",\n          \"A0049\"\n        ],\n        \"semantic_type\": \"\",\n        \"description\": \"\"\n      }\n    },\n    {\n      \"column\": \"area_name\",\n      \"properties\": {\n        \"dtype\": \"string\",\n        \"num_unique_values\": 54,\n        \"samples\": [\n          \"Penang\",\n          \"Caturtunggal\",\n          \"Sinduadi\"\n        ],\n        \"semantic_type\": \"\",\n        \"description\": \"\"\n      }\n    },\n    {\n      \"column\": \"area_squad\",\n      \"properties\": {\n        \"dtype\": \"number\",\n        \"std\": 1.2146302154286381,\n        \"min\": 0.0,\n        \"max\": 5.0,\n        \"num_unique_values\": 6,\n        \"samples\": [\n          3.0,\n          2.0,\n          5.0\n        ],\n        \"semantic_type\": \"\",\n        \"description\": \"\"\n      }\n    },\n    {\n      \"column\": \"employee_id\",\n      \"properties\": {\n        \"dtype\": \"category\",\n        \"num_unique_values\": 11,\n        \"samples\": [\n          \"E0036\",\n          \"E0028\",\n          \"E0017\"\n        ],\n        \"semantic_type\": \"\",\n        \"description\": \"\"\n      }\n    },\n    {\n      \"column\": \"created_at\",\n      \"properties\": {\n        \"dtype\": \"date\",\n        \"min\": \"2018-07-02 16:51:00\",\n        \"max\": \"2024-03-25 03:03:00\",\n        \"num_unique_values\": 19,\n        \"samples\": [\n          \"2018-07-02 16:51\",\n          \"2022-04-12 12:22\",\n          \"2023-04-27 06:11\"\n        ],\n        \"semantic_type\": \"\",\n        \"description\": \"\"\n      }\n    },\n    {\n      \"column\": \"updated_at\",\n      \"properties\": {\n        \"dtype\": \"date\",\n        \"min\": \"2021-06-15 07:11:00\",\n        \"max\": \"2024-02-05 06:51:00\",\n        \"num_unique_values\": 12,\n        \"samples\": [\n          \"2024-02-05 06:51\",\n          \"2023-04-13 05:37\",\n          \"2023-05-17 04:14\"\n        ],\n        \"semantic_type\": \"\",\n        \"description\": \"\"\n      }\n    },\n    {\n      \"column\": \"deleted_at\",\n      \"properties\": {\n        \"dtype\": \"number\",\n        \"std\": null,\n        \"min\": null,\n        \"max\": null,\n        \"num_unique_values\": 0,\n        \"samples\": [],\n        \"semantic_type\": \"\",\n        \"description\": \"\"\n      }\n    },\n    {\n      \"column\": \"temp_column\",\n      \"properties\": {\n        \"dtype\": \"number\",\n        \"std\": null,\n        \"min\": null,\n        \"max\": null,\n        \"num_unique_values\": 0,\n        \"samples\": [],\n        \"semantic_type\": \"\",\n        \"description\": \"\"\n      }\n    },\n    {\n      \"column\": \"area_distance_to_airport\",\n      \"properties\": {\n        \"dtype\": \"category\",\n        \"num_unique_values\": 7,\n        \"samples\": [],\n        \"semantic_type\": \"\",\n        \"description\": \"\"\n      }\n    },\n    {\n      \"column\": \"airport_pickup_price_idr\",\n      \"properties\": {\n        \"dtype\": \"number\",\n        \"std\": 164599.99360491132,\n        \"min\": 0.0,\n        \"max\": 700000.0,\n        \"num_unique_values\": 11,\n        \"samples\": [],\n        \"semantic_type\": \"\",\n        \"description\": \"\"\n      }\n    },\n    {\n      \"column\": \"area_airport_name\",\n      \"properties\": {\n        \"dtype\": \"category\",\n        \"num_unique_values\": 2,\n        \"samples\": [],\n        \"semantic_type\": \"\",\n        \"description\": \"\"\n      }\n    },\n    {\n      \"column\": \"region_id\",\n      \"properties\": {\n        \"dtype\": \"number\",\n        \"std\": 0.5328903502931349,\n        \"min\": 1.0,\n        \"max\": 3.0,\n        \"num_unique_values\": 3,\n        \"samples\": [],\n        \"semantic_type\": \"\",\n        \"description\": \"\"\n      }\n    }\n  ]\n}"
            }
          },
          "metadata": {},
          "execution_count": 239
        }
      ],
      "source": [
        "areacodes_df = pd.read_csv(\"areacodes.csv\", delimiter=\",\")\n",
        "areacodes_df.head()"
      ]
    },
    {
      "cell_type": "code",
      "execution_count": 240,
      "metadata": {
        "colab": {
          "base_uri": "https://localhost:8080/"
        },
        "id": "aIIpwU83WznK",
        "outputId": "67a68ef5-f918-4758-cce5-cd8f39308583"
      },
      "outputs": [
        {
          "output_type": "execute_result",
          "data": {
            "text/plain": [
              "(54, 12)"
            ]
          },
          "metadata": {},
          "execution_count": 240
        }
      ],
      "source": [
        "areacodes_df.shape"
      ]
    },
    {
      "cell_type": "markdown",
      "metadata": {
        "id": "HtUL2hFGW4wm"
      },
      "source": [
        "It can be seen that the areacodes dataset has 54 area IDs and also has 12 features."
      ]
    },
    {
      "cell_type": "markdown",
      "metadata": {
        "id": "8Rdq7cq9XMrb"
      },
      "source": [
        "### **Assessing Data**"
      ]
    },
    {
      "cell_type": "markdown",
      "metadata": {
        "id": "KVGvPjyMXeGL"
      },
      "source": [
        "This is a process that aimed to identifying some issues related to data quality and we want to see the information of the data."
      ]
    },
    {
      "cell_type": "code",
      "execution_count": 241,
      "metadata": {
        "colab": {
          "base_uri": "https://localhost:8080/"
        },
        "id": "EvFbZxh5YAvJ",
        "outputId": "5720560a-24b1-433e-fb49-a197729e1955"
      },
      "outputs": [
        {
          "output_type": "stream",
          "name": "stdout",
          "text": [
            "<class 'pandas.core.frame.DataFrame'>\n",
            "RangeIndex: 357 entries, 0 to 356\n",
            "Data columns (total 40 columns):\n",
            " #   Column                  Non-Null Count  Dtype  \n",
            "---  ------                  --------------  -----  \n",
            " 0   property_id             357 non-null    object \n",
            " 1   unit_id                 357 non-null    object \n",
            " 2   average_baseline_price  357 non-null    float64\n",
            " 3   bedroom                 357 non-null    int64  \n",
            " 4   bathroom                124 non-null    float64\n",
            " 5   beds                    124 non-null    float64\n",
            " 6   capacity                117 non-null    float64\n",
            " 7   ac                      123 non-null    float64\n",
            " 8   balcony                 123 non-null    float64\n",
            " 9   beachfront              123 non-null    float64\n",
            " 10  breakfast               123 non-null    float64\n",
            " 11  building_staff          123 non-null    float64\n",
            " 12  cable_tv                123 non-null    float64\n",
            " 13  essentials              123 non-null    float64\n",
            " 14  garden                  123 non-null    float64\n",
            " 15  gym                     123 non-null    float64\n",
            " 16  hair_dryer              123 non-null    float64\n",
            " 17  hanger                  123 non-null    float64\n",
            " 18  heating                 123 non-null    float64\n",
            " 19  hot_water               123 non-null    float64\n",
            " 20  kitchen                 123 non-null    float64\n",
            " 21  linens                  123 non-null    float64\n",
            " 22  lock                    123 non-null    float64\n",
            " 23  luggage_drop_off        123 non-null    float64\n",
            " 24  parking                 123 non-null    float64\n",
            " 25  pool                    123 non-null    float64\n",
            " 26  private_entrance        123 non-null    float64\n",
            " 27  shampoo                 123 non-null    float64\n",
            " 28  tv                      123 non-null    float64\n",
            " 29  washer                  123 non-null    float64\n",
            " 30  wifi                    123 non-null    float64\n",
            " 31  workspace               123 non-null    float64\n",
            " 32  lat                     113 non-null    float64\n",
            " 33  lng                     113 non-null    float64\n",
            " 34  property_name           356 non-null    object \n",
            " 35  property_direction      139 non-null    object \n",
            " 36  property_type           356 non-null    float64\n",
            " 37  property_design         355 non-null    float64\n",
            " 38  area_id                 356 non-null    object \n",
            " 39  distance_to_coastline   33 non-null     float64\n",
            "dtypes: float64(34), int64(1), object(5)\n",
            "memory usage: 111.7+ KB\n"
          ]
        }
      ],
      "source": [
        "main_df.info()"
      ]
    },
    {
      "cell_type": "markdown",
      "metadata": {
        "id": "dnEAr6xOZiRY"
      },
      "source": [
        "We see that the data types from main dataset is correct, so we don't need to change the datatypes. Next, we will access info from areacodes dataset using info() function."
      ]
    },
    {
      "cell_type": "code",
      "execution_count": 242,
      "metadata": {
        "colab": {
          "base_uri": "https://localhost:8080/"
        },
        "id": "sKwxSCBuZaCB",
        "outputId": "8af273a0-a4eb-40b0-dec0-e6a6de438a70"
      },
      "outputs": [
        {
          "output_type": "stream",
          "name": "stdout",
          "text": [
            "<class 'pandas.core.frame.DataFrame'>\n",
            "RangeIndex: 54 entries, 0 to 53\n",
            "Data columns (total 12 columns):\n",
            " #   Column                    Non-Null Count  Dtype  \n",
            "---  ------                    --------------  -----  \n",
            " 0   area_id                   54 non-null     object \n",
            " 1   area_name                 54 non-null     object \n",
            " 2   area_squad                53 non-null     float64\n",
            " 3   employee_id               22 non-null     object \n",
            " 4   created_at                33 non-null     object \n",
            " 5   updated_at                30 non-null     object \n",
            " 6   deleted_at                0 non-null      float64\n",
            " 7   temp_column               0 non-null      float64\n",
            " 8   area_distance_to_airport  18 non-null     object \n",
            " 9   airport_pickup_price_idr  20 non-null     float64\n",
            " 10  area_airport_name         20 non-null     object \n",
            " 11  region_id                 42 non-null     float64\n",
            "dtypes: float64(5), object(7)\n",
            "memory usage: 5.2+ KB\n"
          ]
        }
      ],
      "source": [
        "areacodes_df.info()"
      ]
    },
    {
      "cell_type": "markdown",
      "metadata": {
        "id": "9fJedtl9am70"
      },
      "source": [
        "From information above, we conclude that we will drop the features of created_at, updated_at,deleted_at and temp_column and also we want to convert the area_distance_to_airport datatype to float64.\n"
      ]
    },
    {
      "cell_type": "code",
      "execution_count": 243,
      "metadata": {
        "id": "G3kR22GtbE-9"
      },
      "outputs": [],
      "source": [
        "columns = [\"created_at\",\"updated_at\",\"deleted_at\",\"temp_column\"]\n",
        "areacodes_df = areacodes_df.drop(columns,axis=1)"
      ]
    },
    {
      "cell_type": "markdown",
      "metadata": {
        "id": "NzHkEPalbgkv"
      },
      "source": [
        "Next we will check it again using info() function"
      ]
    },
    {
      "cell_type": "code",
      "execution_count": 244,
      "metadata": {
        "colab": {
          "base_uri": "https://localhost:8080/"
        },
        "id": "iskamWl_e9dl",
        "outputId": "c73618da-5c2a-4066-a105-f35997f9fab4"
      },
      "outputs": [
        {
          "output_type": "stream",
          "name": "stdout",
          "text": [
            "<class 'pandas.core.frame.DataFrame'>\n",
            "RangeIndex: 54 entries, 0 to 53\n",
            "Data columns (total 8 columns):\n",
            " #   Column                    Non-Null Count  Dtype  \n",
            "---  ------                    --------------  -----  \n",
            " 0   area_id                   54 non-null     object \n",
            " 1   area_name                 54 non-null     object \n",
            " 2   area_squad                53 non-null     float64\n",
            " 3   employee_id               22 non-null     object \n",
            " 4   area_distance_to_airport  18 non-null     object \n",
            " 5   airport_pickup_price_idr  20 non-null     float64\n",
            " 6   area_airport_name         20 non-null     object \n",
            " 7   region_id                 42 non-null     float64\n",
            "dtypes: float64(3), object(5)\n",
            "memory usage: 3.5+ KB\n"
          ]
        }
      ],
      "source": [
        "areacodes_df.info()"
      ]
    },
    {
      "cell_type": "markdown",
      "metadata": {
        "id": "OulgXrWzfGBP"
      },
      "source": [
        "We have successfully deleted some columns from dataset and next we will change the datatype of area_distance_to_airport into float64 dtype and before convert dtype we can make function to change the data into minutes."
      ]
    },
    {
      "cell_type": "code",
      "execution_count": 245,
      "metadata": {
        "id": "o9tgJnsUfVsq"
      },
      "outputs": [],
      "source": [
        "def convert_time_to_minutes(time_str):\n",
        "    if isinstance(time_str, str):\n",
        "        if 'minute' in time_str:\n",
        "            return float(time_str.split()[0])\n",
        "        elif 'hour' in time_str:\n",
        "            return float(time_str.split()[0]) * 60\n",
        "        else:\n",
        "            raise ValueError(f\"Unknown time format: {time_str}\")\n",
        "    elif isinstance(time_str, float) and np.isnan(time_str):\n",
        "        return np.nan\n",
        "    else:\n",
        "        raise TypeError(f\"Expected string or NaN, got {type(time_str)}\")"
      ]
    },
    {
      "cell_type": "markdown",
      "metadata": {
        "id": "T7LYKU8tgjC6"
      },
      "source": [
        "Next we can implement that function."
      ]
    },
    {
      "cell_type": "code",
      "execution_count": 246,
      "metadata": {
        "id": "m8wsZzjPfUdK"
      },
      "outputs": [],
      "source": [
        "column = [\"area_distance_to_airport\"]\n",
        "\n",
        "for c in column:\n",
        "  areacodes_df[c] =  areacodes_df[c].apply(convert_time_to_minutes).astype('float64')"
      ]
    },
    {
      "cell_type": "markdown",
      "metadata": {
        "id": "mf4Poxb-lDTJ"
      },
      "source": [
        "Next we can check the data info and data conversion"
      ]
    },
    {
      "cell_type": "code",
      "execution_count": 247,
      "metadata": {
        "colab": {
          "base_uri": "https://localhost:8080/"
        },
        "id": "o1iyBFEKlCmM",
        "outputId": "8fd633be-5b2b-4566-9675-9094a29c7c87"
      },
      "outputs": [
        {
          "output_type": "stream",
          "name": "stdout",
          "text": [
            "<class 'pandas.core.frame.DataFrame'>\n",
            "RangeIndex: 54 entries, 0 to 53\n",
            "Data columns (total 8 columns):\n",
            " #   Column                    Non-Null Count  Dtype  \n",
            "---  ------                    --------------  -----  \n",
            " 0   area_id                   54 non-null     object \n",
            " 1   area_name                 54 non-null     object \n",
            " 2   area_squad                53 non-null     float64\n",
            " 3   employee_id               22 non-null     object \n",
            " 4   area_distance_to_airport  18 non-null     float64\n",
            " 5   airport_pickup_price_idr  20 non-null     float64\n",
            " 6   area_airport_name         20 non-null     object \n",
            " 7   region_id                 42 non-null     float64\n",
            "dtypes: float64(4), object(4)\n",
            "memory usage: 3.5+ KB\n"
          ]
        }
      ],
      "source": [
        "areacodes_df.info()"
      ]
    },
    {
      "cell_type": "code",
      "execution_count": 248,
      "metadata": {
        "colab": {
          "base_uri": "https://localhost:8080/",
          "height": 226
        },
        "id": "4UafoQeNleXR",
        "outputId": "9268f593-3644-45d7-b335-34a36f48399a"
      },
      "outputs": [
        {
          "output_type": "execute_result",
          "data": {
            "text/plain": [
              "  area_id   area_name  area_squad employee_id  area_distance_to_airport  \\\n",
              "0   A0000   Undefined         NaN         NaN                       NaN   \n",
              "1   A0001  Yogyakarta         3.0       E0028                      30.0   \n",
              "2   A0002     Uluwatu         2.0       E0015                      60.0   \n",
              "3   A0003      Canggu         2.0       E0014                      60.0   \n",
              "4   A0004        Ubud         2.0       E0042                     120.0   \n",
              "\n",
              "   airport_pickup_price_idr  area_airport_name  region_id  \n",
              "0                       NaN                NaN        NaN  \n",
              "1                       NaN  Adi Sucipto (JOG)        2.0  \n",
              "2                  325000.0   Ngurah Rai (DPS)        1.0  \n",
              "3                  325000.0   Ngurah Rai (DPS)        1.0  \n",
              "4                  585000.0   Ngurah Rai (DPS)        1.0  "
            ],
            "text/html": [
              "\n",
              "  <div id=\"df-ca91b20c-046b-4cd3-9718-42e0922f0b30\" class=\"colab-df-container\">\n",
              "    <div>\n",
              "<style scoped>\n",
              "    .dataframe tbody tr th:only-of-type {\n",
              "        vertical-align: middle;\n",
              "    }\n",
              "\n",
              "    .dataframe tbody tr th {\n",
              "        vertical-align: top;\n",
              "    }\n",
              "\n",
              "    .dataframe thead th {\n",
              "        text-align: right;\n",
              "    }\n",
              "</style>\n",
              "<table border=\"1\" class=\"dataframe\">\n",
              "  <thead>\n",
              "    <tr style=\"text-align: right;\">\n",
              "      <th></th>\n",
              "      <th>area_id</th>\n",
              "      <th>area_name</th>\n",
              "      <th>area_squad</th>\n",
              "      <th>employee_id</th>\n",
              "      <th>area_distance_to_airport</th>\n",
              "      <th>airport_pickup_price_idr</th>\n",
              "      <th>area_airport_name</th>\n",
              "      <th>region_id</th>\n",
              "    </tr>\n",
              "  </thead>\n",
              "  <tbody>\n",
              "    <tr>\n",
              "      <th>0</th>\n",
              "      <td>A0000</td>\n",
              "      <td>Undefined</td>\n",
              "      <td>NaN</td>\n",
              "      <td>NaN</td>\n",
              "      <td>NaN</td>\n",
              "      <td>NaN</td>\n",
              "      <td>NaN</td>\n",
              "      <td>NaN</td>\n",
              "    </tr>\n",
              "    <tr>\n",
              "      <th>1</th>\n",
              "      <td>A0001</td>\n",
              "      <td>Yogyakarta</td>\n",
              "      <td>3.0</td>\n",
              "      <td>E0028</td>\n",
              "      <td>30.0</td>\n",
              "      <td>NaN</td>\n",
              "      <td>Adi Sucipto (JOG)</td>\n",
              "      <td>2.0</td>\n",
              "    </tr>\n",
              "    <tr>\n",
              "      <th>2</th>\n",
              "      <td>A0002</td>\n",
              "      <td>Uluwatu</td>\n",
              "      <td>2.0</td>\n",
              "      <td>E0015</td>\n",
              "      <td>60.0</td>\n",
              "      <td>325000.0</td>\n",
              "      <td>Ngurah Rai (DPS)</td>\n",
              "      <td>1.0</td>\n",
              "    </tr>\n",
              "    <tr>\n",
              "      <th>3</th>\n",
              "      <td>A0003</td>\n",
              "      <td>Canggu</td>\n",
              "      <td>2.0</td>\n",
              "      <td>E0014</td>\n",
              "      <td>60.0</td>\n",
              "      <td>325000.0</td>\n",
              "      <td>Ngurah Rai (DPS)</td>\n",
              "      <td>1.0</td>\n",
              "    </tr>\n",
              "    <tr>\n",
              "      <th>4</th>\n",
              "      <td>A0004</td>\n",
              "      <td>Ubud</td>\n",
              "      <td>2.0</td>\n",
              "      <td>E0042</td>\n",
              "      <td>120.0</td>\n",
              "      <td>585000.0</td>\n",
              "      <td>Ngurah Rai (DPS)</td>\n",
              "      <td>1.0</td>\n",
              "    </tr>\n",
              "  </tbody>\n",
              "</table>\n",
              "</div>\n",
              "    <div class=\"colab-df-buttons\">\n",
              "\n",
              "  <div class=\"colab-df-container\">\n",
              "    <button class=\"colab-df-convert\" onclick=\"convertToInteractive('df-ca91b20c-046b-4cd3-9718-42e0922f0b30')\"\n",
              "            title=\"Convert this dataframe to an interactive table.\"\n",
              "            style=\"display:none;\">\n",
              "\n",
              "  <svg xmlns=\"http://www.w3.org/2000/svg\" height=\"24px\" viewBox=\"0 -960 960 960\">\n",
              "    <path d=\"M120-120v-720h720v720H120Zm60-500h600v-160H180v160Zm220 220h160v-160H400v160Zm0 220h160v-160H400v160ZM180-400h160v-160H180v160Zm440 0h160v-160H620v160ZM180-180h160v-160H180v160Zm440 0h160v-160H620v160Z\"/>\n",
              "  </svg>\n",
              "    </button>\n",
              "\n",
              "  <style>\n",
              "    .colab-df-container {\n",
              "      display:flex;\n",
              "      gap: 12px;\n",
              "    }\n",
              "\n",
              "    .colab-df-convert {\n",
              "      background-color: #E8F0FE;\n",
              "      border: none;\n",
              "      border-radius: 50%;\n",
              "      cursor: pointer;\n",
              "      display: none;\n",
              "      fill: #1967D2;\n",
              "      height: 32px;\n",
              "      padding: 0 0 0 0;\n",
              "      width: 32px;\n",
              "    }\n",
              "\n",
              "    .colab-df-convert:hover {\n",
              "      background-color: #E2EBFA;\n",
              "      box-shadow: 0px 1px 2px rgba(60, 64, 67, 0.3), 0px 1px 3px 1px rgba(60, 64, 67, 0.15);\n",
              "      fill: #174EA6;\n",
              "    }\n",
              "\n",
              "    .colab-df-buttons div {\n",
              "      margin-bottom: 4px;\n",
              "    }\n",
              "\n",
              "    [theme=dark] .colab-df-convert {\n",
              "      background-color: #3B4455;\n",
              "      fill: #D2E3FC;\n",
              "    }\n",
              "\n",
              "    [theme=dark] .colab-df-convert:hover {\n",
              "      background-color: #434B5C;\n",
              "      box-shadow: 0px 1px 3px 1px rgba(0, 0, 0, 0.15);\n",
              "      filter: drop-shadow(0px 1px 2px rgba(0, 0, 0, 0.3));\n",
              "      fill: #FFFFFF;\n",
              "    }\n",
              "  </style>\n",
              "\n",
              "    <script>\n",
              "      const buttonEl =\n",
              "        document.querySelector('#df-ca91b20c-046b-4cd3-9718-42e0922f0b30 button.colab-df-convert');\n",
              "      buttonEl.style.display =\n",
              "        google.colab.kernel.accessAllowed ? 'block' : 'none';\n",
              "\n",
              "      async function convertToInteractive(key) {\n",
              "        const element = document.querySelector('#df-ca91b20c-046b-4cd3-9718-42e0922f0b30');\n",
              "        const dataTable =\n",
              "          await google.colab.kernel.invokeFunction('convertToInteractive',\n",
              "                                                    [key], {});\n",
              "        if (!dataTable) return;\n",
              "\n",
              "        const docLinkHtml = 'Like what you see? Visit the ' +\n",
              "          '<a target=\"_blank\" href=https://colab.research.google.com/notebooks/data_table.ipynb>data table notebook</a>'\n",
              "          + ' to learn more about interactive tables.';\n",
              "        element.innerHTML = '';\n",
              "        dataTable['output_type'] = 'display_data';\n",
              "        await google.colab.output.renderOutput(dataTable, element);\n",
              "        const docLink = document.createElement('div');\n",
              "        docLink.innerHTML = docLinkHtml;\n",
              "        element.appendChild(docLink);\n",
              "      }\n",
              "    </script>\n",
              "  </div>\n",
              "\n",
              "\n",
              "<div id=\"df-c16424b8-7bd1-4dda-ac11-c2ba0c26b78b\">\n",
              "  <button class=\"colab-df-quickchart\" onclick=\"quickchart('df-c16424b8-7bd1-4dda-ac11-c2ba0c26b78b')\"\n",
              "            title=\"Suggest charts\"\n",
              "            style=\"display:none;\">\n",
              "\n",
              "<svg xmlns=\"http://www.w3.org/2000/svg\" height=\"24px\"viewBox=\"0 0 24 24\"\n",
              "     width=\"24px\">\n",
              "    <g>\n",
              "        <path d=\"M19 3H5c-1.1 0-2 .9-2 2v14c0 1.1.9 2 2 2h14c1.1 0 2-.9 2-2V5c0-1.1-.9-2-2-2zM9 17H7v-7h2v7zm4 0h-2V7h2v10zm4 0h-2v-4h2v4z\"/>\n",
              "    </g>\n",
              "</svg>\n",
              "  </button>\n",
              "\n",
              "<style>\n",
              "  .colab-df-quickchart {\n",
              "      --bg-color: #E8F0FE;\n",
              "      --fill-color: #1967D2;\n",
              "      --hover-bg-color: #E2EBFA;\n",
              "      --hover-fill-color: #174EA6;\n",
              "      --disabled-fill-color: #AAA;\n",
              "      --disabled-bg-color: #DDD;\n",
              "  }\n",
              "\n",
              "  [theme=dark] .colab-df-quickchart {\n",
              "      --bg-color: #3B4455;\n",
              "      --fill-color: #D2E3FC;\n",
              "      --hover-bg-color: #434B5C;\n",
              "      --hover-fill-color: #FFFFFF;\n",
              "      --disabled-bg-color: #3B4455;\n",
              "      --disabled-fill-color: #666;\n",
              "  }\n",
              "\n",
              "  .colab-df-quickchart {\n",
              "    background-color: var(--bg-color);\n",
              "    border: none;\n",
              "    border-radius: 50%;\n",
              "    cursor: pointer;\n",
              "    display: none;\n",
              "    fill: var(--fill-color);\n",
              "    height: 32px;\n",
              "    padding: 0;\n",
              "    width: 32px;\n",
              "  }\n",
              "\n",
              "  .colab-df-quickchart:hover {\n",
              "    background-color: var(--hover-bg-color);\n",
              "    box-shadow: 0 1px 2px rgba(60, 64, 67, 0.3), 0 1px 3px 1px rgba(60, 64, 67, 0.15);\n",
              "    fill: var(--button-hover-fill-color);\n",
              "  }\n",
              "\n",
              "  .colab-df-quickchart-complete:disabled,\n",
              "  .colab-df-quickchart-complete:disabled:hover {\n",
              "    background-color: var(--disabled-bg-color);\n",
              "    fill: var(--disabled-fill-color);\n",
              "    box-shadow: none;\n",
              "  }\n",
              "\n",
              "  .colab-df-spinner {\n",
              "    border: 2px solid var(--fill-color);\n",
              "    border-color: transparent;\n",
              "    border-bottom-color: var(--fill-color);\n",
              "    animation:\n",
              "      spin 1s steps(1) infinite;\n",
              "  }\n",
              "\n",
              "  @keyframes spin {\n",
              "    0% {\n",
              "      border-color: transparent;\n",
              "      border-bottom-color: var(--fill-color);\n",
              "      border-left-color: var(--fill-color);\n",
              "    }\n",
              "    20% {\n",
              "      border-color: transparent;\n",
              "      border-left-color: var(--fill-color);\n",
              "      border-top-color: var(--fill-color);\n",
              "    }\n",
              "    30% {\n",
              "      border-color: transparent;\n",
              "      border-left-color: var(--fill-color);\n",
              "      border-top-color: var(--fill-color);\n",
              "      border-right-color: var(--fill-color);\n",
              "    }\n",
              "    40% {\n",
              "      border-color: transparent;\n",
              "      border-right-color: var(--fill-color);\n",
              "      border-top-color: var(--fill-color);\n",
              "    }\n",
              "    60% {\n",
              "      border-color: transparent;\n",
              "      border-right-color: var(--fill-color);\n",
              "    }\n",
              "    80% {\n",
              "      border-color: transparent;\n",
              "      border-right-color: var(--fill-color);\n",
              "      border-bottom-color: var(--fill-color);\n",
              "    }\n",
              "    90% {\n",
              "      border-color: transparent;\n",
              "      border-bottom-color: var(--fill-color);\n",
              "    }\n",
              "  }\n",
              "</style>\n",
              "\n",
              "  <script>\n",
              "    async function quickchart(key) {\n",
              "      const quickchartButtonEl =\n",
              "        document.querySelector('#' + key + ' button');\n",
              "      quickchartButtonEl.disabled = true;  // To prevent multiple clicks.\n",
              "      quickchartButtonEl.classList.add('colab-df-spinner');\n",
              "      try {\n",
              "        const charts = await google.colab.kernel.invokeFunction(\n",
              "            'suggestCharts', [key], {});\n",
              "      } catch (error) {\n",
              "        console.error('Error during call to suggestCharts:', error);\n",
              "      }\n",
              "      quickchartButtonEl.classList.remove('colab-df-spinner');\n",
              "      quickchartButtonEl.classList.add('colab-df-quickchart-complete');\n",
              "    }\n",
              "    (() => {\n",
              "      let quickchartButtonEl =\n",
              "        document.querySelector('#df-c16424b8-7bd1-4dda-ac11-c2ba0c26b78b button');\n",
              "      quickchartButtonEl.style.display =\n",
              "        google.colab.kernel.accessAllowed ? 'block' : 'none';\n",
              "    })();\n",
              "  </script>\n",
              "</div>\n",
              "    </div>\n",
              "  </div>\n"
            ],
            "application/vnd.google.colaboratory.intrinsic+json": {
              "type": "dataframe",
              "variable_name": "areacodes_df",
              "summary": "{\n  \"name\": \"areacodes_df\",\n  \"rows\": 54,\n  \"fields\": [\n    {\n      \"column\": \"area_id\",\n      \"properties\": {\n        \"dtype\": \"string\",\n        \"num_unique_values\": 54,\n        \"samples\": [\n          \"A0019\",\n          \"A0050\",\n          \"A0049\"\n        ],\n        \"semantic_type\": \"\",\n        \"description\": \"\"\n      }\n    },\n    {\n      \"column\": \"area_name\",\n      \"properties\": {\n        \"dtype\": \"string\",\n        \"num_unique_values\": 54,\n        \"samples\": [\n          \"Penang\",\n          \"Caturtunggal\",\n          \"Sinduadi\"\n        ],\n        \"semantic_type\": \"\",\n        \"description\": \"\"\n      }\n    },\n    {\n      \"column\": \"area_squad\",\n      \"properties\": {\n        \"dtype\": \"number\",\n        \"std\": 1.2146302154286381,\n        \"min\": 0.0,\n        \"max\": 5.0,\n        \"num_unique_values\": 6,\n        \"samples\": [\n          3.0,\n          2.0,\n          5.0\n        ],\n        \"semantic_type\": \"\",\n        \"description\": \"\"\n      }\n    },\n    {\n      \"column\": \"employee_id\",\n      \"properties\": {\n        \"dtype\": \"category\",\n        \"num_unique_values\": 11,\n        \"samples\": [\n          \"E0036\",\n          \"E0028\",\n          \"E0017\"\n        ],\n        \"semantic_type\": \"\",\n        \"description\": \"\"\n      }\n    },\n    {\n      \"column\": \"area_distance_to_airport\",\n      \"properties\": {\n        \"dtype\": \"number\",\n        \"std\": 36.47118120960068,\n        \"min\": 30.0,\n        \"max\": 180.0,\n        \"num_unique_values\": 6,\n        \"samples\": [\n          30.0,\n          60.0,\n          90.0\n        ],\n        \"semantic_type\": \"\",\n        \"description\": \"\"\n      }\n    },\n    {\n      \"column\": \"airport_pickup_price_idr\",\n      \"properties\": {\n        \"dtype\": \"number\",\n        \"std\": 164599.99360491132,\n        \"min\": 0.0,\n        \"max\": 700000.0,\n        \"num_unique_values\": 11,\n        \"samples\": [\n          250000.0,\n          325000.0,\n          350000.0\n        ],\n        \"semantic_type\": \"\",\n        \"description\": \"\"\n      }\n    },\n    {\n      \"column\": \"area_airport_name\",\n      \"properties\": {\n        \"dtype\": \"category\",\n        \"num_unique_values\": 2,\n        \"samples\": [\n          \"Ngurah Rai (DPS)\",\n          \"Adi Sucipto (JOG)\"\n        ],\n        \"semantic_type\": \"\",\n        \"description\": \"\"\n      }\n    },\n    {\n      \"column\": \"region_id\",\n      \"properties\": {\n        \"dtype\": \"number\",\n        \"std\": 0.5328903502931349,\n        \"min\": 1.0,\n        \"max\": 3.0,\n        \"num_unique_values\": 3,\n        \"samples\": [\n          2.0,\n          1.0\n        ],\n        \"semantic_type\": \"\",\n        \"description\": \"\"\n      }\n    }\n  ]\n}"
            }
          },
          "metadata": {},
          "execution_count": 248
        }
      ],
      "source": [
        "areacodes_df.head()"
      ]
    },
    {
      "cell_type": "markdown",
      "metadata": {
        "id": "lhwmi4mSlutF"
      },
      "source": [
        "Next we will check is there any duplicates in main and areacodes dataframe."
      ]
    },
    {
      "cell_type": "code",
      "execution_count": 249,
      "metadata": {
        "colab": {
          "base_uri": "https://localhost:8080/"
        },
        "id": "7DBIYqAUmNgD",
        "outputId": "443aaca8-2c9e-45a9-c693-06cbfe9e1b15"
      },
      "outputs": [
        {
          "output_type": "stream",
          "name": "stdout",
          "text": [
            "Main data duplicate count:  0\n",
            "Areacodes data duplicate count:  0\n"
          ]
        }
      ],
      "source": [
        "print(\"Main data duplicate count: \",main_df.duplicated().sum())\n",
        "print(\"Areacodes data duplicate count: \",areacodes_df.duplicated().sum())"
      ]
    },
    {
      "cell_type": "markdown",
      "metadata": {
        "id": "bmhp0yLummGO"
      },
      "source": [
        "After checking, it can be determined that both datasets do not have duplicates. Next we will check null values from both datasets."
      ]
    },
    {
      "cell_type": "code",
      "execution_count": 250,
      "metadata": {
        "colab": {
          "base_uri": "https://localhost:8080/"
        },
        "id": "vFUkAdg1m0L3",
        "outputId": "99773b09-47e8-47cd-d3e1-b578be22df31"
      },
      "outputs": [
        {
          "output_type": "execute_result",
          "data": {
            "text/plain": [
              "property_id                 0\n",
              "unit_id                     0\n",
              "average_baseline_price      0\n",
              "bedroom                     0\n",
              "bathroom                  233\n",
              "beds                      233\n",
              "capacity                  240\n",
              "ac                        234\n",
              "balcony                   234\n",
              "beachfront                234\n",
              "breakfast                 234\n",
              "building_staff            234\n",
              "cable_tv                  234\n",
              "essentials                234\n",
              "garden                    234\n",
              "gym                       234\n",
              "hair_dryer                234\n",
              "hanger                    234\n",
              "heating                   234\n",
              "hot_water                 234\n",
              "kitchen                   234\n",
              "linens                    234\n",
              "lock                      234\n",
              "luggage_drop_off          234\n",
              "parking                   234\n",
              "pool                      234\n",
              "private_entrance          234\n",
              "shampoo                   234\n",
              "tv                        234\n",
              "washer                    234\n",
              "wifi                      234\n",
              "workspace                 234\n",
              "lat                       244\n",
              "lng                       244\n",
              "property_name               1\n",
              "property_direction        218\n",
              "property_type               1\n",
              "property_design             2\n",
              "area_id                     1\n",
              "distance_to_coastline     324\n",
              "dtype: int64"
            ]
          },
          "metadata": {},
          "execution_count": 250
        }
      ],
      "source": [
        "main_df.isna().sum()"
      ]
    },
    {
      "cell_type": "markdown",
      "metadata": {
        "id": "AOPPsCBdnds8"
      },
      "source": [
        "From the main dataset,we can see that many missing values are found."
      ]
    },
    {
      "cell_type": "code",
      "execution_count": 251,
      "metadata": {
        "colab": {
          "base_uri": "https://localhost:8080/"
        },
        "id": "hIEIa0fnnxOg",
        "outputId": "9dbd9624-c600-4058-acd9-d971875e753c"
      },
      "outputs": [
        {
          "output_type": "execute_result",
          "data": {
            "text/plain": [
              "area_id                      0\n",
              "area_name                    0\n",
              "area_squad                   1\n",
              "employee_id                 32\n",
              "area_distance_to_airport    36\n",
              "airport_pickup_price_idr    34\n",
              "area_airport_name           34\n",
              "region_id                   12\n",
              "dtype: int64"
            ]
          },
          "metadata": {},
          "execution_count": 251
        }
      ],
      "source": [
        "areacodes_df.isna().sum()"
      ]
    },
    {
      "cell_type": "markdown",
      "metadata": {
        "id": "cUXcrBQen9Hm"
      },
      "source": [
        "From the areacodes dataset, it can be seen that the column with the most missing values is area_distance_to_airport, with a total of 36 missing values."
      ]
    },
    {
      "cell_type": "code",
      "execution_count": 252,
      "metadata": {
        "colab": {
          "base_uri": "https://localhost:8080/",
          "height": 349
        },
        "id": "fBEkI4eeoXWk",
        "outputId": "01816c36-0c83-4654-cdc1-39d68d5b9b08"
      },
      "outputs": [
        {
          "output_type": "execute_result",
          "data": {
            "text/plain": [
              "       average_baseline_price     bedroom   bathroom        beds    capacity  \\\n",
              "count            3.570000e+02  357.000000  124.00000  124.000000  117.000000   \n",
              "mean             1.083664e+06    2.291317    1.58871    1.612903    3.162393   \n",
              "std              1.064922e+06    1.217502    1.21650    1.194225    2.025515   \n",
              "min              1.218643e+05    1.000000    0.00000    0.000000    0.000000   \n",
              "25%              4.143750e+05    1.000000    1.00000    1.000000    2.000000   \n",
              "50%              7.123804e+05    2.000000    1.00000    1.000000    2.000000   \n",
              "75%              1.363969e+06    3.000000    2.00000    2.000000    4.000000   \n",
              "max              8.677478e+06    8.000000    8.00000    8.000000    9.000000   \n",
              "\n",
              "               ac     balcony  beachfront   breakfast  building_staff  ...  \\\n",
              "count  123.000000  123.000000  123.000000  123.000000      123.000000  ...   \n",
              "mean     0.983740    0.495935    0.113821    0.439024        0.211382  ...   \n",
              "std      0.126992    0.502028    0.318893    0.498298        0.409959  ...   \n",
              "min      0.000000    0.000000    0.000000    0.000000        0.000000  ...   \n",
              "25%      1.000000    0.000000    0.000000    0.000000        0.000000  ...   \n",
              "50%      1.000000    0.000000    0.000000    0.000000        0.000000  ...   \n",
              "75%      1.000000    1.000000    0.000000    1.000000        0.000000  ...   \n",
              "max      1.000000    1.000000    1.000000    1.000000        1.000000  ...   \n",
              "\n",
              "          shampoo          tv      washer        wifi   workspace         lat  \\\n",
              "count  123.000000  123.000000  123.000000  123.000000  123.000000  113.000000   \n",
              "mean     0.682927    0.666667    0.105691    0.975610    0.869919   -8.648274   \n",
              "std      0.467239    0.473333    0.308699    0.154888    0.337769    0.292948   \n",
              "min      0.000000    0.000000    0.000000    0.000000    0.000000   -8.837896   \n",
              "25%      0.000000    0.000000    0.000000    1.000000    1.000000   -8.809042   \n",
              "50%      1.000000    1.000000    0.000000    1.000000    1.000000   -8.784648   \n",
              "75%      1.000000    1.000000    0.000000    1.000000    1.000000   -8.653643   \n",
              "max      1.000000    1.000000    1.000000    1.000000    1.000000   -7.728722   \n",
              "\n",
              "              lng  property_type  property_design  distance_to_coastline  \n",
              "count  113.000000     356.000000       355.000000              33.000000  \n",
              "mean   114.412454       3.157303         0.960563            1732.067330  \n",
              "std      3.635156       1.195285         1.521455            3110.250551  \n",
              "min     79.230512       1.000000         0.000000              15.603500  \n",
              "25%    115.113573       2.000000         0.000000             121.038000  \n",
              "50%    115.131820       4.000000         0.000000             761.362000  \n",
              "75%    115.154710       4.000000         1.000000            2033.490000  \n",
              "max    115.586846       5.000000         5.000000           14402.100000  \n",
              "\n",
              "[8 rows x 35 columns]"
            ],
            "text/html": [
              "\n",
              "  <div id=\"df-268e4fba-531d-49b8-9726-798d7533b706\" class=\"colab-df-container\">\n",
              "    <div>\n",
              "<style scoped>\n",
              "    .dataframe tbody tr th:only-of-type {\n",
              "        vertical-align: middle;\n",
              "    }\n",
              "\n",
              "    .dataframe tbody tr th {\n",
              "        vertical-align: top;\n",
              "    }\n",
              "\n",
              "    .dataframe thead th {\n",
              "        text-align: right;\n",
              "    }\n",
              "</style>\n",
              "<table border=\"1\" class=\"dataframe\">\n",
              "  <thead>\n",
              "    <tr style=\"text-align: right;\">\n",
              "      <th></th>\n",
              "      <th>average_baseline_price</th>\n",
              "      <th>bedroom</th>\n",
              "      <th>bathroom</th>\n",
              "      <th>beds</th>\n",
              "      <th>capacity</th>\n",
              "      <th>ac</th>\n",
              "      <th>balcony</th>\n",
              "      <th>beachfront</th>\n",
              "      <th>breakfast</th>\n",
              "      <th>building_staff</th>\n",
              "      <th>...</th>\n",
              "      <th>shampoo</th>\n",
              "      <th>tv</th>\n",
              "      <th>washer</th>\n",
              "      <th>wifi</th>\n",
              "      <th>workspace</th>\n",
              "      <th>lat</th>\n",
              "      <th>lng</th>\n",
              "      <th>property_type</th>\n",
              "      <th>property_design</th>\n",
              "      <th>distance_to_coastline</th>\n",
              "    </tr>\n",
              "  </thead>\n",
              "  <tbody>\n",
              "    <tr>\n",
              "      <th>count</th>\n",
              "      <td>3.570000e+02</td>\n",
              "      <td>357.000000</td>\n",
              "      <td>124.00000</td>\n",
              "      <td>124.000000</td>\n",
              "      <td>117.000000</td>\n",
              "      <td>123.000000</td>\n",
              "      <td>123.000000</td>\n",
              "      <td>123.000000</td>\n",
              "      <td>123.000000</td>\n",
              "      <td>123.000000</td>\n",
              "      <td>...</td>\n",
              "      <td>123.000000</td>\n",
              "      <td>123.000000</td>\n",
              "      <td>123.000000</td>\n",
              "      <td>123.000000</td>\n",
              "      <td>123.000000</td>\n",
              "      <td>113.000000</td>\n",
              "      <td>113.000000</td>\n",
              "      <td>356.000000</td>\n",
              "      <td>355.000000</td>\n",
              "      <td>33.000000</td>\n",
              "    </tr>\n",
              "    <tr>\n",
              "      <th>mean</th>\n",
              "      <td>1.083664e+06</td>\n",
              "      <td>2.291317</td>\n",
              "      <td>1.58871</td>\n",
              "      <td>1.612903</td>\n",
              "      <td>3.162393</td>\n",
              "      <td>0.983740</td>\n",
              "      <td>0.495935</td>\n",
              "      <td>0.113821</td>\n",
              "      <td>0.439024</td>\n",
              "      <td>0.211382</td>\n",
              "      <td>...</td>\n",
              "      <td>0.682927</td>\n",
              "      <td>0.666667</td>\n",
              "      <td>0.105691</td>\n",
              "      <td>0.975610</td>\n",
              "      <td>0.869919</td>\n",
              "      <td>-8.648274</td>\n",
              "      <td>114.412454</td>\n",
              "      <td>3.157303</td>\n",
              "      <td>0.960563</td>\n",
              "      <td>1732.067330</td>\n",
              "    </tr>\n",
              "    <tr>\n",
              "      <th>std</th>\n",
              "      <td>1.064922e+06</td>\n",
              "      <td>1.217502</td>\n",
              "      <td>1.21650</td>\n",
              "      <td>1.194225</td>\n",
              "      <td>2.025515</td>\n",
              "      <td>0.126992</td>\n",
              "      <td>0.502028</td>\n",
              "      <td>0.318893</td>\n",
              "      <td>0.498298</td>\n",
              "      <td>0.409959</td>\n",
              "      <td>...</td>\n",
              "      <td>0.467239</td>\n",
              "      <td>0.473333</td>\n",
              "      <td>0.308699</td>\n",
              "      <td>0.154888</td>\n",
              "      <td>0.337769</td>\n",
              "      <td>0.292948</td>\n",
              "      <td>3.635156</td>\n",
              "      <td>1.195285</td>\n",
              "      <td>1.521455</td>\n",
              "      <td>3110.250551</td>\n",
              "    </tr>\n",
              "    <tr>\n",
              "      <th>min</th>\n",
              "      <td>1.218643e+05</td>\n",
              "      <td>1.000000</td>\n",
              "      <td>0.00000</td>\n",
              "      <td>0.000000</td>\n",
              "      <td>0.000000</td>\n",
              "      <td>0.000000</td>\n",
              "      <td>0.000000</td>\n",
              "      <td>0.000000</td>\n",
              "      <td>0.000000</td>\n",
              "      <td>0.000000</td>\n",
              "      <td>...</td>\n",
              "      <td>0.000000</td>\n",
              "      <td>0.000000</td>\n",
              "      <td>0.000000</td>\n",
              "      <td>0.000000</td>\n",
              "      <td>0.000000</td>\n",
              "      <td>-8.837896</td>\n",
              "      <td>79.230512</td>\n",
              "      <td>1.000000</td>\n",
              "      <td>0.000000</td>\n",
              "      <td>15.603500</td>\n",
              "    </tr>\n",
              "    <tr>\n",
              "      <th>25%</th>\n",
              "      <td>4.143750e+05</td>\n",
              "      <td>1.000000</td>\n",
              "      <td>1.00000</td>\n",
              "      <td>1.000000</td>\n",
              "      <td>2.000000</td>\n",
              "      <td>1.000000</td>\n",
              "      <td>0.000000</td>\n",
              "      <td>0.000000</td>\n",
              "      <td>0.000000</td>\n",
              "      <td>0.000000</td>\n",
              "      <td>...</td>\n",
              "      <td>0.000000</td>\n",
              "      <td>0.000000</td>\n",
              "      <td>0.000000</td>\n",
              "      <td>1.000000</td>\n",
              "      <td>1.000000</td>\n",
              "      <td>-8.809042</td>\n",
              "      <td>115.113573</td>\n",
              "      <td>2.000000</td>\n",
              "      <td>0.000000</td>\n",
              "      <td>121.038000</td>\n",
              "    </tr>\n",
              "    <tr>\n",
              "      <th>50%</th>\n",
              "      <td>7.123804e+05</td>\n",
              "      <td>2.000000</td>\n",
              "      <td>1.00000</td>\n",
              "      <td>1.000000</td>\n",
              "      <td>2.000000</td>\n",
              "      <td>1.000000</td>\n",
              "      <td>0.000000</td>\n",
              "      <td>0.000000</td>\n",
              "      <td>0.000000</td>\n",
              "      <td>0.000000</td>\n",
              "      <td>...</td>\n",
              "      <td>1.000000</td>\n",
              "      <td>1.000000</td>\n",
              "      <td>0.000000</td>\n",
              "      <td>1.000000</td>\n",
              "      <td>1.000000</td>\n",
              "      <td>-8.784648</td>\n",
              "      <td>115.131820</td>\n",
              "      <td>4.000000</td>\n",
              "      <td>0.000000</td>\n",
              "      <td>761.362000</td>\n",
              "    </tr>\n",
              "    <tr>\n",
              "      <th>75%</th>\n",
              "      <td>1.363969e+06</td>\n",
              "      <td>3.000000</td>\n",
              "      <td>2.00000</td>\n",
              "      <td>2.000000</td>\n",
              "      <td>4.000000</td>\n",
              "      <td>1.000000</td>\n",
              "      <td>1.000000</td>\n",
              "      <td>0.000000</td>\n",
              "      <td>1.000000</td>\n",
              "      <td>0.000000</td>\n",
              "      <td>...</td>\n",
              "      <td>1.000000</td>\n",
              "      <td>1.000000</td>\n",
              "      <td>0.000000</td>\n",
              "      <td>1.000000</td>\n",
              "      <td>1.000000</td>\n",
              "      <td>-8.653643</td>\n",
              "      <td>115.154710</td>\n",
              "      <td>4.000000</td>\n",
              "      <td>1.000000</td>\n",
              "      <td>2033.490000</td>\n",
              "    </tr>\n",
              "    <tr>\n",
              "      <th>max</th>\n",
              "      <td>8.677478e+06</td>\n",
              "      <td>8.000000</td>\n",
              "      <td>8.00000</td>\n",
              "      <td>8.000000</td>\n",
              "      <td>9.000000</td>\n",
              "      <td>1.000000</td>\n",
              "      <td>1.000000</td>\n",
              "      <td>1.000000</td>\n",
              "      <td>1.000000</td>\n",
              "      <td>1.000000</td>\n",
              "      <td>...</td>\n",
              "      <td>1.000000</td>\n",
              "      <td>1.000000</td>\n",
              "      <td>1.000000</td>\n",
              "      <td>1.000000</td>\n",
              "      <td>1.000000</td>\n",
              "      <td>-7.728722</td>\n",
              "      <td>115.586846</td>\n",
              "      <td>5.000000</td>\n",
              "      <td>5.000000</td>\n",
              "      <td>14402.100000</td>\n",
              "    </tr>\n",
              "  </tbody>\n",
              "</table>\n",
              "<p>8 rows × 35 columns</p>\n",
              "</div>\n",
              "    <div class=\"colab-df-buttons\">\n",
              "\n",
              "  <div class=\"colab-df-container\">\n",
              "    <button class=\"colab-df-convert\" onclick=\"convertToInteractive('df-268e4fba-531d-49b8-9726-798d7533b706')\"\n",
              "            title=\"Convert this dataframe to an interactive table.\"\n",
              "            style=\"display:none;\">\n",
              "\n",
              "  <svg xmlns=\"http://www.w3.org/2000/svg\" height=\"24px\" viewBox=\"0 -960 960 960\">\n",
              "    <path d=\"M120-120v-720h720v720H120Zm60-500h600v-160H180v160Zm220 220h160v-160H400v160Zm0 220h160v-160H400v160ZM180-400h160v-160H180v160Zm440 0h160v-160H620v160ZM180-180h160v-160H180v160Zm440 0h160v-160H620v160Z\"/>\n",
              "  </svg>\n",
              "    </button>\n",
              "\n",
              "  <style>\n",
              "    .colab-df-container {\n",
              "      display:flex;\n",
              "      gap: 12px;\n",
              "    }\n",
              "\n",
              "    .colab-df-convert {\n",
              "      background-color: #E8F0FE;\n",
              "      border: none;\n",
              "      border-radius: 50%;\n",
              "      cursor: pointer;\n",
              "      display: none;\n",
              "      fill: #1967D2;\n",
              "      height: 32px;\n",
              "      padding: 0 0 0 0;\n",
              "      width: 32px;\n",
              "    }\n",
              "\n",
              "    .colab-df-convert:hover {\n",
              "      background-color: #E2EBFA;\n",
              "      box-shadow: 0px 1px 2px rgba(60, 64, 67, 0.3), 0px 1px 3px 1px rgba(60, 64, 67, 0.15);\n",
              "      fill: #174EA6;\n",
              "    }\n",
              "\n",
              "    .colab-df-buttons div {\n",
              "      margin-bottom: 4px;\n",
              "    }\n",
              "\n",
              "    [theme=dark] .colab-df-convert {\n",
              "      background-color: #3B4455;\n",
              "      fill: #D2E3FC;\n",
              "    }\n",
              "\n",
              "    [theme=dark] .colab-df-convert:hover {\n",
              "      background-color: #434B5C;\n",
              "      box-shadow: 0px 1px 3px 1px rgba(0, 0, 0, 0.15);\n",
              "      filter: drop-shadow(0px 1px 2px rgba(0, 0, 0, 0.3));\n",
              "      fill: #FFFFFF;\n",
              "    }\n",
              "  </style>\n",
              "\n",
              "    <script>\n",
              "      const buttonEl =\n",
              "        document.querySelector('#df-268e4fba-531d-49b8-9726-798d7533b706 button.colab-df-convert');\n",
              "      buttonEl.style.display =\n",
              "        google.colab.kernel.accessAllowed ? 'block' : 'none';\n",
              "\n",
              "      async function convertToInteractive(key) {\n",
              "        const element = document.querySelector('#df-268e4fba-531d-49b8-9726-798d7533b706');\n",
              "        const dataTable =\n",
              "          await google.colab.kernel.invokeFunction('convertToInteractive',\n",
              "                                                    [key], {});\n",
              "        if (!dataTable) return;\n",
              "\n",
              "        const docLinkHtml = 'Like what you see? Visit the ' +\n",
              "          '<a target=\"_blank\" href=https://colab.research.google.com/notebooks/data_table.ipynb>data table notebook</a>'\n",
              "          + ' to learn more about interactive tables.';\n",
              "        element.innerHTML = '';\n",
              "        dataTable['output_type'] = 'display_data';\n",
              "        await google.colab.output.renderOutput(dataTable, element);\n",
              "        const docLink = document.createElement('div');\n",
              "        docLink.innerHTML = docLinkHtml;\n",
              "        element.appendChild(docLink);\n",
              "      }\n",
              "    </script>\n",
              "  </div>\n",
              "\n",
              "\n",
              "<div id=\"df-da2d937a-fc63-49b9-a052-0a593b7bb9eb\">\n",
              "  <button class=\"colab-df-quickchart\" onclick=\"quickchart('df-da2d937a-fc63-49b9-a052-0a593b7bb9eb')\"\n",
              "            title=\"Suggest charts\"\n",
              "            style=\"display:none;\">\n",
              "\n",
              "<svg xmlns=\"http://www.w3.org/2000/svg\" height=\"24px\"viewBox=\"0 0 24 24\"\n",
              "     width=\"24px\">\n",
              "    <g>\n",
              "        <path d=\"M19 3H5c-1.1 0-2 .9-2 2v14c0 1.1.9 2 2 2h14c1.1 0 2-.9 2-2V5c0-1.1-.9-2-2-2zM9 17H7v-7h2v7zm4 0h-2V7h2v10zm4 0h-2v-4h2v4z\"/>\n",
              "    </g>\n",
              "</svg>\n",
              "  </button>\n",
              "\n",
              "<style>\n",
              "  .colab-df-quickchart {\n",
              "      --bg-color: #E8F0FE;\n",
              "      --fill-color: #1967D2;\n",
              "      --hover-bg-color: #E2EBFA;\n",
              "      --hover-fill-color: #174EA6;\n",
              "      --disabled-fill-color: #AAA;\n",
              "      --disabled-bg-color: #DDD;\n",
              "  }\n",
              "\n",
              "  [theme=dark] .colab-df-quickchart {\n",
              "      --bg-color: #3B4455;\n",
              "      --fill-color: #D2E3FC;\n",
              "      --hover-bg-color: #434B5C;\n",
              "      --hover-fill-color: #FFFFFF;\n",
              "      --disabled-bg-color: #3B4455;\n",
              "      --disabled-fill-color: #666;\n",
              "  }\n",
              "\n",
              "  .colab-df-quickchart {\n",
              "    background-color: var(--bg-color);\n",
              "    border: none;\n",
              "    border-radius: 50%;\n",
              "    cursor: pointer;\n",
              "    display: none;\n",
              "    fill: var(--fill-color);\n",
              "    height: 32px;\n",
              "    padding: 0;\n",
              "    width: 32px;\n",
              "  }\n",
              "\n",
              "  .colab-df-quickchart:hover {\n",
              "    background-color: var(--hover-bg-color);\n",
              "    box-shadow: 0 1px 2px rgba(60, 64, 67, 0.3), 0 1px 3px 1px rgba(60, 64, 67, 0.15);\n",
              "    fill: var(--button-hover-fill-color);\n",
              "  }\n",
              "\n",
              "  .colab-df-quickchart-complete:disabled,\n",
              "  .colab-df-quickchart-complete:disabled:hover {\n",
              "    background-color: var(--disabled-bg-color);\n",
              "    fill: var(--disabled-fill-color);\n",
              "    box-shadow: none;\n",
              "  }\n",
              "\n",
              "  .colab-df-spinner {\n",
              "    border: 2px solid var(--fill-color);\n",
              "    border-color: transparent;\n",
              "    border-bottom-color: var(--fill-color);\n",
              "    animation:\n",
              "      spin 1s steps(1) infinite;\n",
              "  }\n",
              "\n",
              "  @keyframes spin {\n",
              "    0% {\n",
              "      border-color: transparent;\n",
              "      border-bottom-color: var(--fill-color);\n",
              "      border-left-color: var(--fill-color);\n",
              "    }\n",
              "    20% {\n",
              "      border-color: transparent;\n",
              "      border-left-color: var(--fill-color);\n",
              "      border-top-color: var(--fill-color);\n",
              "    }\n",
              "    30% {\n",
              "      border-color: transparent;\n",
              "      border-left-color: var(--fill-color);\n",
              "      border-top-color: var(--fill-color);\n",
              "      border-right-color: var(--fill-color);\n",
              "    }\n",
              "    40% {\n",
              "      border-color: transparent;\n",
              "      border-right-color: var(--fill-color);\n",
              "      border-top-color: var(--fill-color);\n",
              "    }\n",
              "    60% {\n",
              "      border-color: transparent;\n",
              "      border-right-color: var(--fill-color);\n",
              "    }\n",
              "    80% {\n",
              "      border-color: transparent;\n",
              "      border-right-color: var(--fill-color);\n",
              "      border-bottom-color: var(--fill-color);\n",
              "    }\n",
              "    90% {\n",
              "      border-color: transparent;\n",
              "      border-bottom-color: var(--fill-color);\n",
              "    }\n",
              "  }\n",
              "</style>\n",
              "\n",
              "  <script>\n",
              "    async function quickchart(key) {\n",
              "      const quickchartButtonEl =\n",
              "        document.querySelector('#' + key + ' button');\n",
              "      quickchartButtonEl.disabled = true;  // To prevent multiple clicks.\n",
              "      quickchartButtonEl.classList.add('colab-df-spinner');\n",
              "      try {\n",
              "        const charts = await google.colab.kernel.invokeFunction(\n",
              "            'suggestCharts', [key], {});\n",
              "      } catch (error) {\n",
              "        console.error('Error during call to suggestCharts:', error);\n",
              "      }\n",
              "      quickchartButtonEl.classList.remove('colab-df-spinner');\n",
              "      quickchartButtonEl.classList.add('colab-df-quickchart-complete');\n",
              "    }\n",
              "    (() => {\n",
              "      let quickchartButtonEl =\n",
              "        document.querySelector('#df-da2d937a-fc63-49b9-a052-0a593b7bb9eb button');\n",
              "      quickchartButtonEl.style.display =\n",
              "        google.colab.kernel.accessAllowed ? 'block' : 'none';\n",
              "    })();\n",
              "  </script>\n",
              "</div>\n",
              "    </div>\n",
              "  </div>\n"
            ],
            "application/vnd.google.colaboratory.intrinsic+json": {
              "type": "dataframe"
            }
          },
          "metadata": {},
          "execution_count": 252
        }
      ],
      "source": [
        "main_df.describe()"
      ]
    },
    {
      "cell_type": "markdown",
      "metadata": {
        "id": "qHrqQ1Bt3mG7"
      },
      "source": [
        "After seeing the description of the main data, the next step is to handle missing values ​​by dropping data that has a property_design feature value of null."
      ]
    },
    {
      "cell_type": "code",
      "execution_count": 253,
      "metadata": {
        "id": "3MR6G0PI4SuL"
      },
      "outputs": [],
      "source": [
        "main_df = main_df.dropna(subset=['property_design'])"
      ]
    },
    {
      "cell_type": "markdown",
      "metadata": {
        "id": "iO0HzKo14yUM"
      },
      "source": [
        "Next we check again the null value every features"
      ]
    },
    {
      "cell_type": "code",
      "execution_count": 254,
      "metadata": {
        "colab": {
          "base_uri": "https://localhost:8080/"
        },
        "id": "XVfy7QaM444F",
        "outputId": "6da606af-fab5-453b-a16b-cc788bab865d"
      },
      "outputs": [
        {
          "output_type": "execute_result",
          "data": {
            "text/plain": [
              "property_id                 0\n",
              "unit_id                     0\n",
              "average_baseline_price      0\n",
              "bedroom                     0\n",
              "bathroom                  231\n",
              "beds                      231\n",
              "capacity                  238\n",
              "ac                        232\n",
              "balcony                   232\n",
              "beachfront                232\n",
              "breakfast                 232\n",
              "building_staff            232\n",
              "cable_tv                  232\n",
              "essentials                232\n",
              "garden                    232\n",
              "gym                       232\n",
              "hair_dryer                232\n",
              "hanger                    232\n",
              "heating                   232\n",
              "hot_water                 232\n",
              "kitchen                   232\n",
              "linens                    232\n",
              "lock                      232\n",
              "luggage_drop_off          232\n",
              "parking                   232\n",
              "pool                      232\n",
              "private_entrance          232\n",
              "shampoo                   232\n",
              "tv                        232\n",
              "washer                    232\n",
              "wifi                      232\n",
              "workspace                 232\n",
              "lat                       242\n",
              "lng                       242\n",
              "property_name               0\n",
              "property_direction        216\n",
              "property_type               0\n",
              "property_design             0\n",
              "area_id                     0\n",
              "distance_to_coastline     322\n",
              "dtype: int64"
            ]
          },
          "metadata": {},
          "execution_count": 254
        }
      ],
      "source": [
        "main_df.isna().sum()"
      ]
    },
    {
      "cell_type": "markdown",
      "metadata": {
        "id": "Kg8tVAOe8KT5"
      },
      "source": [
        "The next step is to drop the features that are not used in the main dataset because they are already present in another dataset. These features include unit_id, bedroom, bathroom, up to the lng feature."
      ]
    },
    {
      "cell_type": "code",
      "execution_count": 255,
      "metadata": {
        "id": "XyQFbv505ZAp"
      },
      "outputs": [],
      "source": [
        "features_to_drop = [\n",
        "    'unit_id', 'bedroom', 'bathroom', 'beds', 'capacity', 'ac', 'balcony',\n",
        "    'beachfront', 'breakfast', 'building_staff', 'cable_tv', 'essentials',\n",
        "    'garden', 'gym', 'hair_dryer', 'hanger', 'heating', 'hot_water', 'kitchen',\n",
        "    'linens', 'lock', 'luggage_drop_off', 'parking', 'pool', 'private_entrance',\n",
        "    'shampoo', 'tv', 'washer', 'wifi', 'workspace', 'lat', 'lng'\n",
        "]\n",
        "\n",
        "main_df = main_df.drop(columns=features_to_drop)\n"
      ]
    },
    {
      "cell_type": "markdown",
      "source": [
        "Next we can check data info again"
      ],
      "metadata": {
        "id": "NVM5EvSML1O-"
      }
    },
    {
      "cell_type": "code",
      "source": [
        "main_df.isna().sum()"
      ],
      "metadata": {
        "colab": {
          "base_uri": "https://localhost:8080/"
        },
        "id": "g32NmUduLzdr",
        "outputId": "b5580705-b5da-431d-fa44-c7d89f0a4ea6"
      },
      "execution_count": 256,
      "outputs": [
        {
          "output_type": "execute_result",
          "data": {
            "text/plain": [
              "property_id                 0\n",
              "average_baseline_price      0\n",
              "property_name               0\n",
              "property_direction        216\n",
              "property_type               0\n",
              "property_design             0\n",
              "area_id                     0\n",
              "distance_to_coastline     322\n",
              "dtype: int64"
            ]
          },
          "metadata": {},
          "execution_count": 256
        }
      ]
    },
    {
      "cell_type": "markdown",
      "source": [
        "There are many missing values in property direction, so we will drop this column. We will not use average_baseline_price for each property so we can drop it."
      ],
      "metadata": {
        "id": "_JhnMCmt8mgM"
      }
    },
    {
      "cell_type": "code",
      "source": [
        "main_df = main_df.drop(columns=['property_direction','average_baseline_price'])"
      ],
      "metadata": {
        "id": "CZ9VK0jz7QZG"
      },
      "execution_count": 257,
      "outputs": []
    },
    {
      "cell_type": "code",
      "source": [
        "main_df.info()"
      ],
      "metadata": {
        "colab": {
          "base_uri": "https://localhost:8080/"
        },
        "id": "OVKN7xJu84bN",
        "outputId": "42aad610-dcc1-4efb-82c1-1981d7d8aa51"
      },
      "execution_count": 258,
      "outputs": [
        {
          "output_type": "stream",
          "name": "stdout",
          "text": [
            "<class 'pandas.core.frame.DataFrame'>\n",
            "Index: 355 entries, 0 to 356\n",
            "Data columns (total 6 columns):\n",
            " #   Column                 Non-Null Count  Dtype  \n",
            "---  ------                 --------------  -----  \n",
            " 0   property_id            355 non-null    object \n",
            " 1   property_name          355 non-null    object \n",
            " 2   property_type          355 non-null    float64\n",
            " 3   property_design        355 non-null    float64\n",
            " 4   area_id                355 non-null    object \n",
            " 5   distance_to_coastline  33 non-null     float64\n",
            "dtypes: float64(3), object(3)\n",
            "memory usage: 19.4+ KB\n"
          ]
        }
      ]
    },
    {
      "cell_type": "markdown",
      "source": [
        "We will analyze not null values on distance_to_coastline feature."
      ],
      "metadata": {
        "id": "sv_VuqiaDVi3"
      }
    },
    {
      "cell_type": "code",
      "source": [
        "df_not_null = main_df[main_df['distance_to_coastline'].notnull()]\n",
        "df_not_null.head()"
      ],
      "metadata": {
        "colab": {
          "base_uri": "https://localhost:8080/",
          "height": 206
        },
        "id": "9JFGGEFAAPWD",
        "outputId": "e6a894f1-5d10-4075-f046-cfa5d07b1f60"
      },
      "execution_count": 260,
      "outputs": [
        {
          "output_type": "execute_result",
          "data": {
            "text/plain": [
              "   property_id        property_name  property_type  property_design area_id  \\\n",
              "6       PR0120         Bingin Ombak            4.0              0.0   A0008   \n",
              "14      PR0188     Kubu Nyang Nyang            4.0              3.0   A0002   \n",
              "15      PR0196           NDBV Lot 6            2.0              0.0   A0012   \n",
              "19      PR0241  ME Villa Batu Mejan            2.0              0.0   A0003   \n",
              "20      PR0242           NDBV Lot 3            2.0              0.0   A0012   \n",
              "\n",
              "    distance_to_coastline  \n",
              "6                 15.6035  \n",
              "14               307.2250  \n",
              "15                79.6941  \n",
              "19               761.3620  \n",
              "20               107.4710  "
            ],
            "text/html": [
              "\n",
              "  <div id=\"df-9c5090ea-7787-460d-9609-918b2c6f5b5e\" class=\"colab-df-container\">\n",
              "    <div>\n",
              "<style scoped>\n",
              "    .dataframe tbody tr th:only-of-type {\n",
              "        vertical-align: middle;\n",
              "    }\n",
              "\n",
              "    .dataframe tbody tr th {\n",
              "        vertical-align: top;\n",
              "    }\n",
              "\n",
              "    .dataframe thead th {\n",
              "        text-align: right;\n",
              "    }\n",
              "</style>\n",
              "<table border=\"1\" class=\"dataframe\">\n",
              "  <thead>\n",
              "    <tr style=\"text-align: right;\">\n",
              "      <th></th>\n",
              "      <th>property_id</th>\n",
              "      <th>property_name</th>\n",
              "      <th>property_type</th>\n",
              "      <th>property_design</th>\n",
              "      <th>area_id</th>\n",
              "      <th>distance_to_coastline</th>\n",
              "    </tr>\n",
              "  </thead>\n",
              "  <tbody>\n",
              "    <tr>\n",
              "      <th>6</th>\n",
              "      <td>PR0120</td>\n",
              "      <td>Bingin Ombak</td>\n",
              "      <td>4.0</td>\n",
              "      <td>0.0</td>\n",
              "      <td>A0008</td>\n",
              "      <td>15.6035</td>\n",
              "    </tr>\n",
              "    <tr>\n",
              "      <th>14</th>\n",
              "      <td>PR0188</td>\n",
              "      <td>Kubu Nyang Nyang</td>\n",
              "      <td>4.0</td>\n",
              "      <td>3.0</td>\n",
              "      <td>A0002</td>\n",
              "      <td>307.2250</td>\n",
              "    </tr>\n",
              "    <tr>\n",
              "      <th>15</th>\n",
              "      <td>PR0196</td>\n",
              "      <td>NDBV Lot 6</td>\n",
              "      <td>2.0</td>\n",
              "      <td>0.0</td>\n",
              "      <td>A0012</td>\n",
              "      <td>79.6941</td>\n",
              "    </tr>\n",
              "    <tr>\n",
              "      <th>19</th>\n",
              "      <td>PR0241</td>\n",
              "      <td>ME Villa Batu Mejan</td>\n",
              "      <td>2.0</td>\n",
              "      <td>0.0</td>\n",
              "      <td>A0003</td>\n",
              "      <td>761.3620</td>\n",
              "    </tr>\n",
              "    <tr>\n",
              "      <th>20</th>\n",
              "      <td>PR0242</td>\n",
              "      <td>NDBV Lot 3</td>\n",
              "      <td>2.0</td>\n",
              "      <td>0.0</td>\n",
              "      <td>A0012</td>\n",
              "      <td>107.4710</td>\n",
              "    </tr>\n",
              "  </tbody>\n",
              "</table>\n",
              "</div>\n",
              "    <div class=\"colab-df-buttons\">\n",
              "\n",
              "  <div class=\"colab-df-container\">\n",
              "    <button class=\"colab-df-convert\" onclick=\"convertToInteractive('df-9c5090ea-7787-460d-9609-918b2c6f5b5e')\"\n",
              "            title=\"Convert this dataframe to an interactive table.\"\n",
              "            style=\"display:none;\">\n",
              "\n",
              "  <svg xmlns=\"http://www.w3.org/2000/svg\" height=\"24px\" viewBox=\"0 -960 960 960\">\n",
              "    <path d=\"M120-120v-720h720v720H120Zm60-500h600v-160H180v160Zm220 220h160v-160H400v160Zm0 220h160v-160H400v160ZM180-400h160v-160H180v160Zm440 0h160v-160H620v160ZM180-180h160v-160H180v160Zm440 0h160v-160H620v160Z\"/>\n",
              "  </svg>\n",
              "    </button>\n",
              "\n",
              "  <style>\n",
              "    .colab-df-container {\n",
              "      display:flex;\n",
              "      gap: 12px;\n",
              "    }\n",
              "\n",
              "    .colab-df-convert {\n",
              "      background-color: #E8F0FE;\n",
              "      border: none;\n",
              "      border-radius: 50%;\n",
              "      cursor: pointer;\n",
              "      display: none;\n",
              "      fill: #1967D2;\n",
              "      height: 32px;\n",
              "      padding: 0 0 0 0;\n",
              "      width: 32px;\n",
              "    }\n",
              "\n",
              "    .colab-df-convert:hover {\n",
              "      background-color: #E2EBFA;\n",
              "      box-shadow: 0px 1px 2px rgba(60, 64, 67, 0.3), 0px 1px 3px 1px rgba(60, 64, 67, 0.15);\n",
              "      fill: #174EA6;\n",
              "    }\n",
              "\n",
              "    .colab-df-buttons div {\n",
              "      margin-bottom: 4px;\n",
              "    }\n",
              "\n",
              "    [theme=dark] .colab-df-convert {\n",
              "      background-color: #3B4455;\n",
              "      fill: #D2E3FC;\n",
              "    }\n",
              "\n",
              "    [theme=dark] .colab-df-convert:hover {\n",
              "      background-color: #434B5C;\n",
              "      box-shadow: 0px 1px 3px 1px rgba(0, 0, 0, 0.15);\n",
              "      filter: drop-shadow(0px 1px 2px rgba(0, 0, 0, 0.3));\n",
              "      fill: #FFFFFF;\n",
              "    }\n",
              "  </style>\n",
              "\n",
              "    <script>\n",
              "      const buttonEl =\n",
              "        document.querySelector('#df-9c5090ea-7787-460d-9609-918b2c6f5b5e button.colab-df-convert');\n",
              "      buttonEl.style.display =\n",
              "        google.colab.kernel.accessAllowed ? 'block' : 'none';\n",
              "\n",
              "      async function convertToInteractive(key) {\n",
              "        const element = document.querySelector('#df-9c5090ea-7787-460d-9609-918b2c6f5b5e');\n",
              "        const dataTable =\n",
              "          await google.colab.kernel.invokeFunction('convertToInteractive',\n",
              "                                                    [key], {});\n",
              "        if (!dataTable) return;\n",
              "\n",
              "        const docLinkHtml = 'Like what you see? Visit the ' +\n",
              "          '<a target=\"_blank\" href=https://colab.research.google.com/notebooks/data_table.ipynb>data table notebook</a>'\n",
              "          + ' to learn more about interactive tables.';\n",
              "        element.innerHTML = '';\n",
              "        dataTable['output_type'] = 'display_data';\n",
              "        await google.colab.output.renderOutput(dataTable, element);\n",
              "        const docLink = document.createElement('div');\n",
              "        docLink.innerHTML = docLinkHtml;\n",
              "        element.appendChild(docLink);\n",
              "      }\n",
              "    </script>\n",
              "  </div>\n",
              "\n",
              "\n",
              "<div id=\"df-d3d19b39-b146-49e5-8f33-7c7f03336cd7\">\n",
              "  <button class=\"colab-df-quickchart\" onclick=\"quickchart('df-d3d19b39-b146-49e5-8f33-7c7f03336cd7')\"\n",
              "            title=\"Suggest charts\"\n",
              "            style=\"display:none;\">\n",
              "\n",
              "<svg xmlns=\"http://www.w3.org/2000/svg\" height=\"24px\"viewBox=\"0 0 24 24\"\n",
              "     width=\"24px\">\n",
              "    <g>\n",
              "        <path d=\"M19 3H5c-1.1 0-2 .9-2 2v14c0 1.1.9 2 2 2h14c1.1 0 2-.9 2-2V5c0-1.1-.9-2-2-2zM9 17H7v-7h2v7zm4 0h-2V7h2v10zm4 0h-2v-4h2v4z\"/>\n",
              "    </g>\n",
              "</svg>\n",
              "  </button>\n",
              "\n",
              "<style>\n",
              "  .colab-df-quickchart {\n",
              "      --bg-color: #E8F0FE;\n",
              "      --fill-color: #1967D2;\n",
              "      --hover-bg-color: #E2EBFA;\n",
              "      --hover-fill-color: #174EA6;\n",
              "      --disabled-fill-color: #AAA;\n",
              "      --disabled-bg-color: #DDD;\n",
              "  }\n",
              "\n",
              "  [theme=dark] .colab-df-quickchart {\n",
              "      --bg-color: #3B4455;\n",
              "      --fill-color: #D2E3FC;\n",
              "      --hover-bg-color: #434B5C;\n",
              "      --hover-fill-color: #FFFFFF;\n",
              "      --disabled-bg-color: #3B4455;\n",
              "      --disabled-fill-color: #666;\n",
              "  }\n",
              "\n",
              "  .colab-df-quickchart {\n",
              "    background-color: var(--bg-color);\n",
              "    border: none;\n",
              "    border-radius: 50%;\n",
              "    cursor: pointer;\n",
              "    display: none;\n",
              "    fill: var(--fill-color);\n",
              "    height: 32px;\n",
              "    padding: 0;\n",
              "    width: 32px;\n",
              "  }\n",
              "\n",
              "  .colab-df-quickchart:hover {\n",
              "    background-color: var(--hover-bg-color);\n",
              "    box-shadow: 0 1px 2px rgba(60, 64, 67, 0.3), 0 1px 3px 1px rgba(60, 64, 67, 0.15);\n",
              "    fill: var(--button-hover-fill-color);\n",
              "  }\n",
              "\n",
              "  .colab-df-quickchart-complete:disabled,\n",
              "  .colab-df-quickchart-complete:disabled:hover {\n",
              "    background-color: var(--disabled-bg-color);\n",
              "    fill: var(--disabled-fill-color);\n",
              "    box-shadow: none;\n",
              "  }\n",
              "\n",
              "  .colab-df-spinner {\n",
              "    border: 2px solid var(--fill-color);\n",
              "    border-color: transparent;\n",
              "    border-bottom-color: var(--fill-color);\n",
              "    animation:\n",
              "      spin 1s steps(1) infinite;\n",
              "  }\n",
              "\n",
              "  @keyframes spin {\n",
              "    0% {\n",
              "      border-color: transparent;\n",
              "      border-bottom-color: var(--fill-color);\n",
              "      border-left-color: var(--fill-color);\n",
              "    }\n",
              "    20% {\n",
              "      border-color: transparent;\n",
              "      border-left-color: var(--fill-color);\n",
              "      border-top-color: var(--fill-color);\n",
              "    }\n",
              "    30% {\n",
              "      border-color: transparent;\n",
              "      border-left-color: var(--fill-color);\n",
              "      border-top-color: var(--fill-color);\n",
              "      border-right-color: var(--fill-color);\n",
              "    }\n",
              "    40% {\n",
              "      border-color: transparent;\n",
              "      border-right-color: var(--fill-color);\n",
              "      border-top-color: var(--fill-color);\n",
              "    }\n",
              "    60% {\n",
              "      border-color: transparent;\n",
              "      border-right-color: var(--fill-color);\n",
              "    }\n",
              "    80% {\n",
              "      border-color: transparent;\n",
              "      border-right-color: var(--fill-color);\n",
              "      border-bottom-color: var(--fill-color);\n",
              "    }\n",
              "    90% {\n",
              "      border-color: transparent;\n",
              "      border-bottom-color: var(--fill-color);\n",
              "    }\n",
              "  }\n",
              "</style>\n",
              "\n",
              "  <script>\n",
              "    async function quickchart(key) {\n",
              "      const quickchartButtonEl =\n",
              "        document.querySelector('#' + key + ' button');\n",
              "      quickchartButtonEl.disabled = true;  // To prevent multiple clicks.\n",
              "      quickchartButtonEl.classList.add('colab-df-spinner');\n",
              "      try {\n",
              "        const charts = await google.colab.kernel.invokeFunction(\n",
              "            'suggestCharts', [key], {});\n",
              "      } catch (error) {\n",
              "        console.error('Error during call to suggestCharts:', error);\n",
              "      }\n",
              "      quickchartButtonEl.classList.remove('colab-df-spinner');\n",
              "      quickchartButtonEl.classList.add('colab-df-quickchart-complete');\n",
              "    }\n",
              "    (() => {\n",
              "      let quickchartButtonEl =\n",
              "        document.querySelector('#df-d3d19b39-b146-49e5-8f33-7c7f03336cd7 button');\n",
              "      quickchartButtonEl.style.display =\n",
              "        google.colab.kernel.accessAllowed ? 'block' : 'none';\n",
              "    })();\n",
              "  </script>\n",
              "</div>\n",
              "    </div>\n",
              "  </div>\n"
            ],
            "application/vnd.google.colaboratory.intrinsic+json": {
              "type": "dataframe",
              "variable_name": "df_not_null",
              "summary": "{\n  \"name\": \"df_not_null\",\n  \"rows\": 33,\n  \"fields\": [\n    {\n      \"column\": \"property_id\",\n      \"properties\": {\n        \"dtype\": \"string\",\n        \"num_unique_values\": 33,\n        \"samples\": [\n          \"PR0442\",\n          \"PR0427\",\n          \"PR0354\"\n        ],\n        \"semantic_type\": \"\",\n        \"description\": \"\"\n      }\n    },\n    {\n      \"column\": \"property_name\",\n      \"properties\": {\n        \"dtype\": \"string\",\n        \"num_unique_values\": 33,\n        \"samples\": [\n          \"Pondok Bagus Guesthouse\",\n          \"Merta Beach Bungalow\",\n          \"Villa Bahagia\"\n        ],\n        \"semantic_type\": \"\",\n        \"description\": \"\"\n      }\n    },\n    {\n      \"column\": \"property_type\",\n      \"properties\": {\n        \"dtype\": \"number\",\n        \"std\": 1.0037807318213263,\n        \"min\": 2.0,\n        \"max\": 4.0,\n        \"num_unique_values\": 2,\n        \"samples\": [\n          2.0,\n          4.0\n        ],\n        \"semantic_type\": \"\",\n        \"description\": \"\"\n      }\n    },\n    {\n      \"column\": \"property_design\",\n      \"properties\": {\n        \"dtype\": \"number\",\n        \"std\": 1.666856049846264,\n        \"min\": 0.0,\n        \"max\": 4.0,\n        \"num_unique_values\": 4,\n        \"samples\": [\n          3.0,\n          4.0\n        ],\n        \"semantic_type\": \"\",\n        \"description\": \"\"\n      }\n    },\n    {\n      \"column\": \"area_id\",\n      \"properties\": {\n        \"dtype\": \"category\",\n        \"num_unique_values\": 10,\n        \"samples\": [\n          \"A0010\",\n          \"A0002\"\n        ],\n        \"semantic_type\": \"\",\n        \"description\": \"\"\n      }\n    },\n    {\n      \"column\": \"distance_to_coastline\",\n      \"properties\": {\n        \"dtype\": \"number\",\n        \"std\": 3110.2505513015612,\n        \"min\": 15.6035,\n        \"max\": 14402.1,\n        \"num_unique_values\": 33,\n        \"samples\": [\n          1093.22,\n          26.7774\n        ],\n        \"semantic_type\": \"\",\n        \"description\": \"\"\n      }\n    }\n  ]\n}"
            }
          },
          "metadata": {},
          "execution_count": 260
        }
      ]
    },
    {
      "cell_type": "markdown",
      "source": [
        "We will test the normality of the data grouped by area_id to determine the appropriate method for handling missing values."
      ],
      "metadata": {
        "id": "CrIrZqbpDw-0"
      }
    },
    {
      "cell_type": "code",
      "source": [
        "grouped = main_df.groupby('area_id')\n",
        "\n",
        "alpha = 0.05\n",
        "normality_results = {}\n",
        "\n",
        "for name, group in grouped:\n",
        "    data = group['distance_to_coastline'].dropna()\n",
        "    if len(data) > 1:\n",
        "        ks_test = stats.kstest(data, 'norm', args=(data.mean(), data.std()))\n",
        "        normality_results[name] = 'normal' if ks_test.pvalue >= alpha else 'not_normal'\n",
        "    else:\n",
        "        normality_results[name] = 'not_normal' if len(data) > 0 else 'no_data'"
      ],
      "metadata": {
        "id": "YbYK5JurBR6D"
      },
      "execution_count": 261,
      "outputs": []
    },
    {
      "cell_type": "markdown",
      "source": [
        "We will take action to fill missing value for data rows in same area_id using mean for normal distribution and median for not normal distribution."
      ],
      "metadata": {
        "id": "e44OsEkNGm0q"
      }
    },
    {
      "cell_type": "code",
      "source": [
        "def fill_missing_values(row):\n",
        "    area_id = row['area_id']\n",
        "    if pd.isnull(row['distance_to_coastline']):\n",
        "        if area_id in normality_results:\n",
        "            if normality_results[area_id] == 'normal':\n",
        "                return grouped.get_group(area_id)['distance_to_coastline'].mean()\n",
        "            elif normality_results[area_id] == 'not_normal':\n",
        "                return grouped.get_group(area_id)['distance_to_coastline'].median()\n",
        "            else:\n",
        "                return np.nan\n",
        "        else:\n",
        "            return np.nan\n",
        "    else:\n",
        "        return row['distance_to_coastline']"
      ],
      "metadata": {
        "id": "WwNA17cEFXhl"
      },
      "execution_count": 262,
      "outputs": []
    },
    {
      "cell_type": "code",
      "source": [
        "main_df['distance_to_coastline'] = main_df.apply(fill_missing_values, axis=1)"
      ],
      "metadata": {
        "id": "hNVrO44lFnpj"
      },
      "execution_count": 263,
      "outputs": []
    },
    {
      "cell_type": "markdown",
      "source": [
        "And we still have null values."
      ],
      "metadata": {
        "id": "c5fgF7trHwHR"
      }
    },
    {
      "cell_type": "code",
      "source": [
        "main_df.info()"
      ],
      "metadata": {
        "colab": {
          "base_uri": "https://localhost:8080/"
        },
        "id": "nsQOqy-RFs_E",
        "outputId": "bbee569c-81c0-4ec9-8ae7-5f836b4f96f0"
      },
      "execution_count": 265,
      "outputs": [
        {
          "output_type": "stream",
          "name": "stdout",
          "text": [
            "<class 'pandas.core.frame.DataFrame'>\n",
            "Index: 355 entries, 0 to 356\n",
            "Data columns (total 6 columns):\n",
            " #   Column                 Non-Null Count  Dtype  \n",
            "---  ------                 --------------  -----  \n",
            " 0   property_id            355 non-null    object \n",
            " 1   property_name          355 non-null    object \n",
            " 2   property_type          355 non-null    float64\n",
            " 3   property_design        355 non-null    float64\n",
            " 4   area_id                355 non-null    object \n",
            " 5   distance_to_coastline  232 non-null    float64\n",
            "dtypes: float64(3), object(3)\n",
            "memory usage: 19.4+ KB\n"
          ]
        }
      ]
    },
    {
      "cell_type": "markdown",
      "source": [
        "Next step we can check outliers of the data using z-score."
      ],
      "metadata": {
        "id": "say-2MQL8fFj"
      }
    },
    {
      "cell_type": "code",
      "source": [
        "mean = np.mean(main_df['distance_to_coastline'])\n",
        "std = np.std(main_df['distance_to_coastline'])\n",
        "\n",
        "main_df['z_score'] = (main_df['distance_to_coastline'] - mean) / std\n",
        "threshold = 3\n",
        "outliers_z = main_df[np.abs(main_df['z_score']) > threshold]\n",
        "\n",
        "print(\"Outliers based on Z-Score:\")\n",
        "outliers_z.head()"
      ],
      "metadata": {
        "colab": {
          "base_uri": "https://localhost:8080/",
          "height": 98
        },
        "id": "xbphnui78lVB",
        "outputId": "0f266322-eb23-4111-ca12-4a27a820e433"
      },
      "execution_count": 266,
      "outputs": [
        {
          "output_type": "stream",
          "name": "stdout",
          "text": [
            "Outliers based on Z-Score:\n"
          ]
        },
        {
          "output_type": "execute_result",
          "data": {
            "text/plain": [
              "   property_id   property_name  property_type  property_design area_id  \\\n",
              "29      PR0294  Omah Gerjen 29            4.0              0.0   A0043   \n",
              "\n",
              "    distance_to_coastline   z_score  \n",
              "29                14402.1  3.293148  "
            ],
            "text/html": [
              "\n",
              "  <div id=\"df-9aba4d3e-4980-4896-9425-92301f63aa8f\" class=\"colab-df-container\">\n",
              "    <div>\n",
              "<style scoped>\n",
              "    .dataframe tbody tr th:only-of-type {\n",
              "        vertical-align: middle;\n",
              "    }\n",
              "\n",
              "    .dataframe tbody tr th {\n",
              "        vertical-align: top;\n",
              "    }\n",
              "\n",
              "    .dataframe thead th {\n",
              "        text-align: right;\n",
              "    }\n",
              "</style>\n",
              "<table border=\"1\" class=\"dataframe\">\n",
              "  <thead>\n",
              "    <tr style=\"text-align: right;\">\n",
              "      <th></th>\n",
              "      <th>property_id</th>\n",
              "      <th>property_name</th>\n",
              "      <th>property_type</th>\n",
              "      <th>property_design</th>\n",
              "      <th>area_id</th>\n",
              "      <th>distance_to_coastline</th>\n",
              "      <th>z_score</th>\n",
              "    </tr>\n",
              "  </thead>\n",
              "  <tbody>\n",
              "    <tr>\n",
              "      <th>29</th>\n",
              "      <td>PR0294</td>\n",
              "      <td>Omah Gerjen 29</td>\n",
              "      <td>4.0</td>\n",
              "      <td>0.0</td>\n",
              "      <td>A0043</td>\n",
              "      <td>14402.1</td>\n",
              "      <td>3.293148</td>\n",
              "    </tr>\n",
              "  </tbody>\n",
              "</table>\n",
              "</div>\n",
              "    <div class=\"colab-df-buttons\">\n",
              "\n",
              "  <div class=\"colab-df-container\">\n",
              "    <button class=\"colab-df-convert\" onclick=\"convertToInteractive('df-9aba4d3e-4980-4896-9425-92301f63aa8f')\"\n",
              "            title=\"Convert this dataframe to an interactive table.\"\n",
              "            style=\"display:none;\">\n",
              "\n",
              "  <svg xmlns=\"http://www.w3.org/2000/svg\" height=\"24px\" viewBox=\"0 -960 960 960\">\n",
              "    <path d=\"M120-120v-720h720v720H120Zm60-500h600v-160H180v160Zm220 220h160v-160H400v160Zm0 220h160v-160H400v160ZM180-400h160v-160H180v160Zm440 0h160v-160H620v160ZM180-180h160v-160H180v160Zm440 0h160v-160H620v160Z\"/>\n",
              "  </svg>\n",
              "    </button>\n",
              "\n",
              "  <style>\n",
              "    .colab-df-container {\n",
              "      display:flex;\n",
              "      gap: 12px;\n",
              "    }\n",
              "\n",
              "    .colab-df-convert {\n",
              "      background-color: #E8F0FE;\n",
              "      border: none;\n",
              "      border-radius: 50%;\n",
              "      cursor: pointer;\n",
              "      display: none;\n",
              "      fill: #1967D2;\n",
              "      height: 32px;\n",
              "      padding: 0 0 0 0;\n",
              "      width: 32px;\n",
              "    }\n",
              "\n",
              "    .colab-df-convert:hover {\n",
              "      background-color: #E2EBFA;\n",
              "      box-shadow: 0px 1px 2px rgba(60, 64, 67, 0.3), 0px 1px 3px 1px rgba(60, 64, 67, 0.15);\n",
              "      fill: #174EA6;\n",
              "    }\n",
              "\n",
              "    .colab-df-buttons div {\n",
              "      margin-bottom: 4px;\n",
              "    }\n",
              "\n",
              "    [theme=dark] .colab-df-convert {\n",
              "      background-color: #3B4455;\n",
              "      fill: #D2E3FC;\n",
              "    }\n",
              "\n",
              "    [theme=dark] .colab-df-convert:hover {\n",
              "      background-color: #434B5C;\n",
              "      box-shadow: 0px 1px 3px 1px rgba(0, 0, 0, 0.15);\n",
              "      filter: drop-shadow(0px 1px 2px rgba(0, 0, 0, 0.3));\n",
              "      fill: #FFFFFF;\n",
              "    }\n",
              "  </style>\n",
              "\n",
              "    <script>\n",
              "      const buttonEl =\n",
              "        document.querySelector('#df-9aba4d3e-4980-4896-9425-92301f63aa8f button.colab-df-convert');\n",
              "      buttonEl.style.display =\n",
              "        google.colab.kernel.accessAllowed ? 'block' : 'none';\n",
              "\n",
              "      async function convertToInteractive(key) {\n",
              "        const element = document.querySelector('#df-9aba4d3e-4980-4896-9425-92301f63aa8f');\n",
              "        const dataTable =\n",
              "          await google.colab.kernel.invokeFunction('convertToInteractive',\n",
              "                                                    [key], {});\n",
              "        if (!dataTable) return;\n",
              "\n",
              "        const docLinkHtml = 'Like what you see? Visit the ' +\n",
              "          '<a target=\"_blank\" href=https://colab.research.google.com/notebooks/data_table.ipynb>data table notebook</a>'\n",
              "          + ' to learn more about interactive tables.';\n",
              "        element.innerHTML = '';\n",
              "        dataTable['output_type'] = 'display_data';\n",
              "        await google.colab.output.renderOutput(dataTable, element);\n",
              "        const docLink = document.createElement('div');\n",
              "        docLink.innerHTML = docLinkHtml;\n",
              "        element.appendChild(docLink);\n",
              "      }\n",
              "    </script>\n",
              "  </div>\n",
              "\n",
              "    </div>\n",
              "  </div>\n"
            ],
            "application/vnd.google.colaboratory.intrinsic+json": {
              "type": "dataframe",
              "variable_name": "outliers_z",
              "summary": "{\n  \"name\": \"outliers_z\",\n  \"rows\": 1,\n  \"fields\": [\n    {\n      \"column\": \"property_id\",\n      \"properties\": {\n        \"dtype\": \"string\",\n        \"num_unique_values\": 1,\n        \"samples\": [\n          \"PR0294\"\n        ],\n        \"semantic_type\": \"\",\n        \"description\": \"\"\n      }\n    },\n    {\n      \"column\": \"property_name\",\n      \"properties\": {\n        \"dtype\": \"string\",\n        \"num_unique_values\": 1,\n        \"samples\": [\n          \"Omah Gerjen 29\"\n        ],\n        \"semantic_type\": \"\",\n        \"description\": \"\"\n      }\n    },\n    {\n      \"column\": \"property_type\",\n      \"properties\": {\n        \"dtype\": \"number\",\n        \"std\": null,\n        \"min\": 4.0,\n        \"max\": 4.0,\n        \"num_unique_values\": 1,\n        \"samples\": [\n          4.0\n        ],\n        \"semantic_type\": \"\",\n        \"description\": \"\"\n      }\n    },\n    {\n      \"column\": \"property_design\",\n      \"properties\": {\n        \"dtype\": \"number\",\n        \"std\": null,\n        \"min\": 0.0,\n        \"max\": 0.0,\n        \"num_unique_values\": 1,\n        \"samples\": [\n          0.0\n        ],\n        \"semantic_type\": \"\",\n        \"description\": \"\"\n      }\n    },\n    {\n      \"column\": \"area_id\",\n      \"properties\": {\n        \"dtype\": \"string\",\n        \"num_unique_values\": 1,\n        \"samples\": [\n          \"A0043\"\n        ],\n        \"semantic_type\": \"\",\n        \"description\": \"\"\n      }\n    },\n    {\n      \"column\": \"distance_to_coastline\",\n      \"properties\": {\n        \"dtype\": \"number\",\n        \"std\": null,\n        \"min\": 14402.1,\n        \"max\": 14402.1,\n        \"num_unique_values\": 1,\n        \"samples\": [\n          14402.1\n        ],\n        \"semantic_type\": \"\",\n        \"description\": \"\"\n      }\n    },\n    {\n      \"column\": \"z_score\",\n      \"properties\": {\n        \"dtype\": \"number\",\n        \"std\": null,\n        \"min\": 3.2931481450883657,\n        \"max\": 3.2931481450883657,\n        \"num_unique_values\": 1,\n        \"samples\": [\n          3.2931481450883657\n        ],\n        \"semantic_type\": \"\",\n        \"description\": \"\"\n      }\n    }\n  ]\n}"
            }
          },
          "metadata": {},
          "execution_count": 266
        }
      ]
    },
    {
      "cell_type": "code",
      "source": [
        "main_df = main_df.drop(columns=['z_score'])"
      ],
      "metadata": {
        "id": "8KZbdbr7BFN1"
      },
      "execution_count": 267,
      "outputs": []
    },
    {
      "cell_type": "markdown",
      "source": [
        "We see that we have one outlier on data so we will drop the data from main_df."
      ],
      "metadata": {
        "id": "9nGaGYH19hBI"
      }
    },
    {
      "cell_type": "code",
      "source": [
        "main_df = main_df[~main_df['property_id'].isin(['PR0294'])]"
      ],
      "metadata": {
        "id": "YkKS8SMq92Pq"
      },
      "execution_count": 268,
      "outputs": []
    },
    {
      "cell_type": "code",
      "source": [
        "main_df['distance_to_coastline'].plot(kind='hist', bins=30, edgecolor='black')\n",
        "plt.title('Histogram of Distance to Coastline')\n",
        "plt.xlabel('Distance to Coastline')\n",
        "plt.ylabel('Frequency')\n",
        "plt.show()"
      ],
      "metadata": {
        "colab": {
          "base_uri": "https://localhost:8080/",
          "height": 472
        },
        "id": "cPFstU2s-rBA",
        "outputId": "db39b7d8-a6c3-4fa2-fa19-efb29e0ea86e"
      },
      "execution_count": 269,
      "outputs": [
        {
          "output_type": "display_data",
          "data": {
            "text/plain": [
              "<Figure size 640x480 with 1 Axes>"
            ],
            "image/png": "[encoded data removed]"
          },
          "metadata": {}
        }
      ]
    },
    {
      "cell_type": "markdown",
      "source": [
        "Based on the histogram, the data is not normally distributed, so the method we will use next to fill in the missing values is the median."
      ],
      "metadata": {
        "id": "Wgem_N3H-zWv"
      }
    },
    {
      "cell_type": "code",
      "source": [
        "median = main_df['distance_to_coastline'].median()\n",
        "main_df['distance_to_coastline'].fillna(median,inplace=True)"
      ],
      "metadata": {
        "id": "eW9ZgeufAUPR"
      },
      "execution_count": 270,
      "outputs": []
    },
    {
      "cell_type": "markdown",
      "source": [
        "Next we can check is there any missing values in main dataset."
      ],
      "metadata": {
        "id": "In-xhSeTAt_i"
      }
    },
    {
      "cell_type": "code",
      "source": [
        "main_df.isna().sum()"
      ],
      "metadata": {
        "colab": {
          "base_uri": "https://localhost:8080/"
        },
        "id": "ApkMk6w1A06l",
        "outputId": "ecabc659-a169-40e3-e44a-a27b0ba839d0"
      },
      "execution_count": 271,
      "outputs": [
        {
          "output_type": "execute_result",
          "data": {
            "text/plain": [
              "property_id              0\n",
              "property_name            0\n",
              "property_type            0\n",
              "property_design          0\n",
              "area_id                  0\n",
              "distance_to_coastline    0\n",
              "dtype: int64"
            ]
          },
          "metadata": {},
          "execution_count": 271
        }
      ]
    },
    {
      "cell_type": "markdown",
      "source": [
        "Next we will check missing values from areacodes dataset."
      ],
      "metadata": {
        "id": "8DGz7SV6BaaY"
      }
    },
    {
      "cell_type": "code",
      "source": [
        "areacodes_df.isna().sum()"
      ],
      "metadata": {
        "colab": {
          "base_uri": "https://localhost:8080/"
        },
        "id": "91At7qOpsgWz",
        "outputId": "582f6c09-ebad-4e7f-fb38-4a710f4478e8"
      },
      "execution_count": 272,
      "outputs": [
        {
          "output_type": "execute_result",
          "data": {
            "text/plain": [
              "area_id                      0\n",
              "area_name                    0\n",
              "area_squad                   1\n",
              "employee_id                 32\n",
              "area_distance_to_airport    36\n",
              "airport_pickup_price_idr    34\n",
              "area_airport_name           34\n",
              "region_id                   12\n",
              "dtype: int64"
            ]
          },
          "metadata": {},
          "execution_count": 272
        }
      ]
    },
    {
      "cell_type": "markdown",
      "source": [
        "First, we will drop the data that has missing values in the `area_squad` column."
      ],
      "metadata": {
        "id": "dsJZLmfREhNC"
      }
    },
    {
      "cell_type": "code",
      "source": [
        "areacodes_df = areacodes_df.dropna(subset=['area_squad'])"
      ],
      "metadata": {
        "id": "mpn_IgTnrV9M"
      },
      "execution_count": 273,
      "outputs": []
    },
    {
      "cell_type": "code",
      "source": [
        "areacodes_df.isna().sum()"
      ],
      "metadata": {
        "colab": {
          "base_uri": "https://localhost:8080/"
        },
        "id": "NUH8czQHMapw",
        "outputId": "67427e74-d49a-4ab4-8563-f93ba9e7d2fe"
      },
      "execution_count": 276,
      "outputs": [
        {
          "output_type": "execute_result",
          "data": {
            "text/plain": [
              "area_id                      0\n",
              "area_name                    0\n",
              "area_squad                   0\n",
              "employee_id                 31\n",
              "area_distance_to_airport    35\n",
              "airport_pickup_price_idr    33\n",
              "area_airport_name           33\n",
              "region_id                   11\n",
              "dtype: int64"
            ]
          },
          "metadata": {},
          "execution_count": 276
        }
      ]
    },
    {
      "cell_type": "markdown",
      "source": [
        "next we will drop employee_id."
      ],
      "metadata": {
        "id": "uq7i9aZwVbCX"
      }
    },
    {
      "cell_type": "code",
      "source": [
        "areacodes_df = areacodes_df.drop(columns=['employee_id'])"
      ],
      "metadata": {
        "id": "1z8HDErsVg8u"
      },
      "execution_count": 277,
      "outputs": []
    },
    {
      "cell_type": "markdown",
      "source": [
        "Fill missing values in 'area_airport_name' with the non-null values within the same 'region_id' group"
      ],
      "metadata": {
        "id": "E7tE7kURVtSg"
      }
    },
    {
      "cell_type": "code",
      "source": [
        "areacodes_df['area_airport_name'] = areacodes_df.groupby('region_id')['area_airport_name'].transform(lambda x: x.fillna(method='ffill').fillna(method='bfill'))\n",
        "areacodes_df.isna().sum()"
      ],
      "metadata": {
        "colab": {
          "base_uri": "https://localhost:8080/"
        },
        "id": "7mx_OrDNWD4n",
        "outputId": "dc0101e3-8d43-4f14-d2c7-501eb1524970"
      },
      "execution_count": 281,
      "outputs": [
        {
          "output_type": "execute_result",
          "data": {
            "text/plain": [
              "area_id                      0\n",
              "area_name                    0\n",
              "area_squad                   0\n",
              "area_distance_to_airport    35\n",
              "airport_pickup_price_idr    33\n",
              "area_airport_name           11\n",
              "region_id                   11\n",
              "dtype: int64"
            ]
          },
          "metadata": {},
          "execution_count": 281
        }
      ]
    },
    {
      "cell_type": "markdown",
      "source": [
        "We will region id with null values."
      ],
      "metadata": {
        "id": "h_cBSBiAXbVI"
      }
    },
    {
      "cell_type": "code",
      "source": [
        "areacodes_df = areacodes_df.dropna(subset=['region_id'])\n",
        "areacodes_df.isna().sum()"
      ],
      "metadata": {
        "colab": {
          "base_uri": "https://localhost:8080/"
        },
        "id": "czN2TiDXXgBF",
        "outputId": "d20063b3-4229-4f2f-e9e7-f1a7bf847528"
      },
      "execution_count": 285,
      "outputs": [
        {
          "output_type": "execute_result",
          "data": {
            "text/plain": [
              "area_id                      0\n",
              "area_name                    0\n",
              "area_squad                   0\n",
              "area_distance_to_airport    24\n",
              "airport_pickup_price_idr    24\n",
              "area_airport_name            0\n",
              "region_id                    0\n",
              "dtype: int64"
            ]
          },
          "metadata": {},
          "execution_count": 285
        }
      ]
    },
    {
      "cell_type": "markdown",
      "source": [
        "Function to check normality and fill missing values accordingly."
      ],
      "metadata": {
        "id": "4jCp1k9xZO5D"
      }
    },
    {
      "cell_type": "code",
      "source": [
        "def fill_missing_distance(group):\n",
        "    data = group['area_distance_to_airport'].dropna()\n",
        "    if len(data) > 1:\n",
        "        ks_test = stats.kstest(data, 'norm', args=(data.mean(), data.std()))\n",
        "        if ks_test.pvalue >= 0.05:\n",
        "            fill_value = data.mean()\n",
        "        else:\n",
        "            fill_value = data.median()\n",
        "        group['area_distance_to_airport'] = group['area_distance_to_airport'].fillna(fill_value)\n",
        "    return group\n",
        "\n",
        "area_df = areacodes_df.groupby('region_id').apply(fill_missing_distance)\n",
        "area_df.isna().sum()"
      ],
      "metadata": {
        "colab": {
          "base_uri": "https://localhost:8080/"
        },
        "id": "yFzJzwStY4mq",
        "outputId": "74341dbd-1d70-4bb3-adce-6e823deb8836"
      },
      "execution_count": 290,
      "outputs": [
        {
          "output_type": "execute_result",
          "data": {
            "text/plain": [
              "area_id                      0\n",
              "area_name                    0\n",
              "area_squad                   0\n",
              "area_distance_to_airport    12\n",
              "airport_pickup_price_idr    24\n",
              "area_airport_name            0\n",
              "region_id                    0\n",
              "dtype: int64"
            ]
          },
          "metadata": {},
          "execution_count": 290
        }
      ]
    },
    {
      "cell_type": "markdown",
      "source": [
        "Next we will handle remaining missing value in area distance to airport using global median."
      ],
      "metadata": {
        "id": "wOjHLDk1aIia"
      }
    },
    {
      "cell_type": "code",
      "source": [
        "global_median = area_df['area_distance_to_airport'].median()\n",
        "area_df['area_distance_to_airport'] = area_df['area_distance_to_airport'].fillna(global_median)"
      ],
      "metadata": {
        "id": "UoKCmeD_aXYq"
      },
      "execution_count": 291,
      "outputs": []
    },
    {
      "cell_type": "markdown",
      "source": [
        "Try to use correlation matrix on areacodes dataframe."
      ],
      "metadata": {
        "id": "mu6y_wbBXZZq"
      }
    },
    {
      "cell_type": "code",
      "source": [
        "numeric_df = area_df.select_dtypes(include=['float64', 'int64'])\n",
        "correlation_matrix = numeric_df.corr()\n",
        "plt.figure(figsize=(16, 12))\n",
        "heatmap = sns.heatmap(\n",
        "    correlation_matrix,\n",
        "    annot=True,\n",
        "    cmap='coolwarm',\n",
        "    vmin=-1,\n",
        "    vmax=1,\n",
        "    linewidths=0.5,\n",
        "    fmt=\".2f\",\n",
        "    annot_kws={\"size\": 10}\n",
        ")\n",
        "heatmap.set_xticklabels(heatmap.get_xticklabels(), rotation=45, horizontalalignment='right', fontsize=10)\n",
        "heatmap.set_yticklabels(heatmap.get_yticklabels(), rotation=0, fontsize=10)\n",
        "plt.title('Correlation Matrix', fontsize=15)\n",
        "plt.show()"
      ],
      "metadata": {
        "colab": {
          "base_uri": "https://localhost:8080/",
          "height": 718
        },
        "id": "-njgX9QPPiBE",
        "outputId": "e78de654-2704-47eb-b10c-b8087286051e"
      },
      "execution_count": 293,
      "outputs": [
        {
          "output_type": "display_data",
          "data": {
            "text/plain": [
              "<Figure size 1600x1200 with 2 Axes>"
            ],
            "image/png": "[encoded data removed]"
          },
          "metadata": {}
        }
      ]
    },
    {
      "cell_type": "markdown",
      "source": [
        " The heatmap shows that area_distance_to_airport has strong correlation with airport_pickup_price_idr."
      ],
      "metadata": {
        "id": "d1cxpxH9LSSS"
      }
    },
    {
      "cell_type": "code",
      "source": [
        "def impute_missing(df, target_col, feature_cols):\n",
        "        \"\"\"\n",
        "        Impute missing values in target_col using feature_cols with Linear Regression.\n",
        "        \"\"\"\n",
        "\n",
        "        train_data = df[df[target_col].notnull()]\n",
        "        X_train = train_data[feature_cols]\n",
        "        y_train = train_data[target_col]\n",
        "\n",
        "        predict_data = df[df[target_col].isnull()]\n",
        "        X_predict = predict_data[feature_cols]\n",
        "\n",
        "        model = LinearRegression()\n",
        "        model.fit(X_train, y_train)\n",
        "\n",
        "        df.loc[df[target_col].isnull(), target_col] = np.round(model.predict(X_predict))\n",
        "\n",
        "        return df"
      ],
      "metadata": {
        "id": "Klz6_yBbQxLe"
      },
      "execution_count": 294,
      "outputs": []
    },
    {
      "cell_type": "code",
      "source": [
        "if area_df['airport_pickup_price_idr'].isnull().any():\n",
        "      impute_missing(area_df, 'airport_pickup_price_idr', ['area_distance_to_airport'])"
      ],
      "metadata": {
        "id": "dgSQKXncQI6H"
      },
      "execution_count": 296,
      "outputs": []
    },
    {
      "cell_type": "code",
      "source": [
        "area_df.isna().sum()"
      ],
      "metadata": {
        "colab": {
          "base_uri": "https://localhost:8080/"
        },
        "id": "wGrvG5qPROzT",
        "outputId": "59867615-6ba2-4aed-f02f-9ab6e7d803c8"
      },
      "execution_count": 298,
      "outputs": [
        {
          "output_type": "execute_result",
          "data": {
            "text/plain": [
              "area_id                     0\n",
              "area_name                   0\n",
              "area_squad                  0\n",
              "area_distance_to_airport    0\n",
              "airport_pickup_price_idr    0\n",
              "area_airport_name           0\n",
              "region_id                   0\n",
              "dtype: int64"
            ]
          },
          "metadata": {},
          "execution_count": 298
        }
      ]
    },
    {
      "cell_type": "markdown",
      "source": [
        "After we handle all the missing values, the next step is we will combine main and areacodes dataset."
      ],
      "metadata": {
        "id": "5I93aAY3RXHf"
      }
    },
    {
      "cell_type": "code",
      "source": [
        "merged_dataset = pd.merge(main_df, area_df, on='area_id')"
      ],
      "metadata": {
        "id": "MYmco2LsRV35"
      },
      "execution_count": 299,
      "outputs": []
    },
    {
      "cell_type": "code",
      "source": [
        "merged_dataset.head()"
      ],
      "metadata": {
        "colab": {
          "base_uri": "https://localhost:8080/",
          "height": 313
        },
        "id": "ytkAMI_PSVWv",
        "outputId": "057c3cd7-6a17-4123-a692-9448b9fa1215"
      },
      "execution_count": 302,
      "outputs": [
        {
          "output_type": "execute_result",
          "data": {
            "text/plain": [
              "  property_id         property_name  property_type  property_design area_id  \\\n",
              "0      PR0017  Double D Guest House            4.0              0.0   A0003   \n",
              "1      PR0070   Kubu Pande Homestay            4.0              2.0   A0003   \n",
              "2      PR0126   Comeback Guesthouse            4.0              0.0   A0003   \n",
              "3      PR0140      Lebak Guesthouse            4.0              0.0   A0003   \n",
              "4      PR0160      Kakol Guesthouse            4.0              0.0   A0003   \n",
              "\n",
              "   distance_to_coastline area_name  area_squad  area_distance_to_airport  \\\n",
              "0              1173.9868    Canggu         2.0                      60.0   \n",
              "1              1173.9868    Canggu         2.0                      60.0   \n",
              "2              1173.9868    Canggu         2.0                      60.0   \n",
              "3              1173.9868    Canggu         2.0                      60.0   \n",
              "4              1173.9868    Canggu         2.0                      60.0   \n",
              "\n",
              "   airport_pickup_price_idr area_airport_name  region_id  \n",
              "0                  325000.0  Ngurah Rai (DPS)        1.0  \n",
              "1                  325000.0  Ngurah Rai (DPS)        1.0  \n",
              "2                  325000.0  Ngurah Rai (DPS)        1.0  \n",
              "3                  325000.0  Ngurah Rai (DPS)        1.0  \n",
              "4                  325000.0  Ngurah Rai (DPS)        1.0  "
            ],
            "text/html": [
              "\n",
              "  <div id=\"df-8c68beed-8849-4fa8-8630-45eb3b8d44f0\" class=\"colab-df-container\">\n",
              "    <div>\n",
              "<style scoped>\n",
              "    .dataframe tbody tr th:only-of-type {\n",
              "        vertical-align: middle;\n",
              "    }\n",
              "\n",
              "    .dataframe tbody tr th {\n",
              "        vertical-align: top;\n",
              "    }\n",
              "\n",
              "    .dataframe thead th {\n",
              "        text-align: right;\n",
              "    }\n",
              "</style>\n",
              "<table border=\"1\" class=\"dataframe\">\n",
              "  <thead>\n",
              "    <tr style=\"text-align: right;\">\n",
              "      <th></th>\n",
              "      <th>property_id</th>\n",
              "      <th>property_name</th>\n",
              "      <th>property_type</th>\n",
              "      <th>property_design</th>\n",
              "      <th>area_id</th>\n",
              "      <th>distance_to_coastline</th>\n",
              "      <th>area_name</th>\n",
              "      <th>area_squad</th>\n",
              "      <th>area_distance_to_airport</th>\n",
              "      <th>airport_pickup_price_idr</th>\n",
              "      <th>area_airport_name</th>\n",
              "      <th>region_id</th>\n",
              "    </tr>\n",
              "  </thead>\n",
              "  <tbody>\n",
              "    <tr>\n",
              "      <th>0</th>\n",
              "      <td>PR0017</td>\n",
              "      <td>Double D Guest House</td>\n",
              "      <td>4.0</td>\n",
              "      <td>0.0</td>\n",
              "      <td>A0003</td>\n",
              "      <td>1173.9868</td>\n",
              "      <td>Canggu</td>\n",
              "      <td>2.0</td>\n",
              "      <td>60.0</td>\n",
              "      <td>325000.0</td>\n",
              "      <td>Ngurah Rai (DPS)</td>\n",
              "      <td>1.0</td>\n",
              "    </tr>\n",
              "    <tr>\n",
              "      <th>1</th>\n",
              "      <td>PR0070</td>\n",
              "      <td>Kubu Pande Homestay</td>\n",
              "      <td>4.0</td>\n",
              "      <td>2.0</td>\n",
              "      <td>A0003</td>\n",
              "      <td>1173.9868</td>\n",
              "      <td>Canggu</td>\n",
              "      <td>2.0</td>\n",
              "      <td>60.0</td>\n",
              "      <td>325000.0</td>\n",
              "      <td>Ngurah Rai (DPS)</td>\n",
              "      <td>1.0</td>\n",
              "    </tr>\n",
              "    <tr>\n",
              "      <th>2</th>\n",
              "      <td>PR0126</td>\n",
              "      <td>Comeback Guesthouse</td>\n",
              "      <td>4.0</td>\n",
              "      <td>0.0</td>\n",
              "      <td>A0003</td>\n",
              "      <td>1173.9868</td>\n",
              "      <td>Canggu</td>\n",
              "      <td>2.0</td>\n",
              "      <td>60.0</td>\n",
              "      <td>325000.0</td>\n",
              "      <td>Ngurah Rai (DPS)</td>\n",
              "      <td>1.0</td>\n",
              "    </tr>\n",
              "    <tr>\n",
              "      <th>3</th>\n",
              "      <td>PR0140</td>\n",
              "      <td>Lebak Guesthouse</td>\n",
              "      <td>4.0</td>\n",
              "      <td>0.0</td>\n",
              "      <td>A0003</td>\n",
              "      <td>1173.9868</td>\n",
              "      <td>Canggu</td>\n",
              "      <td>2.0</td>\n",
              "      <td>60.0</td>\n",
              "      <td>325000.0</td>\n",
              "      <td>Ngurah Rai (DPS)</td>\n",
              "      <td>1.0</td>\n",
              "    </tr>\n",
              "    <tr>\n",
              "      <th>4</th>\n",
              "      <td>PR0160</td>\n",
              "      <td>Kakol Guesthouse</td>\n",
              "      <td>4.0</td>\n",
              "      <td>0.0</td>\n",
              "      <td>A0003</td>\n",
              "      <td>1173.9868</td>\n",
              "      <td>Canggu</td>\n",
              "      <td>2.0</td>\n",
              "      <td>60.0</td>\n",
              "      <td>325000.0</td>\n",
              "      <td>Ngurah Rai (DPS)</td>\n",
              "      <td>1.0</td>\n",
              "    </tr>\n",
              "  </tbody>\n",
              "</table>\n",
              "</div>\n",
              "    <div class=\"colab-df-buttons\">\n",
              "\n",
              "  <div class=\"colab-df-container\">\n",
              "    <button class=\"colab-df-convert\" onclick=\"convertToInteractive('df-8c68beed-8849-4fa8-8630-45eb3b8d44f0')\"\n",
              "            title=\"Convert this dataframe to an interactive table.\"\n",
              "            style=\"display:none;\">\n",
              "\n",
              "  <svg xmlns=\"http://www.w3.org/2000/svg\" height=\"24px\" viewBox=\"0 -960 960 960\">\n",
              "    <path d=\"M120-120v-720h720v720H120Zm60-500h600v-160H180v160Zm220 220h160v-160H400v160Zm0 220h160v-160H400v160ZM180-400h160v-160H180v160Zm440 0h160v-160H620v160ZM180-180h160v-160H180v160Zm440 0h160v-160H620v160Z\"/>\n",
              "  </svg>\n",
              "    </button>\n",
              "\n",
              "  <style>\n",
              "    .colab-df-container {\n",
              "      display:flex;\n",
              "      gap: 12px;\n",
              "    }\n",
              "\n",
              "    .colab-df-convert {\n",
              "      background-color: #E8F0FE;\n",
              "      border: none;\n",
              "      border-radius: 50%;\n",
              "      cursor: pointer;\n",
              "      display: none;\n",
              "      fill: #1967D2;\n",
              "      height: 32px;\n",
              "      padding: 0 0 0 0;\n",
              "      width: 32px;\n",
              "    }\n",
              "\n",
              "    .colab-df-convert:hover {\n",
              "      background-color: #E2EBFA;\n",
              "      box-shadow: 0px 1px 2px rgba(60, 64, 67, 0.3), 0px 1px 3px 1px rgba(60, 64, 67, 0.15);\n",
              "      fill: #174EA6;\n",
              "    }\n",
              "\n",
              "    .colab-df-buttons div {\n",
              "      margin-bottom: 4px;\n",
              "    }\n",
              "\n",
              "    [theme=dark] .colab-df-convert {\n",
              "      background-color: #3B4455;\n",
              "      fill: #D2E3FC;\n",
              "    }\n",
              "\n",
              "    [theme=dark] .colab-df-convert:hover {\n",
              "      background-color: #434B5C;\n",
              "      box-shadow: 0px 1px 3px 1px rgba(0, 0, 0, 0.15);\n",
              "      filter: drop-shadow(0px 1px 2px rgba(0, 0, 0, 0.3));\n",
              "      fill: #FFFFFF;\n",
              "    }\n",
              "  </style>\n",
              "\n",
              "    <script>\n",
              "      const buttonEl =\n",
              "        document.querySelector('#df-8c68beed-8849-4fa8-8630-45eb3b8d44f0 button.colab-df-convert');\n",
              "      buttonEl.style.display =\n",
              "        google.colab.kernel.accessAllowed ? 'block' : 'none';\n",
              "\n",
              "      async function convertToInteractive(key) {\n",
              "        const element = document.querySelector('#df-8c68beed-8849-4fa8-8630-45eb3b8d44f0');\n",
              "        const dataTable =\n",
              "          await google.colab.kernel.invokeFunction('convertToInteractive',\n",
              "                                                    [key], {});\n",
              "        if (!dataTable) return;\n",
              "\n",
              "        const docLinkHtml = 'Like what you see? Visit the ' +\n",
              "          '<a target=\"_blank\" href=https://colab.research.google.com/notebooks/data_table.ipynb>data table notebook</a>'\n",
              "          + ' to learn more about interactive tables.';\n",
              "        element.innerHTML = '';\n",
              "        dataTable['output_type'] = 'display_data';\n",
              "        await google.colab.output.renderOutput(dataTable, element);\n",
              "        const docLink = document.createElement('div');\n",
              "        docLink.innerHTML = docLinkHtml;\n",
              "        element.appendChild(docLink);\n",
              "      }\n",
              "    </script>\n",
              "  </div>\n",
              "\n",
              "\n",
              "<div id=\"df-60787fa4-00b6-4483-a49e-bac8dd68bf0c\">\n",
              "  <button class=\"colab-df-quickchart\" onclick=\"quickchart('df-60787fa4-00b6-4483-a49e-bac8dd68bf0c')\"\n",
              "            title=\"Suggest charts\"\n",
              "            style=\"display:none;\">\n",
              "\n",
              "<svg xmlns=\"http://www.w3.org/2000/svg\" height=\"24px\"viewBox=\"0 0 24 24\"\n",
              "     width=\"24px\">\n",
              "    <g>\n",
              "        <path d=\"M19 3H5c-1.1 0-2 .9-2 2v14c0 1.1.9 2 2 2h14c1.1 0 2-.9 2-2V5c0-1.1-.9-2-2-2zM9 17H7v-7h2v7zm4 0h-2V7h2v10zm4 0h-2v-4h2v4z\"/>\n",
              "    </g>\n",
              "</svg>\n",
              "  </button>\n",
              "\n",
              "<style>\n",
              "  .colab-df-quickchart {\n",
              "      --bg-color: #E8F0FE;\n",
              "      --fill-color: #1967D2;\n",
              "      --hover-bg-color: #E2EBFA;\n",
              "      --hover-fill-color: #174EA6;\n",
              "      --disabled-fill-color: #AAA;\n",
              "      --disabled-bg-color: #DDD;\n",
              "  }\n",
              "\n",
              "  [theme=dark] .colab-df-quickchart {\n",
              "      --bg-color: #3B4455;\n",
              "      --fill-color: #D2E3FC;\n",
              "      --hover-bg-color: #434B5C;\n",
              "      --hover-fill-color: #FFFFFF;\n",
              "      --disabled-bg-color: #3B4455;\n",
              "      --disabled-fill-color: #666;\n",
              "  }\n",
              "\n",
              "  .colab-df-quickchart {\n",
              "    background-color: var(--bg-color);\n",
              "    border: none;\n",
              "    border-radius: 50%;\n",
              "    cursor: pointer;\n",
              "    display: none;\n",
              "    fill: var(--fill-color);\n",
              "    height: 32px;\n",
              "    padding: 0;\n",
              "    width: 32px;\n",
              "  }\n",
              "\n",
              "  .colab-df-quickchart:hover {\n",
              "    background-color: var(--hover-bg-color);\n",
              "    box-shadow: 0 1px 2px rgba(60, 64, 67, 0.3), 0 1px 3px 1px rgba(60, 64, 67, 0.15);\n",
              "    fill: var(--button-hover-fill-color);\n",
              "  }\n",
              "\n",
              "  .colab-df-quickchart-complete:disabled,\n",
              "  .colab-df-quickchart-complete:disabled:hover {\n",
              "    background-color: var(--disabled-bg-color);\n",
              "    fill: var(--disabled-fill-color);\n",
              "    box-shadow: none;\n",
              "  }\n",
              "\n",
              "  .colab-df-spinner {\n",
              "    border: 2px solid var(--fill-color);\n",
              "    border-color: transparent;\n",
              "    border-bottom-color: var(--fill-color);\n",
              "    animation:\n",
              "      spin 1s steps(1) infinite;\n",
              "  }\n",
              "\n",
              "  @keyframes spin {\n",
              "    0% {\n",
              "      border-color: transparent;\n",
              "      border-bottom-color: var(--fill-color);\n",
              "      border-left-color: var(--fill-color);\n",
              "    }\n",
              "    20% {\n",
              "      border-color: transparent;\n",
              "      border-left-color: var(--fill-color);\n",
              "      border-top-color: var(--fill-color);\n",
              "    }\n",
              "    30% {\n",
              "      border-color: transparent;\n",
              "      border-left-color: var(--fill-color);\n",
              "      border-top-color: var(--fill-color);\n",
              "      border-right-color: var(--fill-color);\n",
              "    }\n",
              "    40% {\n",
              "      border-color: transparent;\n",
              "      border-right-color: var(--fill-color);\n",
              "      border-top-color: var(--fill-color);\n",
              "    }\n",
              "    60% {\n",
              "      border-color: transparent;\n",
              "      border-right-color: var(--fill-color);\n",
              "    }\n",
              "    80% {\n",
              "      border-color: transparent;\n",
              "      border-right-color: var(--fill-color);\n",
              "      border-bottom-color: var(--fill-color);\n",
              "    }\n",
              "    90% {\n",
              "      border-color: transparent;\n",
              "      border-bottom-color: var(--fill-color);\n",
              "    }\n",
              "  }\n",
              "</style>\n",
              "\n",
              "  <script>\n",
              "    async function quickchart(key) {\n",
              "      const quickchartButtonEl =\n",
              "        document.querySelector('#' + key + ' button');\n",
              "      quickchartButtonEl.disabled = true;  // To prevent multiple clicks.\n",
              "      quickchartButtonEl.classList.add('colab-df-spinner');\n",
              "      try {\n",
              "        const charts = await google.colab.kernel.invokeFunction(\n",
              "            'suggestCharts', [key], {});\n",
              "      } catch (error) {\n",
              "        console.error('Error during call to suggestCharts:', error);\n",
              "      }\n",
              "      quickchartButtonEl.classList.remove('colab-df-spinner');\n",
              "      quickchartButtonEl.classList.add('colab-df-quickchart-complete');\n",
              "    }\n",
              "    (() => {\n",
              "      let quickchartButtonEl =\n",
              "        document.querySelector('#df-60787fa4-00b6-4483-a49e-bac8dd68bf0c button');\n",
              "      quickchartButtonEl.style.display =\n",
              "        google.colab.kernel.accessAllowed ? 'block' : 'none';\n",
              "    })();\n",
              "  </script>\n",
              "</div>\n",
              "    </div>\n",
              "  </div>\n"
            ],
            "application/vnd.google.colaboratory.intrinsic+json": {
              "type": "dataframe",
              "variable_name": "merged_dataset",
              "summary": "{\n  \"name\": \"merged_dataset\",\n  \"rows\": 333,\n  \"fields\": [\n    {\n      \"column\": \"property_id\",\n      \"properties\": {\n        \"dtype\": \"string\",\n        \"num_unique_values\": 332,\n        \"samples\": [\n          \"PR0095\",\n          \"PR0072\",\n          \"PR0219\"\n        ],\n        \"semantic_type\": \"\",\n        \"description\": \"\"\n      }\n    },\n    {\n      \"column\": \"property_name\",\n      \"properties\": {\n        \"dtype\": \"string\",\n        \"num_unique_values\": 332,\n        \"samples\": [\n          \"Villa Sunia\",\n          \"Villa Rama\",\n          \"Villa AKL\"\n        ],\n        \"semantic_type\": \"\",\n        \"description\": \"\"\n      }\n    },\n    {\n      \"column\": \"property_type\",\n      \"properties\": {\n        \"dtype\": \"number\",\n        \"std\": 1.1997940535071308,\n        \"min\": 1.0,\n        \"max\": 5.0,\n        \"num_unique_values\": 5,\n        \"samples\": [\n          2.0,\n          3.0,\n          1.0\n        ],\n        \"semantic_type\": \"\",\n        \"description\": \"\"\n      }\n    },\n    {\n      \"column\": \"property_design\",\n      \"properties\": {\n        \"dtype\": \"number\",\n        \"std\": 1.5501727534975476,\n        \"min\": 0.0,\n        \"max\": 5.0,\n        \"num_unique_values\": 6,\n        \"samples\": [\n          0.0,\n          2.0,\n          5.0\n        ],\n        \"semantic_type\": \"\",\n        \"description\": \"\"\n      }\n    },\n    {\n      \"column\": \"area_id\",\n      \"properties\": {\n        \"dtype\": \"category\",\n        \"num_unique_values\": 19,\n        \"samples\": [\n          \"A0003\",\n          \"A0013\",\n          \"A0020\"\n        ],\n        \"semantic_type\": \"\",\n        \"description\": \"\"\n      }\n    },\n    {\n      \"column\": \"distance_to_coastline\",\n      \"properties\": {\n        \"dtype\": \"number\",\n        \"std\": 3038.219461376283,\n        \"min\": 15.6035,\n        \"max\": 11926.3,\n        \"num_unique_values\": 40,\n        \"samples\": [\n          402.195,\n          1133.15,\n          307.225\n        ],\n        \"semantic_type\": \"\",\n        \"description\": \"\"\n      }\n    },\n    {\n      \"column\": \"area_name\",\n      \"properties\": {\n        \"dtype\": \"category\",\n        \"num_unique_values\": 19,\n        \"samples\": [\n          \"Canggu\",\n          \"Padang Padang\",\n          \"Nusa Penida\"\n        ],\n        \"semantic_type\": \"\",\n        \"description\": \"\"\n      }\n    },\n    {\n      \"column\": \"area_squad\",\n      \"properties\": {\n        \"dtype\": \"number\",\n        \"std\": 0.9741865328809621,\n        \"min\": 0.0,\n        \"max\": 4.0,\n        \"num_unique_values\": 5,\n        \"samples\": [\n          0.0,\n          4.0,\n          3.0\n        ],\n        \"semantic_type\": \"\",\n        \"description\": \"\"\n      }\n    },\n    {\n      \"column\": \"area_distance_to_airport\",\n      \"properties\": {\n        \"dtype\": \"number\",\n        \"std\": 23.193086136729423,\n        \"min\": 30.0,\n        \"max\": 120.0,\n        \"num_unique_values\": 4,\n        \"samples\": [\n          45.0,\n          120.0,\n          60.0\n        ],\n        \"semantic_type\": \"\",\n        \"description\": \"\"\n      }\n    },\n    {\n      \"column\": \"airport_pickup_price_idr\",\n      \"properties\": {\n        \"dtype\": \"number\",\n        \"std\": 81931.63766473648,\n        \"min\": 195000.0,\n        \"max\": 585000.0,\n        \"num_unique_values\": 8,\n        \"samples\": [\n          195000.0,\n          260000.0,\n          325000.0\n        ],\n        \"semantic_type\": \"\",\n        \"description\": \"\"\n      }\n    },\n    {\n      \"column\": \"area_airport_name\",\n      \"properties\": {\n        \"dtype\": \"category\",\n        \"num_unique_values\": 2,\n        \"samples\": [\n          \"Adi Sucipto (JOG)\",\n          \"Ngurah Rai (DPS)\"\n        ],\n        \"semantic_type\": \"\",\n        \"description\": \"\"\n      }\n    },\n    {\n      \"column\": \"region_id\",\n      \"properties\": {\n        \"dtype\": \"number\",\n        \"std\": 0.6817993785280505,\n        \"min\": 1.0,\n        \"max\": 3.0,\n        \"num_unique_values\": 3,\n        \"samples\": [\n          1.0,\n          2.0\n        ],\n        \"semantic_type\": \"\",\n        \"description\": \"\"\n      }\n    }\n  ]\n}"
            }
          },
          "metadata": {},
          "execution_count": 302
        }
      ]
    },
    {
      "cell_type": "markdown",
      "source": [
        "Next, we will remove some features from merged_dataset."
      ],
      "metadata": {
        "id": "B_yvxNIzwGRy"
      }
    },
    {
      "cell_type": "code",
      "source": [
        "merged_dataset.info()"
      ],
      "metadata": {
        "colab": {
          "base_uri": "https://localhost:8080/"
        },
        "id": "8DNFUIcTwOLA",
        "outputId": "c8d6f54b-ac27-4270-ebda-f44cf0153058"
      },
      "execution_count": 303,
      "outputs": [
        {
          "output_type": "stream",
          "name": "stdout",
          "text": [
            "<class 'pandas.core.frame.DataFrame'>\n",
            "RangeIndex: 333 entries, 0 to 332\n",
            "Data columns (total 12 columns):\n",
            " #   Column                    Non-Null Count  Dtype  \n",
            "---  ------                    --------------  -----  \n",
            " 0   property_id               333 non-null    object \n",
            " 1   property_name             333 non-null    object \n",
            " 2   property_type             333 non-null    float64\n",
            " 3   property_design           333 non-null    float64\n",
            " 4   area_id                   333 non-null    object \n",
            " 5   distance_to_coastline     333 non-null    float64\n",
            " 6   area_name                 333 non-null    object \n",
            " 7   area_squad                333 non-null    float64\n",
            " 8   area_distance_to_airport  333 non-null    float64\n",
            " 9   airport_pickup_price_idr  333 non-null    float64\n",
            " 10  area_airport_name         333 non-null    object \n",
            " 11  region_id                 333 non-null    float64\n",
            "dtypes: float64(7), object(5)\n",
            "memory usage: 31.3+ KB\n"
          ]
        }
      ]
    },
    {
      "cell_type": "markdown",
      "source": [
        "Next we will drop features such as area_id and area_name."
      ],
      "metadata": {
        "id": "Cy1ET5M4wq8E"
      }
    },
    {
      "cell_type": "code",
      "source": [
        "property_df = merged_dataset.drop(columns=[ 'area_id', 'area_name'])"
      ],
      "metadata": {
        "id": "MJIab4fJwp2k"
      },
      "execution_count": 304,
      "outputs": []
    },
    {
      "cell_type": "code",
      "source": [
        "property_df.info()"
      ],
      "metadata": {
        "id": "xPlMBFVuxx4l",
        "outputId": "7fe0b804-6c79-41e7-ec1c-20484b36cce8",
        "colab": {
          "base_uri": "https://localhost:8080/"
        }
      },
      "execution_count": 305,
      "outputs": [
        {
          "output_type": "stream",
          "name": "stdout",
          "text": [
            "<class 'pandas.core.frame.DataFrame'>\n",
            "RangeIndex: 333 entries, 0 to 332\n",
            "Data columns (total 10 columns):\n",
            " #   Column                    Non-Null Count  Dtype  \n",
            "---  ------                    --------------  -----  \n",
            " 0   property_id               333 non-null    object \n",
            " 1   property_name             333 non-null    object \n",
            " 2   property_type             333 non-null    float64\n",
            " 3   property_design           333 non-null    float64\n",
            " 4   distance_to_coastline     333 non-null    float64\n",
            " 5   area_squad                333 non-null    float64\n",
            " 6   area_distance_to_airport  333 non-null    float64\n",
            " 7   airport_pickup_price_idr  333 non-null    float64\n",
            " 8   area_airport_name         333 non-null    object \n",
            " 9   region_id                 333 non-null    float64\n",
            "dtypes: float64(7), object(3)\n",
            "memory usage: 26.1+ KB\n"
          ]
        }
      ]
    },
    {
      "cell_type": "markdown",
      "source": [
        "Next we can export property dataset to csv file."
      ],
      "metadata": {
        "id": "KvxSTcm7wTVv"
      }
    },
    {
      "cell_type": "code",
      "source": [
        "property_df.to_csv('property_dataset.csv', index=False)"
      ],
      "metadata": {
        "id": "ixV1PROscAM5"
      },
      "execution_count": 306,
      "outputs": []
    }
  ],
  "metadata": {
    "colab": {
      "provenance": []
    },
    "kernelspec": {
      "display_name": "Python 3",
      "name": "python3"
    },
    "language_info": {
      "name": "python"
    }
  },
  "nbformat": 4,
  "nbformat_minor": 0
}