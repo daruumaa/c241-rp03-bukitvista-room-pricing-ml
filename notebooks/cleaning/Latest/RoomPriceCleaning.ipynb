{
  "nbformat": 4,
  "nbformat_minor": 0,
  "metadata": {
    "colab": {
      "provenance": []
    },
    "kernelspec": {
      "name": "python3",
      "display_name": "Python 3"
    },
    "language_info": {
      "name": "python"
    }
  },
  "cells": [
    {
      "cell_type": "code",
      "execution_count": 1,
      "metadata": {
        "id": "tZjLrsh_3PYn"
      },
      "outputs": [],
      "source": [
        "import numpy as np\n",
        "import pandas as pd"
      ]
    },
    {
      "cell_type": "code",
      "source": [
        "df = pd.read_csv(\"/content/RoomPrice_2024_06_11.csv\")"
      ],
      "metadata": {
        "id": "P1Hv8vkr3TCA"
      },
      "execution_count": 16,
      "outputs": []
    },
    {
      "cell_type": "markdown",
      "source": [
        "Drop NA's based on columns:"
      ],
      "metadata": {
        "id": "Lyv41Leb7RAW"
      }
    },
    {
      "cell_type": "code",
      "source": [
        "data = df.dropna(subset=['average_baseline_price'])"
      ],
      "metadata": {
        "id": "wnGTsV-67QFn"
      },
      "execution_count": 17,
      "outputs": []
    },
    {
      "cell_type": "markdown",
      "source": [
        "Remove Duplicates"
      ],
      "metadata": {
        "id": "dLrlcnFo8FHm"
      }
    },
    {
      "cell_type": "code",
      "source": [
        "data = data.drop_duplicates(subset=['booking_id'])"
      ],
      "metadata": {
        "id": "6hCRHBmS8GXP"
      },
      "execution_count": 18,
      "outputs": []
    },
    {
      "cell_type": "markdown",
      "source": [
        "KNN impute rating features"
      ],
      "metadata": {
        "id": "IvWImjl88GFK"
      }
    },
    {
      "cell_type": "code",
      "source": [
        "from sklearn.impute import KNNImputer\n",
        "\n",
        "imputer = KNNImputer(n_neighbors=5)\n",
        "data[['rating', 'review_sentiment_score', 'communication', 'cleanliness', 'accuracy']] = imputer.fit_transform(data[['rating', 'review_sentiment_score', 'communication', 'cleanliness', 'accuracy']])\n"
      ],
      "metadata": {
        "id": "Z54WaUE48tYv"
      },
      "execution_count": 20,
      "outputs": []
    },
    {
      "cell_type": "code",
      "source": [
        "data.info()"
      ],
      "metadata": {
        "colab": {
          "base_uri": "https://localhost:8080/"
        },
        "id": "dR-6TXw99GnP",
        "outputId": "4a9ff818-afba-4bdf-8a41-ff821c0c01f4"
      },
      "execution_count": 21,
      "outputs": [
        {
          "output_type": "stream",
          "name": "stdout",
          "text": [
            "<class 'pandas.core.frame.DataFrame'>\n",
            "Index: 29766 entries, 13 to 59067\n",
            "Data columns (total 14 columns):\n",
            " #   Column                  Non-Null Count  Dtype  \n",
            "---  ------                  --------------  -----  \n",
            " 0   room_id                 29766 non-null  float64\n",
            " 1   unit_id                 29766 non-null  object \n",
            " 2   booking_id              29766 non-null  object \n",
            " 3   booking_check_in        29766 non-null  object \n",
            " 4   created_at              29766 non-null  object \n",
            " 5   booking_check_out       29766 non-null  object \n",
            " 6   earnings_in_idr         29766 non-null  float64\n",
            " 7   earnings_per_day        29766 non-null  float64\n",
            " 8   average_baseline_price  29766 non-null  float64\n",
            " 9   rating                  29766 non-null  float64\n",
            " 10  review_sentiment_score  29766 non-null  float64\n",
            " 11  communication           29766 non-null  float64\n",
            " 12  cleanliness             29766 non-null  float64\n",
            " 13  accuracy                29766 non-null  float64\n",
            "dtypes: float64(9), object(5)\n",
            "memory usage: 3.4+ MB\n"
          ]
        }
      ]
    },
    {
      "cell_type": "code",
      "source": [
        "filepath='CLEAN_RoomPrice_11_06_2024.csv'\n",
        "data.to_csv(filepath)"
      ],
      "metadata": {
        "id": "qicL5g-m-DS-"
      },
      "execution_count": 22,
      "outputs": []
    }
  ]
}